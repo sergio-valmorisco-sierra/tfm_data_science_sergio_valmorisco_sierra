{
 "cells": [
  {
   "cell_type": "markdown",
   "metadata": {},
   "source": [
    "# Exploring and cleaning the dataset"
   ]
  },
  {
   "cell_type": "markdown",
   "metadata": {},
   "source": [
    "IMPORTANT REMARK:\n",
    "\n",
    "This code shall be executed from start to finish in the defined order. Errors may occur if the cells are executed in a different order."
   ]
  },
  {
   "cell_type": "code",
   "execution_count": 1,
   "metadata": {},
   "outputs": [],
   "source": [
    "import pandas as pd\n",
    "import numpy as np\n",
    "\n",
    "import matplotlib.pyplot as plt\n",
    "import matplotlib\n",
    "\n",
    "#!pip install wordcloud\n",
    "from wordcloud import WordCloud, STOPWORDS\n",
    "import operator\n",
    "\n",
    "matplotlib.style.use('ggplot')\n",
    "%matplotlib inline"
   ]
  },
  {
   "cell_type": "markdown",
   "metadata": {},
   "source": [
    "The dataset consists on two files:\n",
    "- outcomes.tsv: this file is based on information published directly by Swoopo, which contains limited information about an auction: the description of the product, its retail price and selling price, the winnner of the auction, the number of placed bids, etc.\n",
    "- traces.tsv: this file is based on traces of live auctions that the authors of the dataset recorded using  their  own  recording  infrastructure. It contains the record of the bids that were placed for several auctions, including the user who placed each bid, the bidding time, etc.\n",
    "\n",
    "The dataset can be found in the following link:\n",
    "http://people.bu.edu/zg/swoopo.html\n",
    "\n",
    "Dataset authors:\n",
    "\n",
    "Byers, J. W., Mitzenmacher, M., & Zervas, G. (2010, June). Information asymmetries in pay-per-bid auctions. In Proceedings of the 11th ACM conference on Electronic commerce (pp. 1-12). ACM."
   ]
  },
  {
   "cell_type": "code",
   "execution_count": 2,
   "metadata": {},
   "outputs": [],
   "source": [
    "outcomesDf = pd.read_csv('./outcomes.tsv',sep='\\t')\n",
    "tracesDf = pd.read_csv('./traces.tsv',sep='\\t')"
   ]
  },
  {
   "cell_type": "markdown",
   "metadata": {},
   "source": [
    "# outcomes.tsv"
   ]
  },
  {
   "cell_type": "markdown",
   "metadata": {},
   "source": [
    "The file outcomes.tsv included in the dataset contains the following columns:"
   ]
  },
  {
   "cell_type": "markdown",
   "metadata": {},
   "source": [
    "- auction_id: unique numerical id for the auction\n",
    "- product_id: unique product id\n",
    "- item: text string describing the product\n",
    "- desc: more information about the product\n",
    "- retail: the stated retail value of the item, in dollars\n",
    "- price: the price the auction reached, in dollars\n",
    "- finalprice: the price charged to the winner in dollars. For certain types of auctions, the value in this column may differ from the value specified in column \"price\". For example, this may happen in fixed-price auctions or 100%-off auctions (auctions in which the final selling price of the product is zero, and the revenue for Swoopo comes exclusively from the bids that are placed).\n",
    "- bidincrement: the price increment of a bid, in cents\n",
    "- bidfee: the cost incurred to make a bid, in cents\n",
    "- winner: the winner's username\n",
    "- placedbids: the number of paid bids placed by the winner\n",
    "- freebids: the number of free bids placed by the winner. Free bids are offered by Swoopo in certain deal packages, and users placing free bids do not incur in any bid fee.\n",
    "- endtime_str: the auction's end time.\n",
    "- flg_click_only: a binary flag indicating a \"NailBiter\" auction (Swoopo  auctions  which  do  not\n",
    "permit the use of automated bids by a BidButler, which are automatic bidding agents provided by the Swoopo interface that bid according to user-defined instructions. Users are able to define starting and ending price limits for which automated bids shall be placed, as well as the top number of bids that the BidButler is allowed to place. BidButlers place automated bids when the auction timer drops below 10 seconds).\n",
    "- flg_beginnerauction: a binary flag indicating a beginner auction (auctions restricted to users who haven't previously won any auction in the site).\n",
    "- flg_fixedprice: a binary flag indicating a fixed-price auction (an auction in which the selling price is fixed from the beginning). \n",
    "- flg_endprice: a binary flag indicating a 100%-off auction (auctions in which the final selling price of the product is zero, and the revenue for Swoopo comes exclusively from the bids that are placed)."
   ]
  },
  {
   "cell_type": "code",
   "execution_count": 3,
   "metadata": {},
   "outputs": [
    {
     "data": {
      "text/html": [
       "<div>\n",
       "<style>\n",
       "    .dataframe thead tr:only-child th {\n",
       "        text-align: right;\n",
       "    }\n",
       "\n",
       "    .dataframe thead th {\n",
       "        text-align: left;\n",
       "    }\n",
       "\n",
       "    .dataframe tbody tr th {\n",
       "        vertical-align: top;\n",
       "    }\n",
       "</style>\n",
       "<table border=\"1\" class=\"dataframe\">\n",
       "  <thead>\n",
       "    <tr style=\"text-align: right;\">\n",
       "      <th></th>\n",
       "      <th>auction_id</th>\n",
       "      <th>product_id</th>\n",
       "      <th>item</th>\n",
       "      <th>desc</th>\n",
       "      <th>retail</th>\n",
       "      <th>price</th>\n",
       "      <th>finalprice</th>\n",
       "      <th>bidincrement</th>\n",
       "      <th>bidfee</th>\n",
       "      <th>winner</th>\n",
       "      <th>placedbids</th>\n",
       "      <th>freebids</th>\n",
       "      <th>endtime_str</th>\n",
       "      <th>flg_click_only</th>\n",
       "      <th>flg_beginnerauction</th>\n",
       "      <th>flg_fixedprice</th>\n",
       "      <th>flg_endprice</th>\n",
       "    </tr>\n",
       "  </thead>\n",
       "  <tbody>\n",
       "    <tr>\n",
       "      <th>0</th>\n",
       "      <td>86827</td>\n",
       "      <td>10009602</td>\n",
       "      <td>sony-ericsson-s500i-unlocked-mysterious-</td>\n",
       "      <td>Sony Ericsson S500i Unlocked Mysterious Green</td>\n",
       "      <td>499.99</td>\n",
       "      <td>13.35</td>\n",
       "      <td>13.35</td>\n",
       "      <td>15</td>\n",
       "      <td>75</td>\n",
       "      <td>Racer11</td>\n",
       "      <td>26</td>\n",
       "      <td>0</td>\n",
       "      <td>19:52 PDT 09-16-2008</td>\n",
       "      <td>0</td>\n",
       "      <td>0</td>\n",
       "      <td>0</td>\n",
       "      <td>0</td>\n",
       "    </tr>\n",
       "    <tr>\n",
       "      <th>1</th>\n",
       "      <td>87964</td>\n",
       "      <td>10009881</td>\n",
       "      <td>psp-slim-lite-sony-piano-black</td>\n",
       "      <td>PSP Slim &amp; Lite Sony Piano Black</td>\n",
       "      <td>169.99</td>\n",
       "      <td>74.70</td>\n",
       "      <td>74.70</td>\n",
       "      <td>15</td>\n",
       "      <td>75</td>\n",
       "      <td>Cemo23</td>\n",
       "      <td>65</td>\n",
       "      <td>0</td>\n",
       "      <td>11:17 PDT 08-28-2008</td>\n",
       "      <td>0</td>\n",
       "      <td>0</td>\n",
       "      <td>0</td>\n",
       "      <td>0</td>\n",
       "    </tr>\n",
       "  </tbody>\n",
       "</table>\n",
       "</div>"
      ],
      "text/plain": [
       "   auction_id  product_id                                      item  \\\n",
       "0       86827    10009602  sony-ericsson-s500i-unlocked-mysterious-   \n",
       "1       87964    10009881            psp-slim-lite-sony-piano-black   \n",
       "\n",
       "                                            desc  retail  price  finalprice  \\\n",
       "0  Sony Ericsson S500i Unlocked Mysterious Green  499.99  13.35       13.35   \n",
       "1               PSP Slim & Lite Sony Piano Black  169.99  74.70       74.70   \n",
       "\n",
       "   bidincrement  bidfee   winner  placedbids  freebids           endtime_str  \\\n",
       "0            15      75  Racer11          26         0  19:52 PDT 09-16-2008   \n",
       "1            15      75   Cemo23          65         0  11:17 PDT 08-28-2008   \n",
       "\n",
       "   flg_click_only  flg_beginnerauction  flg_fixedprice  flg_endprice  \n",
       "0               0                    0               0             0  \n",
       "1               0                    0               0             0  "
      ]
     },
     "execution_count": 3,
     "metadata": {},
     "output_type": "execute_result"
    }
   ],
   "source": [
    "outcomesDf.head(2)"
   ]
  },
  {
   "cell_type": "markdown",
   "metadata": {},
   "source": [
    "The types of the values seem to be appropiate, except for the type of the \"endtime_str\" column. It is better to convert this column to DateTime objects, so that it is possible to use DateTime functions afterwards."
   ]
  },
  {
   "cell_type": "code",
   "execution_count": 4,
   "metadata": {},
   "outputs": [
    {
     "data": {
      "text/plain": [
       "auction_id               int64\n",
       "product_id               int64\n",
       "item                    object\n",
       "desc                    object\n",
       "retail                 float64\n",
       "price                  float64\n",
       "finalprice             float64\n",
       "bidincrement             int64\n",
       "bidfee                   int64\n",
       "winner                  object\n",
       "placedbids               int64\n",
       "freebids                 int64\n",
       "endtime_str             object\n",
       "flg_click_only           int64\n",
       "flg_beginnerauction      int64\n",
       "flg_fixedprice           int64\n",
       "flg_endprice             int64\n",
       "dtype: object"
      ]
     },
     "execution_count": 4,
     "metadata": {},
     "output_type": "execute_result"
    }
   ],
   "source": [
    "outcomesDf.dtypes"
   ]
  },
  {
   "cell_type": "code",
   "execution_count": 5,
   "metadata": {},
   "outputs": [],
   "source": [
    "outcomesDf['endtime_str'] = pd.to_datetime(outcomesDf['endtime_str'])"
   ]
  },
  {
   "cell_type": "markdown",
   "metadata": {},
   "source": [
    "There are no empty values in the dataset file:"
   ]
  },
  {
   "cell_type": "code",
   "execution_count": 6,
   "metadata": {},
   "outputs": [
    {
     "data": {
      "text/plain": [
       "False"
      ]
     },
     "execution_count": 6,
     "metadata": {},
     "output_type": "execute_result"
    }
   ],
   "source": [
    "outcomesDf.isnull().values.any()"
   ]
  },
  {
   "cell_type": "markdown",
   "metadata": {},
   "source": [
    "The columns \"retail\", \"price\" and \"finalprice\" are all expressed in dollars, which the columns \"bidincrement\" and \"bidfee\" are both expressed in cents. These last two columns have been converted to dollars:"
   ]
  },
  {
   "cell_type": "code",
   "execution_count": 7,
   "metadata": {},
   "outputs": [],
   "source": [
    "outcomesDf['bidincrement']=outcomesDf['bidincrement']/100\n",
    "outcomesDf['bidfee']=outcomesDf['bidfee']/100"
   ]
  },
  {
   "cell_type": "markdown",
   "metadata": {},
   "source": [
    "The dataset file includes 121419 auctions that took place between 2008-08-20 and 2009-12-12"
   ]
  },
  {
   "cell_type": "code",
   "execution_count": 8,
   "metadata": {},
   "outputs": [
    {
     "name": "stdout",
     "output_type": "stream",
     "text": [
      "Number of auctions: 121419\n",
      "First auction date: 2008-08-20 14:04:00\n",
      "Last auction date: 2009-12-12 15:10:00\n"
     ]
    }
   ],
   "source": [
    "print(\"Number of auctions: \" + str(outcomesDf.shape[0]))\n",
    "print(\"First auction date: \" + str(min(outcomesDf['endtime_str'])))\n",
    "print(\"Last auction date: \" + str(max(outcomesDf['endtime_str'])))"
   ]
  },
  {
   "cell_type": "markdown",
   "metadata": {},
   "source": [
    "The price increment of the final price of the item after each bid depends on the auction. In the dataset, it ranges from 1 cent to 24 cents:"
   ]
  },
  {
   "cell_type": "code",
   "execution_count": 9,
   "metadata": {},
   "outputs": [
    {
     "data": {
      "text/plain": [
       "array([ 0.01,  0.02,  0.05,  0.06,  0.07,  0.12,  0.15,  0.24])"
      ]
     },
     "execution_count": 9,
     "metadata": {},
     "output_type": "execute_result"
    }
   ],
   "source": [
    "np.sort(outcomesDf['bidincrement'].unique())"
   ]
  },
  {
   "cell_type": "markdown",
   "metadata": {},
   "source": [
    "The bid fee also depends on the auction. In the dataset, it ranges from 60 cents to 75 cents:"
   ]
  },
  {
   "cell_type": "code",
   "execution_count": 10,
   "metadata": {},
   "outputs": [
    {
     "data": {
      "text/plain": [
       "array([ 0.6 ,  0.75])"
      ]
     },
     "execution_count": 10,
     "metadata": {},
     "output_type": "execute_result"
    }
   ],
   "source": [
    "np.sort(outcomesDf['bidfee'].unique())"
   ]
  },
  {
   "cell_type": "markdown",
   "metadata": {},
   "source": [
    "The number of bids that were placed for each auction can be obtained from the price the auction reached and the price increment of each bid:"
   ]
  },
  {
   "cell_type": "code",
   "execution_count": 11,
   "metadata": {},
   "outputs": [],
   "source": [
    "outcomesDf['bids_placed'] = outcomesDf['price']/(outcomesDf['bidincrement'])"
   ]
  },
  {
   "cell_type": "markdown",
   "metadata": {},
   "source": [
    "Free bids are offered by Swoopo in certain deal packages. Of all of the bids placed in a certain auction, some can be free bids, which increment the price of the item, but the user does not incur in any bid fee by placing them. With the information provided by this dataset file, there is no information that can allow us to determine how many free bids were placed and how many of them were non-free bids. The only data that the dataset provides is the number of paid bids placed by the winner and the number of free bids placed by the winner. Since the dataset contains this information for 121419 auctions, in average, the ratio between the total number of free bids and paid bids placed in a certain auction can be approximated by the ration of the ones placed by the auction winners."
   ]
  },
  {
   "cell_type": "markdown",
   "metadata": {},
   "source": [
    "Of all of the bids placed in the dataset by all winners, 414321 bids were free bids and 9098807 were paid bids. The ratio between free bids and paid bids is then 4.55%"
   ]
  },
  {
   "cell_type": "code",
   "execution_count": 12,
   "metadata": {},
   "outputs": [
    {
     "name": "stdout",
     "output_type": "stream",
     "text": [
      "Total number of free bids: 414321\n",
      "Total number of paid bids: 9098807\n",
      "Ratio free bids/paid bids: 0.04553574990655369\n"
     ]
    }
   ],
   "source": [
    "print(\"Total number of free bids: \"+str(np.sum(outcomesDf['freebids'])))\n",
    "print(\"Total number of paid bids: \"+str(np.sum(outcomesDf['placedbids'])))\n",
    "ratioFreeBidsPaidBids = np.sum(outcomesDf['freebids'])/np.sum(outcomesDf['placedbids'])\n",
    "print(\"Ratio free bids/paid bids: \"+str(ratioFreeBidsPaidBids))"
   ]
  },
  {
   "cell_type": "markdown",
   "metadata": {},
   "source": [
    "Taking account into account this approximation, the total money that Swoopo obtains for an auction is the number of non-free bids placed by all participants (approximated as a 95.45% of the total number of bids placed) multiplied by the bid fee, plus the final selling price of the item paid by the winner. "
   ]
  },
  {
   "cell_type": "code",
   "execution_count": 13,
   "metadata": {},
   "outputs": [],
   "source": [
    "outcomesDf['swoopo_sale_price'] = (1-ratioFreeBidsPaidBids)*outcomesDf['bids_placed']*(outcomesDf['bidfee']) + outcomesDf['finalprice']"
   ]
  },
  {
   "cell_type": "markdown",
   "metadata": {},
   "source": [
    "Therefore, the profit that Swoopo obtains over the retail price of the item is:"
   ]
  },
  {
   "cell_type": "code",
   "execution_count": 14,
   "metadata": {},
   "outputs": [],
   "source": [
    "outcomesDf['swoopo_profit'] = outcomesDf['swoopo_sale_price']-outcomesDf['retail']"
   ]
  },
  {
   "cell_type": "markdown",
   "metadata": {},
   "source": [
    "The money that the winner pays for the item is the item's final price, plus the number of paid bids that he/she placed multiplied by the bid fee. Therefore, the difference between the retail price and the money that the winner paid for the item is the winner's benefit over the retail price of the item:"
   ]
  },
  {
   "cell_type": "code",
   "execution_count": 15,
   "metadata": {},
   "outputs": [],
   "source": [
    "outcomesDf['winner_benefit'] = outcomesDf['retail'] - (outcomesDf['finalprice'] + outcomesDf['bidfee'] * outcomesDf['placedbids'])"
   ]
  },
  {
   "cell_type": "markdown",
   "metadata": {},
   "source": [
    "In order to identify the different items sold in the auctions, the columns \"product_id\", \"item\" and \"desc\" can be used. An analysis of the unique values contained in these columns is now performed. Each one of them contains a different number of unique values. "
   ]
  },
  {
   "cell_type": "code",
   "execution_count": 16,
   "metadata": {},
   "outputs": [
    {
     "data": {
      "text/plain": [
       "2081"
      ]
     },
     "execution_count": 16,
     "metadata": {},
     "output_type": "execute_result"
    }
   ],
   "source": [
    "len(outcomesDf['product_id'].unique())"
   ]
  },
  {
   "cell_type": "code",
   "execution_count": 17,
   "metadata": {},
   "outputs": [
    {
     "data": {
      "text/plain": [
       "1803"
      ]
     },
     "execution_count": 17,
     "metadata": {},
     "output_type": "execute_result"
    }
   ],
   "source": [
    "len(outcomesDf['item'].unique())"
   ]
  },
  {
   "cell_type": "code",
   "execution_count": 18,
   "metadata": {},
   "outputs": [
    {
     "data": {
      "text/plain": [
       "1779"
      ]
     },
     "execution_count": 18,
     "metadata": {},
     "output_type": "execute_result"
    }
   ],
   "source": [
    "len(outcomesDf['desc'].unique())"
   ]
  },
  {
   "cell_type": "markdown",
   "metadata": {},
   "source": [
    "The following function counts the number of appearances in the dataset of each unique value of the columns \"product_id\", \"item\" and \"desc\", and creates a new DataFrame indicating the count number along with the original column values."
   ]
  },
  {
   "cell_type": "code",
   "execution_count": 19,
   "metadata": {
    "scrolled": false
   },
   "outputs": [],
   "source": [
    "def compareProductIdItemDescColumnValues():\n",
    "    outcomesDfItemDesc =outcomesDf[['product_id','item','desc','endtime_str']]\n",
    "    productIdColumnValueCounts = outcomesDf['product_id'].value_counts()\n",
    "    outcomesDfItemDesc = outcomesDfItemDesc.merge(productIdColumnValueCounts.to_frame(),how='left',left_on='product_id',right_index=True)\n",
    "    outcomesDfItemDesc = outcomesDfItemDesc.rename(columns={'product_id_x': 'product_id', 'product_id_y': 'product_id_count'})\n",
    "\n",
    "    itemColumnValueCounts = outcomesDf['item'].value_counts()\n",
    "    outcomesDfItemDesc = outcomesDfItemDesc.merge(itemColumnValueCounts.to_frame(),how='left',left_on='item',right_index=True)\n",
    "    outcomesDfItemDesc = outcomesDfItemDesc.rename(columns={'item_x': 'item', 'item_y': 'item_count'})\n",
    "\n",
    "    descColumnValueCounts = outcomesDf['desc'].value_counts()\n",
    "    outcomesDfItemDesc = outcomesDfItemDesc.merge(descColumnValueCounts.to_frame(),how='left',left_on='desc',right_index=True)\n",
    "    outcomesDfItemDesc = outcomesDfItemDesc.rename(columns={'desc_x': 'desc', 'desc_y': 'desc_count'})\n",
    "    \n",
    "    return outcomesDfItemDesc"
   ]
  },
  {
   "cell_type": "code",
   "execution_count": 20,
   "metadata": {},
   "outputs": [
    {
     "data": {
      "text/html": [
       "<div>\n",
       "<style>\n",
       "    .dataframe thead tr:only-child th {\n",
       "        text-align: right;\n",
       "    }\n",
       "\n",
       "    .dataframe thead th {\n",
       "        text-align: left;\n",
       "    }\n",
       "\n",
       "    .dataframe tbody tr th {\n",
       "        vertical-align: top;\n",
       "    }\n",
       "</style>\n",
       "<table border=\"1\" class=\"dataframe\">\n",
       "  <thead>\n",
       "    <tr style=\"text-align: right;\">\n",
       "      <th></th>\n",
       "      <th>product_id</th>\n",
       "      <th>item</th>\n",
       "      <th>desc</th>\n",
       "      <th>endtime_str</th>\n",
       "      <th>product_id_count</th>\n",
       "      <th>item_count</th>\n",
       "      <th>desc_count</th>\n",
       "    </tr>\n",
       "  </thead>\n",
       "  <tbody>\n",
       "    <tr>\n",
       "      <th>0</th>\n",
       "      <td>10009602</td>\n",
       "      <td>sony-ericsson-s500i-unlocked-mysterious-</td>\n",
       "      <td>Sony Ericsson S500i Unlocked Mysterious Green</td>\n",
       "      <td>2008-09-16 19:52:00</td>\n",
       "      <td>10</td>\n",
       "      <td>77</td>\n",
       "      <td>77</td>\n",
       "    </tr>\n",
       "    <tr>\n",
       "      <th>1</th>\n",
       "      <td>10009881</td>\n",
       "      <td>psp-slim-lite-sony-piano-black</td>\n",
       "      <td>PSP Slim &amp; Lite Sony Piano Black</td>\n",
       "      <td>2008-08-28 11:17:00</td>\n",
       "      <td>21</td>\n",
       "      <td>60</td>\n",
       "      <td>60</td>\n",
       "    </tr>\n",
       "    <tr>\n",
       "      <th>2</th>\n",
       "      <td>10009881</td>\n",
       "      <td>psp-slim-lite-sony-piano-black</td>\n",
       "      <td>PSP Slim &amp; Lite Sony Piano Black</td>\n",
       "      <td>2008-11-07 22:52:00</td>\n",
       "      <td>21</td>\n",
       "      <td>60</td>\n",
       "      <td>60</td>\n",
       "    </tr>\n",
       "    <tr>\n",
       "      <th>3</th>\n",
       "      <td>10006115</td>\n",
       "      <td>sony-ericsson-s500i-unlocked-mysterious-</td>\n",
       "      <td>Sony Ericsson S500i Unlocked Mysterious Green</td>\n",
       "      <td>2008-08-23 22:02:00</td>\n",
       "      <td>33</td>\n",
       "      <td>77</td>\n",
       "      <td>77</td>\n",
       "    </tr>\n",
       "    <tr>\n",
       "      <th>4</th>\n",
       "      <td>10006115</td>\n",
       "      <td>sony-ericsson-s500i-unlocked-mysterious-</td>\n",
       "      <td>Sony Ericsson S500i Unlocked Mysterious Green</td>\n",
       "      <td>2008-08-24 14:23:00</td>\n",
       "      <td>33</td>\n",
       "      <td>77</td>\n",
       "      <td>77</td>\n",
       "    </tr>\n",
       "  </tbody>\n",
       "</table>\n",
       "</div>"
      ],
      "text/plain": [
       "   product_id                                      item  \\\n",
       "0    10009602  sony-ericsson-s500i-unlocked-mysterious-   \n",
       "1    10009881            psp-slim-lite-sony-piano-black   \n",
       "2    10009881            psp-slim-lite-sony-piano-black   \n",
       "3    10006115  sony-ericsson-s500i-unlocked-mysterious-   \n",
       "4    10006115  sony-ericsson-s500i-unlocked-mysterious-   \n",
       "\n",
       "                                            desc         endtime_str  \\\n",
       "0  Sony Ericsson S500i Unlocked Mysterious Green 2008-09-16 19:52:00   \n",
       "1               PSP Slim & Lite Sony Piano Black 2008-08-28 11:17:00   \n",
       "2               PSP Slim & Lite Sony Piano Black 2008-11-07 22:52:00   \n",
       "3  Sony Ericsson S500i Unlocked Mysterious Green 2008-08-23 22:02:00   \n",
       "4  Sony Ericsson S500i Unlocked Mysterious Green 2008-08-24 14:23:00   \n",
       "\n",
       "   product_id_count  item_count  desc_count  \n",
       "0                10          77          77  \n",
       "1                21          60          60  \n",
       "2                21          60          60  \n",
       "3                33          77          77  \n",
       "4                33          77          77  "
      ]
     },
     "execution_count": 20,
     "metadata": {},
     "output_type": "execute_result"
    }
   ],
   "source": [
    "outcomesDfItemDesc = compareProductIdItemDescColumnValues()\n",
    "outcomesDfItemDesc.head()"
   ]
  },
  {
   "cell_type": "markdown",
   "metadata": {},
   "source": [
    "The \"product_id\" column contains different values for rows of the dataset in which the same item is sold. Therefore, the \"product_id\" value is not a good option to identify unique products.\n",
    "\n",
    "Here is an example of different auctions in which the item \"Sony Ericsson S500i Unlocked Mysterious Green\" is sold, but the \"product_id\" value is different each time:"
   ]
  },
  {
   "cell_type": "code",
   "execution_count": 21,
   "metadata": {
    "scrolled": true
   },
   "outputs": [
    {
     "data": {
      "text/html": [
       "<div>\n",
       "<style>\n",
       "    .dataframe thead tr:only-child th {\n",
       "        text-align: right;\n",
       "    }\n",
       "\n",
       "    .dataframe thead th {\n",
       "        text-align: left;\n",
       "    }\n",
       "\n",
       "    .dataframe tbody tr th {\n",
       "        vertical-align: top;\n",
       "    }\n",
       "</style>\n",
       "<table border=\"1\" class=\"dataframe\">\n",
       "  <thead>\n",
       "    <tr style=\"text-align: right;\">\n",
       "      <th></th>\n",
       "      <th>product_id</th>\n",
       "      <th>item</th>\n",
       "      <th>desc</th>\n",
       "      <th>endtime_str</th>\n",
       "      <th>product_id_count</th>\n",
       "      <th>item_count</th>\n",
       "      <th>desc_count</th>\n",
       "    </tr>\n",
       "  </thead>\n",
       "  <tbody>\n",
       "    <tr>\n",
       "      <th>0</th>\n",
       "      <td>10009602</td>\n",
       "      <td>sony-ericsson-s500i-unlocked-mysterious-</td>\n",
       "      <td>Sony Ericsson S500i Unlocked Mysterious Green</td>\n",
       "      <td>2008-09-16 19:52:00</td>\n",
       "      <td>10</td>\n",
       "      <td>77</td>\n",
       "      <td>77</td>\n",
       "    </tr>\n",
       "    <tr>\n",
       "      <th>3</th>\n",
       "      <td>10006115</td>\n",
       "      <td>sony-ericsson-s500i-unlocked-mysterious-</td>\n",
       "      <td>Sony Ericsson S500i Unlocked Mysterious Green</td>\n",
       "      <td>2008-08-23 22:02:00</td>\n",
       "      <td>33</td>\n",
       "      <td>77</td>\n",
       "      <td>77</td>\n",
       "    </tr>\n",
       "    <tr>\n",
       "      <th>5</th>\n",
       "      <td>10008975</td>\n",
       "      <td>sony-ericsson-s500i-unlocked-mysterious-</td>\n",
       "      <td>Sony Ericsson S500i Unlocked Mysterious Green</td>\n",
       "      <td>2008-08-22 22:44:00</td>\n",
       "      <td>15</td>\n",
       "      <td>77</td>\n",
       "      <td>77</td>\n",
       "    </tr>\n",
       "    <tr>\n",
       "      <th>17</th>\n",
       "      <td>10009642</td>\n",
       "      <td>sony-ericsson-s500i-unlocked-mysterious-</td>\n",
       "      <td>Sony Ericsson S500i Unlocked Mysterious Green</td>\n",
       "      <td>2008-09-02 00:06:00</td>\n",
       "      <td>11</td>\n",
       "      <td>77</td>\n",
       "      <td>77</td>\n",
       "    </tr>\n",
       "    <tr>\n",
       "      <th>17297</th>\n",
       "      <td>10010727</td>\n",
       "      <td>sony-ericsson-s500i-unlocked-mysterious-</td>\n",
       "      <td>Sony Ericsson S500i Unlocked Mysterious Green</td>\n",
       "      <td>2008-11-11 01:46:00</td>\n",
       "      <td>8</td>\n",
       "      <td>77</td>\n",
       "      <td>77</td>\n",
       "    </tr>\n",
       "  </tbody>\n",
       "</table>\n",
       "</div>"
      ],
      "text/plain": [
       "       product_id                                      item  \\\n",
       "0        10009602  sony-ericsson-s500i-unlocked-mysterious-   \n",
       "3        10006115  sony-ericsson-s500i-unlocked-mysterious-   \n",
       "5        10008975  sony-ericsson-s500i-unlocked-mysterious-   \n",
       "17       10009642  sony-ericsson-s500i-unlocked-mysterious-   \n",
       "17297    10010727  sony-ericsson-s500i-unlocked-mysterious-   \n",
       "\n",
       "                                                desc         endtime_str  \\\n",
       "0      Sony Ericsson S500i Unlocked Mysterious Green 2008-09-16 19:52:00   \n",
       "3      Sony Ericsson S500i Unlocked Mysterious Green 2008-08-23 22:02:00   \n",
       "5      Sony Ericsson S500i Unlocked Mysterious Green 2008-08-22 22:44:00   \n",
       "17     Sony Ericsson S500i Unlocked Mysterious Green 2008-09-02 00:06:00   \n",
       "17297  Sony Ericsson S500i Unlocked Mysterious Green 2008-11-11 01:46:00   \n",
       "\n",
       "       product_id_count  item_count  desc_count  \n",
       "0                    10          77          77  \n",
       "3                    33          77          77  \n",
       "5                    15          77          77  \n",
       "17                   11          77          77  \n",
       "17297                 8          77          77  "
      ]
     },
     "execution_count": 21,
     "metadata": {},
     "output_type": "execute_result"
    }
   ],
   "source": [
    "productIdVsItemDf = outcomesDfItemDesc[(outcomesDfItemDesc['product_id_count']!=outcomesDfItemDesc['item_count'])].drop_duplicates(subset=['product_id','item','desc'])\n",
    "productIdVsItemDf[productIdVsItemDf['item'].values == 'sony-ericsson-s500i-unlocked-mysterious-']"
   ]
  },
  {
   "cell_type": "markdown",
   "metadata": {},
   "source": [
    "Also, in some cases, some items do not contain a description in the column \"desc\", and the \"item\" column is the name of an HTML page:"
   ]
  },
  {
   "cell_type": "code",
   "execution_count": 22,
   "metadata": {
    "scrolled": true
   },
   "outputs": [
    {
     "data": {
      "text/html": [
       "<div>\n",
       "<style>\n",
       "    .dataframe thead tr:only-child th {\n",
       "        text-align: right;\n",
       "    }\n",
       "\n",
       "    .dataframe thead th {\n",
       "        text-align: left;\n",
       "    }\n",
       "\n",
       "    .dataframe tbody tr th {\n",
       "        vertical-align: top;\n",
       "    }\n",
       "</style>\n",
       "<table border=\"1\" class=\"dataframe\">\n",
       "  <thead>\n",
       "    <tr style=\"text-align: right;\">\n",
       "      <th></th>\n",
       "      <th>product_id</th>\n",
       "      <th>item</th>\n",
       "      <th>desc</th>\n",
       "      <th>endtime_str</th>\n",
       "      <th>product_id_count</th>\n",
       "      <th>item_count</th>\n",
       "      <th>desc_count</th>\n",
       "    </tr>\n",
       "  </thead>\n",
       "  <tbody>\n",
       "    <tr>\n",
       "      <th>19906</th>\n",
       "      <td>10010818</td>\n",
       "      <td>121881.html</td>\n",
       "      <td>-</td>\n",
       "      <td>2008-11-26 18:03:00</td>\n",
       "      <td>36</td>\n",
       "      <td>1</td>\n",
       "      <td>36</td>\n",
       "    </tr>\n",
       "    <tr>\n",
       "      <th>19294</th>\n",
       "      <td>10010818</td>\n",
       "      <td>121215.html</td>\n",
       "      <td>-</td>\n",
       "      <td>2008-11-22 20:04:00</td>\n",
       "      <td>36</td>\n",
       "      <td>1</td>\n",
       "      <td>36</td>\n",
       "    </tr>\n",
       "    <tr>\n",
       "      <th>19540</th>\n",
       "      <td>10010818</td>\n",
       "      <td>121470.html</td>\n",
       "      <td>-</td>\n",
       "      <td>2008-11-18 22:01:00</td>\n",
       "      <td>36</td>\n",
       "      <td>1</td>\n",
       "      <td>36</td>\n",
       "    </tr>\n",
       "    <tr>\n",
       "      <th>19837</th>\n",
       "      <td>10010818</td>\n",
       "      <td>121788.html</td>\n",
       "      <td>-</td>\n",
       "      <td>2008-11-24 13:05:00</td>\n",
       "      <td>36</td>\n",
       "      <td>1</td>\n",
       "      <td>36</td>\n",
       "    </tr>\n",
       "    <tr>\n",
       "      <th>21170</th>\n",
       "      <td>10010818</td>\n",
       "      <td>123276.html</td>\n",
       "      <td>-</td>\n",
       "      <td>2008-11-28 14:25:00</td>\n",
       "      <td>36</td>\n",
       "      <td>1</td>\n",
       "      <td>36</td>\n",
       "    </tr>\n",
       "    <tr>\n",
       "      <th>21421</th>\n",
       "      <td>10010818</td>\n",
       "      <td>123553.html</td>\n",
       "      <td>-</td>\n",
       "      <td>2008-11-30 23:24:00</td>\n",
       "      <td>36</td>\n",
       "      <td>1</td>\n",
       "      <td>36</td>\n",
       "    </tr>\n",
       "    <tr>\n",
       "      <th>22803</th>\n",
       "      <td>10010818</td>\n",
       "      <td>125284.html</td>\n",
       "      <td>-</td>\n",
       "      <td>2008-12-07 17:10:00</td>\n",
       "      <td>36</td>\n",
       "      <td>1</td>\n",
       "      <td>36</td>\n",
       "    </tr>\n",
       "    <tr>\n",
       "      <th>22804</th>\n",
       "      <td>10010818</td>\n",
       "      <td>125285.html</td>\n",
       "      <td>-</td>\n",
       "      <td>2008-12-05 13:18:00</td>\n",
       "      <td>36</td>\n",
       "      <td>1</td>\n",
       "      <td>36</td>\n",
       "    </tr>\n",
       "    <tr>\n",
       "      <th>22805</th>\n",
       "      <td>10010818</td>\n",
       "      <td>125286.html</td>\n",
       "      <td>-</td>\n",
       "      <td>2008-12-03 19:51:00</td>\n",
       "      <td>36</td>\n",
       "      <td>1</td>\n",
       "      <td>36</td>\n",
       "    </tr>\n",
       "    <tr>\n",
       "      <th>22806</th>\n",
       "      <td>10010818</td>\n",
       "      <td>125287.html</td>\n",
       "      <td>-</td>\n",
       "      <td>2008-12-02 16:39:00</td>\n",
       "      <td>36</td>\n",
       "      <td>1</td>\n",
       "      <td>36</td>\n",
       "    </tr>\n",
       "    <tr>\n",
       "      <th>22807</th>\n",
       "      <td>10010818</td>\n",
       "      <td>125288.html</td>\n",
       "      <td>-</td>\n",
       "      <td>2008-12-01 13:22:00</td>\n",
       "      <td>36</td>\n",
       "      <td>1</td>\n",
       "      <td>36</td>\n",
       "    </tr>\n",
       "    <tr>\n",
       "      <th>24161</th>\n",
       "      <td>10010818</td>\n",
       "      <td>126865.html</td>\n",
       "      <td>-</td>\n",
       "      <td>2008-12-14 20:44:00</td>\n",
       "      <td>36</td>\n",
       "      <td>1</td>\n",
       "      <td>36</td>\n",
       "    </tr>\n",
       "    <tr>\n",
       "      <th>24162</th>\n",
       "      <td>10010818</td>\n",
       "      <td>126866.html</td>\n",
       "      <td>-</td>\n",
       "      <td>2008-12-12 13:43:00</td>\n",
       "      <td>36</td>\n",
       "      <td>1</td>\n",
       "      <td>36</td>\n",
       "    </tr>\n",
       "    <tr>\n",
       "      <th>24163</th>\n",
       "      <td>10010818</td>\n",
       "      <td>126867.html</td>\n",
       "      <td>-</td>\n",
       "      <td>2008-12-11 03:54:00</td>\n",
       "      <td>36</td>\n",
       "      <td>1</td>\n",
       "      <td>36</td>\n",
       "    </tr>\n",
       "    <tr>\n",
       "      <th>26865</th>\n",
       "      <td>10010818</td>\n",
       "      <td>130108.html</td>\n",
       "      <td>-</td>\n",
       "      <td>2008-12-19 22:43:00</td>\n",
       "      <td>36</td>\n",
       "      <td>1</td>\n",
       "      <td>36</td>\n",
       "    </tr>\n",
       "    <tr>\n",
       "      <th>33326</th>\n",
       "      <td>10010818</td>\n",
       "      <td>137897.html</td>\n",
       "      <td>-</td>\n",
       "      <td>2009-01-04 18:32:00</td>\n",
       "      <td>36</td>\n",
       "      <td>1</td>\n",
       "      <td>36</td>\n",
       "    </tr>\n",
       "    <tr>\n",
       "      <th>33327</th>\n",
       "      <td>10010818</td>\n",
       "      <td>137898.html</td>\n",
       "      <td>-</td>\n",
       "      <td>2008-12-30 19:12:00</td>\n",
       "      <td>36</td>\n",
       "      <td>1</td>\n",
       "      <td>36</td>\n",
       "    </tr>\n",
       "    <tr>\n",
       "      <th>35238</th>\n",
       "      <td>10010818</td>\n",
       "      <td>140035.html</td>\n",
       "      <td>-</td>\n",
       "      <td>2009-01-01 09:06:00</td>\n",
       "      <td>36</td>\n",
       "      <td>1</td>\n",
       "      <td>36</td>\n",
       "    </tr>\n",
       "    <tr>\n",
       "      <th>19223</th>\n",
       "      <td>10010818</td>\n",
       "      <td>121129.html</td>\n",
       "      <td>-</td>\n",
       "      <td>2008-11-19 18:30:00</td>\n",
       "      <td>36</td>\n",
       "      <td>1</td>\n",
       "      <td>36</td>\n",
       "    </tr>\n",
       "    <tr>\n",
       "      <th>17387</th>\n",
       "      <td>10010818</td>\n",
       "      <td>118838.html</td>\n",
       "      <td>-</td>\n",
       "      <td>2008-11-16 13:33:00</td>\n",
       "      <td>36</td>\n",
       "      <td>1</td>\n",
       "      <td>36</td>\n",
       "    </tr>\n",
       "    <tr>\n",
       "      <th>19541</th>\n",
       "      <td>10010818</td>\n",
       "      <td>121471.html</td>\n",
       "      <td>-</td>\n",
       "      <td>2008-11-21 16:32:00</td>\n",
       "      <td>36</td>\n",
       "      <td>1</td>\n",
       "      <td>36</td>\n",
       "    </tr>\n",
       "    <tr>\n",
       "      <th>9875</th>\n",
       "      <td>10010818</td>\n",
       "      <td>109786.html</td>\n",
       "      <td>-</td>\n",
       "      <td>2008-10-16 21:51:00</td>\n",
       "      <td>36</td>\n",
       "      <td>1</td>\n",
       "      <td>36</td>\n",
       "    </tr>\n",
       "    <tr>\n",
       "      <th>9845</th>\n",
       "      <td>10010818</td>\n",
       "      <td>109746.html</td>\n",
       "      <td>-</td>\n",
       "      <td>2008-10-15 15:16:00</td>\n",
       "      <td>36</td>\n",
       "      <td>1</td>\n",
       "      <td>36</td>\n",
       "    </tr>\n",
       "    <tr>\n",
       "      <th>16695</th>\n",
       "      <td>10010818</td>\n",
       "      <td>117910.html</td>\n",
       "      <td>-</td>\n",
       "      <td>2008-11-13 16:10:00</td>\n",
       "      <td>36</td>\n",
       "      <td>1</td>\n",
       "      <td>36</td>\n",
       "    </tr>\n",
       "    <tr>\n",
       "      <th>9904</th>\n",
       "      <td>10010818</td>\n",
       "      <td>109830.html</td>\n",
       "      <td>-</td>\n",
       "      <td>2008-10-17 19:42:00</td>\n",
       "      <td>36</td>\n",
       "      <td>1</td>\n",
       "      <td>36</td>\n",
       "    </tr>\n",
       "    <tr>\n",
       "      <th>9980</th>\n",
       "      <td>10010818</td>\n",
       "      <td>110013.html</td>\n",
       "      <td>-</td>\n",
       "      <td>2008-10-15 15:11:00</td>\n",
       "      <td>36</td>\n",
       "      <td>1</td>\n",
       "      <td>36</td>\n",
       "    </tr>\n",
       "    <tr>\n",
       "      <th>10767</th>\n",
       "      <td>10010818</td>\n",
       "      <td>110869.html</td>\n",
       "      <td>-</td>\n",
       "      <td>2008-10-20 00:20:00</td>\n",
       "      <td>36</td>\n",
       "      <td>1</td>\n",
       "      <td>36</td>\n",
       "    </tr>\n",
       "    <tr>\n",
       "      <th>11344</th>\n",
       "      <td>10010818</td>\n",
       "      <td>111506.html</td>\n",
       "      <td>-</td>\n",
       "      <td>2008-10-21 11:45:00</td>\n",
       "      <td>36</td>\n",
       "      <td>1</td>\n",
       "      <td>36</td>\n",
       "    </tr>\n",
       "    <tr>\n",
       "      <th>11412</th>\n",
       "      <td>10010818</td>\n",
       "      <td>111584.html</td>\n",
       "      <td>-</td>\n",
       "      <td>2008-10-23 15:52:00</td>\n",
       "      <td>36</td>\n",
       "      <td>1</td>\n",
       "      <td>36</td>\n",
       "    </tr>\n",
       "    <tr>\n",
       "      <th>11741</th>\n",
       "      <td>10010818</td>\n",
       "      <td>112103.html</td>\n",
       "      <td>-</td>\n",
       "      <td>2008-10-25 10:04:00</td>\n",
       "      <td>36</td>\n",
       "      <td>1</td>\n",
       "      <td>36</td>\n",
       "    </tr>\n",
       "    <tr>\n",
       "      <th>11808</th>\n",
       "      <td>10010818</td>\n",
       "      <td>112187.html</td>\n",
       "      <td>-</td>\n",
       "      <td>2008-10-27 14:25:00</td>\n",
       "      <td>36</td>\n",
       "      <td>1</td>\n",
       "      <td>36</td>\n",
       "    </tr>\n",
       "    <tr>\n",
       "      <th>13786</th>\n",
       "      <td>10010818</td>\n",
       "      <td>114652.html</td>\n",
       "      <td>-</td>\n",
       "      <td>2008-11-03 13:21:00</td>\n",
       "      <td>36</td>\n",
       "      <td>1</td>\n",
       "      <td>36</td>\n",
       "    </tr>\n",
       "    <tr>\n",
       "      <th>13913</th>\n",
       "      <td>10010818</td>\n",
       "      <td>114804.html</td>\n",
       "      <td>-</td>\n",
       "      <td>2008-11-07 11:45:00</td>\n",
       "      <td>36</td>\n",
       "      <td>1</td>\n",
       "      <td>36</td>\n",
       "    </tr>\n",
       "    <tr>\n",
       "      <th>13989</th>\n",
       "      <td>10010818</td>\n",
       "      <td>114907.html</td>\n",
       "      <td>-</td>\n",
       "      <td>2008-11-10 03:33:00</td>\n",
       "      <td>36</td>\n",
       "      <td>1</td>\n",
       "      <td>36</td>\n",
       "    </tr>\n",
       "    <tr>\n",
       "      <th>15527</th>\n",
       "      <td>10010818</td>\n",
       "      <td>116626.html</td>\n",
       "      <td>-</td>\n",
       "      <td>2008-11-10 13:36:00</td>\n",
       "      <td>36</td>\n",
       "      <td>1</td>\n",
       "      <td>36</td>\n",
       "    </tr>\n",
       "    <tr>\n",
       "      <th>9266</th>\n",
       "      <td>10010818</td>\n",
       "      <td>109104.html</td>\n",
       "      <td>-</td>\n",
       "      <td>2008-10-13 00:24:00</td>\n",
       "      <td>36</td>\n",
       "      <td>1</td>\n",
       "      <td>36</td>\n",
       "    </tr>\n",
       "    <tr>\n",
       "      <th>30862</th>\n",
       "      <td>10011491</td>\n",
       "      <td>casio-exilim-ex-z200-10-1-mp-digital-cam</td>\n",
       "      <td>Casio Exilim EX-Z200 10.1 MP Digital Camera</td>\n",
       "      <td>2009-01-05 02:42:00</td>\n",
       "      <td>43</td>\n",
       "      <td>48</td>\n",
       "      <td>43</td>\n",
       "    </tr>\n",
       "    <tr>\n",
       "      <th>25280</th>\n",
       "      <td>10010929</td>\n",
       "      <td>casio-exilim-ex-z200-10-1-mp-digital-cam</td>\n",
       "      <td>Casio Exilim EX-Z200 10.1 MP Digital Camera - RED</td>\n",
       "      <td>2008-12-10 13:43:00</td>\n",
       "      <td>5</td>\n",
       "      <td>48</td>\n",
       "      <td>5</td>\n",
       "    </tr>\n",
       "    <tr>\n",
       "      <th>52065</th>\n",
       "      <td>10011838</td>\n",
       "      <td>frigidaire-atf8000fs-white-front-loading</td>\n",
       "      <td>Frigidaire ATF8000FS White  Front-Loading Washer</td>\n",
       "      <td>2009-03-15 17:43:00</td>\n",
       "      <td>6</td>\n",
       "      <td>21</td>\n",
       "      <td>6</td>\n",
       "    </tr>\n",
       "    <tr>\n",
       "      <th>60454</th>\n",
       "      <td>10012069</td>\n",
       "      <td>frigidaire-atf8000fs-white-front-loading</td>\n",
       "      <td>Frigidaire ATF8000FS White Front-Loading Washer</td>\n",
       "      <td>2009-04-17 21:05:00</td>\n",
       "      <td>8</td>\n",
       "      <td>21</td>\n",
       "      <td>15</td>\n",
       "    </tr>\n",
       "    <tr>\n",
       "      <th>7691</th>\n",
       "      <td>10009192</td>\n",
       "      <td>ghd-professional-mini-styler-mk4-5-8-inc</td>\n",
       "      <td>GHD Professional Mini Styler MK4 ( 5/8\" Inch)</td>\n",
       "      <td>2008-10-06 13:23:00</td>\n",
       "      <td>26</td>\n",
       "      <td>37</td>\n",
       "      <td>26</td>\n",
       "    </tr>\n",
       "    <tr>\n",
       "      <th>17351</th>\n",
       "      <td>10011006</td>\n",
       "      <td>ghd-professional-mini-styler-mk4-5-8-inc</td>\n",
       "      <td>GHD Professional Mini Styler MK4 (5/8\" Inch)</td>\n",
       "      <td>2008-11-08 11:47:00</td>\n",
       "      <td>11</td>\n",
       "      <td>37</td>\n",
       "      <td>11</td>\n",
       "    </tr>\n",
       "    <tr>\n",
       "      <th>77943</th>\n",
       "      <td>10012229</td>\n",
       "      <td>garmin-n-vi-205w-4-3-inch-portable-gps-n</td>\n",
       "      <td>Garmin nüvi 205W 4.3-Inch  Portable GPS Navigator</td>\n",
       "      <td>2009-06-29 04:30:00</td>\n",
       "      <td>22</td>\n",
       "      <td>37</td>\n",
       "      <td>22</td>\n",
       "    </tr>\n",
       "    <tr>\n",
       "      <th>74852</th>\n",
       "      <td>10012230</td>\n",
       "      <td>garmin-n-vi-205w-4-3-inch-portable-gps-n</td>\n",
       "      <td>Garmin nüvi 205W 4.3-Inch Portable GPS Navigator</td>\n",
       "      <td>2009-06-15 07:13:00</td>\n",
       "      <td>15</td>\n",
       "      <td>37</td>\n",
       "      <td>15</td>\n",
       "    </tr>\n",
       "    <tr>\n",
       "      <th>506</th>\n",
       "      <td>10008900</td>\n",
       "      <td>lego-city-7743-police-command-center</td>\n",
       "      <td>LEGO City 7743 - Police Command Center</td>\n",
       "      <td>2008-08-21 23:23:00</td>\n",
       "      <td>3</td>\n",
       "      <td>6</td>\n",
       "      <td>3</td>\n",
       "    </tr>\n",
       "    <tr>\n",
       "      <th>7652</th>\n",
       "      <td>10010875</td>\n",
       "      <td>lego-city-7743-police-command-center</td>\n",
       "      <td>LEGO City 7743: Police Command Center</td>\n",
       "      <td>2008-10-03 18:48:00</td>\n",
       "      <td>3</td>\n",
       "      <td>6</td>\n",
       "      <td>3</td>\n",
       "    </tr>\n",
       "    <tr>\n",
       "      <th>75109</th>\n",
       "      <td>10012393</td>\n",
       "      <td>lg-26-5-cu-ft-side-by-side-refrigerator-</td>\n",
       "      <td>LG 26.5 cu.ft. Side-By-Side Refrigerator (White)</td>\n",
       "      <td>2009-06-17 16:49:00</td>\n",
       "      <td>29</td>\n",
       "      <td>39</td>\n",
       "      <td>29</td>\n",
       "    </tr>\n",
       "    <tr>\n",
       "      <th>52264</th>\n",
       "      <td>10011841</td>\n",
       "      <td>lg-26-5-cu-ft-side-by-side-refrigerator-</td>\n",
       "      <td>LG 26.5 cu.ft. Side-By-Side Refrigerator White</td>\n",
       "      <td>2009-03-17 04:52:00</td>\n",
       "      <td>10</td>\n",
       "      <td>39</td>\n",
       "      <td>10</td>\n",
       "    </tr>\n",
       "    <tr>\n",
       "      <th>106950</th>\n",
       "      <td>10013994</td>\n",
       "      <td>mario-sonic-at-the-olympic-winter-games-</td>\n",
       "      <td>Mario &amp; Sonic at the Olympic Winter Games (DS)</td>\n",
       "      <td>2009-10-25 03:33:00</td>\n",
       "      <td>55</td>\n",
       "      <td>110</td>\n",
       "      <td>55</td>\n",
       "    </tr>\n",
       "    <tr>\n",
       "      <th>106964</th>\n",
       "      <td>10013993</td>\n",
       "      <td>mario-sonic-at-the-olympic-winter-games-</td>\n",
       "      <td>Mario &amp; Sonic at the Olympic Winter Games (Wii)</td>\n",
       "      <td>2009-10-25 14:03:00</td>\n",
       "      <td>55</td>\n",
       "      <td>110</td>\n",
       "      <td>55</td>\n",
       "    </tr>\n",
       "    <tr>\n",
       "      <th>2981</th>\n",
       "      <td>10010486</td>\n",
       "      <td>samsung-t220hd-22-1080p-lcd-hdtv-monitor</td>\n",
       "      <td>Samsung  T220HD 22\" 1080p LCD HDTV Monitor</td>\n",
       "      <td>2008-09-21 01:17:00</td>\n",
       "      <td>14</td>\n",
       "      <td>250</td>\n",
       "      <td>14</td>\n",
       "    </tr>\n",
       "    <tr>\n",
       "      <th>63331</th>\n",
       "      <td>10012128</td>\n",
       "      <td>samsung-bd-p3600-1080p-blu-ray-disc-play</td>\n",
       "      <td>Samsung BD-P3600 1080p Blu-Ray Disc Player</td>\n",
       "      <td>2009-04-30 01:23:00</td>\n",
       "      <td>9</td>\n",
       "      <td>20</td>\n",
       "      <td>9</td>\n",
       "    </tr>\n",
       "    <tr>\n",
       "      <th>92797</th>\n",
       "      <td>10013399</td>\n",
       "      <td>samsung-bd-p3600-1080p-blu-ray-disc-play</td>\n",
       "      <td>Samsung BD-P3600 1080p Blu-ray Disc Player</td>\n",
       "      <td>2009-08-31 15:23:00</td>\n",
       "      <td>11</td>\n",
       "      <td>20</td>\n",
       "      <td>11</td>\n",
       "    </tr>\n",
       "    <tr>\n",
       "      <th>20840</th>\n",
       "      <td>10011345</td>\n",
       "      <td>samsung-t220hd-22-1080p-lcd-hdtv-monitor</td>\n",
       "      <td>Samsung T220HD 22\" 1080p LCD HDTV Monitor</td>\n",
       "      <td>2008-12-01 10:24:00</td>\n",
       "      <td>100</td>\n",
       "      <td>250</td>\n",
       "      <td>236</td>\n",
       "    </tr>\n",
       "    <tr>\n",
       "      <th>115882</th>\n",
       "      <td>10014797</td>\n",
       "      <td>star-wars-the-clone-wars-republic-heroes</td>\n",
       "      <td>Star Wars: The Clone Wars - Republic Heroes (PC)</td>\n",
       "      <td>2009-11-15 18:38:00</td>\n",
       "      <td>24</td>\n",
       "      <td>52</td>\n",
       "      <td>24</td>\n",
       "    </tr>\n",
       "    <tr>\n",
       "      <th>106978</th>\n",
       "      <td>10013992</td>\n",
       "      <td>star-wars-the-clone-wars-republic-heroes</td>\n",
       "      <td>Star Wars: The Clone Wars - Republic Heroes (Wii)</td>\n",
       "      <td>2009-10-24 19:36:00</td>\n",
       "      <td>28</td>\n",
       "      <td>52</td>\n",
       "      <td>28</td>\n",
       "    </tr>\n",
       "    <tr>\n",
       "      <th>503</th>\n",
       "      <td>10009529</td>\n",
       "      <td>vtech-v-smile-tv-learning-system</td>\n",
       "      <td>VTech V.Smile TV Learning System</td>\n",
       "      <td>2008-08-23 05:53:00</td>\n",
       "      <td>4</td>\n",
       "      <td>22</td>\n",
       "      <td>4</td>\n",
       "    </tr>\n",
       "    <tr>\n",
       "      <th>13766</th>\n",
       "      <td>10011031</td>\n",
       "      <td>vtech-v-smile-tv-learning-system</td>\n",
       "      <td>Vtech - V.Smile TV Learning System</td>\n",
       "      <td>2008-11-03 04:59:00</td>\n",
       "      <td>18</td>\n",
       "      <td>22</td>\n",
       "      <td>18</td>\n",
       "    </tr>\n",
       "  </tbody>\n",
       "</table>\n",
       "</div>"
      ],
      "text/plain": [
       "        product_id                                      item  \\\n",
       "19906     10010818                               121881.html   \n",
       "19294     10010818                               121215.html   \n",
       "19540     10010818                               121470.html   \n",
       "19837     10010818                               121788.html   \n",
       "21170     10010818                               123276.html   \n",
       "21421     10010818                               123553.html   \n",
       "22803     10010818                               125284.html   \n",
       "22804     10010818                               125285.html   \n",
       "22805     10010818                               125286.html   \n",
       "22806     10010818                               125287.html   \n",
       "22807     10010818                               125288.html   \n",
       "24161     10010818                               126865.html   \n",
       "24162     10010818                               126866.html   \n",
       "24163     10010818                               126867.html   \n",
       "26865     10010818                               130108.html   \n",
       "33326     10010818                               137897.html   \n",
       "33327     10010818                               137898.html   \n",
       "35238     10010818                               140035.html   \n",
       "19223     10010818                               121129.html   \n",
       "17387     10010818                               118838.html   \n",
       "19541     10010818                               121471.html   \n",
       "9875      10010818                               109786.html   \n",
       "9845      10010818                               109746.html   \n",
       "16695     10010818                               117910.html   \n",
       "9904      10010818                               109830.html   \n",
       "9980      10010818                               110013.html   \n",
       "10767     10010818                               110869.html   \n",
       "11344     10010818                               111506.html   \n",
       "11412     10010818                               111584.html   \n",
       "11741     10010818                               112103.html   \n",
       "11808     10010818                               112187.html   \n",
       "13786     10010818                               114652.html   \n",
       "13913     10010818                               114804.html   \n",
       "13989     10010818                               114907.html   \n",
       "15527     10010818                               116626.html   \n",
       "9266      10010818                               109104.html   \n",
       "30862     10011491  casio-exilim-ex-z200-10-1-mp-digital-cam   \n",
       "25280     10010929  casio-exilim-ex-z200-10-1-mp-digital-cam   \n",
       "52065     10011838  frigidaire-atf8000fs-white-front-loading   \n",
       "60454     10012069  frigidaire-atf8000fs-white-front-loading   \n",
       "7691      10009192  ghd-professional-mini-styler-mk4-5-8-inc   \n",
       "17351     10011006  ghd-professional-mini-styler-mk4-5-8-inc   \n",
       "77943     10012229  garmin-n-vi-205w-4-3-inch-portable-gps-n   \n",
       "74852     10012230  garmin-n-vi-205w-4-3-inch-portable-gps-n   \n",
       "506       10008900      lego-city-7743-police-command-center   \n",
       "7652      10010875      lego-city-7743-police-command-center   \n",
       "75109     10012393  lg-26-5-cu-ft-side-by-side-refrigerator-   \n",
       "52264     10011841  lg-26-5-cu-ft-side-by-side-refrigerator-   \n",
       "106950    10013994  mario-sonic-at-the-olympic-winter-games-   \n",
       "106964    10013993  mario-sonic-at-the-olympic-winter-games-   \n",
       "2981      10010486  samsung-t220hd-22-1080p-lcd-hdtv-monitor   \n",
       "63331     10012128  samsung-bd-p3600-1080p-blu-ray-disc-play   \n",
       "92797     10013399  samsung-bd-p3600-1080p-blu-ray-disc-play   \n",
       "20840     10011345  samsung-t220hd-22-1080p-lcd-hdtv-monitor   \n",
       "115882    10014797  star-wars-the-clone-wars-republic-heroes   \n",
       "106978    10013992  star-wars-the-clone-wars-republic-heroes   \n",
       "503       10009529          vtech-v-smile-tv-learning-system   \n",
       "13766     10011031          vtech-v-smile-tv-learning-system   \n",
       "\n",
       "                                                     desc         endtime_str  \\\n",
       "19906                                                   - 2008-11-26 18:03:00   \n",
       "19294                                                   - 2008-11-22 20:04:00   \n",
       "19540                                                   - 2008-11-18 22:01:00   \n",
       "19837                                                   - 2008-11-24 13:05:00   \n",
       "21170                                                   - 2008-11-28 14:25:00   \n",
       "21421                                                   - 2008-11-30 23:24:00   \n",
       "22803                                                   - 2008-12-07 17:10:00   \n",
       "22804                                                   - 2008-12-05 13:18:00   \n",
       "22805                                                   - 2008-12-03 19:51:00   \n",
       "22806                                                   - 2008-12-02 16:39:00   \n",
       "22807                                                   - 2008-12-01 13:22:00   \n",
       "24161                                                   - 2008-12-14 20:44:00   \n",
       "24162                                                   - 2008-12-12 13:43:00   \n",
       "24163                                                   - 2008-12-11 03:54:00   \n",
       "26865                                                   - 2008-12-19 22:43:00   \n",
       "33326                                                   - 2009-01-04 18:32:00   \n",
       "33327                                                   - 2008-12-30 19:12:00   \n",
       "35238                                                   - 2009-01-01 09:06:00   \n",
       "19223                                                   - 2008-11-19 18:30:00   \n",
       "17387                                                   - 2008-11-16 13:33:00   \n",
       "19541                                                   - 2008-11-21 16:32:00   \n",
       "9875                                                    - 2008-10-16 21:51:00   \n",
       "9845                                                    - 2008-10-15 15:16:00   \n",
       "16695                                                   - 2008-11-13 16:10:00   \n",
       "9904                                                    - 2008-10-17 19:42:00   \n",
       "9980                                                    - 2008-10-15 15:11:00   \n",
       "10767                                                   - 2008-10-20 00:20:00   \n",
       "11344                                                   - 2008-10-21 11:45:00   \n",
       "11412                                                   - 2008-10-23 15:52:00   \n",
       "11741                                                   - 2008-10-25 10:04:00   \n",
       "11808                                                   - 2008-10-27 14:25:00   \n",
       "13786                                                   - 2008-11-03 13:21:00   \n",
       "13913                                                   - 2008-11-07 11:45:00   \n",
       "13989                                                   - 2008-11-10 03:33:00   \n",
       "15527                                                   - 2008-11-10 13:36:00   \n",
       "9266                                                    - 2008-10-13 00:24:00   \n",
       "30862         Casio Exilim EX-Z200 10.1 MP Digital Camera 2009-01-05 02:42:00   \n",
       "25280   Casio Exilim EX-Z200 10.1 MP Digital Camera - RED 2008-12-10 13:43:00   \n",
       "52065    Frigidaire ATF8000FS White  Front-Loading Washer 2009-03-15 17:43:00   \n",
       "60454     Frigidaire ATF8000FS White Front-Loading Washer 2009-04-17 21:05:00   \n",
       "7691        GHD Professional Mini Styler MK4 ( 5/8\" Inch) 2008-10-06 13:23:00   \n",
       "17351        GHD Professional Mini Styler MK4 (5/8\" Inch) 2008-11-08 11:47:00   \n",
       "77943   Garmin nüvi 205W 4.3-Inch  Portable GPS Navigator 2009-06-29 04:30:00   \n",
       "74852    Garmin nüvi 205W 4.3-Inch Portable GPS Navigator 2009-06-15 07:13:00   \n",
       "506                LEGO City 7743 - Police Command Center 2008-08-21 23:23:00   \n",
       "7652                LEGO City 7743: Police Command Center 2008-10-03 18:48:00   \n",
       "75109    LG 26.5 cu.ft. Side-By-Side Refrigerator (White) 2009-06-17 16:49:00   \n",
       "52264      LG 26.5 cu.ft. Side-By-Side Refrigerator White 2009-03-17 04:52:00   \n",
       "106950     Mario & Sonic at the Olympic Winter Games (DS) 2009-10-25 03:33:00   \n",
       "106964    Mario & Sonic at the Olympic Winter Games (Wii) 2009-10-25 14:03:00   \n",
       "2981           Samsung  T220HD 22\" 1080p LCD HDTV Monitor 2008-09-21 01:17:00   \n",
       "63331          Samsung BD-P3600 1080p Blu-Ray Disc Player 2009-04-30 01:23:00   \n",
       "92797          Samsung BD-P3600 1080p Blu-ray Disc Player 2009-08-31 15:23:00   \n",
       "20840           Samsung T220HD 22\" 1080p LCD HDTV Monitor 2008-12-01 10:24:00   \n",
       "115882   Star Wars: The Clone Wars - Republic Heroes (PC) 2009-11-15 18:38:00   \n",
       "106978  Star Wars: The Clone Wars - Republic Heroes (Wii) 2009-10-24 19:36:00   \n",
       "503                      VTech V.Smile TV Learning System 2008-08-23 05:53:00   \n",
       "13766                  Vtech - V.Smile TV Learning System 2008-11-03 04:59:00   \n",
       "\n",
       "        product_id_count  item_count  desc_count  \n",
       "19906                 36           1          36  \n",
       "19294                 36           1          36  \n",
       "19540                 36           1          36  \n",
       "19837                 36           1          36  \n",
       "21170                 36           1          36  \n",
       "21421                 36           1          36  \n",
       "22803                 36           1          36  \n",
       "22804                 36           1          36  \n",
       "22805                 36           1          36  \n",
       "22806                 36           1          36  \n",
       "22807                 36           1          36  \n",
       "24161                 36           1          36  \n",
       "24162                 36           1          36  \n",
       "24163                 36           1          36  \n",
       "26865                 36           1          36  \n",
       "33326                 36           1          36  \n",
       "33327                 36           1          36  \n",
       "35238                 36           1          36  \n",
       "19223                 36           1          36  \n",
       "17387                 36           1          36  \n",
       "19541                 36           1          36  \n",
       "9875                  36           1          36  \n",
       "9845                  36           1          36  \n",
       "16695                 36           1          36  \n",
       "9904                  36           1          36  \n",
       "9980                  36           1          36  \n",
       "10767                 36           1          36  \n",
       "11344                 36           1          36  \n",
       "11412                 36           1          36  \n",
       "11741                 36           1          36  \n",
       "11808                 36           1          36  \n",
       "13786                 36           1          36  \n",
       "13913                 36           1          36  \n",
       "13989                 36           1          36  \n",
       "15527                 36           1          36  \n",
       "9266                  36           1          36  \n",
       "30862                 43          48          43  \n",
       "25280                  5          48           5  \n",
       "52065                  6          21           6  \n",
       "60454                  8          21          15  \n",
       "7691                  26          37          26  \n",
       "17351                 11          37          11  \n",
       "77943                 22          37          22  \n",
       "74852                 15          37          15  \n",
       "506                    3           6           3  \n",
       "7652                   3           6           3  \n",
       "75109                 29          39          29  \n",
       "52264                 10          39          10  \n",
       "106950                55         110          55  \n",
       "106964                55         110          55  \n",
       "2981                  14         250          14  \n",
       "63331                  9          20           9  \n",
       "92797                 11          20          11  \n",
       "20840                100         250         236  \n",
       "115882                24          52          24  \n",
       "106978                28          52          28  \n",
       "503                    4          22           4  \n",
       "13766                 18          22          18  "
      ]
     },
     "execution_count": 22,
     "metadata": {},
     "output_type": "execute_result"
    }
   ],
   "source": [
    "itemVsDescDf = outcomesDfItemDesc[(outcomesDfItemDesc['item_count']!=outcomesDfItemDesc['desc_count'])].drop_duplicates(subset=['item','desc'])\n",
    "itemVsDescDf = itemVsDescDf.sort_values(by='desc')\n",
    "itemVsDescDf"
   ]
  },
  {
   "cell_type": "markdown",
   "metadata": {},
   "source": [
    "This is the case for 36 rows in the dataframe."
   ]
  },
  {
   "cell_type": "code",
   "execution_count": 23,
   "metadata": {},
   "outputs": [
    {
     "data": {
      "text/html": [
       "<div>\n",
       "<style>\n",
       "    .dataframe thead tr:only-child th {\n",
       "        text-align: right;\n",
       "    }\n",
       "\n",
       "    .dataframe thead th {\n",
       "        text-align: left;\n",
       "    }\n",
       "\n",
       "    .dataframe tbody tr th {\n",
       "        vertical-align: top;\n",
       "    }\n",
       "</style>\n",
       "<table border=\"1\" class=\"dataframe\">\n",
       "  <thead>\n",
       "    <tr style=\"text-align: right;\">\n",
       "      <th></th>\n",
       "      <th>product_id</th>\n",
       "      <th>item</th>\n",
       "      <th>desc</th>\n",
       "      <th>endtime_str</th>\n",
       "      <th>product_id_count</th>\n",
       "      <th>item_count</th>\n",
       "      <th>desc_count</th>\n",
       "    </tr>\n",
       "  </thead>\n",
       "  <tbody>\n",
       "    <tr>\n",
       "      <th>19906</th>\n",
       "      <td>10010818</td>\n",
       "      <td>121881.html</td>\n",
       "      <td>-</td>\n",
       "      <td>2008-11-26 18:03:00</td>\n",
       "      <td>36</td>\n",
       "      <td>1</td>\n",
       "      <td>36</td>\n",
       "    </tr>\n",
       "    <tr>\n",
       "      <th>19294</th>\n",
       "      <td>10010818</td>\n",
       "      <td>121215.html</td>\n",
       "      <td>-</td>\n",
       "      <td>2008-11-22 20:04:00</td>\n",
       "      <td>36</td>\n",
       "      <td>1</td>\n",
       "      <td>36</td>\n",
       "    </tr>\n",
       "    <tr>\n",
       "      <th>19540</th>\n",
       "      <td>10010818</td>\n",
       "      <td>121470.html</td>\n",
       "      <td>-</td>\n",
       "      <td>2008-11-18 22:01:00</td>\n",
       "      <td>36</td>\n",
       "      <td>1</td>\n",
       "      <td>36</td>\n",
       "    </tr>\n",
       "    <tr>\n",
       "      <th>19837</th>\n",
       "      <td>10010818</td>\n",
       "      <td>121788.html</td>\n",
       "      <td>-</td>\n",
       "      <td>2008-11-24 13:05:00</td>\n",
       "      <td>36</td>\n",
       "      <td>1</td>\n",
       "      <td>36</td>\n",
       "    </tr>\n",
       "    <tr>\n",
       "      <th>21170</th>\n",
       "      <td>10010818</td>\n",
       "      <td>123276.html</td>\n",
       "      <td>-</td>\n",
       "      <td>2008-11-28 14:25:00</td>\n",
       "      <td>36</td>\n",
       "      <td>1</td>\n",
       "      <td>36</td>\n",
       "    </tr>\n",
       "    <tr>\n",
       "      <th>21421</th>\n",
       "      <td>10010818</td>\n",
       "      <td>123553.html</td>\n",
       "      <td>-</td>\n",
       "      <td>2008-11-30 23:24:00</td>\n",
       "      <td>36</td>\n",
       "      <td>1</td>\n",
       "      <td>36</td>\n",
       "    </tr>\n",
       "    <tr>\n",
       "      <th>22803</th>\n",
       "      <td>10010818</td>\n",
       "      <td>125284.html</td>\n",
       "      <td>-</td>\n",
       "      <td>2008-12-07 17:10:00</td>\n",
       "      <td>36</td>\n",
       "      <td>1</td>\n",
       "      <td>36</td>\n",
       "    </tr>\n",
       "    <tr>\n",
       "      <th>22804</th>\n",
       "      <td>10010818</td>\n",
       "      <td>125285.html</td>\n",
       "      <td>-</td>\n",
       "      <td>2008-12-05 13:18:00</td>\n",
       "      <td>36</td>\n",
       "      <td>1</td>\n",
       "      <td>36</td>\n",
       "    </tr>\n",
       "    <tr>\n",
       "      <th>22805</th>\n",
       "      <td>10010818</td>\n",
       "      <td>125286.html</td>\n",
       "      <td>-</td>\n",
       "      <td>2008-12-03 19:51:00</td>\n",
       "      <td>36</td>\n",
       "      <td>1</td>\n",
       "      <td>36</td>\n",
       "    </tr>\n",
       "    <tr>\n",
       "      <th>22806</th>\n",
       "      <td>10010818</td>\n",
       "      <td>125287.html</td>\n",
       "      <td>-</td>\n",
       "      <td>2008-12-02 16:39:00</td>\n",
       "      <td>36</td>\n",
       "      <td>1</td>\n",
       "      <td>36</td>\n",
       "    </tr>\n",
       "    <tr>\n",
       "      <th>22807</th>\n",
       "      <td>10010818</td>\n",
       "      <td>125288.html</td>\n",
       "      <td>-</td>\n",
       "      <td>2008-12-01 13:22:00</td>\n",
       "      <td>36</td>\n",
       "      <td>1</td>\n",
       "      <td>36</td>\n",
       "    </tr>\n",
       "    <tr>\n",
       "      <th>24161</th>\n",
       "      <td>10010818</td>\n",
       "      <td>126865.html</td>\n",
       "      <td>-</td>\n",
       "      <td>2008-12-14 20:44:00</td>\n",
       "      <td>36</td>\n",
       "      <td>1</td>\n",
       "      <td>36</td>\n",
       "    </tr>\n",
       "    <tr>\n",
       "      <th>24162</th>\n",
       "      <td>10010818</td>\n",
       "      <td>126866.html</td>\n",
       "      <td>-</td>\n",
       "      <td>2008-12-12 13:43:00</td>\n",
       "      <td>36</td>\n",
       "      <td>1</td>\n",
       "      <td>36</td>\n",
       "    </tr>\n",
       "    <tr>\n",
       "      <th>24163</th>\n",
       "      <td>10010818</td>\n",
       "      <td>126867.html</td>\n",
       "      <td>-</td>\n",
       "      <td>2008-12-11 03:54:00</td>\n",
       "      <td>36</td>\n",
       "      <td>1</td>\n",
       "      <td>36</td>\n",
       "    </tr>\n",
       "    <tr>\n",
       "      <th>26865</th>\n",
       "      <td>10010818</td>\n",
       "      <td>130108.html</td>\n",
       "      <td>-</td>\n",
       "      <td>2008-12-19 22:43:00</td>\n",
       "      <td>36</td>\n",
       "      <td>1</td>\n",
       "      <td>36</td>\n",
       "    </tr>\n",
       "    <tr>\n",
       "      <th>33326</th>\n",
       "      <td>10010818</td>\n",
       "      <td>137897.html</td>\n",
       "      <td>-</td>\n",
       "      <td>2009-01-04 18:32:00</td>\n",
       "      <td>36</td>\n",
       "      <td>1</td>\n",
       "      <td>36</td>\n",
       "    </tr>\n",
       "    <tr>\n",
       "      <th>33327</th>\n",
       "      <td>10010818</td>\n",
       "      <td>137898.html</td>\n",
       "      <td>-</td>\n",
       "      <td>2008-12-30 19:12:00</td>\n",
       "      <td>36</td>\n",
       "      <td>1</td>\n",
       "      <td>36</td>\n",
       "    </tr>\n",
       "    <tr>\n",
       "      <th>35238</th>\n",
       "      <td>10010818</td>\n",
       "      <td>140035.html</td>\n",
       "      <td>-</td>\n",
       "      <td>2009-01-01 09:06:00</td>\n",
       "      <td>36</td>\n",
       "      <td>1</td>\n",
       "      <td>36</td>\n",
       "    </tr>\n",
       "    <tr>\n",
       "      <th>19223</th>\n",
       "      <td>10010818</td>\n",
       "      <td>121129.html</td>\n",
       "      <td>-</td>\n",
       "      <td>2008-11-19 18:30:00</td>\n",
       "      <td>36</td>\n",
       "      <td>1</td>\n",
       "      <td>36</td>\n",
       "    </tr>\n",
       "    <tr>\n",
       "      <th>17387</th>\n",
       "      <td>10010818</td>\n",
       "      <td>118838.html</td>\n",
       "      <td>-</td>\n",
       "      <td>2008-11-16 13:33:00</td>\n",
       "      <td>36</td>\n",
       "      <td>1</td>\n",
       "      <td>36</td>\n",
       "    </tr>\n",
       "    <tr>\n",
       "      <th>19541</th>\n",
       "      <td>10010818</td>\n",
       "      <td>121471.html</td>\n",
       "      <td>-</td>\n",
       "      <td>2008-11-21 16:32:00</td>\n",
       "      <td>36</td>\n",
       "      <td>1</td>\n",
       "      <td>36</td>\n",
       "    </tr>\n",
       "    <tr>\n",
       "      <th>9875</th>\n",
       "      <td>10010818</td>\n",
       "      <td>109786.html</td>\n",
       "      <td>-</td>\n",
       "      <td>2008-10-16 21:51:00</td>\n",
       "      <td>36</td>\n",
       "      <td>1</td>\n",
       "      <td>36</td>\n",
       "    </tr>\n",
       "    <tr>\n",
       "      <th>9845</th>\n",
       "      <td>10010818</td>\n",
       "      <td>109746.html</td>\n",
       "      <td>-</td>\n",
       "      <td>2008-10-15 15:16:00</td>\n",
       "      <td>36</td>\n",
       "      <td>1</td>\n",
       "      <td>36</td>\n",
       "    </tr>\n",
       "    <tr>\n",
       "      <th>16695</th>\n",
       "      <td>10010818</td>\n",
       "      <td>117910.html</td>\n",
       "      <td>-</td>\n",
       "      <td>2008-11-13 16:10:00</td>\n",
       "      <td>36</td>\n",
       "      <td>1</td>\n",
       "      <td>36</td>\n",
       "    </tr>\n",
       "    <tr>\n",
       "      <th>9904</th>\n",
       "      <td>10010818</td>\n",
       "      <td>109830.html</td>\n",
       "      <td>-</td>\n",
       "      <td>2008-10-17 19:42:00</td>\n",
       "      <td>36</td>\n",
       "      <td>1</td>\n",
       "      <td>36</td>\n",
       "    </tr>\n",
       "    <tr>\n",
       "      <th>9980</th>\n",
       "      <td>10010818</td>\n",
       "      <td>110013.html</td>\n",
       "      <td>-</td>\n",
       "      <td>2008-10-15 15:11:00</td>\n",
       "      <td>36</td>\n",
       "      <td>1</td>\n",
       "      <td>36</td>\n",
       "    </tr>\n",
       "    <tr>\n",
       "      <th>10767</th>\n",
       "      <td>10010818</td>\n",
       "      <td>110869.html</td>\n",
       "      <td>-</td>\n",
       "      <td>2008-10-20 00:20:00</td>\n",
       "      <td>36</td>\n",
       "      <td>1</td>\n",
       "      <td>36</td>\n",
       "    </tr>\n",
       "    <tr>\n",
       "      <th>11344</th>\n",
       "      <td>10010818</td>\n",
       "      <td>111506.html</td>\n",
       "      <td>-</td>\n",
       "      <td>2008-10-21 11:45:00</td>\n",
       "      <td>36</td>\n",
       "      <td>1</td>\n",
       "      <td>36</td>\n",
       "    </tr>\n",
       "    <tr>\n",
       "      <th>11412</th>\n",
       "      <td>10010818</td>\n",
       "      <td>111584.html</td>\n",
       "      <td>-</td>\n",
       "      <td>2008-10-23 15:52:00</td>\n",
       "      <td>36</td>\n",
       "      <td>1</td>\n",
       "      <td>36</td>\n",
       "    </tr>\n",
       "    <tr>\n",
       "      <th>11741</th>\n",
       "      <td>10010818</td>\n",
       "      <td>112103.html</td>\n",
       "      <td>-</td>\n",
       "      <td>2008-10-25 10:04:00</td>\n",
       "      <td>36</td>\n",
       "      <td>1</td>\n",
       "      <td>36</td>\n",
       "    </tr>\n",
       "    <tr>\n",
       "      <th>11808</th>\n",
       "      <td>10010818</td>\n",
       "      <td>112187.html</td>\n",
       "      <td>-</td>\n",
       "      <td>2008-10-27 14:25:00</td>\n",
       "      <td>36</td>\n",
       "      <td>1</td>\n",
       "      <td>36</td>\n",
       "    </tr>\n",
       "    <tr>\n",
       "      <th>13786</th>\n",
       "      <td>10010818</td>\n",
       "      <td>114652.html</td>\n",
       "      <td>-</td>\n",
       "      <td>2008-11-03 13:21:00</td>\n",
       "      <td>36</td>\n",
       "      <td>1</td>\n",
       "      <td>36</td>\n",
       "    </tr>\n",
       "    <tr>\n",
       "      <th>13913</th>\n",
       "      <td>10010818</td>\n",
       "      <td>114804.html</td>\n",
       "      <td>-</td>\n",
       "      <td>2008-11-07 11:45:00</td>\n",
       "      <td>36</td>\n",
       "      <td>1</td>\n",
       "      <td>36</td>\n",
       "    </tr>\n",
       "    <tr>\n",
       "      <th>13989</th>\n",
       "      <td>10010818</td>\n",
       "      <td>114907.html</td>\n",
       "      <td>-</td>\n",
       "      <td>2008-11-10 03:33:00</td>\n",
       "      <td>36</td>\n",
       "      <td>1</td>\n",
       "      <td>36</td>\n",
       "    </tr>\n",
       "    <tr>\n",
       "      <th>15527</th>\n",
       "      <td>10010818</td>\n",
       "      <td>116626.html</td>\n",
       "      <td>-</td>\n",
       "      <td>2008-11-10 13:36:00</td>\n",
       "      <td>36</td>\n",
       "      <td>1</td>\n",
       "      <td>36</td>\n",
       "    </tr>\n",
       "    <tr>\n",
       "      <th>9266</th>\n",
       "      <td>10010818</td>\n",
       "      <td>109104.html</td>\n",
       "      <td>-</td>\n",
       "      <td>2008-10-13 00:24:00</td>\n",
       "      <td>36</td>\n",
       "      <td>1</td>\n",
       "      <td>36</td>\n",
       "    </tr>\n",
       "  </tbody>\n",
       "</table>\n",
       "</div>"
      ],
      "text/plain": [
       "       product_id         item desc         endtime_str  product_id_count  \\\n",
       "19906    10010818  121881.html    - 2008-11-26 18:03:00                36   \n",
       "19294    10010818  121215.html    - 2008-11-22 20:04:00                36   \n",
       "19540    10010818  121470.html    - 2008-11-18 22:01:00                36   \n",
       "19837    10010818  121788.html    - 2008-11-24 13:05:00                36   \n",
       "21170    10010818  123276.html    - 2008-11-28 14:25:00                36   \n",
       "21421    10010818  123553.html    - 2008-11-30 23:24:00                36   \n",
       "22803    10010818  125284.html    - 2008-12-07 17:10:00                36   \n",
       "22804    10010818  125285.html    - 2008-12-05 13:18:00                36   \n",
       "22805    10010818  125286.html    - 2008-12-03 19:51:00                36   \n",
       "22806    10010818  125287.html    - 2008-12-02 16:39:00                36   \n",
       "22807    10010818  125288.html    - 2008-12-01 13:22:00                36   \n",
       "24161    10010818  126865.html    - 2008-12-14 20:44:00                36   \n",
       "24162    10010818  126866.html    - 2008-12-12 13:43:00                36   \n",
       "24163    10010818  126867.html    - 2008-12-11 03:54:00                36   \n",
       "26865    10010818  130108.html    - 2008-12-19 22:43:00                36   \n",
       "33326    10010818  137897.html    - 2009-01-04 18:32:00                36   \n",
       "33327    10010818  137898.html    - 2008-12-30 19:12:00                36   \n",
       "35238    10010818  140035.html    - 2009-01-01 09:06:00                36   \n",
       "19223    10010818  121129.html    - 2008-11-19 18:30:00                36   \n",
       "17387    10010818  118838.html    - 2008-11-16 13:33:00                36   \n",
       "19541    10010818  121471.html    - 2008-11-21 16:32:00                36   \n",
       "9875     10010818  109786.html    - 2008-10-16 21:51:00                36   \n",
       "9845     10010818  109746.html    - 2008-10-15 15:16:00                36   \n",
       "16695    10010818  117910.html    - 2008-11-13 16:10:00                36   \n",
       "9904     10010818  109830.html    - 2008-10-17 19:42:00                36   \n",
       "9980     10010818  110013.html    - 2008-10-15 15:11:00                36   \n",
       "10767    10010818  110869.html    - 2008-10-20 00:20:00                36   \n",
       "11344    10010818  111506.html    - 2008-10-21 11:45:00                36   \n",
       "11412    10010818  111584.html    - 2008-10-23 15:52:00                36   \n",
       "11741    10010818  112103.html    - 2008-10-25 10:04:00                36   \n",
       "11808    10010818  112187.html    - 2008-10-27 14:25:00                36   \n",
       "13786    10010818  114652.html    - 2008-11-03 13:21:00                36   \n",
       "13913    10010818  114804.html    - 2008-11-07 11:45:00                36   \n",
       "13989    10010818  114907.html    - 2008-11-10 03:33:00                36   \n",
       "15527    10010818  116626.html    - 2008-11-10 13:36:00                36   \n",
       "9266     10010818  109104.html    - 2008-10-13 00:24:00                36   \n",
       "\n",
       "       item_count  desc_count  \n",
       "19906           1          36  \n",
       "19294           1          36  \n",
       "19540           1          36  \n",
       "19837           1          36  \n",
       "21170           1          36  \n",
       "21421           1          36  \n",
       "22803           1          36  \n",
       "22804           1          36  \n",
       "22805           1          36  \n",
       "22806           1          36  \n",
       "22807           1          36  \n",
       "24161           1          36  \n",
       "24162           1          36  \n",
       "24163           1          36  \n",
       "26865           1          36  \n",
       "33326           1          36  \n",
       "33327           1          36  \n",
       "35238           1          36  \n",
       "19223           1          36  \n",
       "17387           1          36  \n",
       "19541           1          36  \n",
       "9875            1          36  \n",
       "9845            1          36  \n",
       "16695           1          36  \n",
       "9904            1          36  \n",
       "9980            1          36  \n",
       "10767           1          36  \n",
       "11344           1          36  \n",
       "11412           1          36  \n",
       "11741           1          36  \n",
       "11808           1          36  \n",
       "13786           1          36  \n",
       "13913           1          36  \n",
       "13989           1          36  \n",
       "15527           1          36  \n",
       "9266            1          36  "
      ]
     },
     "execution_count": 23,
     "metadata": {},
     "output_type": "execute_result"
    }
   ],
   "source": [
    "itemVsDescDf[itemVsDescDf.apply(lambda x : \"html\" in x['item'], axis=1)]"
   ]
  },
  {
   "cell_type": "markdown",
   "metadata": {},
   "source": [
    "Since auctions with missing product descriptions would not be very helpful for performing data analysis, and this only happens for a small number of rows, it has been decided to discard these rows."
   ]
  },
  {
   "cell_type": "code",
   "execution_count": 24,
   "metadata": {},
   "outputs": [],
   "source": [
    "htmlItems = ['109104.html', '109746.html', '109786.html', '109830.html',\n",
    "       '110013.html', '110869.html', '111506.html', '111584.html',\n",
    "       '112103.html', '112187.html', '114652.html', '114804.html',\n",
    "       '114907.html', '116626.html', '117910.html', '118838.html',\n",
    "       '121129.html', '121215.html', '121470.html', '121471.html',\n",
    "       '121788.html', '121881.html', '123276.html', '123553.html',\n",
    "       '125284.html', '125285.html', '125286.html', '125287.html',\n",
    "       '125288.html', '126865.html', '126866.html', '126867.html','130108.html',\n",
    "       '137897.html', '137898.html', '140035.html']\n",
    "outcomesDf = outcomesDf[~outcomesDf['item'].isin(htmlItems)]"
   ]
  },
  {
   "cell_type": "markdown",
   "metadata": {},
   "source": [
    "In most of the cases in which there are different values in the column \"desc\" for the same value of the column \"item\", it is due to small grammar differences in the text contained in the column \"desc\":"
   ]
  },
  {
   "cell_type": "code",
   "execution_count": 25,
   "metadata": {},
   "outputs": [
    {
     "data": {
      "text/html": [
       "<div>\n",
       "<style>\n",
       "    .dataframe thead tr:only-child th {\n",
       "        text-align: right;\n",
       "    }\n",
       "\n",
       "    .dataframe thead th {\n",
       "        text-align: left;\n",
       "    }\n",
       "\n",
       "    .dataframe tbody tr th {\n",
       "        vertical-align: top;\n",
       "    }\n",
       "</style>\n",
       "<table border=\"1\" class=\"dataframe\">\n",
       "  <thead>\n",
       "    <tr style=\"text-align: right;\">\n",
       "      <th></th>\n",
       "      <th>product_id</th>\n",
       "      <th>item</th>\n",
       "      <th>desc</th>\n",
       "      <th>endtime_str</th>\n",
       "      <th>product_id_count</th>\n",
       "      <th>item_count</th>\n",
       "      <th>desc_count</th>\n",
       "    </tr>\n",
       "  </thead>\n",
       "  <tbody>\n",
       "    <tr>\n",
       "      <th>30862</th>\n",
       "      <td>10011491</td>\n",
       "      <td>casio-exilim-ex-z200-10-1-mp-digital-cam</td>\n",
       "      <td>Casio Exilim EX-Z200 10.1 MP Digital Camera</td>\n",
       "      <td>2009-01-05 02:42:00</td>\n",
       "      <td>43</td>\n",
       "      <td>48</td>\n",
       "      <td>43</td>\n",
       "    </tr>\n",
       "    <tr>\n",
       "      <th>25280</th>\n",
       "      <td>10010929</td>\n",
       "      <td>casio-exilim-ex-z200-10-1-mp-digital-cam</td>\n",
       "      <td>Casio Exilim EX-Z200 10.1 MP Digital Camera - RED</td>\n",
       "      <td>2008-12-10 13:43:00</td>\n",
       "      <td>5</td>\n",
       "      <td>48</td>\n",
       "      <td>5</td>\n",
       "    </tr>\n",
       "    <tr>\n",
       "      <th>52065</th>\n",
       "      <td>10011838</td>\n",
       "      <td>frigidaire-atf8000fs-white-front-loading</td>\n",
       "      <td>Frigidaire ATF8000FS White  Front-Loading Washer</td>\n",
       "      <td>2009-03-15 17:43:00</td>\n",
       "      <td>6</td>\n",
       "      <td>21</td>\n",
       "      <td>6</td>\n",
       "    </tr>\n",
       "    <tr>\n",
       "      <th>60454</th>\n",
       "      <td>10012069</td>\n",
       "      <td>frigidaire-atf8000fs-white-front-loading</td>\n",
       "      <td>Frigidaire ATF8000FS White Front-Loading Washer</td>\n",
       "      <td>2009-04-17 21:05:00</td>\n",
       "      <td>8</td>\n",
       "      <td>21</td>\n",
       "      <td>15</td>\n",
       "    </tr>\n",
       "    <tr>\n",
       "      <th>7691</th>\n",
       "      <td>10009192</td>\n",
       "      <td>ghd-professional-mini-styler-mk4-5-8-inc</td>\n",
       "      <td>GHD Professional Mini Styler MK4 ( 5/8\" Inch)</td>\n",
       "      <td>2008-10-06 13:23:00</td>\n",
       "      <td>26</td>\n",
       "      <td>37</td>\n",
       "      <td>26</td>\n",
       "    </tr>\n",
       "    <tr>\n",
       "      <th>17351</th>\n",
       "      <td>10011006</td>\n",
       "      <td>ghd-professional-mini-styler-mk4-5-8-inc</td>\n",
       "      <td>GHD Professional Mini Styler MK4 (5/8\" Inch)</td>\n",
       "      <td>2008-11-08 11:47:00</td>\n",
       "      <td>11</td>\n",
       "      <td>37</td>\n",
       "      <td>11</td>\n",
       "    </tr>\n",
       "    <tr>\n",
       "      <th>77943</th>\n",
       "      <td>10012229</td>\n",
       "      <td>garmin-n-vi-205w-4-3-inch-portable-gps-n</td>\n",
       "      <td>Garmin nüvi 205W 4.3-Inch  Portable GPS Navigator</td>\n",
       "      <td>2009-06-29 04:30:00</td>\n",
       "      <td>22</td>\n",
       "      <td>37</td>\n",
       "      <td>22</td>\n",
       "    </tr>\n",
       "    <tr>\n",
       "      <th>74852</th>\n",
       "      <td>10012230</td>\n",
       "      <td>garmin-n-vi-205w-4-3-inch-portable-gps-n</td>\n",
       "      <td>Garmin nüvi 205W 4.3-Inch Portable GPS Navigator</td>\n",
       "      <td>2009-06-15 07:13:00</td>\n",
       "      <td>15</td>\n",
       "      <td>37</td>\n",
       "      <td>15</td>\n",
       "    </tr>\n",
       "    <tr>\n",
       "      <th>506</th>\n",
       "      <td>10008900</td>\n",
       "      <td>lego-city-7743-police-command-center</td>\n",
       "      <td>LEGO City 7743 - Police Command Center</td>\n",
       "      <td>2008-08-21 23:23:00</td>\n",
       "      <td>3</td>\n",
       "      <td>6</td>\n",
       "      <td>3</td>\n",
       "    </tr>\n",
       "    <tr>\n",
       "      <th>7652</th>\n",
       "      <td>10010875</td>\n",
       "      <td>lego-city-7743-police-command-center</td>\n",
       "      <td>LEGO City 7743: Police Command Center</td>\n",
       "      <td>2008-10-03 18:48:00</td>\n",
       "      <td>3</td>\n",
       "      <td>6</td>\n",
       "      <td>3</td>\n",
       "    </tr>\n",
       "    <tr>\n",
       "      <th>75109</th>\n",
       "      <td>10012393</td>\n",
       "      <td>lg-26-5-cu-ft-side-by-side-refrigerator-</td>\n",
       "      <td>LG 26.5 cu.ft. Side-By-Side Refrigerator (White)</td>\n",
       "      <td>2009-06-17 16:49:00</td>\n",
       "      <td>29</td>\n",
       "      <td>39</td>\n",
       "      <td>29</td>\n",
       "    </tr>\n",
       "    <tr>\n",
       "      <th>52264</th>\n",
       "      <td>10011841</td>\n",
       "      <td>lg-26-5-cu-ft-side-by-side-refrigerator-</td>\n",
       "      <td>LG 26.5 cu.ft. Side-By-Side Refrigerator White</td>\n",
       "      <td>2009-03-17 04:52:00</td>\n",
       "      <td>10</td>\n",
       "      <td>39</td>\n",
       "      <td>10</td>\n",
       "    </tr>\n",
       "    <tr>\n",
       "      <th>106950</th>\n",
       "      <td>10013994</td>\n",
       "      <td>mario-sonic-at-the-olympic-winter-games-</td>\n",
       "      <td>Mario &amp; Sonic at the Olympic Winter Games (DS)</td>\n",
       "      <td>2009-10-25 03:33:00</td>\n",
       "      <td>55</td>\n",
       "      <td>110</td>\n",
       "      <td>55</td>\n",
       "    </tr>\n",
       "    <tr>\n",
       "      <th>106964</th>\n",
       "      <td>10013993</td>\n",
       "      <td>mario-sonic-at-the-olympic-winter-games-</td>\n",
       "      <td>Mario &amp; Sonic at the Olympic Winter Games (Wii)</td>\n",
       "      <td>2009-10-25 14:03:00</td>\n",
       "      <td>55</td>\n",
       "      <td>110</td>\n",
       "      <td>55</td>\n",
       "    </tr>\n",
       "    <tr>\n",
       "      <th>2981</th>\n",
       "      <td>10010486</td>\n",
       "      <td>samsung-t220hd-22-1080p-lcd-hdtv-monitor</td>\n",
       "      <td>Samsung  T220HD 22\" 1080p LCD HDTV Monitor</td>\n",
       "      <td>2008-09-21 01:17:00</td>\n",
       "      <td>14</td>\n",
       "      <td>250</td>\n",
       "      <td>14</td>\n",
       "    </tr>\n",
       "    <tr>\n",
       "      <th>63331</th>\n",
       "      <td>10012128</td>\n",
       "      <td>samsung-bd-p3600-1080p-blu-ray-disc-play</td>\n",
       "      <td>Samsung BD-P3600 1080p Blu-Ray Disc Player</td>\n",
       "      <td>2009-04-30 01:23:00</td>\n",
       "      <td>9</td>\n",
       "      <td>20</td>\n",
       "      <td>9</td>\n",
       "    </tr>\n",
       "    <tr>\n",
       "      <th>92797</th>\n",
       "      <td>10013399</td>\n",
       "      <td>samsung-bd-p3600-1080p-blu-ray-disc-play</td>\n",
       "      <td>Samsung BD-P3600 1080p Blu-ray Disc Player</td>\n",
       "      <td>2009-08-31 15:23:00</td>\n",
       "      <td>11</td>\n",
       "      <td>20</td>\n",
       "      <td>11</td>\n",
       "    </tr>\n",
       "    <tr>\n",
       "      <th>20840</th>\n",
       "      <td>10011345</td>\n",
       "      <td>samsung-t220hd-22-1080p-lcd-hdtv-monitor</td>\n",
       "      <td>Samsung T220HD 22\" 1080p LCD HDTV Monitor</td>\n",
       "      <td>2008-12-01 10:24:00</td>\n",
       "      <td>100</td>\n",
       "      <td>250</td>\n",
       "      <td>236</td>\n",
       "    </tr>\n",
       "    <tr>\n",
       "      <th>115882</th>\n",
       "      <td>10014797</td>\n",
       "      <td>star-wars-the-clone-wars-republic-heroes</td>\n",
       "      <td>Star Wars: The Clone Wars - Republic Heroes (PC)</td>\n",
       "      <td>2009-11-15 18:38:00</td>\n",
       "      <td>24</td>\n",
       "      <td>52</td>\n",
       "      <td>24</td>\n",
       "    </tr>\n",
       "    <tr>\n",
       "      <th>106978</th>\n",
       "      <td>10013992</td>\n",
       "      <td>star-wars-the-clone-wars-republic-heroes</td>\n",
       "      <td>Star Wars: The Clone Wars - Republic Heroes (Wii)</td>\n",
       "      <td>2009-10-24 19:36:00</td>\n",
       "      <td>28</td>\n",
       "      <td>52</td>\n",
       "      <td>28</td>\n",
       "    </tr>\n",
       "    <tr>\n",
       "      <th>503</th>\n",
       "      <td>10009529</td>\n",
       "      <td>vtech-v-smile-tv-learning-system</td>\n",
       "      <td>VTech V.Smile TV Learning System</td>\n",
       "      <td>2008-08-23 05:53:00</td>\n",
       "      <td>4</td>\n",
       "      <td>22</td>\n",
       "      <td>4</td>\n",
       "    </tr>\n",
       "    <tr>\n",
       "      <th>13766</th>\n",
       "      <td>10011031</td>\n",
       "      <td>vtech-v-smile-tv-learning-system</td>\n",
       "      <td>Vtech - V.Smile TV Learning System</td>\n",
       "      <td>2008-11-03 04:59:00</td>\n",
       "      <td>18</td>\n",
       "      <td>22</td>\n",
       "      <td>18</td>\n",
       "    </tr>\n",
       "  </tbody>\n",
       "</table>\n",
       "</div>"
      ],
      "text/plain": [
       "        product_id                                      item  \\\n",
       "30862     10011491  casio-exilim-ex-z200-10-1-mp-digital-cam   \n",
       "25280     10010929  casio-exilim-ex-z200-10-1-mp-digital-cam   \n",
       "52065     10011838  frigidaire-atf8000fs-white-front-loading   \n",
       "60454     10012069  frigidaire-atf8000fs-white-front-loading   \n",
       "7691      10009192  ghd-professional-mini-styler-mk4-5-8-inc   \n",
       "17351     10011006  ghd-professional-mini-styler-mk4-5-8-inc   \n",
       "77943     10012229  garmin-n-vi-205w-4-3-inch-portable-gps-n   \n",
       "74852     10012230  garmin-n-vi-205w-4-3-inch-portable-gps-n   \n",
       "506       10008900      lego-city-7743-police-command-center   \n",
       "7652      10010875      lego-city-7743-police-command-center   \n",
       "75109     10012393  lg-26-5-cu-ft-side-by-side-refrigerator-   \n",
       "52264     10011841  lg-26-5-cu-ft-side-by-side-refrigerator-   \n",
       "106950    10013994  mario-sonic-at-the-olympic-winter-games-   \n",
       "106964    10013993  mario-sonic-at-the-olympic-winter-games-   \n",
       "2981      10010486  samsung-t220hd-22-1080p-lcd-hdtv-monitor   \n",
       "63331     10012128  samsung-bd-p3600-1080p-blu-ray-disc-play   \n",
       "92797     10013399  samsung-bd-p3600-1080p-blu-ray-disc-play   \n",
       "20840     10011345  samsung-t220hd-22-1080p-lcd-hdtv-monitor   \n",
       "115882    10014797  star-wars-the-clone-wars-republic-heroes   \n",
       "106978    10013992  star-wars-the-clone-wars-republic-heroes   \n",
       "503       10009529          vtech-v-smile-tv-learning-system   \n",
       "13766     10011031          vtech-v-smile-tv-learning-system   \n",
       "\n",
       "                                                     desc         endtime_str  \\\n",
       "30862         Casio Exilim EX-Z200 10.1 MP Digital Camera 2009-01-05 02:42:00   \n",
       "25280   Casio Exilim EX-Z200 10.1 MP Digital Camera - RED 2008-12-10 13:43:00   \n",
       "52065    Frigidaire ATF8000FS White  Front-Loading Washer 2009-03-15 17:43:00   \n",
       "60454     Frigidaire ATF8000FS White Front-Loading Washer 2009-04-17 21:05:00   \n",
       "7691        GHD Professional Mini Styler MK4 ( 5/8\" Inch) 2008-10-06 13:23:00   \n",
       "17351        GHD Professional Mini Styler MK4 (5/8\" Inch) 2008-11-08 11:47:00   \n",
       "77943   Garmin nüvi 205W 4.3-Inch  Portable GPS Navigator 2009-06-29 04:30:00   \n",
       "74852    Garmin nüvi 205W 4.3-Inch Portable GPS Navigator 2009-06-15 07:13:00   \n",
       "506                LEGO City 7743 - Police Command Center 2008-08-21 23:23:00   \n",
       "7652                LEGO City 7743: Police Command Center 2008-10-03 18:48:00   \n",
       "75109    LG 26.5 cu.ft. Side-By-Side Refrigerator (White) 2009-06-17 16:49:00   \n",
       "52264      LG 26.5 cu.ft. Side-By-Side Refrigerator White 2009-03-17 04:52:00   \n",
       "106950     Mario & Sonic at the Olympic Winter Games (DS) 2009-10-25 03:33:00   \n",
       "106964    Mario & Sonic at the Olympic Winter Games (Wii) 2009-10-25 14:03:00   \n",
       "2981           Samsung  T220HD 22\" 1080p LCD HDTV Monitor 2008-09-21 01:17:00   \n",
       "63331          Samsung BD-P3600 1080p Blu-Ray Disc Player 2009-04-30 01:23:00   \n",
       "92797          Samsung BD-P3600 1080p Blu-ray Disc Player 2009-08-31 15:23:00   \n",
       "20840           Samsung T220HD 22\" 1080p LCD HDTV Monitor 2008-12-01 10:24:00   \n",
       "115882   Star Wars: The Clone Wars - Republic Heroes (PC) 2009-11-15 18:38:00   \n",
       "106978  Star Wars: The Clone Wars - Republic Heroes (Wii) 2009-10-24 19:36:00   \n",
       "503                      VTech V.Smile TV Learning System 2008-08-23 05:53:00   \n",
       "13766                  Vtech - V.Smile TV Learning System 2008-11-03 04:59:00   \n",
       "\n",
       "        product_id_count  item_count  desc_count  \n",
       "30862                 43          48          43  \n",
       "25280                  5          48           5  \n",
       "52065                  6          21           6  \n",
       "60454                  8          21          15  \n",
       "7691                  26          37          26  \n",
       "17351                 11          37          11  \n",
       "77943                 22          37          22  \n",
       "74852                 15          37          15  \n",
       "506                    3           6           3  \n",
       "7652                   3           6           3  \n",
       "75109                 29          39          29  \n",
       "52264                 10          39          10  \n",
       "106950                55         110          55  \n",
       "106964                55         110          55  \n",
       "2981                  14         250          14  \n",
       "63331                  9          20           9  \n",
       "92797                 11          20          11  \n",
       "20840                100         250         236  \n",
       "115882                24          52          24  \n",
       "106978                28          52          28  \n",
       "503                    4          22           4  \n",
       "13766                 18          22          18  "
      ]
     },
     "execution_count": 25,
     "metadata": {},
     "output_type": "execute_result"
    }
   ],
   "source": [
    "outcomesDfItemDesc = compareProductIdItemDescColumnValues()\n",
    "itemVsDescDf = outcomesDfItemDesc[(outcomesDfItemDesc['item_count']!=outcomesDfItemDesc['desc_count'])].drop_duplicates(subset=['item','desc'])\n",
    "itemVsDescDf = itemVsDescDf.sort_values(by='desc')\n",
    "itemVsDescDf"
   ]
  },
  {
   "cell_type": "markdown",
   "metadata": {},
   "source": [
    "For example, for the item \"vtech-v-smile-tv-learning-system\" there are two descriptions that actually refer to the same item, but are written slightly differently:"
   ]
  },
  {
   "cell_type": "code",
   "execution_count": 26,
   "metadata": {},
   "outputs": [
    {
     "data": {
      "text/html": [
       "<div>\n",
       "<style>\n",
       "    .dataframe thead tr:only-child th {\n",
       "        text-align: right;\n",
       "    }\n",
       "\n",
       "    .dataframe thead th {\n",
       "        text-align: left;\n",
       "    }\n",
       "\n",
       "    .dataframe tbody tr th {\n",
       "        vertical-align: top;\n",
       "    }\n",
       "</style>\n",
       "<table border=\"1\" class=\"dataframe\">\n",
       "  <thead>\n",
       "    <tr style=\"text-align: right;\">\n",
       "      <th></th>\n",
       "      <th>product_id</th>\n",
       "      <th>item</th>\n",
       "      <th>desc</th>\n",
       "      <th>endtime_str</th>\n",
       "      <th>product_id_count</th>\n",
       "      <th>item_count</th>\n",
       "      <th>desc_count</th>\n",
       "    </tr>\n",
       "  </thead>\n",
       "  <tbody>\n",
       "    <tr>\n",
       "      <th>503</th>\n",
       "      <td>10009529</td>\n",
       "      <td>vtech-v-smile-tv-learning-system</td>\n",
       "      <td>VTech V.Smile TV Learning System</td>\n",
       "      <td>2008-08-23 05:53:00</td>\n",
       "      <td>4</td>\n",
       "      <td>22</td>\n",
       "      <td>4</td>\n",
       "    </tr>\n",
       "    <tr>\n",
       "      <th>13766</th>\n",
       "      <td>10011031</td>\n",
       "      <td>vtech-v-smile-tv-learning-system</td>\n",
       "      <td>Vtech - V.Smile TV Learning System</td>\n",
       "      <td>2008-11-03 04:59:00</td>\n",
       "      <td>18</td>\n",
       "      <td>22</td>\n",
       "      <td>18</td>\n",
       "    </tr>\n",
       "  </tbody>\n",
       "</table>\n",
       "</div>"
      ],
      "text/plain": [
       "       product_id                              item  \\\n",
       "503      10009529  vtech-v-smile-tv-learning-system   \n",
       "13766    10011031  vtech-v-smile-tv-learning-system   \n",
       "\n",
       "                                     desc         endtime_str  \\\n",
       "503      VTech V.Smile TV Learning System 2008-08-23 05:53:00   \n",
       "13766  Vtech - V.Smile TV Learning System 2008-11-03 04:59:00   \n",
       "\n",
       "       product_id_count  item_count  desc_count  \n",
       "503                   4          22           4  \n",
       "13766                18          22          18  "
      ]
     },
     "execution_count": 26,
     "metadata": {},
     "output_type": "execute_result"
    }
   ],
   "source": [
    "itemVsDescDf[itemVsDescDf['item'].values == \"vtech-v-smile-tv-learning-system\"]"
   ]
  },
  {
   "cell_type": "markdown",
   "metadata": {},
   "source": [
    "The following code lines are used to clean these small differences:"
   ]
  },
  {
   "cell_type": "code",
   "execution_count": 27,
   "metadata": {},
   "outputs": [],
   "source": [
    "outcomesDf.loc[outcomesDf['item'].values==\"vtech-v-smile-tv-learning-system\", 'desc'] = \"Vtech - V.Smile TV Learning System\"\n",
    "outcomesDf.loc[outcomesDf['item'].values==\"lego-city-7743-police-command-center\", 'desc'] = \"LEGO City 7743 - Police Command Center\"\n",
    "outcomesDf.loc[outcomesDf['item'].values==\"samsung-t220hd-22-1080p-lcd-hdtv-monitor\", 'desc'] = \"Samsung T220HD 22\\\" 1080p LCD HDTV Monitor\"\n",
    "outcomesDf.loc[outcomesDf['item'].values==\"ghd-professional-mini-styler-mk4-5-8-inc\", 'desc'] = \"GHD Professional Mini Styler MK4 (5/8\\\" Inch)\"\n",
    "outcomesDf.loc[outcomesDf['item'].values==\"frigidaire-atf8000fs-white-front-loading\", 'desc'] = \"Frigidaire ATF8000FS White Front-Loading Washer\"\n",
    "outcomesDf.loc[outcomesDf['item'].values==\"lg-26-5-cu-ft-side-by-side-refrigerator-\", 'desc'] = \"LG 26.5 cu.ft. Side-By-Side Refrigerator (White)\"\n",
    "outcomesDf.loc[outcomesDf['item'].values==\"samsung-bd-p3600-1080p-blu-ray-disc-play\", 'desc'] = \"Samsung BD-P3600 1080p Blu-Ray Disc Player\"\n",
    "outcomesDf.loc[outcomesDf['item'].values==\"garmin-n-vi-205w-4-3-inch-portable-gps-n\", 'desc'] = \"Garmin nüvi 205W 4.3-Inch Portable GPS Navigator\"\n",
    "outcomesDf.loc[outcomesDf['item'].values==\"casio-exilim-ex-z200-10-1-mp-digital-cam\", 'desc'] = \"Casio Exilim EX-Z200 10.1 MP Digital Camera\""
   ]
  },
  {
   "cell_type": "markdown",
   "metadata": {
    "collapsed": true
   },
   "source": [
    "After cleaning the previous product descriptions, the only items left with the same value for the \"item\" column but with a different value for the \"desc\" column are two games available in different gaming devices. Since they are conceptually different products, it has been decided to leave the values for the column \"desc\" as they are."
   ]
  },
  {
   "cell_type": "code",
   "execution_count": 28,
   "metadata": {},
   "outputs": [
    {
     "data": {
      "text/html": [
       "<div>\n",
       "<style>\n",
       "    .dataframe thead tr:only-child th {\n",
       "        text-align: right;\n",
       "    }\n",
       "\n",
       "    .dataframe thead th {\n",
       "        text-align: left;\n",
       "    }\n",
       "\n",
       "    .dataframe tbody tr th {\n",
       "        vertical-align: top;\n",
       "    }\n",
       "</style>\n",
       "<table border=\"1\" class=\"dataframe\">\n",
       "  <thead>\n",
       "    <tr style=\"text-align: right;\">\n",
       "      <th></th>\n",
       "      <th>product_id</th>\n",
       "      <th>item</th>\n",
       "      <th>desc</th>\n",
       "      <th>endtime_str</th>\n",
       "      <th>product_id_count</th>\n",
       "      <th>item_count</th>\n",
       "      <th>desc_count</th>\n",
       "    </tr>\n",
       "  </thead>\n",
       "  <tbody>\n",
       "    <tr>\n",
       "      <th>106950</th>\n",
       "      <td>10013994</td>\n",
       "      <td>mario-sonic-at-the-olympic-winter-games-</td>\n",
       "      <td>Mario &amp; Sonic at the Olympic Winter Games (DS)</td>\n",
       "      <td>2009-10-25 03:33:00</td>\n",
       "      <td>55</td>\n",
       "      <td>110</td>\n",
       "      <td>55</td>\n",
       "    </tr>\n",
       "    <tr>\n",
       "      <th>106964</th>\n",
       "      <td>10013993</td>\n",
       "      <td>mario-sonic-at-the-olympic-winter-games-</td>\n",
       "      <td>Mario &amp; Sonic at the Olympic Winter Games (Wii)</td>\n",
       "      <td>2009-10-25 14:03:00</td>\n",
       "      <td>55</td>\n",
       "      <td>110</td>\n",
       "      <td>55</td>\n",
       "    </tr>\n",
       "    <tr>\n",
       "      <th>115882</th>\n",
       "      <td>10014797</td>\n",
       "      <td>star-wars-the-clone-wars-republic-heroes</td>\n",
       "      <td>Star Wars: The Clone Wars - Republic Heroes (PC)</td>\n",
       "      <td>2009-11-15 18:38:00</td>\n",
       "      <td>24</td>\n",
       "      <td>52</td>\n",
       "      <td>24</td>\n",
       "    </tr>\n",
       "    <tr>\n",
       "      <th>106978</th>\n",
       "      <td>10013992</td>\n",
       "      <td>star-wars-the-clone-wars-republic-heroes</td>\n",
       "      <td>Star Wars: The Clone Wars - Republic Heroes (Wii)</td>\n",
       "      <td>2009-10-24 19:36:00</td>\n",
       "      <td>28</td>\n",
       "      <td>52</td>\n",
       "      <td>28</td>\n",
       "    </tr>\n",
       "  </tbody>\n",
       "</table>\n",
       "</div>"
      ],
      "text/plain": [
       "        product_id                                      item  \\\n",
       "106950    10013994  mario-sonic-at-the-olympic-winter-games-   \n",
       "106964    10013993  mario-sonic-at-the-olympic-winter-games-   \n",
       "115882    10014797  star-wars-the-clone-wars-republic-heroes   \n",
       "106978    10013992  star-wars-the-clone-wars-republic-heroes   \n",
       "\n",
       "                                                     desc         endtime_str  \\\n",
       "106950     Mario & Sonic at the Olympic Winter Games (DS) 2009-10-25 03:33:00   \n",
       "106964    Mario & Sonic at the Olympic Winter Games (Wii) 2009-10-25 14:03:00   \n",
       "115882   Star Wars: The Clone Wars - Republic Heroes (PC) 2009-11-15 18:38:00   \n",
       "106978  Star Wars: The Clone Wars - Republic Heroes (Wii) 2009-10-24 19:36:00   \n",
       "\n",
       "        product_id_count  item_count  desc_count  \n",
       "106950                55         110          55  \n",
       "106964                55         110          55  \n",
       "115882                24          52          24  \n",
       "106978                28          52          28  "
      ]
     },
     "execution_count": 28,
     "metadata": {},
     "output_type": "execute_result"
    }
   ],
   "source": [
    "outcomesDfItemDesc = compareProductIdItemDescColumnValues()\n",
    "itemVsDescDf = outcomesDfItemDesc[(outcomesDfItemDesc['item_count']!=outcomesDfItemDesc['desc_count'])].drop_duplicates(subset=['item','desc'])\n",
    "itemVsDescDf = itemVsDescDf.sort_values(by='desc')\n",
    "itemVsDescDf"
   ]
  },
  {
   "cell_type": "markdown",
   "metadata": {},
   "source": [
    "As it has been mentioned in the dataset file description, there are special types of auctions:\n",
    "- Click-only auctions: Swoopo auctions which do not permit the use of automated bids by a BidButler.\n",
    "- Beginner auctions: auctions restricted to users who have not yet won any auctions.\n",
    "- Fixed-price auctions: auctions in which the selling price is fixed from the beginning.\n",
    "- End-price auctions: auctions in which the final selling price of the product is zero.\n",
    "\n",
    "The type of auction in the dataset is indicated with flags with values 0 and 1:"
   ]
  },
  {
   "cell_type": "code",
   "execution_count": 29,
   "metadata": {},
   "outputs": [
    {
     "data": {
      "text/html": [
       "<div>\n",
       "<style>\n",
       "    .dataframe thead tr:only-child th {\n",
       "        text-align: right;\n",
       "    }\n",
       "\n",
       "    .dataframe thead th {\n",
       "        text-align: left;\n",
       "    }\n",
       "\n",
       "    .dataframe tbody tr th {\n",
       "        vertical-align: top;\n",
       "    }\n",
       "</style>\n",
       "<table border=\"1\" class=\"dataframe\">\n",
       "  <thead>\n",
       "    <tr style=\"text-align: right;\">\n",
       "      <th></th>\n",
       "      <th>auction_id</th>\n",
       "      <th>bidincrement</th>\n",
       "      <th>bidfee</th>\n",
       "      <th>flg_click_only</th>\n",
       "      <th>flg_beginnerauction</th>\n",
       "      <th>flg_fixedprice</th>\n",
       "      <th>flg_endprice</th>\n",
       "    </tr>\n",
       "  </thead>\n",
       "  <tbody>\n",
       "    <tr>\n",
       "      <th>0</th>\n",
       "      <td>86827</td>\n",
       "      <td>0.15</td>\n",
       "      <td>0.75</td>\n",
       "      <td>0</td>\n",
       "      <td>0</td>\n",
       "      <td>0</td>\n",
       "      <td>0</td>\n",
       "    </tr>\n",
       "    <tr>\n",
       "      <th>1</th>\n",
       "      <td>87964</td>\n",
       "      <td>0.15</td>\n",
       "      <td>0.75</td>\n",
       "      <td>0</td>\n",
       "      <td>0</td>\n",
       "      <td>0</td>\n",
       "      <td>0</td>\n",
       "    </tr>\n",
       "    <tr>\n",
       "      <th>2</th>\n",
       "      <td>87965</td>\n",
       "      <td>0.15</td>\n",
       "      <td>0.75</td>\n",
       "      <td>0</td>\n",
       "      <td>1</td>\n",
       "      <td>0</td>\n",
       "      <td>0</td>\n",
       "    </tr>\n",
       "    <tr>\n",
       "      <th>3</th>\n",
       "      <td>88638</td>\n",
       "      <td>0.15</td>\n",
       "      <td>0.75</td>\n",
       "      <td>0</td>\n",
       "      <td>0</td>\n",
       "      <td>0</td>\n",
       "      <td>0</td>\n",
       "    </tr>\n",
       "    <tr>\n",
       "      <th>4</th>\n",
       "      <td>88639</td>\n",
       "      <td>0.15</td>\n",
       "      <td>0.75</td>\n",
       "      <td>0</td>\n",
       "      <td>0</td>\n",
       "      <td>0</td>\n",
       "      <td>0</td>\n",
       "    </tr>\n",
       "  </tbody>\n",
       "</table>\n",
       "</div>"
      ],
      "text/plain": [
       "   auction_id  bidincrement  bidfee  flg_click_only  flg_beginnerauction  \\\n",
       "0       86827          0.15    0.75               0                    0   \n",
       "1       87964          0.15    0.75               0                    0   \n",
       "2       87965          0.15    0.75               0                    1   \n",
       "3       88638          0.15    0.75               0                    0   \n",
       "4       88639          0.15    0.75               0                    0   \n",
       "\n",
       "   flg_fixedprice  flg_endprice  \n",
       "0               0             0  \n",
       "1               0             0  \n",
       "2               0             0  \n",
       "3               0             0  \n",
       "4               0             0  "
      ]
     },
     "execution_count": 29,
     "metadata": {},
     "output_type": "execute_result"
    }
   ],
   "source": [
    "outcomesDf[['auction_id','bidincrement','bidfee','flg_click_only','flg_beginnerauction','flg_fixedprice','flg_endprice']].head()"
   ]
  },
  {
   "cell_type": "markdown",
   "metadata": {},
   "source": [
    "Auctions can have a combination of different types at the same time. The following table represents the number of auctions for each different combination of types:"
   ]
  },
  {
   "cell_type": "code",
   "execution_count": 30,
   "metadata": {
    "scrolled": true
   },
   "outputs": [
    {
     "data": {
      "text/plain": [
       "flg_click_only  flg_beginnerauction  flg_fixedprice  flg_endprice\n",
       "0               0                    0               0               70020\n",
       "                                                     1                3542\n",
       "                                     1               0                1968\n",
       "                1                    0               0               12891\n",
       "                                                     1                 168\n",
       "                                     1               0                  40\n",
       "1               0                    0               0               25335\n",
       "                                                     1                 814\n",
       "                                     1               0                 155\n",
       "                1                    0               0                6413\n",
       "                                                     1                  32\n",
       "                                     1               0                   5\n",
       "Name: auction_id, dtype: int64"
      ]
     },
     "execution_count": 30,
     "metadata": {},
     "output_type": "execute_result"
    }
   ],
   "source": [
    "countOfTypesOfAuctions = outcomesDf.groupby(['flg_click_only','flg_beginnerauction','flg_fixedprice','flg_endprice'])['auction_id'].count()\n",
    "countOfTypesOfAuctions"
   ]
  },
  {
   "cell_type": "markdown",
   "metadata": {},
   "source": [
    "Now, we count separately the number of click-only auctions, beginner auctions, fixed-price auctions, end-price auctions, and 'other' auctions (which are the ones that are not included in the other four categories mentioned before)."
   ]
  },
  {
   "cell_type": "code",
   "execution_count": 31,
   "metadata": {},
   "outputs": [
    {
     "name": "stdout",
     "output_type": "stream",
     "text": [
      "Total number of auctions = 121383\n",
      "Total number of click-only auctions = 32754\n",
      "Total number of beginner auctions = 19549\n",
      "Total number of fixed-price auctions = 2168\n",
      "Total number of end-price auctions = 4556\n",
      "Total number of 'other' auctions = 62356\n"
     ]
    }
   ],
   "source": [
    "isClickOnlyAuction = outcomesDf['flg_click_only'].values == 1\n",
    "isBeginnerAuction = outcomesDf['flg_beginnerauction'].values == 1\n",
    "isFixedPriceAuction = outcomesDf['flg_fixedprice'].values == 1\n",
    "isEndPriceAuction = outcomesDf['flg_endprice'].values == 1\n",
    "\n",
    "totalNumberOfAuctions = outcomesDf.shape[0]\n",
    "totalNumberOfClickOnlyAuctions = outcomesDf[isClickOnlyAuction].shape[0]\n",
    "totalNumberOfBeginnerAuctions = outcomesDf[isBeginnerAuction].shape[0]\n",
    "totalNumberOfFixedPriceAuctions = outcomesDf[isFixedPriceAuction].shape[0]\n",
    "totalNumberOfEndPriceAuctions = outcomesDf[isEndPriceAuction].shape[0]\n",
    "totalNumberOfNormalAuctions = totalNumberOfAuctions - (totalNumberOfClickOnlyAuctions+totalNumberOfBeginnerAuctions+totalNumberOfFixedPriceAuctions+totalNumberOfEndPriceAuctions)\n",
    "\n",
    "print('Total number of auctions = %d'%totalNumberOfAuctions)\n",
    "print('Total number of click-only auctions = %d'%totalNumberOfClickOnlyAuctions)\n",
    "print('Total number of beginner auctions = %d'%totalNumberOfBeginnerAuctions)\n",
    "print('Total number of fixed-price auctions = %d'%totalNumberOfFixedPriceAuctions)\n",
    "print('Total number of end-price auctions = %d'%totalNumberOfEndPriceAuctions)\n",
    "print('Total number of \\'other\\' auctions = %d'%totalNumberOfNormalAuctions)"
   ]
  },
  {
   "cell_type": "markdown",
   "metadata": {},
   "source": [
    "As it has been mentioned before, the column 'swoopo_profit' indicates the profit that Swoopo obtains over the retail price of the item. Sometimes, Swoopo obtaines a negative profit (i.e., Swoopo sells an item below its retail price).\n",
    "\n",
    "This is the case for 47.53% of the auctions."
   ]
  },
  {
   "cell_type": "code",
   "execution_count": 32,
   "metadata": {},
   "outputs": [
    {
     "data": {
      "text/plain": [
       "47.530543815855594"
      ]
     },
     "execution_count": 32,
     "metadata": {},
     "output_type": "execute_result"
    }
   ],
   "source": [
    "totalNumberOfNegativeProfitAuctions = outcomesDf[outcomesDf['swoopo_profit'] < 0].shape[0]\n",
    "(totalNumberOfNegativeProfitAuctions/totalNumberOfAuctions)*100"
   ]
  },
  {
   "cell_type": "markdown",
   "metadata": {
    "collapsed": true
   },
   "source": [
    "Nevertheless, the average profit (in dollars) obtained by Swoopo over the retail price of the items is positive:"
   ]
  },
  {
   "cell_type": "code",
   "execution_count": 33,
   "metadata": {},
   "outputs": [
    {
     "data": {
      "text/plain": [
       "197.35105563510265"
      ]
     },
     "execution_count": 33,
     "metadata": {},
     "output_type": "execute_result"
    }
   ],
   "source": [
    "averageProfitPerItem = outcomesDf['swoopo_profit'].mean()\n",
    "averageProfitPerItem"
   ]
  },
  {
   "cell_type": "markdown",
   "metadata": {},
   "source": [
    "Naturally, users are motivated to place bids because if they win the auction they will most likely buy the item for a price that is much lower than its retail price. In average, this is the benefit in dollars that the winner obtains over the retail price of the item:"
   ]
  },
  {
   "cell_type": "code",
   "execution_count": 34,
   "metadata": {},
   "outputs": [
    {
     "data": {
      "text/plain": [
       "161.6076518128433"
      ]
     },
     "execution_count": 34,
     "metadata": {},
     "output_type": "execute_result"
    }
   ],
   "source": [
    "outcomesDf['winner_benefit'].mean()"
   ]
  },
  {
   "cell_type": "markdown",
   "metadata": {},
   "source": [
    "The average number of auctions per day is approximately 253:"
   ]
  },
  {
   "cell_type": "code",
   "execution_count": 35,
   "metadata": {},
   "outputs": [
    {
     "data": {
      "text/plain": [
       "252.88125"
      ]
     },
     "execution_count": 35,
     "metadata": {},
     "output_type": "execute_result"
    }
   ],
   "source": [
    "f = lambda x: str(x.day) + '-' + str(x.month) + '-' + str(x.year)\n",
    "auctionsPerDay = outcomesDf.groupby(outcomesDf['endtime_str'].apply(f))['auction_id'].count()\n",
    "averageNumberOfDailyAuctions = auctionsPerDay.mean()\n",
    "averageNumberOfDailyAuctions"
   ]
  },
  {
   "cell_type": "markdown",
   "metadata": {
    "collapsed": true
   },
   "source": [
    "That means that, in average, Swoopo obtains a daily profit (in dollars) over the retail price of the sold items of:"
   ]
  },
  {
   "cell_type": "code",
   "execution_count": 36,
   "metadata": {},
   "outputs": [
    {
     "data": {
      "text/plain": [
       "49906.3816378243"
      ]
     },
     "execution_count": 36,
     "metadata": {},
     "output_type": "execute_result"
    }
   ],
   "source": [
    "averageProfitPerItem*averageNumberOfDailyAuctions"
   ]
  },
  {
   "cell_type": "markdown",
   "metadata": {},
   "source": [
    "Of course, Swoopo incurs in different costs that are not considered here, such as shipping costs, servers cost, electricity cost, etc."
   ]
  },
  {
   "cell_type": "markdown",
   "metadata": {},
   "source": [
    "The most profitable auctions are, in descending order: fixed-price auctions, 'other' auctions, end-price auctions, click-only auctions and beginner auctions:"
   ]
  },
  {
   "cell_type": "code",
   "execution_count": 37,
   "metadata": {},
   "outputs": [
    {
     "name": "stdout",
     "output_type": "stream",
     "text": [
      "Average profit of click-only auctions = 53.35$\n",
      "Average profit of beginner auctions = 23.70$\n",
      "Average profit of fixed-price auctions = 609.20$\n",
      "Average profit of end-price auctions = 224.10$\n",
      "Average profit of 'other' auctions = 284.23$\n"
     ]
    }
   ],
   "source": [
    "averageProfitOfClickOnlyAuctions = outcomesDf[isClickOnlyAuction]['swoopo_profit'].mean()\n",
    "averageProfitOfBeginnerAuctions = outcomesDf[isBeginnerAuction]['swoopo_profit'].mean()\n",
    "averageProfitOfFixedPriceAuctions = outcomesDf[isFixedPriceAuction]['swoopo_profit'].mean()\n",
    "averageProfitOfEndPriceAuctions = outcomesDf[isEndPriceAuction]['swoopo_profit'].mean()\n",
    "\n",
    "isNotClickOnlyAuction = outcomesDf['flg_click_only'].values == 0\n",
    "isNotBeginnerAuction = outcomesDf['flg_beginnerauction'].values == 0\n",
    "isNotFixedPriceAuction = outcomesDf['flg_fixedprice'].values == 0\n",
    "isNotEndPriceAuction = outcomesDf['flg_endprice'].values == 0\n",
    "\n",
    "averageProfitOfNormalAuctions = outcomesDf[isNotClickOnlyAuction & isNotBeginnerAuction & isNotFixedPriceAuction & isNotEndPriceAuction]['swoopo_profit'].mean()\n",
    "\n",
    "print(\"Average profit of click-only auctions = %0.2f\"%averageProfitOfClickOnlyAuctions + \"$\")\n",
    "print(\"Average profit of beginner auctions = %0.2f\"%averageProfitOfBeginnerAuctions + \"$\")\n",
    "print(\"Average profit of fixed-price auctions = %0.2f\"%averageProfitOfFixedPriceAuctions + \"$\")\n",
    "print(\"Average profit of end-price auctions = %0.2f\"%averageProfitOfEndPriceAuctions + \"$\")\n",
    "print(\"Average profit of \\'other\\' auctions = %0.2f\"%averageProfitOfNormalAuctions + \"$\")"
   ]
  },
  {
   "cell_type": "markdown",
   "metadata": {},
   "source": [
    "As it can be seen in the image below, the majority of the items that are sold are electronics."
   ]
  },
  {
   "cell_type": "code",
   "execution_count": 38,
   "metadata": {
    "scrolled": true
   },
   "outputs": [
    {
     "name": "stdout",
     "output_type": "stream",
     "text": [
      "<wordcloud.wordcloud.WordCloud object at 0x7f4c234cd908>\n"
     ]
    },
    {
     "data": {
      "text/plain": [
       "<matplotlib.figure.Figure at 0x7f4c234e3fd0>"
      ]
     },
     "metadata": {},
     "output_type": "display_data"
    },
    {
     "data": {
      "image/png": "[encoded data removed]",
      "text/plain": [
       "<matplotlib.figure.Figure at 0x7f4c234c8c50>"
      ]
     },
     "metadata": {},
     "output_type": "display_data"
    }
   ],
   "source": [
    "stopwords = set(STOPWORDS)\n",
    "\n",
    "wordcloud = WordCloud(\n",
    "                          background_color='white',\n",
    "                          stopwords=stopwords,\n",
    "                          max_words=200,\n",
    "                          max_font_size=40, \n",
    "                          random_state=42\n",
    "                         ).generate(str(outcomesDf['desc']))\n",
    "\n",
    "print(wordcloud)\n",
    "fig = plt.figure(1)\n",
    "plt.figure(figsize=(8,7))\n",
    "plt.imshow(wordcloud, interpolation='bilinear')\n",
    "plt.axis('off')\n",
    "plt.show()"
   ]
  },
  {
   "cell_type": "markdown",
   "metadata": {},
   "source": [
    "A lot of the products that are auctioned contain the words \"voucher\" or \"bids\" in their product description. That is because certain items come along (or directly are in some cases) bids or cash that can be later used by the winnner in other Swoopo auctions."
   ]
  },
  {
   "cell_type": "code",
   "execution_count": 39,
   "metadata": {},
   "outputs": [
    {
     "name": "stdout",
     "output_type": "stream",
     "text": [
      "['50 FreeBids Voucher' '300 FreeBids Voucher' '50 Bids Voucher'\n",
      " '300 Bids Voucher' '20 Bids Voucher'\n",
      " 'Nintendo DSi Console (Black) + 50 Bids Voucher'\n",
      " 'Nintendo DSi Console (Blue) + 50 Bids Voucher' '75 Bids Voucher'\n",
      " 'Canon EOS Rebel T1i with 18-55mm lens + 150 Bids'\n",
      " 'Sony PlayStation 3 Slim 120GB + 50 Bids'\n",
      " 'Nikon D90 with 18-105mm Kit + 150 Bids'\n",
      " 'Apple MacBook Pro 13.3\" + 200 Bids' 'Nokia N97 + 150 Bids'\n",
      " 'Sony PS3 160GB with Uncharted + 50 Bids'\n",
      " 'Canon EOS Rebel T1i + 18-55mm + 150 FreeBids'\n",
      " 'Nikon D90 with 18-105mm Kit + 150 FreeBids'\n",
      " 'Sony PlayStation 3 Slim 250GB + 50 Bids'\n",
      " 'Sony PlayStation 3 Slim 250GB + 50 FreeBids'\n",
      " 'Apple MacBook Pro 13.3\" + 200 FreeBids'\n",
      " 'Apple iPhone 3GS 32GB Black+ 150 Bids'\n",
      " 'Apple iPhone 3GS 32GB Black + 150 FreeBids'\n",
      " 'Sony PS3 160GB with Uncharted + 50 FreeBids'\n",
      " 'Apple iPhone 3GS 32GB Black + 200 FreeBids']\n"
     ]
    }
   ],
   "source": [
    "print(outcomesDf['desc'][outcomesDf['desc'].str.contains(\"Bids\")].unique())"
   ]
  },
  {
   "cell_type": "code",
   "execution_count": 40,
   "metadata": {
    "scrolled": true
   },
   "outputs": [
    {
     "name": "stdout",
     "output_type": "stream",
     "text": [
      "['50 FreeBids Voucher' '300 FreeBids Voucher' '$15 Florist Voucher'\n",
      " '$30 Florist Voucher' '50 Bids Voucher' '300 Bids Voucher'\n",
      " '20 Bids Voucher' 'Nintendo DSi Console (Black) + 50 Bids Voucher'\n",
      " 'Nintendo DSi Console (Blue) + 50 Bids Voucher' '75 Bids Voucher']\n"
     ]
    }
   ],
   "source": [
    "print(outcomesDf['desc'][outcomesDf['desc'].str.contains(\"Voucher\")].unique())"
   ]
  },
  {
   "cell_type": "markdown",
   "metadata": {},
   "source": [
    "The top 10 winners and the number of auctions that each one won during the time period of the dataset are:"
   ]
  },
  {
   "cell_type": "code",
   "execution_count": 41,
   "metadata": {},
   "outputs": [
    {
     "data": {
      "text/plain": [
       "winner\n",
       "HH0812         131\n",
       "Oglalasioux    117\n",
       "Toertchen      116\n",
       "Koboldwicht    111\n",
       "Schlumpf01     111\n",
       "Kavvamartin    110\n",
       "Thomsen321     109\n",
       "Brusher        108\n",
       "Aluf412        108\n",
       "Trixi101       106\n",
       "Name: winner, dtype: int64"
      ]
     },
     "execution_count": 41,
     "metadata": {},
     "output_type": "execute_result"
    }
   ],
   "source": [
    "winners = outcomesDf.groupby(outcomesDf['winner'])['winner'].count()\n",
    "winners.sort_values(ascending=False).head(10)"
   ]
  },
  {
   "cell_type": "markdown",
   "metadata": {},
   "source": [
    "As it has previosly been mentioned, the dataset contains auctions that ended within 2008-08-20 and 2009-12-12"
   ]
  },
  {
   "cell_type": "code",
   "execution_count": 42,
   "metadata": {},
   "outputs": [
    {
     "name": "stdout",
     "output_type": "stream",
     "text": [
      "2008-08-20 14:04:00\n",
      "2009-12-12 15:10:00\n"
     ]
    }
   ],
   "source": [
    "print(min(outcomesDf['endtime_str']))\n",
    "print(max(outcomesDf['endtime_str']))"
   ]
  },
  {
   "cell_type": "markdown",
   "metadata": {},
   "source": [
    "In the next figure, the number of bids placed per month is represented. The reason why the number of bids placed in August 2008 and December 2009 is low is because the dataset does not contain data for all days of these months.\n",
    "In general, it can be observed that November, December and January seem to be the months in which more bids are placed."
   ]
  },
  {
   "cell_type": "code",
   "execution_count": 43,
   "metadata": {},
   "outputs": [
    {
     "data": {
      "image/png": "[encoded data removed]",
      "text/plain": [
       "<matplotlib.figure.Figure at 0x7f4c2248bb38>"
      ]
     },
     "metadata": {},
     "output_type": "display_data"
    }
   ],
   "source": [
    "f = lambda x: str(x.year) + '-' + '{0:02d}'.format(x.month)\n",
    "\n",
    "grupo = outcomesDf.groupby(outcomesDf['endtime_str'].apply(f))['bids_placed'].sum()\n",
    "\n",
    "X=grupo.values\n",
    "Y=grupo.index\n",
    "\n",
    "plt.figure(figsize=(17,5))\n",
    "plt.bar(range(len(X)), X)\n",
    "plt.xticks(np.arange(len(X)), Y,rotation='vertical')\n",
    "plt.xlabel('Month')\n",
    "plt.ylabel('Number of placed bids')\n",
    "plt.title('Number of bids placed per month')\n",
    "plt.show()"
   ]
  },
  {
   "cell_type": "markdown",
   "metadata": {},
   "source": [
    "Considering the months for which we have the full data both in 2008 and 2009 (September, October and November), it can be seen that, in average, the number of bids placed has increased approximately a 25% in 2009 compared to 2008. These indicates that Swoopo gained popularity over the course of that year."
   ]
  },
  {
   "cell_type": "code",
   "execution_count": 44,
   "metadata": {},
   "outputs": [
    {
     "name": "stdout",
     "output_type": "stream",
     "text": [
      "24.7388170363\n"
     ]
    }
   ],
   "source": [
    "september2008Index = 1\n",
    "october2008Index = 2\n",
    "november2008Index = 3\n",
    "\n",
    "september20092008NumberOfBidsDiff = (X[september2008Index+12] - X[september2008Index])/X[september2008Index]\n",
    "october20092008NumberOfBidsDiff = (X[october2008Index+12] - X[october2008Index])/X[october2008Index]\n",
    "november20092008NumberOfBidsDiff = (X[november2008Index+12] - X[november2008Index])/X[november2008Index]\n",
    "meanYearlyIncreaseNumberOfBids = np.mean([september20092008NumberOfBidsDiff,october20092008NumberOfBidsDiff,november20092008NumberOfBidsDiff])\n",
    "print(meanYearlyIncreaseNumberOfBids*100)"
   ]
  },
  {
   "cell_type": "markdown",
   "metadata": {},
   "source": [
    "Nevertheless, if the same calculation is performed for the profit obtained by Swoopo over the retail price of the items instead of the number of bids placed..."
   ]
  },
  {
   "cell_type": "code",
   "execution_count": 45,
   "metadata": {},
   "outputs": [
    {
     "data": {
      "image/png": "[encoded data removed]",
      "text/plain": [
       "<matplotlib.figure.Figure at 0x7f4c23512b00>"
      ]
     },
     "metadata": {},
     "output_type": "display_data"
    }
   ],
   "source": [
    "f = lambda x: str(x.year) + '-' + '{0:02d}'.format(x.month)\n",
    "\n",
    "grupo = outcomesDf.groupby(outcomesDf['endtime_str'].apply(f))['swoopo_profit'].sum()\n",
    "\n",
    "X=grupo.values\n",
    "Y=grupo.index\n",
    "\n",
    "plt.figure(figsize=(17,5))\n",
    "plt.bar(range(len(X)), X)\n",
    "plt.xticks(np.arange(len(X)), Y,rotation='vertical')\n",
    "plt.xlabel('Month')\n",
    "plt.ylabel('Profit obtained by Swoopo (dollars)')\n",
    "plt.title('Profit obtained by Swoopo per month')\n",
    "plt.show()\n",
    "\n",
    "september2008Index = 1\n",
    "october2008Index = 2\n",
    "november2008Index = 3\n",
    "\n",
    "september20092008SwoopoProfitDiff = (X[september2008Index+12] - X[september2008Index])/X[september2008Index]\n",
    "october20092008SwoopoProfitDiff = (X[october2008Index+12] - X[october2008Index])/X[october2008Index]\n",
    "november20092008SwoopoProfitDiff = (X[november2008Index+12] - X[november2008Index])/X[november2008Index]\n",
    "meanYearlyIncreaseSwoopoProfit = np.mean([september20092008SwoopoProfitDiff,october20092008SwoopoProfitDiff,november20092008SwoopoProfitDiff])"
   ]
  },
  {
   "cell_type": "markdown",
   "metadata": {},
   "source": [
    "... it can be seen that, in average, the profit obtained has decreased approximately a 14.5% in 2009 compared to 2008."
   ]
  },
  {
   "cell_type": "code",
   "execution_count": 46,
   "metadata": {},
   "outputs": [
    {
     "name": "stdout",
     "output_type": "stream",
     "text": [
      "-14.4720849398\n"
     ]
    }
   ],
   "source": [
    "print(meanYearlyIncreaseSwoopoProfit*100)"
   ]
  },
  {
   "cell_type": "markdown",
   "metadata": {},
   "source": [
    "The following figure represents the sum of the retail price of the items auctioned monthly as well as the monthly sum of Swoopo's selling prices (calculated as the profit obtained over the retail price of the items plus their retail price)."
   ]
  },
  {
   "cell_type": "code",
   "execution_count": 47,
   "metadata": {},
   "outputs": [
    {
     "data": {
      "image/png": "[encoded data removed]",
      "text/plain": [
       "<matplotlib.figure.Figure at 0x7f4bf7d72b38>"
      ]
     },
     "metadata": {},
     "output_type": "display_data"
    }
   ],
   "source": [
    "f = lambda x: str(x.year) + '-' + '{0:02d}'.format(x.month)\n",
    "\n",
    "sumRetailGroup = outcomesDf.groupby(outcomesDf['endtime_str'].apply(f))['retail'].sum()\n",
    "swoopoProfitGroup = outcomesDf.groupby(outcomesDf['endtime_str'].apply(f))['swoopo_profit'].sum()\n",
    "\n",
    "X=sumRetailGroup.index\n",
    "Y=sumRetailGroup.values\n",
    "Y2 = swoopoProfitGroup.values\n",
    "bar_width = 0.20\n",
    "\n",
    "plt.figure(figsize=(17,5))\n",
    "p1=plt.bar(np.arange(len(Y)),Y, bar_width,color='b')\n",
    "p2=plt.bar(np.arange(len(Y2))+bar_width,Y2+Y,bar_width, color='g')\n",
    "plt.xticks(np.arange(len(X)) + bar_width, X,rotation='vertical')\n",
    "plt.legend((p1,p2),('Sum of retail price', 'Sum of Swoopo\\'s sales'))\n",
    "plt.xlabel('Month')\n",
    "plt.ylabel('Dollar amount')\n",
    "plt.show()"
   ]
  },
  {
   "cell_type": "markdown",
   "metadata": {},
   "source": [
    "The protit ratio (calculated as the revenue divided by the retail price) is greater than 1.00 every month."
   ]
  },
  {
   "cell_type": "code",
   "execution_count": 48,
   "metadata": {
    "scrolled": true
   },
   "outputs": [
    {
     "data": {
      "text/plain": [
       "array([ 1.5581843 ,  1.80897962,  1.80403348,  1.81773936,  1.89059953,\n",
       "        1.91361918,  1.94733017,  1.87027243,  2.02653824,  1.73699862,\n",
       "        1.66961902,  1.68107523,  1.63396903,  1.64282709,  1.50561787,\n",
       "        1.72848257,  1.81697201])"
      ]
     },
     "execution_count": 48,
     "metadata": {},
     "output_type": "execute_result"
    }
   ],
   "source": [
    "profitRatio = (Y2+Y)/Y\n",
    "profitRatio"
   ]
  },
  {
   "cell_type": "markdown",
   "metadata": {},
   "source": [
    "The following figure represents the monthly profit ratio. The green line is the average profit ratio:"
   ]
  },
  {
   "cell_type": "code",
   "execution_count": 49,
   "metadata": {},
   "outputs": [
    {
     "data": {
      "image/png": "[encoded data removed]",
      "text/plain": [
       "<matplotlib.figure.Figure at 0x7f4c234f5cc0>"
      ]
     },
     "metadata": {},
     "output_type": "display_data"
    }
   ],
   "source": [
    "plt.figure(figsize=(17,5))\n",
    "plt.bar(range(len(profitRatio)), profitRatio)\n",
    "plt.xticks(np.arange(len(profitRatio)), X,rotation='vertical')\n",
    "mean_line = plt.plot(np.arange(len(X)),[np.mean(profitRatio)]*len(X), label='Mean', linestyle='--',color='g')\n",
    "plt.xlabel('Month')\n",
    "plt.ylabel('Profit ratio')\n",
    "plt.title('Monthly profit ratio')\n",
    "plt.show()"
   ]
  },
  {
   "cell_type": "markdown",
   "metadata": {},
   "source": [
    "On average, the profit ratio is 76.8% (where 0% would mean no profit obtained at all):"
   ]
  },
  {
   "cell_type": "code",
   "execution_count": 50,
   "metadata": {},
   "outputs": [
    {
     "data": {
      "text/plain": [
       "1.767815161396"
      ]
     },
     "execution_count": 50,
     "metadata": {},
     "output_type": "execute_result"
    }
   ],
   "source": [
    "np.mean(profitRatio)"
   ]
  },
  {
   "cell_type": "markdown",
   "metadata": {},
   "source": [
    "The time in which the profit is lower corresponds to the period of time between June 2009 and October 2009 (as it can also be seen in the figure above):"
   ]
  },
  {
   "cell_type": "code",
   "execution_count": 51,
   "metadata": {},
   "outputs": [
    {
     "name": "stdout",
     "output_type": "stream",
     "text": [
      "2009-10 : 1.50561787421\n",
      "2008-08 : 1.55818429741\n",
      "2009-08 : 1.63396903062\n",
      "2009-09 : 1.64282709419\n",
      "2009-06 : 1.66961902034\n",
      "2009-07 : 1.68107523072\n",
      "2009-11 : 1.72848257013\n",
      "2009-05 : 1.73699862311\n",
      "2008-10 : 1.80403347881\n",
      "2008-09 : 1.80897962382\n"
     ]
    }
   ],
   "source": [
    "profitRatio,X= zip(*sorted(zip(profitRatio,X)))\n",
    "for i in range(0,10):\n",
    "    print (str(X[i])+ \" : \"+str(profitRatio[i]))"
   ]
  },
  {
   "cell_type": "markdown",
   "metadata": {},
   "source": [
    "The following figure also represents the sum of the retail price of the items as well as the revenue obtained by Swoopo, but with weekly granularity instead of monthly granularity:"
   ]
  },
  {
   "cell_type": "code",
   "execution_count": 52,
   "metadata": {},
   "outputs": [
    {
     "data": {
      "image/png": "[encoded data removed]",
      "text/plain": [
       "<matplotlib.figure.Figure at 0x7f4bf7d72a20>"
      ]
     },
     "metadata": {},
     "output_type": "display_data"
    }
   ],
   "source": [
    "def timeStampToYearWeekFormat(timestamp):\n",
    "    \n",
    "    #for index_val, series_val in timeStampSeries.iteritems():\n",
    "    yearWeekFormatString = str(timestamp.year) + '-' + '{0:02d}'.format(timestamp.weekofyear)\n",
    "    if yearWeekFormatString == '2008-01':\n",
    "        #Convert 2008-01 to 2009-01, because some days of the last week of \n",
    "        #a year are considered to be in the first week of the next year, \n",
    "        #and the data timestamps range from '2008-08-20 14:04:00' to '2009-12-12 15:10:00'\n",
    "        #The ISO 8601 definition for week 01 is the week with the year's first Thursday in it.\n",
    "        yearWeekFormatString = '2009-01'\n",
    "    return yearWeekFormatString\n",
    "    \n",
    "sumRetailGroup = outcomesDf.groupby(outcomesDf['endtime_str'].apply(timeStampToYearWeekFormat))['retail'].sum()\n",
    "swoopoProfitGroup = outcomesDf.groupby(outcomesDf['endtime_str'].apply(timeStampToYearWeekFormat))['swoopo_profit'].sum()\n",
    "\n",
    "X=sumRetailGroup.index\n",
    "Y=sumRetailGroup.values\n",
    "Y2 = swoopoProfitGroup.values\n",
    "bar_width = 0.20\n",
    "\n",
    "plt.figure(figsize=(17,5))\n",
    "p1=plt.bar(np.arange(len(Y)),Y, bar_width,color='b')\n",
    "p2=plt.bar(np.arange(len(Y2))+bar_width,Y2+Y,bar_width, color='g')\n",
    "plt.xticks(np.arange(len(X)) + bar_width, X,rotation='vertical')\n",
    "plt.legend((p1,p2),('Sum of retail price', 'Sum of Swoopo\\'s sales'))\n",
    "plt.xlabel('Week')\n",
    "plt.ylabel('Dollar amount')\n",
    "plt.show()"
   ]
  },
  {
   "cell_type": "markdown",
   "metadata": {},
   "source": [
    "The profit ratio has also been calculated weekly, and it can be used to understand the periods that are best for Swoopo's business in terms of profit.\n",
    "\n",
    "During the last two weeks of a year (2008/51 - 2008/52) plus the three first weeks of the next year (2009/01 - 2008/03) the profit obtained is higher than average, with its peak in the first week of the new year. Week 2009/14 (corresponding to the period from March 30, 2009 to April 5, 2009) is the week in which the highest profit is obtained with a very noticiable difference. The period between weeks 2009/29 - 2009/45 (July 13, 2009 - November 8, 2009) the profit obtained is lower than average."
   ]
  },
  {
   "cell_type": "code",
   "execution_count": 53,
   "metadata": {},
   "outputs": [
    {
     "data": {
      "image/png": "[encoded data removed]",
      "text/plain": [
       "<matplotlib.figure.Figure at 0x7f4c220275f8>"
      ]
     },
     "metadata": {},
     "output_type": "display_data"
    }
   ],
   "source": [
    "profitRatio = (Y2+Y)/Y\n",
    "plt.figure(figsize=(17,5))\n",
    "plt.bar(range(len(profitRatio)), profitRatio)\n",
    "plt.xticks(np.arange(len(profitRatio)), X,rotation='vertical')\n",
    "mean_line = plt.plot(np.arange(len(X)),[np.mean(profitRatio)]*len(X), label='Mean', linestyle='--',color='g')\n",
    "plt.xlabel('Week')\n",
    "plt.ylabel('Profit ratio')\n",
    "plt.title('Weekly profit ratio')\n",
    "plt.show()"
   ]
  },
  {
   "cell_type": "markdown",
   "metadata": {},
   "source": [
    "Finally, the daily profit ratio has been calculated to observe how holidays influence Swoopo's business in terms of profit. The z-score of the profit ratio has been calculated to compare the number of standard deviations that the profit ratio is away from its mean value each day."
   ]
  },
  {
   "cell_type": "code",
   "execution_count": 54,
   "metadata": {},
   "outputs": [],
   "source": [
    "f = lambda x: str(x)[:10]\n",
    "\n",
    "sumRetailGroup = outcomesDf.groupby(outcomesDf['endtime_str'].apply(f))['retail'].sum()\n",
    "swoopoProfitGroup = outcomesDf.groupby(outcomesDf['endtime_str'].apply(f))['swoopo_profit'].sum()\n",
    "\n",
    "X=sumRetailGroup.index\n",
    "Y=sumRetailGroup.values\n",
    "Y2 = swoopoProfitGroup.values\n",
    "\n",
    "profitRatio = (Y2+Y)/Y\n",
    "profitRatioZScore = (profitRatio - np.mean(profitRatio))/(np.std(profitRatio))\n",
    "orderedX = X\n",
    "\n",
    "profitRatioZScore,orderedX= zip(*sorted(zip(profitRatioZScore,orderedX),reverse=True))"
   ]
  },
  {
   "cell_type": "markdown",
   "metadata": {},
   "source": [
    "Firstly, the highest 30 z-score values for the profit ratio within the dates contained in the dataset are shown. Several days of the week before 2009's New Year's Eve have high z-score values.  Also, the days between March 28, 2009 and April 6, 2009 have very high z-score values."
   ]
  },
  {
   "cell_type": "code",
   "execution_count": 55,
   "metadata": {},
   "outputs": [
    {
     "data": {
      "image/png": "[encoded data removed]",
      "text/plain": [
       "<matplotlib.figure.Figure at 0x7f4c2223e2b0>"
      ]
     },
     "metadata": {},
     "output_type": "display_data"
    }
   ],
   "source": [
    "profitRatioZScoreTop30 = profitRatioZScore[0:30]\n",
    "orderedXTop30 = orderedX[0:30]\n",
    "\n",
    "orderedXTop30,profitRatioZScoreTop30= zip(*sorted(zip(orderedXTop30,profitRatioZScoreTop30)))\n",
    "\n",
    "plt.figure(figsize=(17,5))\n",
    "plt.bar(range(len(profitRatioZScoreTop30)), profitRatioZScoreTop30)\n",
    "plt.xticks(np.arange(len(profitRatioZScoreTop30)), orderedXTop30,rotation='vertical')\n",
    "plt.xlabel('Day')\n",
    "plt.ylabel('Profit ratio z-score')\n",
    "plt.show()"
   ]
  },
  {
   "cell_type": "markdown",
   "metadata": {},
   "source": [
    "Secondly, the lowest 30 z-score values for the profit ratio within the dates contained in the dataset are shown. June, July, August and October are the months in which more low z-score values can be found."
   ]
  },
  {
   "cell_type": "code",
   "execution_count": 56,
   "metadata": {},
   "outputs": [
    {
     "data": {
      "image/png": "[encoded data removed]",
      "text/plain": [
       "<matplotlib.figure.Figure at 0x7f4c1080c278>"
      ]
     },
     "metadata": {},
     "output_type": "display_data"
    }
   ],
   "source": [
    "profitRatioZScore,orderedX= zip(*sorted(zip(profitRatioZScore,orderedX),reverse=False))\n",
    "profitRatioZScore\n",
    "\n",
    "profitRatioZScoreWorse30 = profitRatioZScore[0:30]\n",
    "orderedXWorse30 = orderedX[0:30]\n",
    "\n",
    "orderedXWorse30,profitRatioZScoreWorse30= zip(*sorted(zip(orderedXWorse30,profitRatioZScoreWorse30)))\n",
    "\n",
    "plt.figure(figsize=(17,5))\n",
    "plt.bar(range(len(profitRatioZScoreWorse30)), profitRatioZScoreWorse30)\n",
    "plt.xticks(np.arange(len(profitRatioZScoreWorse30)), orderedXWorse30,rotation='vertical')\n",
    "plt.xlabel('Day')\n",
    "plt.ylabel('Profit ratio z-score')\n",
    "plt.show()"
   ]
  },
  {
   "cell_type": "markdown",
   "metadata": {},
   "source": [
    "Now, the profit ratio for special dates is analyzed. These include the federal holidays in the USA, Black Friday, the week before Valentine's Day, and Christmas' season (December)."
   ]
  },
  {
   "cell_type": "code",
   "execution_count": 57,
   "metadata": {},
   "outputs": [],
   "source": [
    "federalPublicHolidaysUSA2008 = ['2008-01-01','2008-01-21','2008-02-18','2008-05-26','2008-07-04','2008-09-01','2008-10-13','2008-11-11','2008-11-27','2008-11-28','2008-12-25']\n",
    "federalPublicHolidaysUSA2009 = ['2009-01-01','2009-01-19','2009-02-16','2009-05-25','2009-07-03','2009-09-07','2009-10-12','2009-11-11','2009-11-26','2009-11-27','2009-12-25']\n",
    "blackFriday2008 = ['2008-11-28']\n",
    "blackFriday2009 = ['2009-11-27']\n",
    "valentinesDay2008Season = ['2008-02-07','2008-02-08','2008-02-09','2008-02-10','2008-02-11','2008-02-12','2008-02-13','2008-02-14']\n",
    "valentinesDay2009Season = ['2009-02-07','2009-02-08','2009-02-09','2009-02-10','2009-02-11','2009-02-12','2009-02-13','2009-02-14']\n",
    "\n",
    "christmas2008Season = []\n",
    "christmas2009Season = []\n",
    "for i in range (1,32):\n",
    "    dayString = '%02d' % i\n",
    "    christmas2008Season.append('2008-12-'+dayString)\n",
    "    christmas2009Season.append('2009-12-'+dayString)"
   ]
  },
  {
   "cell_type": "code",
   "execution_count": 58,
   "metadata": {},
   "outputs": [],
   "source": [
    "orderedX,profitRatioZScore= zip(*sorted(zip(orderedX,profitRatioZScore)))\n",
    "holidayTypeToProfitRatioZScore = {}\n",
    "\n",
    "for i in range(0,len(orderedX)):\n",
    "    dateToAnalyzeString = str(orderedX[i])\n",
    "    isFederalPublicHolidayUSA2008 =  dateToAnalyzeString in federalPublicHolidaysUSA2008\n",
    "    isFederalPublicHolidayUSA2009 = dateToAnalyzeString in federalPublicHolidaysUSA2009\n",
    "    isFederalPublicHolidayUSA = isFederalPublicHolidayUSA2008 or isFederalPublicHolidayUSA2009\n",
    "    \n",
    "    isBlackFriday2008 = dateToAnalyzeString in blackFriday2008\n",
    "    isBlackFriday2009 = dateToAnalyzeString in blackFriday2009\n",
    "    isBlackFriday = isBlackFriday2008 or isBlackFriday2009\n",
    "    \n",
    "    isValentinesDay2008Season = dateToAnalyzeString in valentinesDay2008Season\n",
    "    isValentinesDay2009Season = dateToAnalyzeString in valentinesDay2009Season\n",
    "    isValentinesDaySeason = isValentinesDay2008Season or isValentinesDay2009Season\n",
    "    \n",
    "    isChristmas2008Season = dateToAnalyzeString in christmas2008Season\n",
    "    isChristmas2009Season = dateToAnalyzeString in christmas2009Season\n",
    "    isChristmasSeason = isChristmas2008Season or isChristmas2009Season\n",
    "    \n",
    "    holidayType = []\n",
    "    yearString = dateToAnalyzeString[0:4]\n",
    "    \n",
    "    if isFederalPublicHolidayUSA:\n",
    "        holidayType.append(\"FederalPublicHolidayUSA\")\n",
    "    if isBlackFriday:\n",
    "        holidayType.append(\"BlackFriday\")\n",
    "    if isValentinesDaySeason:\n",
    "        holidayType.append(\"ValentinesDaySeason\")\n",
    "    if isChristmasSeason:\n",
    "        holidayType.append(\"ChristmasSeason\")\n",
    "    \n",
    "    if holidayType:\n",
    "        for holiday in holidayType:       \n",
    "            holidayTypePlusYearString = holiday + yearString\n",
    "        \n",
    "            if holidayTypePlusYearString in holidayTypeToProfitRatioZScore:\n",
    "                holidayTypeProfitRatioZScore = holidayTypeToProfitRatioZScore[holidayTypePlusYearString]\n",
    "                holidayTypeProfitRatioZScore.append((dateToAnalyzeString,profitRatioZScore[i]))\n",
    "            else:\n",
    "                holidayTypeToProfitRatioZScore[holidayTypePlusYearString] = [(dateToAnalyzeString,profitRatioZScore[i])]"
   ]
  },
  {
   "cell_type": "markdown",
   "metadata": {},
   "source": [
    "Black Friday has a positive z-score both in 2008 and 2009. Christmas' season (December) has days with both positive and negative z-score values (also, there is no complete data for December 2009). With the available data for December 2008, it can be concluded that the z-score is generally positive during the second half of December, with the highest values towards the end of the month. Public holidays have both positive and negative z-score values. The last days before 2009 Valentine's Day have positive z-score values."
   ]
  },
  {
   "cell_type": "code",
   "execution_count": 59,
   "metadata": {},
   "outputs": [
    {
     "data": {
      "image/png": "[encoded data removed]",
      "text/plain": [
       "<matplotlib.figure.Figure at 0x7f4c234cd5c0>"
      ]
     },
     "metadata": {},
     "output_type": "display_data"
    }
   ],
   "source": [
    "subplotIndex = 1\n",
    "\n",
    "plt.figure(figsize=(17,15))  \n",
    "\n",
    "for key in sorted(holidayTypeToProfitRatioZScore.keys()):\n",
    "    value = holidayTypeToProfitRatioZScore[key]\n",
    "    plt.subplot(4,2,subplotIndex)\n",
    "    plt.title(key)\n",
    "    \n",
    "    X = [tupleElement[0] for tupleElement in value]\n",
    "    Y = [tupleElement[1] for tupleElement in value]\n",
    "    plt.bar(range(len(Y)), Y)\n",
    "    plt.xticks(np.arange(len(Y)), X,rotation='vertical')\n",
    "    plt.xlabel('Day')\n",
    "    plt.ylabel('Profit ratio z-score')\n",
    "    subplotIndex = subplotIndex +1\n",
    "    \n",
    "plt.subplots_adjust(hspace = 1)\n",
    "plt.show()"
   ]
  },
  {
   "cell_type": "markdown",
   "metadata": {},
   "source": [
    "Now, it is analyzed whether the day of the week (Monday-Sunday) has any efect on Swoopo's profit. The following figure represents the sum of the retail price of the auctioned items as well as the revenue obtained by Swoopo (calculated as the profit obtained over the retail price of the items plus their retail price), where 0 corresponds to Monday and 6 corresponds to Sunday."
   ]
  },
  {
   "cell_type": "code",
   "execution_count": 60,
   "metadata": {},
   "outputs": [
    {
     "data": {
      "image/png": "[encoded data removed]",
      "text/plain": [
       "<matplotlib.figure.Figure at 0x7f4c2224c9e8>"
      ]
     },
     "metadata": {},
     "output_type": "display_data"
    }
   ],
   "source": [
    "f = lambda x: str(x.dayofweek)\n",
    "\n",
    "sumRetailGroup = outcomesDf.groupby(outcomesDf['endtime_str'].apply(f))['retail'].sum()\n",
    "swoopoProfitGroup = outcomesDf.groupby(outcomesDf['endtime_str'].apply(f))['swoopo_profit'].sum()\n",
    "\n",
    "X=sumRetailGroup.index\n",
    "Y=sumRetailGroup.values\n",
    "Y2 = swoopoProfitGroup.values\n",
    "bar_width = 0.20\n",
    "\n",
    "plt.figure(figsize=(17,5))\n",
    "p1=plt.bar(np.arange(len(Y)),Y, bar_width,color='b')\n",
    "p2=plt.bar(np.arange(len(Y2))+bar_width,Y2+Y,bar_width, color='g')\n",
    "plt.xticks(np.arange(len(X)) + bar_width, X,rotation='vertical')\n",
    "plt.legend((p1,p2),('Sum of retail price', 'Sum of Swoopo\\'s sales'))\n",
    "plt.xlabel('Day of the week (0:Monday, 6:Sunday)')\n",
    "plt.ylabel('Dollar amount')\n",
    "plt.show()"
   ]
  },
  {
   "cell_type": "markdown",
   "metadata": {},
   "source": [
    "The highest profit ratio is obtained on Friday, while the lowest positive ratio is obtained on Tuesday. Nevertheless, the values are pretty similar throughout all days of the week."
   ]
  },
  {
   "cell_type": "code",
   "execution_count": 61,
   "metadata": {},
   "outputs": [
    {
     "name": "stdout",
     "output_type": "stream",
     "text": [
      "1 : 1.72413805621\n",
      "0 : 1.73523136263\n",
      "6 : 1.77636968881\n",
      "5 : 1.78002566708\n",
      "2 : 1.8181767152\n",
      "3 : 1.83550859175\n",
      "4 : 1.84089359583\n"
     ]
    }
   ],
   "source": [
    "profitRatio = (Y2+Y)/Y\n",
    "profitRatio,X= zip(*sorted(zip(profitRatio,X)))\n",
    "for i in range(0,7):\n",
    "    print (str(X[i])+ \" : \"+str(profitRatio[i]))"
   ]
  },
  {
   "cell_type": "markdown",
   "metadata": {},
   "source": [
    "Since a cleaning process has been performed throught the code executed before, the final DataFrame is saved as a new file:"
   ]
  },
  {
   "cell_type": "code",
   "execution_count": 62,
   "metadata": {},
   "outputs": [],
   "source": [
    "outcomesDf.to_csv('./outcomes_clean.tsv',sep='\\t')"
   ]
  },
  {
   "cell_type": "markdown",
   "metadata": {},
   "source": [
    "# traces.tsv"
   ]
  },
  {
   "cell_type": "markdown",
   "metadata": {},
   "source": [
    "This file is based on traces of live auctions that the authors of the dataset recorded using  their own recording infrastructure. It comprises 7,352 auctions conducted between October 1, 2009 and December 12, 2009. The traces include detailed bidding information for each auction, specifically the time and the player associated with each bid.\n",
    "\n",
    "The authors probed Swoopo at semi-regular time-intervals (more frequently near the end of the auction when bids are placed in rapid succession, less frequently near the beginning of the auction when bidding is sparse). When the countdown clock had less than 2 minutes left on it, they probed at the rate Swoopo suggested but at least once every second (every probe response was associated with a Swoopo defined update-interval that Swoopo uses to instruct the user’s browser when to update next).\n",
    "\n",
    "The result of each probe was a list of up to ten tuples of the form (username,bidnumber), indicating the\n",
    "players that placed a bid since the previous probe and the order in which they did so. In the cases the list included more that one tuple, the authors ascribed the same timestamp to all of those bids.\n",
    "\n",
    "Swoopo optinally provides the use of BidButlers, which are automatic bidding agents that bid according to user-defined instructions. Users are able to define starting and ending price limits for which automated bids shall be placed, as well as the top number of bids that the BidButler is allowed to place. BidButlers place automated bids when the auction timer drops below 10 seconds\n",
    "\n",
    "A limitation from the authors' probing methodolody arises when more then ten players bid between successive probes. In particular, this happened when more than ten players were using BidButlers. In these cases, Swoopo responded with just the ten latest bids.\n",
    "\n",
    "More details about the methodology used by the authors to create the dataset can be found at:\n",
    "\n",
    "Byers, J. W., Mitzenmacher, M., & Zervas, G. (2010, June). Information asymmetries in pay-per-bid auctions. In Proceedings of the 11th ACM conference on Electronic commerce (pp. 1-12). ACM."
   ]
  },
  {
   "cell_type": "markdown",
   "metadata": {},
   "source": [
    "The file traces.tsv included in the dataset contains the following columns:"
   ]
  },
  {
   "cell_type": "markdown",
   "metadata": {},
   "source": [
    "- auction_id: unique numerical id for the auction\n",
    "\n",
    "- bid_time: the date and time of each bid\n",
    "\n",
    "- bid_ct: the value of the countdown clock (seconds) at the time the bid was reported to the researchers that recorded the traces.\n",
    "\n",
    "- bid_number: the number of the bid placed in the auction in ascending order, starting with 1.\n",
    "\n",
    "- bid_user: the username of the bidder\n",
    "\n",
    "- bid_butler: 1 for BidButler bids, 0 otherwise\n",
    "\n",
    "- bid_cp: the price of the item after the bid was placed\n",
    "\n",
    "- bid_user_secs_added: the number of seconds added to the countdown clock as a result non-BidButler bidded in the bid group (*)\n",
    "\n",
    "- bid_butler_secs_added: the number of seconds added to the countdown clock as\n",
    "  a result BidButler bidded in the bid group (*)\n",
    "\n",
    "- bid_infered: 0 for the final bid in a bid group, 1 otherwise (*)\n",
    "\n",
    "- bid_group: bid group identifier (*). Bids that were reported as part of the same group will have the\n",
    "  same group number.\n",
    "\n",
    "- bid_final: 1 for the winning bid (the last one), 0 otherwise\n",
    "\n",
    "The other parameters of the auction can be looked up in outcomes.tsv using the auction_id field.\n",
    "\n",
    "(*) bid groups: Occassionaly, between successive probes, more than one bids\n",
    "would have occured and would be reported together. The authors refer to this as a bid group.\n",
    "All bids in a bid group have been ascribed the same timestamp."
   ]
  },
  {
   "cell_type": "code",
   "execution_count": 63,
   "metadata": {},
   "outputs": [
    {
     "data": {
      "text/html": [
       "<div>\n",
       "<style>\n",
       "    .dataframe thead tr:only-child th {\n",
       "        text-align: right;\n",
       "    }\n",
       "\n",
       "    .dataframe thead th {\n",
       "        text-align: left;\n",
       "    }\n",
       "\n",
       "    .dataframe tbody tr th {\n",
       "        vertical-align: top;\n",
       "    }\n",
       "</style>\n",
       "<table border=\"1\" class=\"dataframe\">\n",
       "  <thead>\n",
       "    <tr style=\"text-align: right;\">\n",
       "      <th></th>\n",
       "      <th>auction_id</th>\n",
       "      <th>bid_time</th>\n",
       "      <th>bid_ct</th>\n",
       "      <th>bid_number</th>\n",
       "      <th>bid_user</th>\n",
       "      <th>bid_butler</th>\n",
       "      <th>bid_cp</th>\n",
       "      <th>bid_user_secs_added</th>\n",
       "      <th>bid_butler_secs_added</th>\n",
       "      <th>bid_infered</th>\n",
       "      <th>bid_group</th>\n",
       "      <th>bid_final</th>\n",
       "    </tr>\n",
       "  </thead>\n",
       "  <tbody>\n",
       "    <tr>\n",
       "      <th>0</th>\n",
       "      <td>222387</td>\n",
       "      <td>2009-10-04 12:33:26</td>\n",
       "      <td>19913</td>\n",
       "      <td>1</td>\n",
       "      <td>Becker1990</td>\n",
       "      <td>0</td>\n",
       "      <td>12</td>\n",
       "      <td>0</td>\n",
       "      <td>0</td>\n",
       "      <td>0</td>\n",
       "      <td>0</td>\n",
       "      <td>0</td>\n",
       "    </tr>\n",
       "    <tr>\n",
       "      <th>1</th>\n",
       "      <td>222387</td>\n",
       "      <td>2009-10-04 14:28:14</td>\n",
       "      <td>13029</td>\n",
       "      <td>2</td>\n",
       "      <td>Gaynor66</td>\n",
       "      <td>0</td>\n",
       "      <td>24</td>\n",
       "      <td>4</td>\n",
       "      <td>0</td>\n",
       "      <td>0</td>\n",
       "      <td>1</td>\n",
       "      <td>0</td>\n",
       "    </tr>\n",
       "  </tbody>\n",
       "</table>\n",
       "</div>"
      ],
      "text/plain": [
       "   auction_id             bid_time  bid_ct  bid_number    bid_user  \\\n",
       "0      222387  2009-10-04 12:33:26   19913           1  Becker1990   \n",
       "1      222387  2009-10-04 14:28:14   13029           2    Gaynor66   \n",
       "\n",
       "   bid_butler  bid_cp  bid_user_secs_added  bid_butler_secs_added  \\\n",
       "0           0      12                    0                      0   \n",
       "1           0      24                    4                      0   \n",
       "\n",
       "   bid_infered  bid_group  bid_final  \n",
       "0            0          0          0  \n",
       "1            0          1          0  "
      ]
     },
     "execution_count": 63,
     "metadata": {},
     "output_type": "execute_result"
    }
   ],
   "source": [
    "tracesDf.head(2)"
   ]
  },
  {
   "cell_type": "markdown",
   "metadata": {},
   "source": [
    "The types of the values seem to be appropiate, except for the type of the \"bid_time\" column. It is better to convert this column to DateTime objects, so that it is possible to use DateTime functions afterwards."
   ]
  },
  {
   "cell_type": "code",
   "execution_count": 64,
   "metadata": {
    "scrolled": true
   },
   "outputs": [
    {
     "data": {
      "text/plain": [
       "auction_id                int64\n",
       "bid_time                 object\n",
       "bid_ct                    int64\n",
       "bid_number                int64\n",
       "bid_user                 object\n",
       "bid_butler                int64\n",
       "bid_cp                    int64\n",
       "bid_user_secs_added       int64\n",
       "bid_butler_secs_added     int64\n",
       "bid_infered               int64\n",
       "bid_group                 int64\n",
       "bid_final                 int64\n",
       "dtype: object"
      ]
     },
     "execution_count": 64,
     "metadata": {},
     "output_type": "execute_result"
    }
   ],
   "source": [
    "tracesDf.dtypes"
   ]
  },
  {
   "cell_type": "code",
   "execution_count": 65,
   "metadata": {},
   "outputs": [],
   "source": [
    "tracesDf['bid_time'] = pd.to_datetime(tracesDf['bid_time'])"
   ]
  },
  {
   "cell_type": "markdown",
   "metadata": {},
   "source": [
    "There are no empty values in the dataset file:"
   ]
  },
  {
   "cell_type": "code",
   "execution_count": 66,
   "metadata": {},
   "outputs": [
    {
     "data": {
      "text/plain": [
       "False"
      ]
     },
     "execution_count": 66,
     "metadata": {},
     "output_type": "execute_result"
    }
   ],
   "source": [
    "tracesDf.isnull().values.any()"
   ]
  },
  {
   "cell_type": "markdown",
   "metadata": {},
   "source": [
    "The field \"bid_cp\", which indicates the price of the item after each bid is placed, is expressed in cents. A conversion to dollars has been applied:"
   ]
  },
  {
   "cell_type": "code",
   "execution_count": 67,
   "metadata": {},
   "outputs": [],
   "source": [
    "tracesDf['bid_cp'] = tracesDf['bid_cp']/100"
   ]
  },
  {
   "cell_type": "markdown",
   "metadata": {},
   "source": [
    "As an example, the first auction in the dataset has been analyzed."
   ]
  },
  {
   "cell_type": "code",
   "execution_count": 68,
   "metadata": {},
   "outputs": [],
   "source": [
    "tracesDfAuctionId222387 = tracesDf[tracesDf['auction_id'] == 222387]"
   ]
  },
  {
   "cell_type": "markdown",
   "metadata": {},
   "source": [
    "The auctioned product was a Wii videogame. Its retail price was 64.12 \\$, and it was won by the user 'Clubfan78'. It total, 151 bids were placed with a bid fee of 60 cents. The final price of the item was 18.12 \\$. Therefore, Swoopo earned (1-0.0455) \\* 0.60 * 151 + 18.12 = 104.6 \\$, where the value (1-0.0455) is the approximation made at the beginning of this notebook for the ratio between free bids and paid bids in an auction.\n",
    "\n",
    "The winner placed 50 bids in total. The flag 'flg_click_only' is set to 1, so it was a \"NailBiter\" auction (Swoopo auctions which do not permit the use of automated bids by a BidButler)."
   ]
  },
  {
   "cell_type": "code",
   "execution_count": 69,
   "metadata": {},
   "outputs": [
    {
     "data": {
      "text/html": [
       "<div>\n",
       "<style>\n",
       "    .dataframe thead tr:only-child th {\n",
       "        text-align: right;\n",
       "    }\n",
       "\n",
       "    .dataframe thead th {\n",
       "        text-align: left;\n",
       "    }\n",
       "\n",
       "    .dataframe tbody tr th {\n",
       "        vertical-align: top;\n",
       "    }\n",
       "</style>\n",
       "<table border=\"1\" class=\"dataframe\">\n",
       "  <thead>\n",
       "    <tr style=\"text-align: right;\">\n",
       "      <th></th>\n",
       "      <th>auction_id</th>\n",
       "      <th>product_id</th>\n",
       "      <th>item</th>\n",
       "      <th>desc</th>\n",
       "      <th>retail</th>\n",
       "      <th>price</th>\n",
       "      <th>finalprice</th>\n",
       "      <th>bidincrement</th>\n",
       "      <th>bidfee</th>\n",
       "      <th>winner</th>\n",
       "      <th>...</th>\n",
       "      <th>freebids</th>\n",
       "      <th>endtime_str</th>\n",
       "      <th>flg_click_only</th>\n",
       "      <th>flg_beginnerauction</th>\n",
       "      <th>flg_fixedprice</th>\n",
       "      <th>flg_endprice</th>\n",
       "      <th>bids_placed</th>\n",
       "      <th>swoopo_sale_price</th>\n",
       "      <th>swoopo_profit</th>\n",
       "      <th>winner_benefit</th>\n",
       "    </tr>\n",
       "  </thead>\n",
       "  <tbody>\n",
       "    <tr>\n",
       "      <th>99108</th>\n",
       "      <td>222387</td>\n",
       "      <td>10012342</td>\n",
       "      <td>guitar-hero-world-tour-guitar-kit-wii-</td>\n",
       "      <td>Guitar Hero World Tour Guitar Kit (Wii)</td>\n",
       "      <td>64.12</td>\n",
       "      <td>18.12</td>\n",
       "      <td>18.12</td>\n",
       "      <td>0.12</td>\n",
       "      <td>0.6</td>\n",
       "      <td>Clubfan78</td>\n",
       "      <td>...</td>\n",
       "      <td>0</td>\n",
       "      <td>2009-10-04 10:17:00</td>\n",
       "      <td>1</td>\n",
       "      <td>0</td>\n",
       "      <td>0</td>\n",
       "      <td>0</td>\n",
       "      <td>151.0</td>\n",
       "      <td>104.594461</td>\n",
       "      <td>40.474461</td>\n",
       "      <td>16.0</td>\n",
       "    </tr>\n",
       "  </tbody>\n",
       "</table>\n",
       "<p>1 rows × 21 columns</p>\n",
       "</div>"
      ],
      "text/plain": [
       "       auction_id  product_id                                    item  \\\n",
       "99108      222387    10012342  guitar-hero-world-tour-guitar-kit-wii-   \n",
       "\n",
       "                                          desc  retail  price  finalprice  \\\n",
       "99108  Guitar Hero World Tour Guitar Kit (Wii)   64.12  18.12       18.12   \n",
       "\n",
       "       bidincrement  bidfee     winner       ...        freebids  \\\n",
       "99108          0.12     0.6  Clubfan78       ...               0   \n",
       "\n",
       "              endtime_str flg_click_only  flg_beginnerauction  flg_fixedprice  \\\n",
       "99108 2009-10-04 10:17:00              1                    0               0   \n",
       "\n",
       "       flg_endprice  bids_placed  swoopo_sale_price  swoopo_profit  \\\n",
       "99108             0        151.0         104.594461      40.474461   \n",
       "\n",
       "       winner_benefit  \n",
       "99108            16.0  \n",
       "\n",
       "[1 rows x 21 columns]"
      ]
     },
     "execution_count": 69,
     "metadata": {},
     "output_type": "execute_result"
    }
   ],
   "source": [
    "outcomesDf[outcomesDf['auction_id'] == 222387]"
   ]
  },
  {
   "cell_type": "code",
   "execution_count": 70,
   "metadata": {},
   "outputs": [
    {
     "data": {
      "text/html": [
       "<div>\n",
       "<style>\n",
       "    .dataframe thead tr:only-child th {\n",
       "        text-align: right;\n",
       "    }\n",
       "\n",
       "    .dataframe thead th {\n",
       "        text-align: left;\n",
       "    }\n",
       "\n",
       "    .dataframe tbody tr th {\n",
       "        vertical-align: top;\n",
       "    }\n",
       "</style>\n",
       "<table border=\"1\" class=\"dataframe\">\n",
       "  <thead>\n",
       "    <tr style=\"text-align: right;\">\n",
       "      <th></th>\n",
       "      <th>auction_id</th>\n",
       "      <th>bid_time</th>\n",
       "      <th>bid_ct</th>\n",
       "      <th>bid_number</th>\n",
       "      <th>bid_user</th>\n",
       "      <th>bid_butler</th>\n",
       "      <th>bid_cp</th>\n",
       "      <th>bid_user_secs_added</th>\n",
       "      <th>bid_butler_secs_added</th>\n",
       "      <th>bid_infered</th>\n",
       "      <th>bid_group</th>\n",
       "      <th>bid_final</th>\n",
       "    </tr>\n",
       "  </thead>\n",
       "  <tbody>\n",
       "    <tr>\n",
       "      <th>0</th>\n",
       "      <td>222387</td>\n",
       "      <td>2009-10-04 12:33:26</td>\n",
       "      <td>19913</td>\n",
       "      <td>1</td>\n",
       "      <td>Becker1990</td>\n",
       "      <td>0</td>\n",
       "      <td>0.12</td>\n",
       "      <td>0</td>\n",
       "      <td>0</td>\n",
       "      <td>0</td>\n",
       "      <td>0</td>\n",
       "      <td>0</td>\n",
       "    </tr>\n",
       "    <tr>\n",
       "      <th>1</th>\n",
       "      <td>222387</td>\n",
       "      <td>2009-10-04 14:28:14</td>\n",
       "      <td>13029</td>\n",
       "      <td>2</td>\n",
       "      <td>Gaynor66</td>\n",
       "      <td>0</td>\n",
       "      <td>0.24</td>\n",
       "      <td>4</td>\n",
       "      <td>0</td>\n",
       "      <td>0</td>\n",
       "      <td>1</td>\n",
       "      <td>0</td>\n",
       "    </tr>\n",
       "    <tr>\n",
       "      <th>2</th>\n",
       "      <td>222387</td>\n",
       "      <td>2009-10-04 14:44:08</td>\n",
       "      <td>12079</td>\n",
       "      <td>3</td>\n",
       "      <td>Jostrem16</td>\n",
       "      <td>0</td>\n",
       "      <td>0.36</td>\n",
       "      <td>4</td>\n",
       "      <td>0</td>\n",
       "      <td>0</td>\n",
       "      <td>2</td>\n",
       "      <td>0</td>\n",
       "    </tr>\n",
       "  </tbody>\n",
       "</table>\n",
       "</div>"
      ],
      "text/plain": [
       "   auction_id            bid_time  bid_ct  bid_number    bid_user  bid_butler  \\\n",
       "0      222387 2009-10-04 12:33:26   19913           1  Becker1990           0   \n",
       "1      222387 2009-10-04 14:28:14   13029           2    Gaynor66           0   \n",
       "2      222387 2009-10-04 14:44:08   12079           3   Jostrem16           0   \n",
       "\n",
       "   bid_cp  bid_user_secs_added  bid_butler_secs_added  bid_infered  bid_group  \\\n",
       "0    0.12                    0                      0            0          0   \n",
       "1    0.24                    4                      0            0          1   \n",
       "2    0.36                    4                      0            0          2   \n",
       "\n",
       "   bid_final  \n",
       "0          0  \n",
       "1          0  \n",
       "2          0  "
      ]
     },
     "execution_count": 70,
     "metadata": {},
     "output_type": "execute_result"
    }
   ],
   "source": [
    "tracesDfAuctionId222387.head(3)"
   ]
  },
  {
   "cell_type": "code",
   "execution_count": 71,
   "metadata": {},
   "outputs": [
    {
     "data": {
      "text/html": [
       "<div>\n",
       "<style>\n",
       "    .dataframe thead tr:only-child th {\n",
       "        text-align: right;\n",
       "    }\n",
       "\n",
       "    .dataframe thead th {\n",
       "        text-align: left;\n",
       "    }\n",
       "\n",
       "    .dataframe tbody tr th {\n",
       "        vertical-align: top;\n",
       "    }\n",
       "</style>\n",
       "<table border=\"1\" class=\"dataframe\">\n",
       "  <thead>\n",
       "    <tr style=\"text-align: right;\">\n",
       "      <th></th>\n",
       "      <th>auction_id</th>\n",
       "      <th>bid_time</th>\n",
       "      <th>bid_ct</th>\n",
       "      <th>bid_number</th>\n",
       "      <th>bid_user</th>\n",
       "      <th>bid_butler</th>\n",
       "      <th>bid_cp</th>\n",
       "      <th>bid_user_secs_added</th>\n",
       "      <th>bid_butler_secs_added</th>\n",
       "      <th>bid_infered</th>\n",
       "      <th>bid_group</th>\n",
       "      <th>bid_final</th>\n",
       "    </tr>\n",
       "  </thead>\n",
       "  <tbody>\n",
       "    <tr>\n",
       "      <th>148</th>\n",
       "      <td>222387</td>\n",
       "      <td>2009-10-04 18:16:56</td>\n",
       "      <td>15</td>\n",
       "      <td>149</td>\n",
       "      <td>Clubfan78</td>\n",
       "      <td>0</td>\n",
       "      <td>17.88</td>\n",
       "      <td>1</td>\n",
       "      <td>0</td>\n",
       "      <td>0</td>\n",
       "      <td>138</td>\n",
       "      <td>0</td>\n",
       "    </tr>\n",
       "    <tr>\n",
       "      <th>149</th>\n",
       "      <td>222387</td>\n",
       "      <td>2009-10-04 18:17:00</td>\n",
       "      <td>15</td>\n",
       "      <td>150</td>\n",
       "      <td>Pjhuzz7579</td>\n",
       "      <td>0</td>\n",
       "      <td>18.00</td>\n",
       "      <td>2</td>\n",
       "      <td>0</td>\n",
       "      <td>0</td>\n",
       "      <td>139</td>\n",
       "      <td>0</td>\n",
       "    </tr>\n",
       "    <tr>\n",
       "      <th>150</th>\n",
       "      <td>222387</td>\n",
       "      <td>2009-10-04 18:17:06</td>\n",
       "      <td>15</td>\n",
       "      <td>151</td>\n",
       "      <td>Clubfan78</td>\n",
       "      <td>0</td>\n",
       "      <td>18.12</td>\n",
       "      <td>5</td>\n",
       "      <td>0</td>\n",
       "      <td>0</td>\n",
       "      <td>140</td>\n",
       "      <td>1</td>\n",
       "    </tr>\n",
       "  </tbody>\n",
       "</table>\n",
       "</div>"
      ],
      "text/plain": [
       "     auction_id            bid_time  bid_ct  bid_number    bid_user  \\\n",
       "148      222387 2009-10-04 18:16:56      15         149   Clubfan78   \n",
       "149      222387 2009-10-04 18:17:00      15         150  Pjhuzz7579   \n",
       "150      222387 2009-10-04 18:17:06      15         151   Clubfan78   \n",
       "\n",
       "     bid_butler  bid_cp  bid_user_secs_added  bid_butler_secs_added  \\\n",
       "148           0   17.88                    1                      0   \n",
       "149           0   18.00                    2                      0   \n",
       "150           0   18.12                    5                      0   \n",
       "\n",
       "     bid_infered  bid_group  bid_final  \n",
       "148            0        138          0  \n",
       "149            0        139          0  \n",
       "150            0        140          1  "
      ]
     },
     "execution_count": 71,
     "metadata": {},
     "output_type": "execute_result"
    }
   ],
   "source": [
    "tracesDfAuctionId222387.tail(3)"
   ]
  },
  {
   "cell_type": "markdown",
   "metadata": {},
   "source": [
    "The auction lasted for 5 hours, 43 minutes and 40 seconds:"
   ]
  },
  {
   "cell_type": "code",
   "execution_count": 72,
   "metadata": {},
   "outputs": [
    {
     "name": "stdout",
     "output_type": "stream",
     "text": [
      "Beggining time: 2009-10-04 12:33:26\n",
      "Ending time: 2009-10-04 18:17:06\n",
      "Total duration: 0 days 05:43:40\n"
     ]
    }
   ],
   "source": [
    "beginningTime = min(tracesDfAuctionId222387[\"bid_time\"])\n",
    "endingTime = max(tracesDfAuctionId222387[\"bid_time\"])\n",
    "print(\"Beggining time: \" + str(beginningTime))\n",
    "print(\"Ending time: \"+ str(endingTime))\n",
    "print(\"Total duration: \"+ str(endingTime-beginningTime))"
   ]
  },
  {
   "cell_type": "markdown",
   "metadata": {},
   "source": [
    "The next figure represents the value of the countdown clock over time. When a bid is placed and the countdown clock is about to end, that bid increments the value of the countdown clock a few seconds, so theoretically, auctions could last infinitely. The objective of this method is to avoid users placing bids only a few seconds before the auction finishes."
   ]
  },
  {
   "cell_type": "code",
   "execution_count": 73,
   "metadata": {},
   "outputs": [
    {
     "data": {
      "image/png": "[encoded data removed]",
      "text/plain": [
       "<matplotlib.figure.Figure at 0x7f4c041cb2e8>"
      ]
     },
     "metadata": {},
     "output_type": "display_data"
    }
   ],
   "source": [
    "plt.figure(figsize=(17,5))\n",
    "plt.plot(tracesDfAuctionId222387['bid_time'],tracesDfAuctionId222387['bid_ct'])\n",
    "plt.xlabel('Time (hour)')\n",
    "plt.ylabel('Countdown clock value (seconds)')\n",
    "plt.title('Value of the countdown clock over time')\n",
    "plt.show()"
   ]
  },
  {
   "cell_type": "markdown",
   "metadata": {},
   "source": [
    "For the 8th bid, the value of the countdown clock is 20 seconds. For the next consecutive bids, the value of the countdown clock is also 20 seconds, since each one of those bdis is placed a few seconds after the last one and increments the value of the countdown clock back to that value:"
   ]
  },
  {
   "cell_type": "code",
   "execution_count": 74,
   "metadata": {},
   "outputs": [
    {
     "data": {
      "text/html": [
       "<div>\n",
       "<style>\n",
       "    .dataframe thead tr:only-child th {\n",
       "        text-align: right;\n",
       "    }\n",
       "\n",
       "    .dataframe thead th {\n",
       "        text-align: left;\n",
       "    }\n",
       "\n",
       "    .dataframe tbody tr th {\n",
       "        vertical-align: top;\n",
       "    }\n",
       "</style>\n",
       "<table border=\"1\" class=\"dataframe\">\n",
       "  <thead>\n",
       "    <tr style=\"text-align: right;\">\n",
       "      <th></th>\n",
       "      <th>auction_id</th>\n",
       "      <th>bid_time</th>\n",
       "      <th>bid_ct</th>\n",
       "      <th>bid_number</th>\n",
       "      <th>bid_user</th>\n",
       "      <th>bid_butler</th>\n",
       "      <th>bid_cp</th>\n",
       "      <th>bid_user_secs_added</th>\n",
       "      <th>bid_butler_secs_added</th>\n",
       "      <th>bid_infered</th>\n",
       "      <th>bid_group</th>\n",
       "      <th>bid_final</th>\n",
       "    </tr>\n",
       "  </thead>\n",
       "  <tbody>\n",
       "    <tr>\n",
       "      <th>0</th>\n",
       "      <td>222387</td>\n",
       "      <td>2009-10-04 12:33:26</td>\n",
       "      <td>19913</td>\n",
       "      <td>1</td>\n",
       "      <td>Becker1990</td>\n",
       "      <td>0</td>\n",
       "      <td>0.12</td>\n",
       "      <td>0</td>\n",
       "      <td>0</td>\n",
       "      <td>0</td>\n",
       "      <td>0</td>\n",
       "      <td>0</td>\n",
       "    </tr>\n",
       "    <tr>\n",
       "      <th>1</th>\n",
       "      <td>222387</td>\n",
       "      <td>2009-10-04 14:28:14</td>\n",
       "      <td>13029</td>\n",
       "      <td>2</td>\n",
       "      <td>Gaynor66</td>\n",
       "      <td>0</td>\n",
       "      <td>0.24</td>\n",
       "      <td>4</td>\n",
       "      <td>0</td>\n",
       "      <td>0</td>\n",
       "      <td>1</td>\n",
       "      <td>0</td>\n",
       "    </tr>\n",
       "    <tr>\n",
       "      <th>2</th>\n",
       "      <td>222387</td>\n",
       "      <td>2009-10-04 14:44:08</td>\n",
       "      <td>12079</td>\n",
       "      <td>3</td>\n",
       "      <td>Jostrem16</td>\n",
       "      <td>0</td>\n",
       "      <td>0.36</td>\n",
       "      <td>4</td>\n",
       "      <td>0</td>\n",
       "      <td>0</td>\n",
       "      <td>2</td>\n",
       "      <td>0</td>\n",
       "    </tr>\n",
       "    <tr>\n",
       "      <th>3</th>\n",
       "      <td>222387</td>\n",
       "      <td>2009-10-04 17:14:26</td>\n",
       "      <td>3071</td>\n",
       "      <td>4</td>\n",
       "      <td>Clubfan78</td>\n",
       "      <td>0</td>\n",
       "      <td>0.48</td>\n",
       "      <td>10</td>\n",
       "      <td>0</td>\n",
       "      <td>0</td>\n",
       "      <td>3</td>\n",
       "      <td>0</td>\n",
       "    </tr>\n",
       "    <tr>\n",
       "      <th>4</th>\n",
       "      <td>222387</td>\n",
       "      <td>2009-10-04 17:36:06</td>\n",
       "      <td>1773</td>\n",
       "      <td>5</td>\n",
       "      <td>Momstired2</td>\n",
       "      <td>0</td>\n",
       "      <td>0.60</td>\n",
       "      <td>2</td>\n",
       "      <td>0</td>\n",
       "      <td>0</td>\n",
       "      <td>4</td>\n",
       "      <td>0</td>\n",
       "    </tr>\n",
       "    <tr>\n",
       "      <th>5</th>\n",
       "      <td>222387</td>\n",
       "      <td>2009-10-04 17:58:02</td>\n",
       "      <td>476</td>\n",
       "      <td>6</td>\n",
       "      <td>Heiligsblech</td>\n",
       "      <td>0</td>\n",
       "      <td>0.72</td>\n",
       "      <td>19</td>\n",
       "      <td>0</td>\n",
       "      <td>0</td>\n",
       "      <td>5</td>\n",
       "      <td>0</td>\n",
       "    </tr>\n",
       "    <tr>\n",
       "      <th>6</th>\n",
       "      <td>222387</td>\n",
       "      <td>2009-10-04 18:05:18</td>\n",
       "      <td>40</td>\n",
       "      <td>7</td>\n",
       "      <td>Clubfan78</td>\n",
       "      <td>0</td>\n",
       "      <td>0.84</td>\n",
       "      <td>1</td>\n",
       "      <td>0</td>\n",
       "      <td>0</td>\n",
       "      <td>6</td>\n",
       "      <td>0</td>\n",
       "    </tr>\n",
       "    <tr>\n",
       "      <th>7</th>\n",
       "      <td>222387</td>\n",
       "      <td>2009-10-04 18:05:40</td>\n",
       "      <td>20</td>\n",
       "      <td>8</td>\n",
       "      <td>Buildergirl</td>\n",
       "      <td>0</td>\n",
       "      <td>0.96</td>\n",
       "      <td>1</td>\n",
       "      <td>0</td>\n",
       "      <td>0</td>\n",
       "      <td>7</td>\n",
       "      <td>0</td>\n",
       "    </tr>\n",
       "    <tr>\n",
       "      <th>8</th>\n",
       "      <td>222387</td>\n",
       "      <td>2009-10-04 18:05:44</td>\n",
       "      <td>20</td>\n",
       "      <td>9</td>\n",
       "      <td>Clubfan78</td>\n",
       "      <td>0</td>\n",
       "      <td>1.08</td>\n",
       "      <td>2</td>\n",
       "      <td>0</td>\n",
       "      <td>0</td>\n",
       "      <td>8</td>\n",
       "      <td>0</td>\n",
       "    </tr>\n",
       "    <tr>\n",
       "      <th>9</th>\n",
       "      <td>222387</td>\n",
       "      <td>2009-10-04 18:06:02</td>\n",
       "      <td>20</td>\n",
       "      <td>10</td>\n",
       "      <td>Ammoniac</td>\n",
       "      <td>0</td>\n",
       "      <td>1.20</td>\n",
       "      <td>18</td>\n",
       "      <td>0</td>\n",
       "      <td>0</td>\n",
       "      <td>9</td>\n",
       "      <td>0</td>\n",
       "    </tr>\n",
       "    <tr>\n",
       "      <th>10</th>\n",
       "      <td>222387</td>\n",
       "      <td>2009-10-04 18:06:03</td>\n",
       "      <td>20</td>\n",
       "      <td>11</td>\n",
       "      <td>Marcusbw</td>\n",
       "      <td>0</td>\n",
       "      <td>1.32</td>\n",
       "      <td>0</td>\n",
       "      <td>0</td>\n",
       "      <td>0</td>\n",
       "      <td>10</td>\n",
       "      <td>0</td>\n",
       "    </tr>\n",
       "    <tr>\n",
       "      <th>11</th>\n",
       "      <td>222387</td>\n",
       "      <td>2009-10-04 18:06:04</td>\n",
       "      <td>20</td>\n",
       "      <td>12</td>\n",
       "      <td>Digger1964</td>\n",
       "      <td>0</td>\n",
       "      <td>1.44</td>\n",
       "      <td>0</td>\n",
       "      <td>0</td>\n",
       "      <td>0</td>\n",
       "      <td>11</td>\n",
       "      <td>0</td>\n",
       "    </tr>\n",
       "    <tr>\n",
       "      <th>12</th>\n",
       "      <td>222387</td>\n",
       "      <td>2009-10-04 18:06:08</td>\n",
       "      <td>20</td>\n",
       "      <td>13</td>\n",
       "      <td>Clubfan78</td>\n",
       "      <td>0</td>\n",
       "      <td>1.56</td>\n",
       "      <td>3</td>\n",
       "      <td>0</td>\n",
       "      <td>0</td>\n",
       "      <td>12</td>\n",
       "      <td>0</td>\n",
       "    </tr>\n",
       "    <tr>\n",
       "      <th>13</th>\n",
       "      <td>222387</td>\n",
       "      <td>2009-10-04 18:06:11</td>\n",
       "      <td>20</td>\n",
       "      <td>14</td>\n",
       "      <td>Buildergirl</td>\n",
       "      <td>0</td>\n",
       "      <td>1.68</td>\n",
       "      <td>2</td>\n",
       "      <td>0</td>\n",
       "      <td>0</td>\n",
       "      <td>13</td>\n",
       "      <td>0</td>\n",
       "    </tr>\n",
       "    <tr>\n",
       "      <th>14</th>\n",
       "      <td>222387</td>\n",
       "      <td>2009-10-04 18:06:14</td>\n",
       "      <td>20</td>\n",
       "      <td>15</td>\n",
       "      <td>Clubfan78</td>\n",
       "      <td>0</td>\n",
       "      <td>1.80</td>\n",
       "      <td>1</td>\n",
       "      <td>0</td>\n",
       "      <td>0</td>\n",
       "      <td>14</td>\n",
       "      <td>0</td>\n",
       "    </tr>\n",
       "  </tbody>\n",
       "</table>\n",
       "</div>"
      ],
      "text/plain": [
       "    auction_id            bid_time  bid_ct  bid_number      bid_user  \\\n",
       "0       222387 2009-10-04 12:33:26   19913           1    Becker1990   \n",
       "1       222387 2009-10-04 14:28:14   13029           2      Gaynor66   \n",
       "2       222387 2009-10-04 14:44:08   12079           3     Jostrem16   \n",
       "3       222387 2009-10-04 17:14:26    3071           4     Clubfan78   \n",
       "4       222387 2009-10-04 17:36:06    1773           5    Momstired2   \n",
       "5       222387 2009-10-04 17:58:02     476           6  Heiligsblech   \n",
       "6       222387 2009-10-04 18:05:18      40           7     Clubfan78   \n",
       "7       222387 2009-10-04 18:05:40      20           8   Buildergirl   \n",
       "8       222387 2009-10-04 18:05:44      20           9     Clubfan78   \n",
       "9       222387 2009-10-04 18:06:02      20          10      Ammoniac   \n",
       "10      222387 2009-10-04 18:06:03      20          11      Marcusbw   \n",
       "11      222387 2009-10-04 18:06:04      20          12    Digger1964   \n",
       "12      222387 2009-10-04 18:06:08      20          13     Clubfan78   \n",
       "13      222387 2009-10-04 18:06:11      20          14   Buildergirl   \n",
       "14      222387 2009-10-04 18:06:14      20          15     Clubfan78   \n",
       "\n",
       "    bid_butler  bid_cp  bid_user_secs_added  bid_butler_secs_added  \\\n",
       "0            0    0.12                    0                      0   \n",
       "1            0    0.24                    4                      0   \n",
       "2            0    0.36                    4                      0   \n",
       "3            0    0.48                   10                      0   \n",
       "4            0    0.60                    2                      0   \n",
       "5            0    0.72                   19                      0   \n",
       "6            0    0.84                    1                      0   \n",
       "7            0    0.96                    1                      0   \n",
       "8            0    1.08                    2                      0   \n",
       "9            0    1.20                   18                      0   \n",
       "10           0    1.32                    0                      0   \n",
       "11           0    1.44                    0                      0   \n",
       "12           0    1.56                    3                      0   \n",
       "13           0    1.68                    2                      0   \n",
       "14           0    1.80                    1                      0   \n",
       "\n",
       "    bid_infered  bid_group  bid_final  \n",
       "0             0          0          0  \n",
       "1             0          1          0  \n",
       "2             0          2          0  \n",
       "3             0          3          0  \n",
       "4             0          4          0  \n",
       "5             0          5          0  \n",
       "6             0          6          0  \n",
       "7             0          7          0  \n",
       "8             0          8          0  \n",
       "9             0          9          0  \n",
       "10            0         10          0  \n",
       "11            0         11          0  \n",
       "12            0         12          0  \n",
       "13            0         13          0  \n",
       "14            0         14          0  "
      ]
     },
     "execution_count": 74,
     "metadata": {},
     "output_type": "execute_result"
    }
   ],
   "source": [
    "tracesDfAuctionId222387.head(15)"
   ]
  },
  {
   "cell_type": "markdown",
   "metadata": {},
   "source": [
    "Since the majority of the bids were placed when the countdown clock had a low value, it has been decided to analyze the bids that were placed after the countdown clock reached the value of 20 seconds for the first time.\n",
    "\n",
    "Each point in the following figure represents a bid that was placed. The X axis represents the number of seconds left (with a negative value to see the figure from left to right) before the auction ends (at value 0). The Y value represents the value of the countdown clock.\n",
    "\n",
    "As it can be seen, the majority of the bids that were placed made the countdown clock reset its value back to 20 seconds. Then, the value went down to 15 seconds until the last bid that was placed (by the winner)."
   ]
  },
  {
   "cell_type": "code",
   "execution_count": 75,
   "metadata": {},
   "outputs": [
    {
     "data": {
      "image/png": "[encoded data removed]",
      "text/plain": [
       "<matplotlib.figure.Figure at 0x7f4c221d02e8>"
      ]
     },
     "metadata": {},
     "output_type": "display_data"
    }
   ],
   "source": [
    "tracesDfAuctionId222387CountDown20 = tracesDfAuctionId222387[tracesDfAuctionId222387['bid_ct']<=20]\n",
    "secondsToEndAndCountDownClockValue = (endingTime-tracesDfAuctionId222387CountDown20['bid_time']).apply(lambda x : -x.seconds)\n",
    "plt.figure(figsize=(17,5))\n",
    "plt.plot(secondsToEndAndCountDownClockValue,tracesDfAuctionId222387CountDown20['bid_ct'])\n",
    "plt.scatter(secondsToEndAndCountDownClockValue,tracesDfAuctionId222387CountDown20['bid_ct'])\n",
    "plt.xlabel('Number of seconds left before the auction ends (seconds)')\n",
    "plt.ylabel('Value of the coundown clock (seconds)')\n",
    "plt.show()"
   ]
  },
  {
   "cell_type": "markdown",
   "metadata": {},
   "source": [
    "Generally, when the auction is about to end, a few users place auctions consecutively until one of them decides to keep bidding while the others do not.\n",
    "\n",
    "As an example, the next figure represents the last bids that were placed (the ones for which the value of the countdown clock was 15 seconds), and the colors of the points represent the users that placed the bids. In the end, the auction becomes a \"battle\" between user \"Pjhuzz7579\" and user \"Clubfan78\" (who ends up winning the auction)."
   ]
  },
  {
   "cell_type": "code",
   "execution_count": 76,
   "metadata": {},
   "outputs": [
    {
     "data": {
      "text/plain": [
       "<matplotlib.figure.Figure at 0x7f4c221d04e0>"
      ]
     },
     "metadata": {},
     "output_type": "display_data"
    },
    {
     "data": {
      "image/png": "[encoded data removed]",
      "text/plain": [
       "<matplotlib.figure.Figure at 0x7f4bf7855b00>"
      ]
     },
     "metadata": {},
     "output_type": "display_data"
    }
   ],
   "source": [
    "import seaborn as sns\n",
    "\n",
    "tracesDfAuctionId222387CountDown15 = tracesDfAuctionId222387[tracesDfAuctionId222387['bid_ct']==15]\n",
    "secondsToEndAndCountDownClockValue = (endingTime-tracesDfAuctionId222387CountDown15['bid_time']).apply(lambda x : -x.seconds)\n",
    "\n",
    "plotDf = pd.DataFrame(dict(number_of_seconds_left=secondsToEndAndCountDownClockValue, countdown_clock_value=tracesDfAuctionId222387CountDown15['bid_ct'], bid_user=tracesDfAuctionId222387CountDown15['bid_user']))\n",
    "plt.figure(figsize=(17,5))\n",
    "sns.lmplot('number_of_seconds_left', 'countdown_clock_value', data=plotDf, hue='bid_user', fit_reg=False,size=8,aspect=1.4)\n",
    "plt.xlabel('Number of seconds left before the auction ends (seconds)')\n",
    "plt.ylabel('Value of the coundown clock (seconds)')\n",
    "plt.ylim((0, 20))\n",
    "plt.show()"
   ]
  },
  {
   "cell_type": "code",
   "execution_count": 77,
   "metadata": {},
   "outputs": [
    {
     "data": {
      "text/html": [
       "<div>\n",
       "<style>\n",
       "    .dataframe thead tr:only-child th {\n",
       "        text-align: right;\n",
       "    }\n",
       "\n",
       "    .dataframe thead th {\n",
       "        text-align: left;\n",
       "    }\n",
       "\n",
       "    .dataframe tbody tr th {\n",
       "        vertical-align: top;\n",
       "    }\n",
       "</style>\n",
       "<table border=\"1\" class=\"dataframe\">\n",
       "  <thead>\n",
       "    <tr style=\"text-align: right;\">\n",
       "      <th></th>\n",
       "      <th>bid_time</th>\n",
       "      <th>bid_number</th>\n",
       "      <th>bid_user</th>\n",
       "    </tr>\n",
       "  </thead>\n",
       "  <tbody>\n",
       "    <tr>\n",
       "      <th>141</th>\n",
       "      <td>2009-10-04 18:16:35</td>\n",
       "      <td>142</td>\n",
       "      <td>Pjhuzz7579</td>\n",
       "    </tr>\n",
       "    <tr>\n",
       "      <th>142</th>\n",
       "      <td>2009-10-04 18:16:37</td>\n",
       "      <td>143</td>\n",
       "      <td>Clubfan78</td>\n",
       "    </tr>\n",
       "    <tr>\n",
       "      <th>143</th>\n",
       "      <td>2009-10-04 18:16:46</td>\n",
       "      <td>144</td>\n",
       "      <td>Pjhuzz7579</td>\n",
       "    </tr>\n",
       "    <tr>\n",
       "      <th>144</th>\n",
       "      <td>2009-10-04 18:16:48</td>\n",
       "      <td>145</td>\n",
       "      <td>Clubfan78</td>\n",
       "    </tr>\n",
       "    <tr>\n",
       "      <th>145</th>\n",
       "      <td>2009-10-04 18:16:51</td>\n",
       "      <td>146</td>\n",
       "      <td>Pjhuzz7579</td>\n",
       "    </tr>\n",
       "    <tr>\n",
       "      <th>146</th>\n",
       "      <td>2009-10-04 18:16:53</td>\n",
       "      <td>147</td>\n",
       "      <td>Clubfan78</td>\n",
       "    </tr>\n",
       "    <tr>\n",
       "      <th>147</th>\n",
       "      <td>2009-10-04 18:16:55</td>\n",
       "      <td>148</td>\n",
       "      <td>Pjhuzz7579</td>\n",
       "    </tr>\n",
       "    <tr>\n",
       "      <th>148</th>\n",
       "      <td>2009-10-04 18:16:56</td>\n",
       "      <td>149</td>\n",
       "      <td>Clubfan78</td>\n",
       "    </tr>\n",
       "    <tr>\n",
       "      <th>149</th>\n",
       "      <td>2009-10-04 18:17:00</td>\n",
       "      <td>150</td>\n",
       "      <td>Pjhuzz7579</td>\n",
       "    </tr>\n",
       "    <tr>\n",
       "      <th>150</th>\n",
       "      <td>2009-10-04 18:17:06</td>\n",
       "      <td>151</td>\n",
       "      <td>Clubfan78</td>\n",
       "    </tr>\n",
       "  </tbody>\n",
       "</table>\n",
       "</div>"
      ],
      "text/plain": [
       "               bid_time  bid_number    bid_user\n",
       "141 2009-10-04 18:16:35         142  Pjhuzz7579\n",
       "142 2009-10-04 18:16:37         143   Clubfan78\n",
       "143 2009-10-04 18:16:46         144  Pjhuzz7579\n",
       "144 2009-10-04 18:16:48         145   Clubfan78\n",
       "145 2009-10-04 18:16:51         146  Pjhuzz7579\n",
       "146 2009-10-04 18:16:53         147   Clubfan78\n",
       "147 2009-10-04 18:16:55         148  Pjhuzz7579\n",
       "148 2009-10-04 18:16:56         149   Clubfan78\n",
       "149 2009-10-04 18:17:00         150  Pjhuzz7579\n",
       "150 2009-10-04 18:17:06         151   Clubfan78"
      ]
     },
     "execution_count": 77,
     "metadata": {},
     "output_type": "execute_result"
    }
   ],
   "source": [
    "tracesDfAuctionId222387.tail(10)[['bid_time','bid_number','bid_user']]"
   ]
  },
  {
   "cell_type": "markdown",
   "metadata": {},
   "source": [
    "Now, we proceed to analyze all of the traces contained in the dataset."
   ]
  },
  {
   "cell_type": "code",
   "execution_count": 78,
   "metadata": {},
   "outputs": [],
   "source": [
    "tracesGroupByAuctionIdDf = tracesDf.groupby(by='auction_id')"
   ]
  },
  {
   "cell_type": "markdown",
   "metadata": {},
   "source": [
    "The average auction duration (calculated as the time that passed between the first bid and the last bid placed for that auction) is 7 hours and 10 minutes:"
   ]
  },
  {
   "cell_type": "code",
   "execution_count": 79,
   "metadata": {
    "scrolled": true
   },
   "outputs": [
    {
     "data": {
      "text/plain": [
       "Timedelta('0 days 07:10:20.507819')"
      ]
     },
     "execution_count": 79,
     "metadata": {},
     "output_type": "execute_result"
    }
   ],
   "source": [
    "tracesAuctionDuration = (tracesGroupByAuctionIdDf['bid_time']).apply(lambda x: max(x)-min(x))\n",
    "np.mean(tracesAuctionDuration)"
   ]
  },
  {
   "cell_type": "markdown",
   "metadata": {},
   "source": [
    "Some users changed their username during the time that the auction traces were recorded, while others used their phone to place bids, and their phone number was the username recorded in the traces.\n",
    "\n",
    "As an example, the last trace recorded for auction_id = 243299, corresponds to the user \"Thedduell\"."
   ]
  },
  {
   "cell_type": "code",
   "execution_count": 80,
   "metadata": {},
   "outputs": [
    {
     "data": {
      "text/html": [
       "<div>\n",
       "<style>\n",
       "    .dataframe thead tr:only-child th {\n",
       "        text-align: right;\n",
       "    }\n",
       "\n",
       "    .dataframe thead th {\n",
       "        text-align: left;\n",
       "    }\n",
       "\n",
       "    .dataframe tbody tr th {\n",
       "        vertical-align: top;\n",
       "    }\n",
       "</style>\n",
       "<table border=\"1\" class=\"dataframe\">\n",
       "  <thead>\n",
       "    <tr style=\"text-align: right;\">\n",
       "      <th></th>\n",
       "      <th>auction_id</th>\n",
       "      <th>bid_time</th>\n",
       "      <th>bid_ct</th>\n",
       "      <th>bid_number</th>\n",
       "      <th>bid_user</th>\n",
       "      <th>bid_butler</th>\n",
       "      <th>bid_cp</th>\n",
       "      <th>bid_user_secs_added</th>\n",
       "      <th>bid_butler_secs_added</th>\n",
       "      <th>bid_infered</th>\n",
       "      <th>bid_group</th>\n",
       "      <th>bid_final</th>\n",
       "    </tr>\n",
       "  </thead>\n",
       "  <tbody>\n",
       "    <tr>\n",
       "      <th>1300456</th>\n",
       "      <td>243299</td>\n",
       "      <td>2009-11-13 19:29:08</td>\n",
       "      <td>0</td>\n",
       "      <td>393</td>\n",
       "      <td>Thedduell</td>\n",
       "      <td>1</td>\n",
       "      <td>47.16</td>\n",
       "      <td>1</td>\n",
       "      <td>2</td>\n",
       "      <td>0</td>\n",
       "      <td>182</td>\n",
       "      <td>1</td>\n",
       "    </tr>\n",
       "  </tbody>\n",
       "</table>\n",
       "</div>"
      ],
      "text/plain": [
       "         auction_id            bid_time  bid_ct  bid_number   bid_user  \\\n",
       "1300456      243299 2009-11-13 19:29:08       0         393  Thedduell   \n",
       "\n",
       "         bid_butler  bid_cp  bid_user_secs_added  bid_butler_secs_added  \\\n",
       "1300456           1   47.16                    1                      2   \n",
       "\n",
       "         bid_infered  bid_group  bid_final  \n",
       "1300456            0        182          1  "
      ]
     },
     "execution_count": 80,
     "metadata": {},
     "output_type": "execute_result"
    }
   ],
   "source": [
    "tracesDf[tracesDf['auction_id']==243299].tail(1)"
   ]
  },
  {
   "cell_type": "markdown",
   "metadata": {},
   "source": [
    "However, in the public information provided by Swoopo about all auction results, the winner's username is \"TheDuelMaster\"."
   ]
  },
  {
   "cell_type": "code",
   "execution_count": 81,
   "metadata": {},
   "outputs": [
    {
     "data": {
      "text/html": [
       "<div>\n",
       "<style>\n",
       "    .dataframe thead tr:only-child th {\n",
       "        text-align: right;\n",
       "    }\n",
       "\n",
       "    .dataframe thead th {\n",
       "        text-align: left;\n",
       "    }\n",
       "\n",
       "    .dataframe tbody tr th {\n",
       "        vertical-align: top;\n",
       "    }\n",
       "</style>\n",
       "<table border=\"1\" class=\"dataframe\">\n",
       "  <thead>\n",
       "    <tr style=\"text-align: right;\">\n",
       "      <th></th>\n",
       "      <th>auction_id</th>\n",
       "      <th>product_id</th>\n",
       "      <th>item</th>\n",
       "      <th>desc</th>\n",
       "      <th>retail</th>\n",
       "      <th>price</th>\n",
       "      <th>finalprice</th>\n",
       "      <th>bidincrement</th>\n",
       "      <th>bidfee</th>\n",
       "      <th>winner</th>\n",
       "      <th>...</th>\n",
       "      <th>freebids</th>\n",
       "      <th>endtime_str</th>\n",
       "      <th>flg_click_only</th>\n",
       "      <th>flg_beginnerauction</th>\n",
       "      <th>flg_fixedprice</th>\n",
       "      <th>flg_endprice</th>\n",
       "      <th>bids_placed</th>\n",
       "      <th>swoopo_sale_price</th>\n",
       "      <th>swoopo_profit</th>\n",
       "      <th>winner_benefit</th>\n",
       "    </tr>\n",
       "  </thead>\n",
       "  <tbody>\n",
       "    <tr>\n",
       "      <th>113206</th>\n",
       "      <td>243299</td>\n",
       "      <td>10006485</td>\n",
       "      <td>wii-nintendo-console-wii-sports</td>\n",
       "      <td>Wii | Nintendo Console + Wii Sports</td>\n",
       "      <td>199.99</td>\n",
       "      <td>47.16</td>\n",
       "      <td>47.16</td>\n",
       "      <td>0.12</td>\n",
       "      <td>0.6</td>\n",
       "      <td>TheDuelMaster</td>\n",
       "      <td>...</td>\n",
       "      <td>0</td>\n",
       "      <td>2009-11-13 11:28:00</td>\n",
       "      <td>0</td>\n",
       "      <td>0</td>\n",
       "      <td>0</td>\n",
       "      <td>0</td>\n",
       "      <td>393.0</td>\n",
       "      <td>272.22267</td>\n",
       "      <td>72.23267</td>\n",
       "      <td>93.43</td>\n",
       "    </tr>\n",
       "  </tbody>\n",
       "</table>\n",
       "<p>1 rows × 21 columns</p>\n",
       "</div>"
      ],
      "text/plain": [
       "        auction_id  product_id                             item  \\\n",
       "113206      243299    10006485  wii-nintendo-console-wii-sports   \n",
       "\n",
       "                                       desc  retail  price  finalprice  \\\n",
       "113206  Wii | Nintendo Console + Wii Sports  199.99  47.16       47.16   \n",
       "\n",
       "        bidincrement  bidfee         winner       ...        freebids  \\\n",
       "113206          0.12     0.6  TheDuelMaster       ...               0   \n",
       "\n",
       "               endtime_str flg_click_only  flg_beginnerauction  \\\n",
       "113206 2009-11-13 11:28:00              0                    0   \n",
       "\n",
       "        flg_fixedprice  flg_endprice  bids_placed  swoopo_sale_price  \\\n",
       "113206               0             0        393.0          272.22267   \n",
       "\n",
       "        swoopo_profit  winner_benefit  \n",
       "113206       72.23267           93.43  \n",
       "\n",
       "[1 rows x 21 columns]"
      ]
     },
     "execution_count": 81,
     "metadata": {},
     "output_type": "execute_result"
    }
   ],
   "source": [
    "outcomesDf[outcomesDf['auction_id']==243299]"
   ]
  },
  {
   "cell_type": "markdown",
   "metadata": {},
   "source": [
    "The last time that traces for the username \"Thedduell\" were recorded was on 2009-11-13 19:29:08. The first time that traces for the username \"TheDuelMaster\" were recorded was on 2009-11-26 20:25:55. Therefore, this user must have changed his or her username during this period of time, and Swoopo's public information must show the last username."
   ]
  },
  {
   "cell_type": "code",
   "execution_count": 82,
   "metadata": {},
   "outputs": [
    {
     "name": "stdout",
     "output_type": "stream",
     "text": [
      "2009-11-13 19:29:08\n",
      "2009-11-26 20:25:55\n"
     ]
    }
   ],
   "source": [
    "#old username\n",
    "print(max(tracesDf[tracesDf['bid_user']=='Thedduell']['bid_time']))\n",
    "\n",
    "#new username\n",
    "print(min(tracesDf[tracesDf['bid_user']=='TheDuelMaster']['bid_time']))"
   ]
  },
  {
   "cell_type": "markdown",
   "metadata": {},
   "source": [
    "Every other case such as this one (in which the winner's username recorded in the traces is different than to the one published by Swoopo for that auction) has been identified. The usernames appearing in the traces have been modified to match the ones publicly shared by Swoopo."
   ]
  },
  {
   "cell_type": "code",
   "execution_count": 83,
   "metadata": {},
   "outputs": [],
   "source": [
    "tracesDf['bid_user'] = tracesDf['bid_user'].replace('JEi66', 'Ei66')\n",
    "tracesDf['bid_user'] = tracesDf['bid_user'].replace('Gibaufjunge', 'GeRi49')\n",
    "tracesDf['bid_user'] = tracesDf['bid_user'].replace('+4925729233XXX', '4925729233XXX')\n",
    "tracesDf['bid_user'] = tracesDf['bid_user'].replace('Brappa', 'ChancyBid')\n",
    "tracesDf['bid_user'] = tracesDf['bid_user'].replace('Sieselber', 'JeGe87')\n",
    "tracesDf['bid_user'] = tracesDf['bid_user'].replace('Real Deal', 'Deal')\n",
    "tracesDf['bid_user'] = tracesDf['bid_user'].replace('PitBull 01', '01')\n",
    "tracesDf['bid_user'] = tracesDf['bid_user'].replace('Xzhuang', 'davis95618')\n",
    "tracesDf['bid_user'] = tracesDf['bid_user'].replace('Holzfer89', 'ller89')\n",
    "tracesDf['bid_user'] = tracesDf['bid_user'].replace('dinoo', '1000freeb1ds')\n",
    "tracesDf['bid_user'] = tracesDf['bid_user'].replace('Lakeboy956', 'slmktv')\n",
    "tracesDf['bid_user'] = tracesDf['bid_user'].replace('Thedduell', 'TheDuelMaster')\n",
    "tracesDf['bid_user'] = tracesDf['bid_user'].replace('+442071991XXX', 'Pagloo')\n",
    "tracesDf['bid_user'] = tracesDf['bid_user'].replace('+442073214XXX', 'Pagloo')\n",
    "tracesDf['bid_user'] = tracesDf['bid_user'].replace('+491774483XXX', 'Erkanimmer')\n",
    "tracesDf['bid_user'] = tracesDf['bid_user'].replace('+441287201XXX', 'Darcireece')\n",
    "tracesDf['bid_user'] = tracesDf['bid_user'].replace('+447949836XXX', 'Jules39')\n",
    "tracesDf['bid_user'] = tracesDf['bid_user'].replace('Dooberdon', 'donoo')\n",
    "tracesDf['bid_user'] = tracesDf['bid_user'].replace('+4953612211XXX', 'karim2002')\n",
    "tracesDf['bid_user'] = tracesDf['bid_user'].replace('+494864XXX', 'Paddytiger')\n",
    "tracesDf['bid_user'] = tracesDf['bid_user'].replace('+4977248807XXX', 'Panchoo')\n",
    "tracesDf['bid_user'] = tracesDf['bid_user'].replace('Cjdumpty', 'dumpty')\n",
    "tracesDf['bid_user'] = tracesDf['bid_user'].replace('+4917624887XXX', '4917624887XXX')\n",
    "tracesDf['bid_user'] = tracesDf['bid_user'].replace('Steve22256', 'Brusher2')"
   ]
  },
  {
   "cell_type": "markdown",
   "metadata": {},
   "source": [
    "For each auction recorded in the traces, the following function is used to store the following information in a dictionary: \n",
    "- The auction id\n",
    "- The mean time difference between all bids placed by the winner.\n",
    "- The number of bids placed for each value of the countdown clock.\n",
    "- The count of all of the bids placed in the auction, and the count of the bids that were placed by the winner.\n",
    "- The count of all of the bids in the auction that were placed using Bid Butlers, and the count of the bids placed by the winner using a Bid Butler.\n",
    "- Whether the winning bid was placed using a BidButler or not.\n",
    "- The mean number of bids placed by the users that lost the auction.\n",
    "- The mean time difference between the bids placed by the users that lost the auction."
   ]
  },
  {
   "cell_type": "code",
   "execution_count": 84,
   "metadata": {},
   "outputs": [],
   "source": [
    "def getTraceStatistics(auctionRows):\n",
    "    auctionId = auctionRows['auction_id'].unique()[0]\n",
    "    \n",
    "    #winner publicly published by Swoopo \n",
    "    actualWinner = outcomesDf[outcomesDf['auction_id']==auctionId]['winner'].unique()[0]   \n",
    "    #rows in the traces corresponding to the winner\n",
    "    winnerUserRows = auctionRows[auctionRows['bid_user'] == actualWinner]\n",
    "    #rows in the traces corresponding to the losers\n",
    "    loserUsersRows = auctionRows[auctionRows['bid_user'] != actualWinner]\n",
    "    \n",
    "    isFirstRow = True\n",
    "    lastBidTimeWinner = None\n",
    "    lastBidIsBidButlerBid = False\n",
    "    timeBetweenWinnerBids = []    \n",
    "    counter = 0\n",
    "    \n",
    "    for index, row in winnerUserRows.iterrows():\n",
    "        #iteration throughout all of the bids placed by the winner\n",
    "        if isFirstRow:            \n",
    "            isFirstRow = False\n",
    "            #first bid\n",
    "            lastBidTimeWinner = row['bid_time']\n",
    "            if winnerUserRows.shape[0] == 1:\n",
    "                #case in which the winner has placed a single bid\n",
    "                \n",
    "                #The time between bids is considered to be zero, and a\n",
    "                #TimeDelta of value zero is stored as a placeholder\n",
    "                #for the time difference between winner bids in this auction\n",
    "                timeBetweenWinnerBids.append(lastBidTimeWinner-lastBidTimeWinner)\n",
    "                if counter == winnerUserRows.shape[0]-1:\n",
    "                    #last bid placed by the winner (i.e., winning bid)\n",
    "                    if row['bid_butler'] == 1:\n",
    "                        #last bid was placed using a Bid Butler\n",
    "                        lastBidIsBidButlerBid = True\n",
    "            counter += 1\n",
    "            continue\n",
    "            \n",
    "        bidTime = row['bid_time']\n",
    "        #time difference between the current bid and the last bid\n",
    "        bidTimeDifference = bidTime - lastBidTimeWinner\n",
    "        #time differences are stored in a list\n",
    "        timeBetweenWinnerBids.append(bidTimeDifference)\n",
    "        lastBidTimeWinner = row['bid_time'] \n",
    "        if counter == winnerUserRows.shape[0]-1:\n",
    "            #last bid placed by the winner (i.e., winning bid)\n",
    "            if row['bid_butler'] == 1:\n",
    "                #last bid was placed using a Bid Butler\n",
    "                lastBidIsBidButlerBid = True\n",
    "        counter += 1\n",
    "\n",
    "    #dictionary containing the username and bidding times for all the users that lost the auction\n",
    "    loserUserNamesToBiddingTimes = {}   \n",
    "    for index, row in loserUsersRows.iterrows():\n",
    "        #iteration throughout all of the bids placed by the losers\n",
    "        bidTime = row['bid_time']\n",
    "        userName = row['bid_user']\n",
    "        \n",
    "        if userName in loserUserNamesToBiddingTimes:\n",
    "            loserUserNamesToBiddingTimes[userName].append(bidTime)\n",
    "        else:\n",
    "            loserUserNamesToBiddingTimes[userName] = [bidTime]\n",
    "    \n",
    "    #list containing the number of bids that each user that lost the auction placed\n",
    "    bidsPlacedPerLoserUser = []\n",
    "    #list containing the mean time difference between the bids placed by the users\n",
    "    #that lost the auction\n",
    "    meanTimeDifferenceBetweenBidsPerLoserUser = []\n",
    "    \n",
    "    for userName, bidTimes in loserUserNamesToBiddingTimes.items():\n",
    "        #number of bids placed by the user\n",
    "        loserUserNameNumberOfBidsPlaced = len(bidTimes)\n",
    "        bidsPlacedPerLoserUser.append(loserUserNameNumberOfBidsPlaced)\n",
    "        \n",
    "        timeDifferenceBetweenBids = []\n",
    "        if loserUserNameNumberOfBidsPlaced > 1:\n",
    "            #the time difference is calculated in the case that the user\n",
    "            #placed more than one bid\n",
    "            for index in range (1,len(bidTimes)):\n",
    "                timeDifferenceBetweenBids.append(bidTimes[index]-bidTimes[index-1])\n",
    "            \n",
    "            #mean time difference    \n",
    "            meanTimeDifferenceBetweenBids = np.mean(timeDifferenceBetweenBids)\n",
    "            meanTimeDifferenceBetweenBidsPerLoserUser.append(meanTimeDifferenceBetweenBids)\n",
    "    \n",
    "    if not bidsPlacedPerLoserUser:\n",
    "        #the only user that bidded in this auction was the user that won the auction.\n",
    "        #in order to calculate the average, it is then indicated that the number of\n",
    "        #bids placed by the losers is zero.\n",
    "        bidsPlacedPerLoserUser.append(0)\n",
    "\n",
    "    if not meanTimeDifferenceBetweenBidsPerLoserUser:\n",
    "        #the only user that bidded in the auction was the user that won the auction,\n",
    "        #or all of the other users only bidded once, so it was not possible to calculate\n",
    "        #a time difference for their bids\n",
    "        \n",
    "        #TimeDelta of value zero is stored as a placeholder\n",
    "        meanTimeDifferenceBetweenBidsPerLoserUser.append(pd.Timedelta('0 days 00:00:00'))      \n",
    "    \n",
    "    #mean number of bids placed by all losers\n",
    "    meanNumberOfBidsPlacedPerLoserUsers = np.mean(bidsPlacedPerLoserUser)\n",
    "    #mean time difference between all losers' bids\n",
    "    meanOfMeanTimeDifferenceBetweenBidsPerLoserUsers = np.mean(meanTimeDifferenceBetweenBidsPerLoserUser)        \n",
    "        \n",
    "    if not timeBetweenWinnerBids:\n",
    "        #line used to check that all winner usernames correspond to the same ones published by Swoopo\n",
    "        #the list storing the time differences is empty when the DF winnerUserRows is empty (i.e., when\n",
    "        #there are no traces with the username published by Swoopo as the auction winner)\n",
    "        print('auctionID: '+ str(auctionId) +' : winner\\'s username does not correspond to the one published by Swoopo')\n",
    "    \n",
    "    #Mean time difference between all bids placed by the winner.\n",
    "    meanTimeBetweenWinnerBids = np.mean(timeBetweenWinnerBids)\n",
    "    \n",
    "    #Number of bids placed for each value of the countdown clock\n",
    "    bidsPerCountdownClockValue = auctionRows.groupby(by='bid_ct')['bid_ct'].count()\n",
    "    \n",
    "    #Count of all bids placed in the auction, and count of bids placed by the winner\n",
    "    totalBidsCount = auctionRows.shape[0]\n",
    "    winnerBidsCount = winnerUserRows.shape[0]\n",
    "   \n",
    "    #Count of all bids placed with Bid Butlers in the auction, \n",
    "    #and count of bids placed by the winner using a Bid Butler\n",
    "    totalBidButlerBidsCount = np.sum(auctionRows['bid_butler'])        \n",
    "    winnerBidButlerBidsCount = np.sum(winnerUserRows['bid_butler'])    \n",
    "\n",
    "    auctionIdTraceStatistics = {\n",
    "        \"auctionId\" : auctionId,\n",
    "        \"meanTimeBetweenWinnerBids\" : meanTimeBetweenWinnerBids,\n",
    "        \"bidsPerCountdownClockValue\" : bidsPerCountdownClockValue,\n",
    "        \"totalBidsCount\" : totalBidsCount,\n",
    "        \"winnerBidsCount\" : winnerBidsCount,\n",
    "        \"totalBidButlerBidsCount\" : totalBidButlerBidsCount,\n",
    "        \"winnerBidButlerBidsCount\" : winnerBidButlerBidsCount,\n",
    "        \"lastBidIsBidButlerBid\" : lastBidIsBidButlerBid,\n",
    "        \"meanNumberOfBidsPlacedPerLoserUsers\" : meanNumberOfBidsPlacedPerLoserUsers,\n",
    "        \"meanOfMeanTimeDifferenceBetweenBidsPerLoserUsers\" : meanOfMeanTimeDifferenceBetweenBidsPerLoserUsers \n",
    "    }\n",
    "    \n",
    "    return auctionIdTraceStatistics\n",
    " \n",
    "#the function is called once per each different auction\n",
    "auctionIdTraceStatistics = tracesGroupByAuctionIdDf.apply(getTraceStatistics)"
   ]
  },
  {
   "cell_type": "markdown",
   "metadata": {},
   "source": [
    "The information is extracted from the dictionary and placed in different lists:"
   ]
  },
  {
   "cell_type": "code",
   "execution_count": 85,
   "metadata": {
    "scrolled": false
   },
   "outputs": [],
   "source": [
    "auctionIdList=[]\n",
    "meanTimeBetweenWinnerBidsList=[]\n",
    "bidsPerCountdownClockValueList=[]\n",
    "totalBidsCountList=[]\n",
    "winnerBidsCountList=[]\n",
    "totalBidButlerBidsCountList=[]\n",
    "winnerBidButlerBidsCountList=[]\n",
    "lastBidIsBidButlerBidList=[]\n",
    "meanNumberOfBidsPlacedPerLoserUsersList=[]\n",
    "meanOfMeanTimeDifferenceBetweenBidsPerLoserUsersList=[]\n",
    "\n",
    "for index, value in auctionIdTraceStatistics.iteritems():\n",
    "    auctionIdList.append(value.get('auctionId'))\n",
    "    meanTimeBetweenWinnerBidsList.append(value.get('meanTimeBetweenWinnerBids'))\n",
    "    bidsPerCountdownClockValueList.append(value.get('bidsPerCountdownClockValue'))\n",
    "    totalBidsCountList.append(value.get('totalBidsCount'))\n",
    "    winnerBidsCountList.append(value.get('winnerBidsCount'))\n",
    "    totalBidButlerBidsCountList.append(value.get('totalBidButlerBidsCount'))\n",
    "    winnerBidButlerBidsCountList.append(value.get('winnerBidButlerBidsCount'))\n",
    "    lastBidIsBidButlerBidList.append(value.get('lastBidIsBidButlerBid'))\n",
    "    meanNumberOfBidsPlacedPerLoserUsersList.append(value.get('meanNumberOfBidsPlacedPerLoserUsers'))\n",
    "    meanOfMeanTimeDifferenceBetweenBidsPerLoserUsersList.append(value.get('meanOfMeanTimeDifferenceBetweenBidsPerLoserUsers'))"
   ]
  },
  {
   "cell_type": "markdown",
   "metadata": {},
   "source": [
    "The mean time difference between the bids placed by the winners is around 5 minutes, while the mean time difference between the bids placed by the losers is around 13 minutes."
   ]
  },
  {
   "cell_type": "code",
   "execution_count": 86,
   "metadata": {},
   "outputs": [
    {
     "name": "stdout",
     "output_type": "stream",
     "text": [
      "Mean time difference between winner bids : 0 days 00:04:52.667649\n",
      "Mean time difference between loser bids : 0 days 00:12:49.368335\n"
     ]
    }
   ],
   "source": [
    "#A TimeDelta of value zero might have been stored as a placeholder for some auctions,\n",
    "#but it is not considered in the calculations\n",
    "zeroTimeDelta = pd.Timedelta('0 days 00:00:00')\n",
    "\n",
    "meanTimeBetweenWinnerBidsExcludingZeroTimeDeltasList = [x for x in meanTimeBetweenWinnerBidsList if x != zeroTimeDelta]\n",
    "meanTimeBetweenWinnerBidsExcludingZeroTimeDeltas= np.mean(meanTimeBetweenWinnerBidsExcludingZeroTimeDeltasList)\n",
    "\n",
    "meanTimeBetweenLoserBidsExcludingZeroTimeDeltasList = [x for x in meanOfMeanTimeDifferenceBetweenBidsPerLoserUsersList if x != zeroTimeDelta]\n",
    "meanTimeBetweenLoserBidsExcludingZeroTimeDeltas = np.mean(meanTimeBetweenLoserBidsExcludingZeroTimeDeltasList)\n",
    "\n",
    "print(\"Mean time difference between winner bids : \"+ str(meanTimeBetweenWinnerBidsExcludingZeroTimeDeltas))\n",
    "print(\"Mean time difference between loser bids : \"+ str(meanTimeBetweenLoserBidsExcludingZeroTimeDeltas))"
   ]
  },
  {
   "cell_type": "markdown",
   "metadata": {},
   "source": [
    "The number of bids placed is significantly different for different values of the countdown clock. This is because, when a bid is placed and the countdown clock is about to end, that bid increments the value of the countdown clock a few seconds, so that users do not place bids only a few seconds before the auction finishes."
   ]
  },
  {
   "cell_type": "code",
   "execution_count": 87,
   "metadata": {},
   "outputs": [],
   "source": [
    "bidsPerCountdownClockValueDictionary = {}\n",
    "for singleAuctionBidsPerCountdownClockValue in bidsPerCountdownClockValueList:\n",
    "    for index, value in singleAuctionBidsPerCountdownClockValue.iteritems():\n",
    "        if index in bidsPerCountdownClockValueDictionary:\n",
    "            bidsPerCountdownClockValueDictionary[index] += value\n",
    "        else:\n",
    "            bidsPerCountdownClockValueDictionary[index] = value\n",
    "\n",
    "sortedBidsPerCountdownClockValue = sorted(bidsPerCountdownClockValueDictionary.items(), key=operator.itemgetter(1), reverse = True)\n",
    "sortedBidsPerCountdownClockValue\n",
    "\n",
    "countdownClockValueList = []\n",
    "bidCountList = []\n",
    "for countdownClockValue, bidCount in sortedBidsPerCountdownClockValue:\n",
    "    countdownClockValueList.append(countdownClockValue)\n",
    "    bidCountList.append(bidCount)"
   ]
  },
  {
   "cell_type": "markdown",
   "metadata": {},
   "source": [
    "Most of the bids make the countdown clock restart its value to either 10 seconds (for bids placed when the countdown clock is displaying a value between 1 and 9 seconds), 15 seconds (for bids placed when the countdown clock is displaying a value between 11 and 14 seconds) or 20 seconds (for bids placed when the countdown clock is displaying a value between 16 and 19 seconds). This means that the majority of the bids are placed when the auction is supposedly (but not really) about to end, and the countdown clock has a very low value for a great part of the auction duration. This is a common practice in most pay-per-bid auction sites."
   ]
  },
  {
   "cell_type": "code",
   "execution_count": 88,
   "metadata": {},
   "outputs": [
    {
     "data": {
      "image/png": "[encoded data removed]",
      "text/plain": [
       "<matplotlib.figure.Figure at 0x7f4bf7874588>"
      ]
     },
     "metadata": {},
     "output_type": "display_data"
    }
   ],
   "source": [
    "plt.figure(figsize=(17,5))\n",
    "plt.subplot(121)\n",
    "plt.scatter(countdownClockValueList,bidCountList)\n",
    "plt.xlabel('Value of the countdown clock (seconds)')\n",
    "plt.ylabel('Number of bids placed')\n",
    "plt.title('Number of bids placed per value of the countdown clock')\n",
    "plt.subplot(122)\n",
    "plt.scatter(countdownClockValueList,bidCountList)\n",
    "plt.xlim((0, 35))\n",
    "plt.xlabel('Value of the countdown clock (seconds)')\n",
    "plt.ylabel('Number of bids placed')\n",
    "plt.title('Zoomed plot')\n",
    "plt.show()"
   ]
  },
  {
   "cell_type": "markdown",
   "metadata": {},
   "source": [
    "In average, for the auctions recorded in the traces, the winner places about 20% of all of the bids placed in the auction. Winners place around 35 bids per auction, while losers place around 6 bids per auction. Consequently, winning an auction normally implies placing a large number of bids as well as placing more bids than the other participants.\n",
    "\n",
    "As it has been mentioned before, Swoopo provides the user with the possibility of using Bid Butlers (automatic bidding agents that place automated bids according to user-defined restrictions when the auction timer drops below 10 seconds). In average, around 25% of all of the bids placed with Bid Butlers during a single auction are placed by the winner. Also, around 50% of all of the bids placed by winners are placed using Bid Butlers. Moreover, there is a change of around 33% that the last bid placed in an auction (i.e., the winning bid) was placed by a Bid Butler. Consequently, using Bid Butlers seems to be a good choice to win auctions."
   ]
  },
  {
   "cell_type": "code",
   "execution_count": 89,
   "metadata": {},
   "outputs": [
    {
     "name": "stdout",
     "output_type": "stream",
     "text": [
      "Percentage of winner bids over total bids : 0.19000447411\n",
      "Mean number of winner bids count : 34.3988848089\n",
      "Mean number of loser bids count : 5.77949720439\n",
      "Percentage of winner Bid Butler bids over total Bit Butler bids: 0.251864520599\n",
      "Percentage of winner Bid Butler bids over all winnner bids: 0.527875798336\n",
      "Probability that the last bid (winning bid) was placed by a Bid Butler : 0.313069495444\n"
     ]
    }
   ],
   "source": [
    "percentageWinnerBidsOverTotalBidsList = []\n",
    "percentageWinnerBidButlerBidsOverTotalBidButlerBidsList = []\n",
    "percentageWinnerBitButlerBidsOverAllWinnerBidsList = []\n",
    "\n",
    "for index in range(0,len(totalBidsCountList)):\n",
    "    percentageWinnerBidsOverTotalBids = winnerBidsCountList[index]/totalBidsCountList[index]\n",
    "    percentageWinnerBidsOverTotalBidsList.append(percentageWinnerBidsOverTotalBids)\n",
    "    \n",
    "    if totalBidButlerBidsCountList[index] == 0:\n",
    "        continue\n",
    "    percentageWinnerBidButlerBidsOverTotalBidButlerBids = winnerBidButlerBidsCountList[index]/totalBidButlerBidsCountList[index]\n",
    "    percentageWinnerBidButlerBidsOverTotalBidButlerBidsList.append(percentageWinnerBidButlerBidsOverTotalBidButlerBids)\n",
    "  \n",
    "    percentageWinnerBitButlerBidsOverAllWinnerBidsList.append(winnerBidButlerBidsCountList[index]/winnerBidsCountList[index])\n",
    "\n",
    "percentageWinnerBidsOverTotalBids = np.mean(percentageWinnerBidsOverTotalBidsList)\n",
    "meanWinnerBidsCount = np.mean(winnerBidsCountList)\n",
    "meanNumberOfBidsPlacedPerLoserUsersExcludingZerosList = [x for x in meanNumberOfBidsPlacedPerLoserUsersList if x != 0]\n",
    "meanLoserBidsCount = np.mean(meanNumberOfBidsPlacedPerLoserUsersExcludingZerosList)\n",
    "print('Percentage of winner bids over total bids : '+str(percentageWinnerBidsOverTotalBids))\n",
    "print('Mean number of winner bids count : '+str(meanWinnerBidsCount))\n",
    "print('Mean number of loser bids count : '+str(meanLoserBidsCount))\n",
    "\n",
    "percentageWinnerBidButlerBidsOverTotalBidButlerBids = np.mean(percentageWinnerBidButlerBidsOverTotalBidButlerBidsList)\n",
    "percentageWinnerBitButlerBidsOverAllWinnerBids = np.mean(percentageWinnerBitButlerBidsOverAllWinnerBidsList)\n",
    "print('Percentage of winner Bid Butler bids over total Bit Butler bids: '+ str(percentageWinnerBidButlerBidsOverTotalBidButlerBids))\n",
    "print('Percentage of winner Bid Butler bids over all winnner bids: '+ str(percentageWinnerBitButlerBidsOverAllWinnerBids))\n",
    "\n",
    "probabilityLastBidIsBidButlerBid = np.mean(lastBidIsBidButlerBidList)\n",
    "print('Probability that the last bid (winning bid) was placed by a Bid Butler : '+str(probabilityLastBidIsBidButlerBid))"
   ]
  },
  {
   "cell_type": "markdown",
   "metadata": {},
   "source": [
    "Nevertheless, for the auctions contained in the traces, the mean number of bids placed by the winners in the auctions that were won by placing the final bid with a Bid Butler is around 79 bids. The mean number of bids placed by the winners in the auctions that were NOT won by placing the final bid with a Bid Butler is much lower, around 28 bids. Therefore, although using Bid Butlers seems to be a good choice to win auctions, it generally implies placing a much larger number of bids."
   ]
  },
  {
   "cell_type": "code",
   "execution_count": 90,
   "metadata": {},
   "outputs": [
    {
     "name": "stdout",
     "output_type": "stream",
     "text": [
      "Mean number of bids placed by winners for the recorded auctions that were won by a Bid Butler bid : 78.64769765421373\n",
      "Mean number of bids placed by winners for the recorded auctions that were won by a non-Bid Butler bid : 28.307859829736685\n"
     ]
    }
   ],
   "source": [
    "lastBidIsBidButlerAuctionIdList=np.array(auctionIdList)[np.array(lastBidIsBidButlerBidList)]\n",
    "lastBidIsNotBidButlerAuctionIdList=np.array(auctionIdList)[np.invert(np.array(lastBidIsBidButlerBidList))]\n",
    "\n",
    "outcomesDfLastBidIsBidButlerAuctionIdList = outcomesDf[outcomesDf['auction_id'].isin(lastBidIsBidButlerAuctionIdList)]\n",
    "outcomesDfLastBidIsNotBidButlerAuctionIdList = outcomesDf[outcomesDf['auction_id'].isin(lastBidIsNotBidButlerAuctionIdList)]\n",
    "outcomesDfTracesAuctionList = outcomesDf[outcomesDf['auction_id'].isin(auctionIdList)]\n",
    "\n",
    "lastBidIsBidButlerCountPaidWinnerBids = outcomesDfLastBidIsBidButlerAuctionIdList['placedbids']\n",
    "lastBidIsBidButlerCountFreeWinnerBids = outcomesDfLastBidIsBidButlerAuctionIdList['freebids']\n",
    "lastBidIsBidButlerCountWinnerBids = lastBidIsBidButlerCountPaidWinnerBids + lastBidIsBidButlerCountFreeWinnerBids\n",
    "lastBidIsBidButlerMeanCountWinnerBids = np.mean(lastBidIsBidButlerCountWinnerBids)\n",
    "print('Mean number of bids placed by winners for the recorded auctions that were won by a Bid Butler bid : '+str(lastBidIsBidButlerMeanCountWinnerBids))\n",
    "\n",
    "lastBidIsNotBidButlerCountPaidWinnerBids = outcomesDfLastBidIsNotBidButlerAuctionIdList['placedbids']\n",
    "lastBidIsNotBidButlerCountFreeWinnerBids = outcomesDfLastBidIsNotBidButlerAuctionIdList['freebids']\n",
    "lastBidIsNotBidButlerCountWinnerBids = lastBidIsNotBidButlerCountPaidWinnerBids + lastBidIsNotBidButlerCountFreeWinnerBids\n",
    "lastBidIsNotBidButlerMeanCountWinnerBids = np.mean(lastBidIsNotBidButlerCountWinnerBids)\n",
    "print('Mean number of bids placed by winners for the recorded auctions that were won by a non-Bid Butler bid : '+str(lastBidIsNotBidButlerMeanCountWinnerBids))"
   ]
  },
  {
   "cell_type": "markdown",
   "metadata": {},
   "source": [
    "For the auctions recorded in the traces, the mean profit obtained by Swoopo over the retail price of the items in the auctions that were won by placing he final bid with a Bid Butler is around 130 dollars. The mean profit obtained by Swoopo for the auctions that were NOT won by placing the final bid with a Bid Butler is much lower, around 64 dollars. Therefore, the fact that users choose to use Bid Butlers to win auctions is benefitial for Swoopo in terms of profit.\n",
    "\n",
    "The mean profit obtained by Swoopo for all of the auctions contained in the traces is around 85 dollars. This value is much closer to the profit obtained for the auctions that were NOT won by placing the final bid with a Bid Butler, so this implies that most of the auctions are not won using a Bid Butler (as it has been mentioned before, the probability that the last bid (winning bid) was placed by a Bid Butler was around 33%)."
   ]
  },
  {
   "cell_type": "code",
   "execution_count": 91,
   "metadata": {},
   "outputs": [
    {
     "name": "stdout",
     "output_type": "stream",
     "text": [
      "Mean Swoopo profit for the auctions in the traces that were won by a Bid Butler bid : 130.40063889791293\n",
      "Mean Swoopo profit for the auctions in the traces that were won by non-Bid Butler bid : 63.880038453393446\n",
      "Mean Swoopo profit for all auctions in the traces : 84.70560927119375\n"
     ]
    }
   ],
   "source": [
    "meanSwoopoProfitLastBidIsBidButlerBid = np.mean(outcomesDfLastBidIsBidButlerAuctionIdList['swoopo_profit'])\n",
    "meanSwoopoProfitLastBidIsNotBidButlerBid = np.mean(outcomesDfLastBidIsNotBidButlerAuctionIdList['swoopo_profit'])\n",
    "meanSwoopoProfitAllTracedAuctions = np.mean(outcomesDfTracesAuctionList['swoopo_profit'])\n",
    "\n",
    "print('Mean Swoopo profit for the auctions in the traces that were won by a Bid Butler bid : '+str(meanSwoopoProfitLastBidIsBidButlerBid))\n",
    "print('Mean Swoopo profit for the auctions in the traces that were won by non-Bid Butler bid : '+str(meanSwoopoProfitLastBidIsNotBidButlerBid))\n",
    "print('Mean Swoopo profit for all auctions in the traces : '+str(meanSwoopoProfitAllTracedAuctions))"
   ]
  },
  {
   "cell_type": "markdown",
   "metadata": {},
   "source": [
    "Since a cleaning process has been performed throught the code executed before, the final DataFrame is saved as a new file:"
   ]
  },
  {
   "cell_type": "code",
   "execution_count": 92,
   "metadata": {},
   "outputs": [],
   "source": [
    "outcomesDf.to_csv('./traces_clean.tsv',sep='\\t')"
   ]
  },
  {
   "cell_type": "code",
   "execution_count": 93,
   "metadata": {},
   "outputs": [
    {
     "ename": "SyntaxError",
     "evalue": "invalid syntax (<ipython-input-93-cc17d9feaae9>, line 1)",
     "output_type": "error",
     "traceback": [
      "\u001b[0;36m  File \u001b[0;32m\"<ipython-input-93-cc17d9feaae9>\"\u001b[0;36m, line \u001b[0;32m1\u001b[0m\n\u001b[0;31m    cargar los dos DF limpios en todos los notebook\u001b[0m\n\u001b[0m             ^\u001b[0m\n\u001b[0;31mSyntaxError\u001b[0m\u001b[0;31m:\u001b[0m invalid syntax\n"
     ]
    }
   ],
   "source": [
    "cargar los dos DF limpios en todos los notebook"
   ]
  },
  {
   "cell_type": "code",
   "execution_count": null,
   "metadata": {},
   "outputs": [],
   "source": []
  },
  {
   "cell_type": "code",
   "execution_count": null,
   "metadata": {},
   "outputs": [],
   "source": [
    "outcomesDfItemDesc =outcomesDf[['item','desc']]\n",
    "outcomesDfItemDesc.head()\n",
    "outcomesDfItemDesc.shape\n",
    "itemColumnValueCounts = outcomesDf['item'].value_counts()\n",
    "itemColumnValueCounts.head()\n",
    "outcomesDfItemDesc.shape\n",
    "outcomesDfItemDesc = outcomesDfItemDesc.merge(itemColumnValueCounts.to_frame(),how='left',left_on='item',right_index=True)\n",
    "outcomesDfItemDesc = outcomesDfItemDesc.rename(columns={'item_x': 'item', 'item_y': 'item_count'})\n",
    "outcomesDfItemDesc.shape\n",
    "outcomesDfItemDesc\n",
    "descColumnValueCounts = outcomesDf['desc'].value_counts()\n",
    "descColumnValueCounts.head()\n",
    "outcomesDfItemDesc = outcomesDfItemDesc.merge(descColumnValueCounts.to_frame(),how='left',left_on='desc',right_index=True)\n",
    "outcomesDfItemDesc = outcomesDfItemDesc.rename(columns={'desc_x': 'desc', 'desc_y': 'desc_count'})\n",
    "outcomesDfItemDesc.shape\n",
    "outcomesDfItemDesc.head()\n",
    "outcomesDfItemDesc[outcomesDfItemDesc['item_count']!=outcomesDfItemDesc['desc_count']]['item'].unique()"
   ]
  },
  {
   "cell_type": "code",
   "execution_count": null,
   "metadata": {},
   "outputs": [],
   "source": [
    "outcomesDfItemDesc[outcomesDfItemDesc['item'].values==\"casio-exilim-ex-z200-10-1-mp-digital-cam\"]['desc'].unique()"
   ]
  },
  {
   "cell_type": "code",
   "execution_count": null,
   "metadata": {},
   "outputs": [],
   "source": [
    "for itemdesc in outcomesDf['desc'].unique():\n",
    "    print(itemdesc)"
   ]
  },
  {
   "cell_type": "code",
   "execution_count": null,
   "metadata": {},
   "outputs": [],
   "source": [
    "productCategoriesDf = pd.read_excel('./product_categories.xlsx')\n",
    "productCategoriesDf.head()"
   ]
  },
  {
   "cell_type": "code",
   "execution_count": null,
   "metadata": {},
   "outputs": [],
   "source": [
    "outcomesDfWithCategory = outcomesDf.merge(productCategoriesDf[['desc','category']],how='left')\n",
    "outcomesDfWithCategory.head()"
   ]
  },
  {
   "cell_type": "code",
   "execution_count": null,
   "metadata": {},
   "outputs": [],
   "source": [
    "outcomesDfWithCategory[outcomesDfWithCategory.isnull().any(1)]"
   ]
  },
  {
   "cell_type": "code",
   "execution_count": null,
   "metadata": {},
   "outputs": [],
   "source": [
    "productCategoriesDf[productCategoriesDf['item'] == 'perig-um-diamond-retrograde']"
   ]
  },
  {
   "cell_type": "code",
   "execution_count": null,
   "metadata": {},
   "outputs": [],
   "source": [
    "productCategoriesDf.loc[productCategoriesDf['item'].values==\"garmin-n-vi-250-3-5-inch-portable-gps-na\", 'desc'] = \"Garmin nüvi 250 3.5-Inch Portable GPS Navigator\"\n",
    "productCategoriesDf.loc[productCategoriesDf['item'].values==\"krug-ba-men-regatta-diamond-mens-watch\", 'desc'] = \"Krug Baümen Regatta Diamond Mens Watch\"\n",
    "productCategoriesDf.loc[productCategoriesDf['item'].values==\"perig-um-llandudno-ladies-watch\", 'desc'] = \"Perigáum Llandudno Ladies Watch\"\n",
    "productCategoriesDf.loc[productCategoriesDf['item'].values==\"pok-mon-ranger-shadows-of-almia-nintendo\", 'desc'] = \"Pokémon Ranger: Shadows of Almia (Nintendo DS)\"\n",
    "productCategoriesDf.loc[productCategoriesDf['item'].values==\"perig-um-florentia-ladies-watch\", 'desc'] = \"Perigáum Florentia Ladies Watch\"\n",
    "productCategoriesDf.loc[productCategoriesDf['item'].values==\"perig-um-leticia-ladies-watch\", 'desc'] = \"Perigáum Leticia Ladies Watch\"\n",
    "productCategoriesDf.loc[productCategoriesDf['item'].values==\"perig-um-saint-lucia-ladies-watch\", 'desc'] = \"Perigáum Saint Lucia Ladies Watch\"\n",
    "productCategoriesDf.loc[productCategoriesDf['item'].values==\"samsung-ln40a630-40-inch-1080p-120hz-lcd\", 'desc'] = \"Samsung LN40A630 40-Inch 1080p 120Hz LCD HDTV\"\n",
    "productCategoriesDf.loc[productCategoriesDf['item'].values==\"perig-um-moonwalker-mens-luxury-watch\", 'desc'] = \"Perigáum Moonwalker Mens Luxury Watch\"\n",
    "productCategoriesDf.loc[productCategoriesDf['item'].values==\"perig-um-fiona-ladies-watch\", 'desc'] = \"Perigáum Fiona Ladies Watch\"\n",
    "productCategoriesDf.loc[productCategoriesDf['item'].values==\"perig-um-diamond-retrograde\", 'desc'] = \"Perigáum Diamond Retrograde\"\n"
   ]
  },
  {
   "cell_type": "code",
   "execution_count": null,
   "metadata": {},
   "outputs": [],
   "source": []
  },
  {
   "cell_type": "code",
   "execution_count": null,
   "metadata": {},
   "outputs": [],
   "source": []
  },
  {
   "cell_type": "code",
   "execution_count": null,
   "metadata": {},
   "outputs": [],
   "source": []
  },
  {
   "cell_type": "code",
   "execution_count": null,
   "metadata": {},
   "outputs": [],
   "source": []
  },
  {
   "cell_type": "code",
   "execution_count": null,
   "metadata": {},
   "outputs": [],
   "source": []
  },
  {
   "cell_type": "code",
   "execution_count": null,
   "metadata": {},
   "outputs": [],
   "source": []
  },
  {
   "cell_type": "code",
   "execution_count": null,
   "metadata": {
    "scrolled": true
   },
   "outputs": [],
   "source": [
    "\n"
   ]
  },
  {
   "cell_type": "code",
   "execution_count": null,
   "metadata": {},
   "outputs": [],
   "source": []
  },
  {
   "cell_type": "code",
   "execution_count": null,
   "metadata": {},
   "outputs": [],
   "source": [
    "\n"
   ]
  },
  {
   "cell_type": "code",
   "execution_count": null,
   "metadata": {},
   "outputs": [],
   "source": [
    "outcomesDf['winner'].value_counts()"
   ]
  },
  {
   "cell_type": "code",
   "execution_count": null,
   "metadata": {},
   "outputs": [],
   "source": [
    "outcomesDf['desc'].value_counts()"
   ]
  },
  {
   "cell_type": "code",
   "execution_count": null,
   "metadata": {},
   "outputs": [],
   "source": [
    "outcomesDf.head()"
   ]
  },
  {
   "cell_type": "code",
   "execution_count": null,
   "metadata": {},
   "outputs": [],
   "source": [
    "outcomesDf['bidincrement'] = outcomesDf['bidincrement']/100\n",
    "outcomesDf['bidfee'] = outcomesDf['bidfee']/100"
   ]
  },
  {
   "cell_type": "code",
   "execution_count": null,
   "metadata": {},
   "outputs": [],
   "source": [
    "outcomesDf['finalprice_withbids'] = outcomesDf['finalprice'] + outcomesDf['placedbids']*outcomesDf['bidfee']/100"
   ]
  },
  {
   "cell_type": "code",
   "execution_count": null,
   "metadata": {},
   "outputs": [],
   "source": [
    "X = outcomesDf[[\"retail\",\"bidincrement\",\"bidfee\",\"flg_click_only\",\"flg_beginnerauction\",\"flg_fixedprice\",\"flg_endprice\"]].values\n",
    "y = outcomesDf[\"finalprice\"]"
   ]
  },
  {
   "cell_type": "code",
   "execution_count": null,
   "metadata": {},
   "outputs": [],
   "source": [
    "from sklearn.ensemble import RandomForestRegressor\n",
    "rmodel=RandomForestRegressor()\n",
    "rmodel.fit(X,y)\n",
    "outcomesDf['P_finalprice'] = rmodel.predict(outcomesDf[[\"retail\",\"bidincrement\",\"bidfee\",\"flg_click_only\",\"flg_beginnerauction\",\"flg_fixedprice\",\"flg_endprice\"]])"
   ]
  },
  {
   "cell_type": "code",
   "execution_count": null,
   "metadata": {},
   "outputs": [],
   "source": [
    "from sklearn.metrics import mean_squared_error\n",
    "mean_squared_error(outcomesDf[\"finalprice\"],outcomesDf[\"P_finalprice\"])"
   ]
  },
  {
   "cell_type": "code",
   "execution_count": null,
   "metadata": {},
   "outputs": [],
   "source": [
    "from sklearn.neighbors import KNeighborsRegressor\n",
    "clf = KNeighborsRegressor(n_neighbors=14)\n",
    "clf.fit(X, y)\n",
    "mean_squared_error(outcomesDf[\"finalprice\"],clf.predict(X))"
   ]
  },
  {
   "cell_type": "code",
   "execution_count": null,
   "metadata": {},
   "outputs": [],
   "source": [
    "from sklearn.tree import DecisionTreeRegressor\n",
    "clf = DecisionTreeRegressor(max_depth=5)\n",
    "clf.fit(X, y)\n",
    "mean_squared_error(outcomesDf[\"finalprice\"],clf.predict(X))"
   ]
  },
  {
   "cell_type": "code",
   "execution_count": null,
   "metadata": {},
   "outputs": [],
   "source": [
    "from sklearn.linear_model import LinearRegression\n",
    "clf = LinearRegression()\n",
    "clf.fit(X, y)\n",
    "mean_squared_error(outcomesDf[\"finalprice\"],clf.predict(X))"
   ]
  },
  {
   "cell_type": "code",
   "execution_count": null,
   "metadata": {},
   "outputs": [],
   "source": [
    "from sklearn.model_selection import train_test_split\n",
    "X_train, X_test, y_train, y_test = train_test_split(X, y, test_size=0.20, random_state=42)"
   ]
  },
  {
   "cell_type": "code",
   "execution_count": null,
   "metadata": {},
   "outputs": [],
   "source": [
    "from sklearn.pipeline import Pipeline\n",
    "from sklearn import decomposition\n",
    "from sklearn.ensemble import RandomForestRegressor"
   ]
  },
  {
   "cell_type": "code",
   "execution_count": null,
   "metadata": {},
   "outputs": [],
   "source": [
    "red = decomposition.PCA()\n",
    "clf = RandomForestRegressor()\n",
    "pipe = Pipeline(steps=[('pca', red), ('Random Forest',clf)])\n",
    "pipe.fit(X_train,y_train)\n",
    "mean_squared_error(y_test,pipe.predict(X_test))"
   ]
  },
  {
   "cell_type": "code",
   "execution_count": null,
   "metadata": {},
   "outputs": [],
   "source": [
    "rmodel=RandomForestRegressor()\n",
    "rmodel.fit(X_train,y_train)\n",
    "mean_squared_error(y_test,rmodel.predict(X_test))"
   ]
  },
  {
   "cell_type": "code",
   "execution_count": null,
   "metadata": {},
   "outputs": [],
   "source": [
    "#pip install tpot\n",
    "from tpot import TPOTRegressor\n",
    "clf = TPOTRegressor(generations=5, population_size=20, cv=5,\n",
    "                                    random_state=42, verbosity=2)\n",
    "clf.fit(X_train, y_train)"
   ]
  },
  {
   "cell_type": "code",
   "execution_count": null,
   "metadata": {},
   "outputs": [],
   "source": [
    "mean_squared_error(y_test,clf.predict(X_test))"
   ]
  },
  {
   "cell_type": "code",
   "execution_count": null,
   "metadata": {},
   "outputs": [],
   "source": []
  },
  {
   "cell_type": "code",
   "execution_count": null,
   "metadata": {},
   "outputs": [],
   "source": []
  },
  {
   "cell_type": "code",
   "execution_count": null,
   "metadata": {},
   "outputs": [],
   "source": []
  },
  {
   "cell_type": "code",
   "execution_count": null,
   "metadata": {},
   "outputs": [],
   "source": []
  }
 ],
 "metadata": {
  "kernelspec": {
   "display_name": "Python 3",
   "language": "python",
   "name": "python3"
  },
  "language_info": {
   "codemirror_mode": {
    "name": "ipython",
    "version": 3
   },
   "file_extension": ".py",
   "mimetype": "text/x-python",
   "name": "python",
   "nbconvert_exporter": "python",
   "pygments_lexer": "ipython3",
   "version": "3.6.2"
  }
 },
 "nbformat": 4,
 "nbformat_minor": 2
}
