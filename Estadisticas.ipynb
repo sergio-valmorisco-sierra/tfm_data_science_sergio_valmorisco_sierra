{
 "cells": [
  {
   "cell_type": "markdown",
   "metadata": {},
   "source": [
    "# Exploring and cleaning the dataset"
   ]
  },
  {
   "cell_type": "code",
   "execution_count": 1,
   "metadata": {},
   "outputs": [],
   "source": [
    "import pandas as pd\n",
    "import numpy as np\n",
    "\n",
    "import matplotlib.pyplot as plt\n",
    "import matplotlib\n",
    "\n",
    "#!pip install wordcloud\n",
    "from wordcloud import WordCloud, STOPWORDS\n",
    "\n",
    "matplotlib.style.use('ggplot')\n",
    "%matplotlib inline"
   ]
  },
  {
   "cell_type": "markdown",
   "metadata": {},
   "source": [
    "The dataset consists on two files:\n",
    "- outcomes.tsv: this file contains the result for different auctions, including the description of the product, its retail price and selling price, the winnner of the auction, the number of placed bids, etc.\n",
    "- traces.tsv: this file contains the record of all of the bids that were placed for several auctions, including the user who placed each bid, the bidding time, etc.\n",
    "\n",
    "The dataset can be found in the following link:\n",
    "http://people.bu.edu/zg/swoopo.html\n",
    "\n",
    "Dataset authors:\n",
    "\n",
    "John Byers, Michael Mitzenmacher, Georgios Zervas,\n",
    "\"Information Asymmetries in Pay-Per-Bid Auctions: How Swoopo Makes Bank\""
   ]
  },
  {
   "cell_type": "code",
   "execution_count": 2,
   "metadata": {},
   "outputs": [],
   "source": [
    "outcomesDf = pd.read_csv('./outcomes.tsv',sep='\\t')\n",
    "tracesDf = pd.read_csv('./traces.tsv',sep='\\t')"
   ]
  },
  {
   "cell_type": "markdown",
   "metadata": {},
   "source": [
    "# outcomes.tsv"
   ]
  },
  {
   "cell_type": "markdown",
   "metadata": {},
   "source": [
    "The file outcomes.tsv included in the dataset contains the following columns:"
   ]
  },
  {
   "cell_type": "markdown",
   "metadata": {},
   "source": [
    "- auction_id: unique numerical id for the auction\n",
    "- product_id: unique product id\n",
    "- item: text string describing the product\n",
    "- desc: more information about the product\n",
    "- retail: the stated retail value of the item, in dollars\n",
    "- price: the price the auction reached, in dollars\n",
    "- finalprice: the price charged to the winner in dollars. For certain types of auctions, the value in this column may difer from the value specified in column \"price\". For example, this may happend in fixed-price auctions or 100%-off auctions (auctions in which the final selling price of the product is zero, and the revenue for Swoopo comes exclusively from the bids that are placed).\n",
    "- bidincrement: the price increment of a bid, in cents\n",
    "- bidfee: the cost incurred to make a bid, in cents\n",
    "- winner: the winner's username\n",
    "- placedbids: the number of paid bids placed by the winner\n",
    "- freebids: the number of free bids placed by the winner. Limited free bids are offered by Swoopo in certain deal packages, and users placing free bids do not incur in any bid cost.\n",
    "- endtime_str: the auction's end time.\n",
    "- flg_click_only: a binary flag indicating a ``NailBiter'' auction (Swoopo  auctions  which  do  not\n",
    "permit the use of automated bids by a BidButler, which are automatic bidding agents provided by the Swoopo interface that bid according to user-defined instructions. Users are able to define starting and ending price limits for which automated bids shall be placed, as well as the top number of bids that the BidButler is allowed to place. BidButlers place automated bids when the auction timer drops below 10 seconds).\n",
    "- flg_beginnerauction: a binary flag indicating a beginner auction (auctions restricted to users who haven't previously won any auction in the site).\n",
    "- flg_fixedprice: a binary flag indicating a fixed-price auction (an auction in which the selling price is fixed from the beginning). \n",
    "- flg_endprice: a binary flag indicating a 100\\%-off auction (auctions in which the final selling price of the product is zero, and the revenue for Swoopo comes exclusively from the bids that are placed)."
   ]
  },
  {
   "cell_type": "code",
   "execution_count": 3,
   "metadata": {},
   "outputs": [
    {
     "data": {
      "text/html": [
       "<div>\n",
       "<style>\n",
       "    .dataframe thead tr:only-child th {\n",
       "        text-align: right;\n",
       "    }\n",
       "\n",
       "    .dataframe thead th {\n",
       "        text-align: left;\n",
       "    }\n",
       "\n",
       "    .dataframe tbody tr th {\n",
       "        vertical-align: top;\n",
       "    }\n",
       "</style>\n",
       "<table border=\"1\" class=\"dataframe\">\n",
       "  <thead>\n",
       "    <tr style=\"text-align: right;\">\n",
       "      <th></th>\n",
       "      <th>auction_id</th>\n",
       "      <th>product_id</th>\n",
       "      <th>item</th>\n",
       "      <th>desc</th>\n",
       "      <th>retail</th>\n",
       "      <th>price</th>\n",
       "      <th>finalprice</th>\n",
       "      <th>bidincrement</th>\n",
       "      <th>bidfee</th>\n",
       "      <th>winner</th>\n",
       "      <th>placedbids</th>\n",
       "      <th>freebids</th>\n",
       "      <th>endtime_str</th>\n",
       "      <th>flg_click_only</th>\n",
       "      <th>flg_beginnerauction</th>\n",
       "      <th>flg_fixedprice</th>\n",
       "      <th>flg_endprice</th>\n",
       "    </tr>\n",
       "  </thead>\n",
       "  <tbody>\n",
       "    <tr>\n",
       "      <th>0</th>\n",
       "      <td>86827</td>\n",
       "      <td>10009602</td>\n",
       "      <td>sony-ericsson-s500i-unlocked-mysterious-</td>\n",
       "      <td>Sony Ericsson S500i Unlocked Mysterious Green</td>\n",
       "      <td>499.99</td>\n",
       "      <td>13.35</td>\n",
       "      <td>13.35</td>\n",
       "      <td>15</td>\n",
       "      <td>75</td>\n",
       "      <td>Racer11</td>\n",
       "      <td>26</td>\n",
       "      <td>0</td>\n",
       "      <td>19:52 PDT 09-16-2008</td>\n",
       "      <td>0</td>\n",
       "      <td>0</td>\n",
       "      <td>0</td>\n",
       "      <td>0</td>\n",
       "    </tr>\n",
       "    <tr>\n",
       "      <th>1</th>\n",
       "      <td>87964</td>\n",
       "      <td>10009881</td>\n",
       "      <td>psp-slim-lite-sony-piano-black</td>\n",
       "      <td>PSP Slim &amp; Lite Sony Piano Black</td>\n",
       "      <td>169.99</td>\n",
       "      <td>74.70</td>\n",
       "      <td>74.70</td>\n",
       "      <td>15</td>\n",
       "      <td>75</td>\n",
       "      <td>Cemo23</td>\n",
       "      <td>65</td>\n",
       "      <td>0</td>\n",
       "      <td>11:17 PDT 08-28-2008</td>\n",
       "      <td>0</td>\n",
       "      <td>0</td>\n",
       "      <td>0</td>\n",
       "      <td>0</td>\n",
       "    </tr>\n",
       "  </tbody>\n",
       "</table>\n",
       "</div>"
      ],
      "text/plain": [
       "   auction_id  product_id                                      item  \\\n",
       "0       86827    10009602  sony-ericsson-s500i-unlocked-mysterious-   \n",
       "1       87964    10009881            psp-slim-lite-sony-piano-black   \n",
       "\n",
       "                                            desc  retail  price  finalprice  \\\n",
       "0  Sony Ericsson S500i Unlocked Mysterious Green  499.99  13.35       13.35   \n",
       "1               PSP Slim & Lite Sony Piano Black  169.99  74.70       74.70   \n",
       "\n",
       "   bidincrement  bidfee   winner  placedbids  freebids           endtime_str  \\\n",
       "0            15      75  Racer11          26         0  19:52 PDT 09-16-2008   \n",
       "1            15      75   Cemo23          65         0  11:17 PDT 08-28-2008   \n",
       "\n",
       "   flg_click_only  flg_beginnerauction  flg_fixedprice  flg_endprice  \n",
       "0               0                    0               0             0  \n",
       "1               0                    0               0             0  "
      ]
     },
     "execution_count": 3,
     "metadata": {},
     "output_type": "execute_result"
    }
   ],
   "source": [
    "outcomesDf.head(2)"
   ]
  },
  {
   "cell_type": "code",
   "execution_count": 4,
   "metadata": {},
   "outputs": [
    {
     "data": {
      "text/plain": [
       "auction_id               int64\n",
       "product_id               int64\n",
       "item                    object\n",
       "desc                    object\n",
       "retail                 float64\n",
       "price                  float64\n",
       "finalprice             float64\n",
       "bidincrement             int64\n",
       "bidfee                   int64\n",
       "winner                  object\n",
       "placedbids               int64\n",
       "freebids                 int64\n",
       "endtime_str             object\n",
       "flg_click_only           int64\n",
       "flg_beginnerauction      int64\n",
       "flg_fixedprice           int64\n",
       "flg_endprice             int64\n",
       "dtype: object"
      ]
     },
     "execution_count": 4,
     "metadata": {},
     "output_type": "execute_result"
    }
   ],
   "source": [
    "outcomesDf.dtypes"
   ]
  },
  {
   "cell_type": "markdown",
   "metadata": {},
   "source": [
    "There are no empty values in the dataset file:"
   ]
  },
  {
   "cell_type": "code",
   "execution_count": 5,
   "metadata": {},
   "outputs": [
    {
     "data": {
      "text/plain": [
       "False"
      ]
     },
     "execution_count": 5,
     "metadata": {},
     "output_type": "execute_result"
    }
   ],
   "source": [
    "outcomesDf.isnull().values.any()"
   ]
  },
  {
   "cell_type": "code",
   "execution_count": 6,
   "metadata": {},
   "outputs": [],
   "source": [
    "outcomesDf['endtime_str'] = pd.to_datetime(outcomesDf['endtime_str'])"
   ]
  },
  {
   "cell_type": "markdown",
   "metadata": {},
   "source": [
    "The number of bids that were placed in the auction can be obtained the price the auction reached and the price increment of each bid:"
   ]
  },
  {
   "cell_type": "code",
   "execution_count": 7,
   "metadata": {},
   "outputs": [],
   "source": [
    "outcomesDf['bids_placed'] = outcomesDf['price']/(outcomesDf['bidincrement']/100)"
   ]
  },
  {
   "cell_type": "markdown",
   "metadata": {},
   "source": [
    "The total money that Swoopo obtains for an auction is the number of non-free bids placed by all participants multiplied by the bid fee, plus the final selling price of the item paid by the winner:"
   ]
  },
  {
   "cell_type": "code",
   "execution_count": 8,
   "metadata": {},
   "outputs": [],
   "source": [
    "outcomesDf['swoopo_sale_price'] = outcomesDf['bids_placed']*(outcomesDf['bidfee']/100) + outcomesDf['finalprice']"
   ]
  },
  {
   "cell_type": "markdown",
   "metadata": {},
   "source": [
    "Therefore, the profit that Swoopo obtains over the retail price of the item is:"
   ]
  },
  {
   "cell_type": "code",
   "execution_count": 9,
   "metadata": {},
   "outputs": [],
   "source": [
    "outcomesDf['swoopo_profit'] = outcomesDf['swoopo_sale_price']-outcomesDf['retail']"
   ]
  },
  {
   "cell_type": "markdown",
   "metadata": {},
   "source": [
    "The dataset file includes 121419 auctions that took place between 2008-08-20 and 2009-12-12"
   ]
  },
  {
   "cell_type": "code",
   "execution_count": 10,
   "metadata": {},
   "outputs": [
    {
     "data": {
      "text/plain": [
       "(121419, 20)"
      ]
     },
     "execution_count": 10,
     "metadata": {},
     "output_type": "execute_result"
    }
   ],
   "source": [
    "outcomesDf.shape"
   ]
  },
  {
   "cell_type": "code",
   "execution_count": 11,
   "metadata": {},
   "outputs": [
    {
     "data": {
      "text/plain": [
       "Timestamp('2008-08-20 14:04:00')"
      ]
     },
     "execution_count": 11,
     "metadata": {},
     "output_type": "execute_result"
    }
   ],
   "source": [
    "min(outcomesDf['endtime_str'])"
   ]
  },
  {
   "cell_type": "code",
   "execution_count": 12,
   "metadata": {},
   "outputs": [
    {
     "data": {
      "text/plain": [
       "Timestamp('2009-12-12 15:10:00')"
      ]
     },
     "execution_count": 12,
     "metadata": {},
     "output_type": "execute_result"
    }
   ],
   "source": [
    "max(outcomesDf['endtime_str'])"
   ]
  },
  {
   "cell_type": "markdown",
   "metadata": {},
   "source": [
    "In order to identify the different items sold in the auctions, the columns \"product_id\", \"item\" and \"desc\" can be used. An analysis of the unique values contained in these columns is now performed. Each one of them contains a different number of unique values. "
   ]
  },
  {
   "cell_type": "code",
   "execution_count": 13,
   "metadata": {},
   "outputs": [
    {
     "data": {
      "text/plain": [
       "2081"
      ]
     },
     "execution_count": 13,
     "metadata": {},
     "output_type": "execute_result"
    }
   ],
   "source": [
    "len(outcomesDf['product_id'].unique())"
   ]
  },
  {
   "cell_type": "code",
   "execution_count": 14,
   "metadata": {},
   "outputs": [
    {
     "data": {
      "text/plain": [
       "1803"
      ]
     },
     "execution_count": 14,
     "metadata": {},
     "output_type": "execute_result"
    }
   ],
   "source": [
    "len(outcomesDf['item'].unique())"
   ]
  },
  {
   "cell_type": "code",
   "execution_count": 15,
   "metadata": {},
   "outputs": [
    {
     "data": {
      "text/plain": [
       "1779"
      ]
     },
     "execution_count": 15,
     "metadata": {},
     "output_type": "execute_result"
    }
   ],
   "source": [
    "len(outcomesDf['desc'].unique())"
   ]
  },
  {
   "cell_type": "code",
   "execution_count": 16,
   "metadata": {},
   "outputs": [
    {
     "data": {
      "text/html": [
       "<div>\n",
       "<style>\n",
       "    .dataframe thead tr:only-child th {\n",
       "        text-align: right;\n",
       "    }\n",
       "\n",
       "    .dataframe thead th {\n",
       "        text-align: left;\n",
       "    }\n",
       "\n",
       "    .dataframe tbody tr th {\n",
       "        vertical-align: top;\n",
       "    }\n",
       "</style>\n",
       "<table border=\"1\" class=\"dataframe\">\n",
       "  <thead>\n",
       "    <tr style=\"text-align: right;\">\n",
       "      <th></th>\n",
       "      <th>product_id</th>\n",
       "      <th>item</th>\n",
       "      <th>desc</th>\n",
       "      <th>endtime_str</th>\n",
       "      <th>product_id_count</th>\n",
       "      <th>item_count</th>\n",
       "      <th>desc_count</th>\n",
       "    </tr>\n",
       "  </thead>\n",
       "  <tbody>\n",
       "    <tr>\n",
       "      <th>0</th>\n",
       "      <td>10009602</td>\n",
       "      <td>sony-ericsson-s500i-unlocked-mysterious-</td>\n",
       "      <td>Sony Ericsson S500i Unlocked Mysterious Green</td>\n",
       "      <td>2008-09-16 19:52:00</td>\n",
       "      <td>10</td>\n",
       "      <td>77</td>\n",
       "      <td>77</td>\n",
       "    </tr>\n",
       "    <tr>\n",
       "      <th>1</th>\n",
       "      <td>10009881</td>\n",
       "      <td>psp-slim-lite-sony-piano-black</td>\n",
       "      <td>PSP Slim &amp; Lite Sony Piano Black</td>\n",
       "      <td>2008-08-28 11:17:00</td>\n",
       "      <td>21</td>\n",
       "      <td>60</td>\n",
       "      <td>60</td>\n",
       "    </tr>\n",
       "    <tr>\n",
       "      <th>2</th>\n",
       "      <td>10009881</td>\n",
       "      <td>psp-slim-lite-sony-piano-black</td>\n",
       "      <td>PSP Slim &amp; Lite Sony Piano Black</td>\n",
       "      <td>2008-11-07 22:52:00</td>\n",
       "      <td>21</td>\n",
       "      <td>60</td>\n",
       "      <td>60</td>\n",
       "    </tr>\n",
       "    <tr>\n",
       "      <th>3</th>\n",
       "      <td>10006115</td>\n",
       "      <td>sony-ericsson-s500i-unlocked-mysterious-</td>\n",
       "      <td>Sony Ericsson S500i Unlocked Mysterious Green</td>\n",
       "      <td>2008-08-23 22:02:00</td>\n",
       "      <td>33</td>\n",
       "      <td>77</td>\n",
       "      <td>77</td>\n",
       "    </tr>\n",
       "    <tr>\n",
       "      <th>4</th>\n",
       "      <td>10006115</td>\n",
       "      <td>sony-ericsson-s500i-unlocked-mysterious-</td>\n",
       "      <td>Sony Ericsson S500i Unlocked Mysterious Green</td>\n",
       "      <td>2008-08-24 14:23:00</td>\n",
       "      <td>33</td>\n",
       "      <td>77</td>\n",
       "      <td>77</td>\n",
       "    </tr>\n",
       "  </tbody>\n",
       "</table>\n",
       "</div>"
      ],
      "text/plain": [
       "   product_id                                      item  \\\n",
       "0    10009602  sony-ericsson-s500i-unlocked-mysterious-   \n",
       "1    10009881            psp-slim-lite-sony-piano-black   \n",
       "2    10009881            psp-slim-lite-sony-piano-black   \n",
       "3    10006115  sony-ericsson-s500i-unlocked-mysterious-   \n",
       "4    10006115  sony-ericsson-s500i-unlocked-mysterious-   \n",
       "\n",
       "                                            desc         endtime_str  \\\n",
       "0  Sony Ericsson S500i Unlocked Mysterious Green 2008-09-16 19:52:00   \n",
       "1               PSP Slim & Lite Sony Piano Black 2008-08-28 11:17:00   \n",
       "2               PSP Slim & Lite Sony Piano Black 2008-11-07 22:52:00   \n",
       "3  Sony Ericsson S500i Unlocked Mysterious Green 2008-08-23 22:02:00   \n",
       "4  Sony Ericsson S500i Unlocked Mysterious Green 2008-08-24 14:23:00   \n",
       "\n",
       "   product_id_count  item_count  desc_count  \n",
       "0                10          77          77  \n",
       "1                21          60          60  \n",
       "2                21          60          60  \n",
       "3                33          77          77  \n",
       "4                33          77          77  "
      ]
     },
     "execution_count": 16,
     "metadata": {},
     "output_type": "execute_result"
    }
   ],
   "source": [
    "def compareProductIdItemDescColumnValues():\n",
    "    outcomesDfItemDesc =outcomesDf[['product_id','item','desc','endtime_str']]\n",
    "    productIdColumnValueCounts = outcomesDf['product_id'].value_counts()\n",
    "    outcomesDfItemDesc = outcomesDfItemDesc.merge(productIdColumnValueCounts.to_frame(),how='left',left_on='product_id',right_index=True)\n",
    "    outcomesDfItemDesc = outcomesDfItemDesc.rename(columns={'product_id_x': 'product_id', 'product_id_y': 'product_id_count'})\n",
    "\n",
    "    itemColumnValueCounts = outcomesDf['item'].value_counts()\n",
    "    outcomesDfItemDesc = outcomesDfItemDesc.merge(itemColumnValueCounts.to_frame(),how='left',left_on='item',right_index=True)\n",
    "    outcomesDfItemDesc = outcomesDfItemDesc.rename(columns={'item_x': 'item', 'item_y': 'item_count'})\n",
    "\n",
    "    descColumnValueCounts = outcomesDf['desc'].value_counts()\n",
    "    outcomesDfItemDesc = outcomesDfItemDesc.merge(descColumnValueCounts.to_frame(),how='left',left_on='desc',right_index=True)\n",
    "    outcomesDfItemDesc = outcomesDfItemDesc.rename(columns={'desc_x': 'desc', 'desc_y': 'desc_count'})\n",
    "    \n",
    "    return outcomesDfItemDesc\n",
    "\n",
    "outcomesDfItemDesc = compareProductIdItemDescColumnValues()\n",
    "outcomesDfItemDesc.head()"
   ]
  },
  {
   "cell_type": "markdown",
   "metadata": {},
   "source": [
    "As it can be observed, the product_id contains different values for rows of the dataset in which the same item is sold. Therefore, the \"product_id\" value is not a good option to identify unique products."
   ]
  },
  {
   "cell_type": "code",
   "execution_count": 17,
   "metadata": {},
   "outputs": [
    {
     "data": {
      "text/plain": [
       "(569, 7)"
      ]
     },
     "execution_count": 17,
     "metadata": {},
     "output_type": "execute_result"
    }
   ],
   "source": [
    "productIdVsItemDf = outcomesDfItemDesc[(outcomesDfItemDesc['product_id_count']!=outcomesDfItemDesc['item_count'])].drop_duplicates(subset=['product_id','item','desc'])\n",
    "productIdVsItemDf.shape"
   ]
  },
  {
   "cell_type": "markdown",
   "metadata": {},
   "source": [
    "Here is an example:"
   ]
  },
  {
   "cell_type": "code",
   "execution_count": 18,
   "metadata": {
    "scrolled": true
   },
   "outputs": [
    {
     "data": {
      "text/html": [
       "<div>\n",
       "<style>\n",
       "    .dataframe thead tr:only-child th {\n",
       "        text-align: right;\n",
       "    }\n",
       "\n",
       "    .dataframe thead th {\n",
       "        text-align: left;\n",
       "    }\n",
       "\n",
       "    .dataframe tbody tr th {\n",
       "        vertical-align: top;\n",
       "    }\n",
       "</style>\n",
       "<table border=\"1\" class=\"dataframe\">\n",
       "  <thead>\n",
       "    <tr style=\"text-align: right;\">\n",
       "      <th></th>\n",
       "      <th>product_id</th>\n",
       "      <th>item</th>\n",
       "      <th>desc</th>\n",
       "      <th>endtime_str</th>\n",
       "      <th>product_id_count</th>\n",
       "      <th>item_count</th>\n",
       "      <th>desc_count</th>\n",
       "    </tr>\n",
       "  </thead>\n",
       "  <tbody>\n",
       "    <tr>\n",
       "      <th>0</th>\n",
       "      <td>10009602</td>\n",
       "      <td>sony-ericsson-s500i-unlocked-mysterious-</td>\n",
       "      <td>Sony Ericsson S500i Unlocked Mysterious Green</td>\n",
       "      <td>2008-09-16 19:52:00</td>\n",
       "      <td>10</td>\n",
       "      <td>77</td>\n",
       "      <td>77</td>\n",
       "    </tr>\n",
       "    <tr>\n",
       "      <th>3</th>\n",
       "      <td>10006115</td>\n",
       "      <td>sony-ericsson-s500i-unlocked-mysterious-</td>\n",
       "      <td>Sony Ericsson S500i Unlocked Mysterious Green</td>\n",
       "      <td>2008-08-23 22:02:00</td>\n",
       "      <td>33</td>\n",
       "      <td>77</td>\n",
       "      <td>77</td>\n",
       "    </tr>\n",
       "    <tr>\n",
       "      <th>5</th>\n",
       "      <td>10008975</td>\n",
       "      <td>sony-ericsson-s500i-unlocked-mysterious-</td>\n",
       "      <td>Sony Ericsson S500i Unlocked Mysterious Green</td>\n",
       "      <td>2008-08-22 22:44:00</td>\n",
       "      <td>15</td>\n",
       "      <td>77</td>\n",
       "      <td>77</td>\n",
       "    </tr>\n",
       "    <tr>\n",
       "      <th>17</th>\n",
       "      <td>10009642</td>\n",
       "      <td>sony-ericsson-s500i-unlocked-mysterious-</td>\n",
       "      <td>Sony Ericsson S500i Unlocked Mysterious Green</td>\n",
       "      <td>2008-09-02 00:06:00</td>\n",
       "      <td>11</td>\n",
       "      <td>77</td>\n",
       "      <td>77</td>\n",
       "    </tr>\n",
       "    <tr>\n",
       "      <th>17297</th>\n",
       "      <td>10010727</td>\n",
       "      <td>sony-ericsson-s500i-unlocked-mysterious-</td>\n",
       "      <td>Sony Ericsson S500i Unlocked Mysterious Green</td>\n",
       "      <td>2008-11-11 01:46:00</td>\n",
       "      <td>8</td>\n",
       "      <td>77</td>\n",
       "      <td>77</td>\n",
       "    </tr>\n",
       "  </tbody>\n",
       "</table>\n",
       "</div>"
      ],
      "text/plain": [
       "       product_id                                      item  \\\n",
       "0        10009602  sony-ericsson-s500i-unlocked-mysterious-   \n",
       "3        10006115  sony-ericsson-s500i-unlocked-mysterious-   \n",
       "5        10008975  sony-ericsson-s500i-unlocked-mysterious-   \n",
       "17       10009642  sony-ericsson-s500i-unlocked-mysterious-   \n",
       "17297    10010727  sony-ericsson-s500i-unlocked-mysterious-   \n",
       "\n",
       "                                                desc         endtime_str  \\\n",
       "0      Sony Ericsson S500i Unlocked Mysterious Green 2008-09-16 19:52:00   \n",
       "3      Sony Ericsson S500i Unlocked Mysterious Green 2008-08-23 22:02:00   \n",
       "5      Sony Ericsson S500i Unlocked Mysterious Green 2008-08-22 22:44:00   \n",
       "17     Sony Ericsson S500i Unlocked Mysterious Green 2008-09-02 00:06:00   \n",
       "17297  Sony Ericsson S500i Unlocked Mysterious Green 2008-11-11 01:46:00   \n",
       "\n",
       "       product_id_count  item_count  desc_count  \n",
       "0                    10          77          77  \n",
       "3                    33          77          77  \n",
       "5                    15          77          77  \n",
       "17                   11          77          77  \n",
       "17297                 8          77          77  "
      ]
     },
     "execution_count": 18,
     "metadata": {},
     "output_type": "execute_result"
    }
   ],
   "source": [
    "productIdVsItemDf[productIdVsItemDf['item'].values == 'sony-ericsson-s500i-unlocked-mysterious-']"
   ]
  },
  {
   "cell_type": "markdown",
   "metadata": {},
   "source": [
    "As it can be seen, some items do not contain a description, and the \"item\" column is the name of an HTML page:"
   ]
  },
  {
   "cell_type": "code",
   "execution_count": 19,
   "metadata": {
    "scrolled": true
   },
   "outputs": [
    {
     "data": {
      "text/html": [
       "<div>\n",
       "<style>\n",
       "    .dataframe thead tr:only-child th {\n",
       "        text-align: right;\n",
       "    }\n",
       "\n",
       "    .dataframe thead th {\n",
       "        text-align: left;\n",
       "    }\n",
       "\n",
       "    .dataframe tbody tr th {\n",
       "        vertical-align: top;\n",
       "    }\n",
       "</style>\n",
       "<table border=\"1\" class=\"dataframe\">\n",
       "  <thead>\n",
       "    <tr style=\"text-align: right;\">\n",
       "      <th></th>\n",
       "      <th>product_id</th>\n",
       "      <th>item</th>\n",
       "      <th>desc</th>\n",
       "      <th>endtime_str</th>\n",
       "      <th>product_id_count</th>\n",
       "      <th>item_count</th>\n",
       "      <th>desc_count</th>\n",
       "    </tr>\n",
       "  </thead>\n",
       "  <tbody>\n",
       "    <tr>\n",
       "      <th>19906</th>\n",
       "      <td>10010818</td>\n",
       "      <td>121881.html</td>\n",
       "      <td>-</td>\n",
       "      <td>2008-11-26 18:03:00</td>\n",
       "      <td>36</td>\n",
       "      <td>1</td>\n",
       "      <td>36</td>\n",
       "    </tr>\n",
       "    <tr>\n",
       "      <th>19294</th>\n",
       "      <td>10010818</td>\n",
       "      <td>121215.html</td>\n",
       "      <td>-</td>\n",
       "      <td>2008-11-22 20:04:00</td>\n",
       "      <td>36</td>\n",
       "      <td>1</td>\n",
       "      <td>36</td>\n",
       "    </tr>\n",
       "    <tr>\n",
       "      <th>19540</th>\n",
       "      <td>10010818</td>\n",
       "      <td>121470.html</td>\n",
       "      <td>-</td>\n",
       "      <td>2008-11-18 22:01:00</td>\n",
       "      <td>36</td>\n",
       "      <td>1</td>\n",
       "      <td>36</td>\n",
       "    </tr>\n",
       "    <tr>\n",
       "      <th>19837</th>\n",
       "      <td>10010818</td>\n",
       "      <td>121788.html</td>\n",
       "      <td>-</td>\n",
       "      <td>2008-11-24 13:05:00</td>\n",
       "      <td>36</td>\n",
       "      <td>1</td>\n",
       "      <td>36</td>\n",
       "    </tr>\n",
       "    <tr>\n",
       "      <th>21170</th>\n",
       "      <td>10010818</td>\n",
       "      <td>123276.html</td>\n",
       "      <td>-</td>\n",
       "      <td>2008-11-28 14:25:00</td>\n",
       "      <td>36</td>\n",
       "      <td>1</td>\n",
       "      <td>36</td>\n",
       "    </tr>\n",
       "    <tr>\n",
       "      <th>21421</th>\n",
       "      <td>10010818</td>\n",
       "      <td>123553.html</td>\n",
       "      <td>-</td>\n",
       "      <td>2008-11-30 23:24:00</td>\n",
       "      <td>36</td>\n",
       "      <td>1</td>\n",
       "      <td>36</td>\n",
       "    </tr>\n",
       "    <tr>\n",
       "      <th>22803</th>\n",
       "      <td>10010818</td>\n",
       "      <td>125284.html</td>\n",
       "      <td>-</td>\n",
       "      <td>2008-12-07 17:10:00</td>\n",
       "      <td>36</td>\n",
       "      <td>1</td>\n",
       "      <td>36</td>\n",
       "    </tr>\n",
       "    <tr>\n",
       "      <th>22804</th>\n",
       "      <td>10010818</td>\n",
       "      <td>125285.html</td>\n",
       "      <td>-</td>\n",
       "      <td>2008-12-05 13:18:00</td>\n",
       "      <td>36</td>\n",
       "      <td>1</td>\n",
       "      <td>36</td>\n",
       "    </tr>\n",
       "    <tr>\n",
       "      <th>22805</th>\n",
       "      <td>10010818</td>\n",
       "      <td>125286.html</td>\n",
       "      <td>-</td>\n",
       "      <td>2008-12-03 19:51:00</td>\n",
       "      <td>36</td>\n",
       "      <td>1</td>\n",
       "      <td>36</td>\n",
       "    </tr>\n",
       "    <tr>\n",
       "      <th>22806</th>\n",
       "      <td>10010818</td>\n",
       "      <td>125287.html</td>\n",
       "      <td>-</td>\n",
       "      <td>2008-12-02 16:39:00</td>\n",
       "      <td>36</td>\n",
       "      <td>1</td>\n",
       "      <td>36</td>\n",
       "    </tr>\n",
       "    <tr>\n",
       "      <th>22807</th>\n",
       "      <td>10010818</td>\n",
       "      <td>125288.html</td>\n",
       "      <td>-</td>\n",
       "      <td>2008-12-01 13:22:00</td>\n",
       "      <td>36</td>\n",
       "      <td>1</td>\n",
       "      <td>36</td>\n",
       "    </tr>\n",
       "    <tr>\n",
       "      <th>24161</th>\n",
       "      <td>10010818</td>\n",
       "      <td>126865.html</td>\n",
       "      <td>-</td>\n",
       "      <td>2008-12-14 20:44:00</td>\n",
       "      <td>36</td>\n",
       "      <td>1</td>\n",
       "      <td>36</td>\n",
       "    </tr>\n",
       "    <tr>\n",
       "      <th>24162</th>\n",
       "      <td>10010818</td>\n",
       "      <td>126866.html</td>\n",
       "      <td>-</td>\n",
       "      <td>2008-12-12 13:43:00</td>\n",
       "      <td>36</td>\n",
       "      <td>1</td>\n",
       "      <td>36</td>\n",
       "    </tr>\n",
       "    <tr>\n",
       "      <th>24163</th>\n",
       "      <td>10010818</td>\n",
       "      <td>126867.html</td>\n",
       "      <td>-</td>\n",
       "      <td>2008-12-11 03:54:00</td>\n",
       "      <td>36</td>\n",
       "      <td>1</td>\n",
       "      <td>36</td>\n",
       "    </tr>\n",
       "    <tr>\n",
       "      <th>26865</th>\n",
       "      <td>10010818</td>\n",
       "      <td>130108.html</td>\n",
       "      <td>-</td>\n",
       "      <td>2008-12-19 22:43:00</td>\n",
       "      <td>36</td>\n",
       "      <td>1</td>\n",
       "      <td>36</td>\n",
       "    </tr>\n",
       "    <tr>\n",
       "      <th>33326</th>\n",
       "      <td>10010818</td>\n",
       "      <td>137897.html</td>\n",
       "      <td>-</td>\n",
       "      <td>2009-01-04 18:32:00</td>\n",
       "      <td>36</td>\n",
       "      <td>1</td>\n",
       "      <td>36</td>\n",
       "    </tr>\n",
       "    <tr>\n",
       "      <th>33327</th>\n",
       "      <td>10010818</td>\n",
       "      <td>137898.html</td>\n",
       "      <td>-</td>\n",
       "      <td>2008-12-30 19:12:00</td>\n",
       "      <td>36</td>\n",
       "      <td>1</td>\n",
       "      <td>36</td>\n",
       "    </tr>\n",
       "    <tr>\n",
       "      <th>35238</th>\n",
       "      <td>10010818</td>\n",
       "      <td>140035.html</td>\n",
       "      <td>-</td>\n",
       "      <td>2009-01-01 09:06:00</td>\n",
       "      <td>36</td>\n",
       "      <td>1</td>\n",
       "      <td>36</td>\n",
       "    </tr>\n",
       "    <tr>\n",
       "      <th>19223</th>\n",
       "      <td>10010818</td>\n",
       "      <td>121129.html</td>\n",
       "      <td>-</td>\n",
       "      <td>2008-11-19 18:30:00</td>\n",
       "      <td>36</td>\n",
       "      <td>1</td>\n",
       "      <td>36</td>\n",
       "    </tr>\n",
       "    <tr>\n",
       "      <th>17387</th>\n",
       "      <td>10010818</td>\n",
       "      <td>118838.html</td>\n",
       "      <td>-</td>\n",
       "      <td>2008-11-16 13:33:00</td>\n",
       "      <td>36</td>\n",
       "      <td>1</td>\n",
       "      <td>36</td>\n",
       "    </tr>\n",
       "    <tr>\n",
       "      <th>19541</th>\n",
       "      <td>10010818</td>\n",
       "      <td>121471.html</td>\n",
       "      <td>-</td>\n",
       "      <td>2008-11-21 16:32:00</td>\n",
       "      <td>36</td>\n",
       "      <td>1</td>\n",
       "      <td>36</td>\n",
       "    </tr>\n",
       "    <tr>\n",
       "      <th>9875</th>\n",
       "      <td>10010818</td>\n",
       "      <td>109786.html</td>\n",
       "      <td>-</td>\n",
       "      <td>2008-10-16 21:51:00</td>\n",
       "      <td>36</td>\n",
       "      <td>1</td>\n",
       "      <td>36</td>\n",
       "    </tr>\n",
       "    <tr>\n",
       "      <th>9845</th>\n",
       "      <td>10010818</td>\n",
       "      <td>109746.html</td>\n",
       "      <td>-</td>\n",
       "      <td>2008-10-15 15:16:00</td>\n",
       "      <td>36</td>\n",
       "      <td>1</td>\n",
       "      <td>36</td>\n",
       "    </tr>\n",
       "    <tr>\n",
       "      <th>16695</th>\n",
       "      <td>10010818</td>\n",
       "      <td>117910.html</td>\n",
       "      <td>-</td>\n",
       "      <td>2008-11-13 16:10:00</td>\n",
       "      <td>36</td>\n",
       "      <td>1</td>\n",
       "      <td>36</td>\n",
       "    </tr>\n",
       "    <tr>\n",
       "      <th>9904</th>\n",
       "      <td>10010818</td>\n",
       "      <td>109830.html</td>\n",
       "      <td>-</td>\n",
       "      <td>2008-10-17 19:42:00</td>\n",
       "      <td>36</td>\n",
       "      <td>1</td>\n",
       "      <td>36</td>\n",
       "    </tr>\n",
       "    <tr>\n",
       "      <th>9980</th>\n",
       "      <td>10010818</td>\n",
       "      <td>110013.html</td>\n",
       "      <td>-</td>\n",
       "      <td>2008-10-15 15:11:00</td>\n",
       "      <td>36</td>\n",
       "      <td>1</td>\n",
       "      <td>36</td>\n",
       "    </tr>\n",
       "    <tr>\n",
       "      <th>10767</th>\n",
       "      <td>10010818</td>\n",
       "      <td>110869.html</td>\n",
       "      <td>-</td>\n",
       "      <td>2008-10-20 00:20:00</td>\n",
       "      <td>36</td>\n",
       "      <td>1</td>\n",
       "      <td>36</td>\n",
       "    </tr>\n",
       "    <tr>\n",
       "      <th>11344</th>\n",
       "      <td>10010818</td>\n",
       "      <td>111506.html</td>\n",
       "      <td>-</td>\n",
       "      <td>2008-10-21 11:45:00</td>\n",
       "      <td>36</td>\n",
       "      <td>1</td>\n",
       "      <td>36</td>\n",
       "    </tr>\n",
       "    <tr>\n",
       "      <th>11412</th>\n",
       "      <td>10010818</td>\n",
       "      <td>111584.html</td>\n",
       "      <td>-</td>\n",
       "      <td>2008-10-23 15:52:00</td>\n",
       "      <td>36</td>\n",
       "      <td>1</td>\n",
       "      <td>36</td>\n",
       "    </tr>\n",
       "    <tr>\n",
       "      <th>11741</th>\n",
       "      <td>10010818</td>\n",
       "      <td>112103.html</td>\n",
       "      <td>-</td>\n",
       "      <td>2008-10-25 10:04:00</td>\n",
       "      <td>36</td>\n",
       "      <td>1</td>\n",
       "      <td>36</td>\n",
       "    </tr>\n",
       "    <tr>\n",
       "      <th>11808</th>\n",
       "      <td>10010818</td>\n",
       "      <td>112187.html</td>\n",
       "      <td>-</td>\n",
       "      <td>2008-10-27 14:25:00</td>\n",
       "      <td>36</td>\n",
       "      <td>1</td>\n",
       "      <td>36</td>\n",
       "    </tr>\n",
       "    <tr>\n",
       "      <th>13786</th>\n",
       "      <td>10010818</td>\n",
       "      <td>114652.html</td>\n",
       "      <td>-</td>\n",
       "      <td>2008-11-03 13:21:00</td>\n",
       "      <td>36</td>\n",
       "      <td>1</td>\n",
       "      <td>36</td>\n",
       "    </tr>\n",
       "    <tr>\n",
       "      <th>13913</th>\n",
       "      <td>10010818</td>\n",
       "      <td>114804.html</td>\n",
       "      <td>-</td>\n",
       "      <td>2008-11-07 11:45:00</td>\n",
       "      <td>36</td>\n",
       "      <td>1</td>\n",
       "      <td>36</td>\n",
       "    </tr>\n",
       "    <tr>\n",
       "      <th>13989</th>\n",
       "      <td>10010818</td>\n",
       "      <td>114907.html</td>\n",
       "      <td>-</td>\n",
       "      <td>2008-11-10 03:33:00</td>\n",
       "      <td>36</td>\n",
       "      <td>1</td>\n",
       "      <td>36</td>\n",
       "    </tr>\n",
       "    <tr>\n",
       "      <th>15527</th>\n",
       "      <td>10010818</td>\n",
       "      <td>116626.html</td>\n",
       "      <td>-</td>\n",
       "      <td>2008-11-10 13:36:00</td>\n",
       "      <td>36</td>\n",
       "      <td>1</td>\n",
       "      <td>36</td>\n",
       "    </tr>\n",
       "    <tr>\n",
       "      <th>9266</th>\n",
       "      <td>10010818</td>\n",
       "      <td>109104.html</td>\n",
       "      <td>-</td>\n",
       "      <td>2008-10-13 00:24:00</td>\n",
       "      <td>36</td>\n",
       "      <td>1</td>\n",
       "      <td>36</td>\n",
       "    </tr>\n",
       "    <tr>\n",
       "      <th>30862</th>\n",
       "      <td>10011491</td>\n",
       "      <td>casio-exilim-ex-z200-10-1-mp-digital-cam</td>\n",
       "      <td>Casio Exilim EX-Z200 10.1 MP Digital Camera</td>\n",
       "      <td>2009-01-05 02:42:00</td>\n",
       "      <td>43</td>\n",
       "      <td>48</td>\n",
       "      <td>43</td>\n",
       "    </tr>\n",
       "    <tr>\n",
       "      <th>25280</th>\n",
       "      <td>10010929</td>\n",
       "      <td>casio-exilim-ex-z200-10-1-mp-digital-cam</td>\n",
       "      <td>Casio Exilim EX-Z200 10.1 MP Digital Camera - RED</td>\n",
       "      <td>2008-12-10 13:43:00</td>\n",
       "      <td>5</td>\n",
       "      <td>48</td>\n",
       "      <td>5</td>\n",
       "    </tr>\n",
       "    <tr>\n",
       "      <th>52065</th>\n",
       "      <td>10011838</td>\n",
       "      <td>frigidaire-atf8000fs-white-front-loading</td>\n",
       "      <td>Frigidaire ATF8000FS White  Front-Loading Washer</td>\n",
       "      <td>2009-03-15 17:43:00</td>\n",
       "      <td>6</td>\n",
       "      <td>21</td>\n",
       "      <td>6</td>\n",
       "    </tr>\n",
       "    <tr>\n",
       "      <th>60454</th>\n",
       "      <td>10012069</td>\n",
       "      <td>frigidaire-atf8000fs-white-front-loading</td>\n",
       "      <td>Frigidaire ATF8000FS White Front-Loading Washer</td>\n",
       "      <td>2009-04-17 21:05:00</td>\n",
       "      <td>8</td>\n",
       "      <td>21</td>\n",
       "      <td>15</td>\n",
       "    </tr>\n",
       "    <tr>\n",
       "      <th>7691</th>\n",
       "      <td>10009192</td>\n",
       "      <td>ghd-professional-mini-styler-mk4-5-8-inc</td>\n",
       "      <td>GHD Professional Mini Styler MK4 ( 5/8\" Inch)</td>\n",
       "      <td>2008-10-06 13:23:00</td>\n",
       "      <td>26</td>\n",
       "      <td>37</td>\n",
       "      <td>26</td>\n",
       "    </tr>\n",
       "    <tr>\n",
       "      <th>17351</th>\n",
       "      <td>10011006</td>\n",
       "      <td>ghd-professional-mini-styler-mk4-5-8-inc</td>\n",
       "      <td>GHD Professional Mini Styler MK4 (5/8\" Inch)</td>\n",
       "      <td>2008-11-08 11:47:00</td>\n",
       "      <td>11</td>\n",
       "      <td>37</td>\n",
       "      <td>11</td>\n",
       "    </tr>\n",
       "    <tr>\n",
       "      <th>77943</th>\n",
       "      <td>10012229</td>\n",
       "      <td>garmin-n-vi-205w-4-3-inch-portable-gps-n</td>\n",
       "      <td>Garmin nüvi 205W 4.3-Inch  Portable GPS Navigator</td>\n",
       "      <td>2009-06-29 04:30:00</td>\n",
       "      <td>22</td>\n",
       "      <td>37</td>\n",
       "      <td>22</td>\n",
       "    </tr>\n",
       "    <tr>\n",
       "      <th>74852</th>\n",
       "      <td>10012230</td>\n",
       "      <td>garmin-n-vi-205w-4-3-inch-portable-gps-n</td>\n",
       "      <td>Garmin nüvi 205W 4.3-Inch Portable GPS Navigator</td>\n",
       "      <td>2009-06-15 07:13:00</td>\n",
       "      <td>15</td>\n",
       "      <td>37</td>\n",
       "      <td>15</td>\n",
       "    </tr>\n",
       "    <tr>\n",
       "      <th>506</th>\n",
       "      <td>10008900</td>\n",
       "      <td>lego-city-7743-police-command-center</td>\n",
       "      <td>LEGO City 7743 - Police Command Center</td>\n",
       "      <td>2008-08-21 23:23:00</td>\n",
       "      <td>3</td>\n",
       "      <td>6</td>\n",
       "      <td>3</td>\n",
       "    </tr>\n",
       "    <tr>\n",
       "      <th>7652</th>\n",
       "      <td>10010875</td>\n",
       "      <td>lego-city-7743-police-command-center</td>\n",
       "      <td>LEGO City 7743: Police Command Center</td>\n",
       "      <td>2008-10-03 18:48:00</td>\n",
       "      <td>3</td>\n",
       "      <td>6</td>\n",
       "      <td>3</td>\n",
       "    </tr>\n",
       "    <tr>\n",
       "      <th>75109</th>\n",
       "      <td>10012393</td>\n",
       "      <td>lg-26-5-cu-ft-side-by-side-refrigerator-</td>\n",
       "      <td>LG 26.5 cu.ft. Side-By-Side Refrigerator (White)</td>\n",
       "      <td>2009-06-17 16:49:00</td>\n",
       "      <td>29</td>\n",
       "      <td>39</td>\n",
       "      <td>29</td>\n",
       "    </tr>\n",
       "    <tr>\n",
       "      <th>52264</th>\n",
       "      <td>10011841</td>\n",
       "      <td>lg-26-5-cu-ft-side-by-side-refrigerator-</td>\n",
       "      <td>LG 26.5 cu.ft. Side-By-Side Refrigerator White</td>\n",
       "      <td>2009-03-17 04:52:00</td>\n",
       "      <td>10</td>\n",
       "      <td>39</td>\n",
       "      <td>10</td>\n",
       "    </tr>\n",
       "    <tr>\n",
       "      <th>106950</th>\n",
       "      <td>10013994</td>\n",
       "      <td>mario-sonic-at-the-olympic-winter-games-</td>\n",
       "      <td>Mario &amp; Sonic at the Olympic Winter Games (DS)</td>\n",
       "      <td>2009-10-25 03:33:00</td>\n",
       "      <td>55</td>\n",
       "      <td>110</td>\n",
       "      <td>55</td>\n",
       "    </tr>\n",
       "    <tr>\n",
       "      <th>106964</th>\n",
       "      <td>10013993</td>\n",
       "      <td>mario-sonic-at-the-olympic-winter-games-</td>\n",
       "      <td>Mario &amp; Sonic at the Olympic Winter Games (Wii)</td>\n",
       "      <td>2009-10-25 14:03:00</td>\n",
       "      <td>55</td>\n",
       "      <td>110</td>\n",
       "      <td>55</td>\n",
       "    </tr>\n",
       "    <tr>\n",
       "      <th>2981</th>\n",
       "      <td>10010486</td>\n",
       "      <td>samsung-t220hd-22-1080p-lcd-hdtv-monitor</td>\n",
       "      <td>Samsung  T220HD 22\" 1080p LCD HDTV Monitor</td>\n",
       "      <td>2008-09-21 01:17:00</td>\n",
       "      <td>14</td>\n",
       "      <td>250</td>\n",
       "      <td>14</td>\n",
       "    </tr>\n",
       "    <tr>\n",
       "      <th>63331</th>\n",
       "      <td>10012128</td>\n",
       "      <td>samsung-bd-p3600-1080p-blu-ray-disc-play</td>\n",
       "      <td>Samsung BD-P3600 1080p Blu-Ray Disc Player</td>\n",
       "      <td>2009-04-30 01:23:00</td>\n",
       "      <td>9</td>\n",
       "      <td>20</td>\n",
       "      <td>9</td>\n",
       "    </tr>\n",
       "    <tr>\n",
       "      <th>92797</th>\n",
       "      <td>10013399</td>\n",
       "      <td>samsung-bd-p3600-1080p-blu-ray-disc-play</td>\n",
       "      <td>Samsung BD-P3600 1080p Blu-ray Disc Player</td>\n",
       "      <td>2009-08-31 15:23:00</td>\n",
       "      <td>11</td>\n",
       "      <td>20</td>\n",
       "      <td>11</td>\n",
       "    </tr>\n",
       "    <tr>\n",
       "      <th>20840</th>\n",
       "      <td>10011345</td>\n",
       "      <td>samsung-t220hd-22-1080p-lcd-hdtv-monitor</td>\n",
       "      <td>Samsung T220HD 22\" 1080p LCD HDTV Monitor</td>\n",
       "      <td>2008-12-01 10:24:00</td>\n",
       "      <td>100</td>\n",
       "      <td>250</td>\n",
       "      <td>236</td>\n",
       "    </tr>\n",
       "    <tr>\n",
       "      <th>115882</th>\n",
       "      <td>10014797</td>\n",
       "      <td>star-wars-the-clone-wars-republic-heroes</td>\n",
       "      <td>Star Wars: The Clone Wars - Republic Heroes (PC)</td>\n",
       "      <td>2009-11-15 18:38:00</td>\n",
       "      <td>24</td>\n",
       "      <td>52</td>\n",
       "      <td>24</td>\n",
       "    </tr>\n",
       "    <tr>\n",
       "      <th>106978</th>\n",
       "      <td>10013992</td>\n",
       "      <td>star-wars-the-clone-wars-republic-heroes</td>\n",
       "      <td>Star Wars: The Clone Wars - Republic Heroes (Wii)</td>\n",
       "      <td>2009-10-24 19:36:00</td>\n",
       "      <td>28</td>\n",
       "      <td>52</td>\n",
       "      <td>28</td>\n",
       "    </tr>\n",
       "    <tr>\n",
       "      <th>503</th>\n",
       "      <td>10009529</td>\n",
       "      <td>vtech-v-smile-tv-learning-system</td>\n",
       "      <td>VTech V.Smile TV Learning System</td>\n",
       "      <td>2008-08-23 05:53:00</td>\n",
       "      <td>4</td>\n",
       "      <td>22</td>\n",
       "      <td>4</td>\n",
       "    </tr>\n",
       "    <tr>\n",
       "      <th>13766</th>\n",
       "      <td>10011031</td>\n",
       "      <td>vtech-v-smile-tv-learning-system</td>\n",
       "      <td>Vtech - V.Smile TV Learning System</td>\n",
       "      <td>2008-11-03 04:59:00</td>\n",
       "      <td>18</td>\n",
       "      <td>22</td>\n",
       "      <td>18</td>\n",
       "    </tr>\n",
       "  </tbody>\n",
       "</table>\n",
       "</div>"
      ],
      "text/plain": [
       "        product_id                                      item  \\\n",
       "19906     10010818                               121881.html   \n",
       "19294     10010818                               121215.html   \n",
       "19540     10010818                               121470.html   \n",
       "19837     10010818                               121788.html   \n",
       "21170     10010818                               123276.html   \n",
       "21421     10010818                               123553.html   \n",
       "22803     10010818                               125284.html   \n",
       "22804     10010818                               125285.html   \n",
       "22805     10010818                               125286.html   \n",
       "22806     10010818                               125287.html   \n",
       "22807     10010818                               125288.html   \n",
       "24161     10010818                               126865.html   \n",
       "24162     10010818                               126866.html   \n",
       "24163     10010818                               126867.html   \n",
       "26865     10010818                               130108.html   \n",
       "33326     10010818                               137897.html   \n",
       "33327     10010818                               137898.html   \n",
       "35238     10010818                               140035.html   \n",
       "19223     10010818                               121129.html   \n",
       "17387     10010818                               118838.html   \n",
       "19541     10010818                               121471.html   \n",
       "9875      10010818                               109786.html   \n",
       "9845      10010818                               109746.html   \n",
       "16695     10010818                               117910.html   \n",
       "9904      10010818                               109830.html   \n",
       "9980      10010818                               110013.html   \n",
       "10767     10010818                               110869.html   \n",
       "11344     10010818                               111506.html   \n",
       "11412     10010818                               111584.html   \n",
       "11741     10010818                               112103.html   \n",
       "11808     10010818                               112187.html   \n",
       "13786     10010818                               114652.html   \n",
       "13913     10010818                               114804.html   \n",
       "13989     10010818                               114907.html   \n",
       "15527     10010818                               116626.html   \n",
       "9266      10010818                               109104.html   \n",
       "30862     10011491  casio-exilim-ex-z200-10-1-mp-digital-cam   \n",
       "25280     10010929  casio-exilim-ex-z200-10-1-mp-digital-cam   \n",
       "52065     10011838  frigidaire-atf8000fs-white-front-loading   \n",
       "60454     10012069  frigidaire-atf8000fs-white-front-loading   \n",
       "7691      10009192  ghd-professional-mini-styler-mk4-5-8-inc   \n",
       "17351     10011006  ghd-professional-mini-styler-mk4-5-8-inc   \n",
       "77943     10012229  garmin-n-vi-205w-4-3-inch-portable-gps-n   \n",
       "74852     10012230  garmin-n-vi-205w-4-3-inch-portable-gps-n   \n",
       "506       10008900      lego-city-7743-police-command-center   \n",
       "7652      10010875      lego-city-7743-police-command-center   \n",
       "75109     10012393  lg-26-5-cu-ft-side-by-side-refrigerator-   \n",
       "52264     10011841  lg-26-5-cu-ft-side-by-side-refrigerator-   \n",
       "106950    10013994  mario-sonic-at-the-olympic-winter-games-   \n",
       "106964    10013993  mario-sonic-at-the-olympic-winter-games-   \n",
       "2981      10010486  samsung-t220hd-22-1080p-lcd-hdtv-monitor   \n",
       "63331     10012128  samsung-bd-p3600-1080p-blu-ray-disc-play   \n",
       "92797     10013399  samsung-bd-p3600-1080p-blu-ray-disc-play   \n",
       "20840     10011345  samsung-t220hd-22-1080p-lcd-hdtv-monitor   \n",
       "115882    10014797  star-wars-the-clone-wars-republic-heroes   \n",
       "106978    10013992  star-wars-the-clone-wars-republic-heroes   \n",
       "503       10009529          vtech-v-smile-tv-learning-system   \n",
       "13766     10011031          vtech-v-smile-tv-learning-system   \n",
       "\n",
       "                                                     desc         endtime_str  \\\n",
       "19906                                                   - 2008-11-26 18:03:00   \n",
       "19294                                                   - 2008-11-22 20:04:00   \n",
       "19540                                                   - 2008-11-18 22:01:00   \n",
       "19837                                                   - 2008-11-24 13:05:00   \n",
       "21170                                                   - 2008-11-28 14:25:00   \n",
       "21421                                                   - 2008-11-30 23:24:00   \n",
       "22803                                                   - 2008-12-07 17:10:00   \n",
       "22804                                                   - 2008-12-05 13:18:00   \n",
       "22805                                                   - 2008-12-03 19:51:00   \n",
       "22806                                                   - 2008-12-02 16:39:00   \n",
       "22807                                                   - 2008-12-01 13:22:00   \n",
       "24161                                                   - 2008-12-14 20:44:00   \n",
       "24162                                                   - 2008-12-12 13:43:00   \n",
       "24163                                                   - 2008-12-11 03:54:00   \n",
       "26865                                                   - 2008-12-19 22:43:00   \n",
       "33326                                                   - 2009-01-04 18:32:00   \n",
       "33327                                                   - 2008-12-30 19:12:00   \n",
       "35238                                                   - 2009-01-01 09:06:00   \n",
       "19223                                                   - 2008-11-19 18:30:00   \n",
       "17387                                                   - 2008-11-16 13:33:00   \n",
       "19541                                                   - 2008-11-21 16:32:00   \n",
       "9875                                                    - 2008-10-16 21:51:00   \n",
       "9845                                                    - 2008-10-15 15:16:00   \n",
       "16695                                                   - 2008-11-13 16:10:00   \n",
       "9904                                                    - 2008-10-17 19:42:00   \n",
       "9980                                                    - 2008-10-15 15:11:00   \n",
       "10767                                                   - 2008-10-20 00:20:00   \n",
       "11344                                                   - 2008-10-21 11:45:00   \n",
       "11412                                                   - 2008-10-23 15:52:00   \n",
       "11741                                                   - 2008-10-25 10:04:00   \n",
       "11808                                                   - 2008-10-27 14:25:00   \n",
       "13786                                                   - 2008-11-03 13:21:00   \n",
       "13913                                                   - 2008-11-07 11:45:00   \n",
       "13989                                                   - 2008-11-10 03:33:00   \n",
       "15527                                                   - 2008-11-10 13:36:00   \n",
       "9266                                                    - 2008-10-13 00:24:00   \n",
       "30862         Casio Exilim EX-Z200 10.1 MP Digital Camera 2009-01-05 02:42:00   \n",
       "25280   Casio Exilim EX-Z200 10.1 MP Digital Camera - RED 2008-12-10 13:43:00   \n",
       "52065    Frigidaire ATF8000FS White  Front-Loading Washer 2009-03-15 17:43:00   \n",
       "60454     Frigidaire ATF8000FS White Front-Loading Washer 2009-04-17 21:05:00   \n",
       "7691        GHD Professional Mini Styler MK4 ( 5/8\" Inch) 2008-10-06 13:23:00   \n",
       "17351        GHD Professional Mini Styler MK4 (5/8\" Inch) 2008-11-08 11:47:00   \n",
       "77943   Garmin nüvi 205W 4.3-Inch  Portable GPS Navigator 2009-06-29 04:30:00   \n",
       "74852    Garmin nüvi 205W 4.3-Inch Portable GPS Navigator 2009-06-15 07:13:00   \n",
       "506                LEGO City 7743 - Police Command Center 2008-08-21 23:23:00   \n",
       "7652                LEGO City 7743: Police Command Center 2008-10-03 18:48:00   \n",
       "75109    LG 26.5 cu.ft. Side-By-Side Refrigerator (White) 2009-06-17 16:49:00   \n",
       "52264      LG 26.5 cu.ft. Side-By-Side Refrigerator White 2009-03-17 04:52:00   \n",
       "106950     Mario & Sonic at the Olympic Winter Games (DS) 2009-10-25 03:33:00   \n",
       "106964    Mario & Sonic at the Olympic Winter Games (Wii) 2009-10-25 14:03:00   \n",
       "2981           Samsung  T220HD 22\" 1080p LCD HDTV Monitor 2008-09-21 01:17:00   \n",
       "63331          Samsung BD-P3600 1080p Blu-Ray Disc Player 2009-04-30 01:23:00   \n",
       "92797          Samsung BD-P3600 1080p Blu-ray Disc Player 2009-08-31 15:23:00   \n",
       "20840           Samsung T220HD 22\" 1080p LCD HDTV Monitor 2008-12-01 10:24:00   \n",
       "115882   Star Wars: The Clone Wars - Republic Heroes (PC) 2009-11-15 18:38:00   \n",
       "106978  Star Wars: The Clone Wars - Republic Heroes (Wii) 2009-10-24 19:36:00   \n",
       "503                      VTech V.Smile TV Learning System 2008-08-23 05:53:00   \n",
       "13766                  Vtech - V.Smile TV Learning System 2008-11-03 04:59:00   \n",
       "\n",
       "        product_id_count  item_count  desc_count  \n",
       "19906                 36           1          36  \n",
       "19294                 36           1          36  \n",
       "19540                 36           1          36  \n",
       "19837                 36           1          36  \n",
       "21170                 36           1          36  \n",
       "21421                 36           1          36  \n",
       "22803                 36           1          36  \n",
       "22804                 36           1          36  \n",
       "22805                 36           1          36  \n",
       "22806                 36           1          36  \n",
       "22807                 36           1          36  \n",
       "24161                 36           1          36  \n",
       "24162                 36           1          36  \n",
       "24163                 36           1          36  \n",
       "26865                 36           1          36  \n",
       "33326                 36           1          36  \n",
       "33327                 36           1          36  \n",
       "35238                 36           1          36  \n",
       "19223                 36           1          36  \n",
       "17387                 36           1          36  \n",
       "19541                 36           1          36  \n",
       "9875                  36           1          36  \n",
       "9845                  36           1          36  \n",
       "16695                 36           1          36  \n",
       "9904                  36           1          36  \n",
       "9980                  36           1          36  \n",
       "10767                 36           1          36  \n",
       "11344                 36           1          36  \n",
       "11412                 36           1          36  \n",
       "11741                 36           1          36  \n",
       "11808                 36           1          36  \n",
       "13786                 36           1          36  \n",
       "13913                 36           1          36  \n",
       "13989                 36           1          36  \n",
       "15527                 36           1          36  \n",
       "9266                  36           1          36  \n",
       "30862                 43          48          43  \n",
       "25280                  5          48           5  \n",
       "52065                  6          21           6  \n",
       "60454                  8          21          15  \n",
       "7691                  26          37          26  \n",
       "17351                 11          37          11  \n",
       "77943                 22          37          22  \n",
       "74852                 15          37          15  \n",
       "506                    3           6           3  \n",
       "7652                   3           6           3  \n",
       "75109                 29          39          29  \n",
       "52264                 10          39          10  \n",
       "106950                55         110          55  \n",
       "106964                55         110          55  \n",
       "2981                  14         250          14  \n",
       "63331                  9          20           9  \n",
       "92797                 11          20          11  \n",
       "20840                100         250         236  \n",
       "115882                24          52          24  \n",
       "106978                28          52          28  \n",
       "503                    4          22           4  \n",
       "13766                 18          22          18  "
      ]
     },
     "execution_count": 19,
     "metadata": {},
     "output_type": "execute_result"
    }
   ],
   "source": [
    "itemVsDescDf = outcomesDfItemDesc[(outcomesDfItemDesc['item_count']!=outcomesDfItemDesc['desc_count'])].drop_duplicates(subset=['item','desc'])\n",
    "itemVsDescDf = itemVsDescDf.sort_values(by='desc')\n",
    "itemVsDescDf"
   ]
  },
  {
   "cell_type": "markdown",
   "metadata": {},
   "source": [
    "This is the case for 36 rows in the dataframe."
   ]
  },
  {
   "cell_type": "code",
   "execution_count": 20,
   "metadata": {},
   "outputs": [
    {
     "data": {
      "text/html": [
       "<div>\n",
       "<style>\n",
       "    .dataframe thead tr:only-child th {\n",
       "        text-align: right;\n",
       "    }\n",
       "\n",
       "    .dataframe thead th {\n",
       "        text-align: left;\n",
       "    }\n",
       "\n",
       "    .dataframe tbody tr th {\n",
       "        vertical-align: top;\n",
       "    }\n",
       "</style>\n",
       "<table border=\"1\" class=\"dataframe\">\n",
       "  <thead>\n",
       "    <tr style=\"text-align: right;\">\n",
       "      <th></th>\n",
       "      <th>product_id</th>\n",
       "      <th>item</th>\n",
       "      <th>desc</th>\n",
       "      <th>endtime_str</th>\n",
       "      <th>product_id_count</th>\n",
       "      <th>item_count</th>\n",
       "      <th>desc_count</th>\n",
       "    </tr>\n",
       "  </thead>\n",
       "  <tbody>\n",
       "    <tr>\n",
       "      <th>19906</th>\n",
       "      <td>10010818</td>\n",
       "      <td>121881.html</td>\n",
       "      <td>-</td>\n",
       "      <td>2008-11-26 18:03:00</td>\n",
       "      <td>36</td>\n",
       "      <td>1</td>\n",
       "      <td>36</td>\n",
       "    </tr>\n",
       "    <tr>\n",
       "      <th>19294</th>\n",
       "      <td>10010818</td>\n",
       "      <td>121215.html</td>\n",
       "      <td>-</td>\n",
       "      <td>2008-11-22 20:04:00</td>\n",
       "      <td>36</td>\n",
       "      <td>1</td>\n",
       "      <td>36</td>\n",
       "    </tr>\n",
       "    <tr>\n",
       "      <th>19540</th>\n",
       "      <td>10010818</td>\n",
       "      <td>121470.html</td>\n",
       "      <td>-</td>\n",
       "      <td>2008-11-18 22:01:00</td>\n",
       "      <td>36</td>\n",
       "      <td>1</td>\n",
       "      <td>36</td>\n",
       "    </tr>\n",
       "    <tr>\n",
       "      <th>19837</th>\n",
       "      <td>10010818</td>\n",
       "      <td>121788.html</td>\n",
       "      <td>-</td>\n",
       "      <td>2008-11-24 13:05:00</td>\n",
       "      <td>36</td>\n",
       "      <td>1</td>\n",
       "      <td>36</td>\n",
       "    </tr>\n",
       "    <tr>\n",
       "      <th>21170</th>\n",
       "      <td>10010818</td>\n",
       "      <td>123276.html</td>\n",
       "      <td>-</td>\n",
       "      <td>2008-11-28 14:25:00</td>\n",
       "      <td>36</td>\n",
       "      <td>1</td>\n",
       "      <td>36</td>\n",
       "    </tr>\n",
       "    <tr>\n",
       "      <th>21421</th>\n",
       "      <td>10010818</td>\n",
       "      <td>123553.html</td>\n",
       "      <td>-</td>\n",
       "      <td>2008-11-30 23:24:00</td>\n",
       "      <td>36</td>\n",
       "      <td>1</td>\n",
       "      <td>36</td>\n",
       "    </tr>\n",
       "    <tr>\n",
       "      <th>22803</th>\n",
       "      <td>10010818</td>\n",
       "      <td>125284.html</td>\n",
       "      <td>-</td>\n",
       "      <td>2008-12-07 17:10:00</td>\n",
       "      <td>36</td>\n",
       "      <td>1</td>\n",
       "      <td>36</td>\n",
       "    </tr>\n",
       "    <tr>\n",
       "      <th>22804</th>\n",
       "      <td>10010818</td>\n",
       "      <td>125285.html</td>\n",
       "      <td>-</td>\n",
       "      <td>2008-12-05 13:18:00</td>\n",
       "      <td>36</td>\n",
       "      <td>1</td>\n",
       "      <td>36</td>\n",
       "    </tr>\n",
       "    <tr>\n",
       "      <th>22805</th>\n",
       "      <td>10010818</td>\n",
       "      <td>125286.html</td>\n",
       "      <td>-</td>\n",
       "      <td>2008-12-03 19:51:00</td>\n",
       "      <td>36</td>\n",
       "      <td>1</td>\n",
       "      <td>36</td>\n",
       "    </tr>\n",
       "    <tr>\n",
       "      <th>22806</th>\n",
       "      <td>10010818</td>\n",
       "      <td>125287.html</td>\n",
       "      <td>-</td>\n",
       "      <td>2008-12-02 16:39:00</td>\n",
       "      <td>36</td>\n",
       "      <td>1</td>\n",
       "      <td>36</td>\n",
       "    </tr>\n",
       "    <tr>\n",
       "      <th>22807</th>\n",
       "      <td>10010818</td>\n",
       "      <td>125288.html</td>\n",
       "      <td>-</td>\n",
       "      <td>2008-12-01 13:22:00</td>\n",
       "      <td>36</td>\n",
       "      <td>1</td>\n",
       "      <td>36</td>\n",
       "    </tr>\n",
       "    <tr>\n",
       "      <th>24161</th>\n",
       "      <td>10010818</td>\n",
       "      <td>126865.html</td>\n",
       "      <td>-</td>\n",
       "      <td>2008-12-14 20:44:00</td>\n",
       "      <td>36</td>\n",
       "      <td>1</td>\n",
       "      <td>36</td>\n",
       "    </tr>\n",
       "    <tr>\n",
       "      <th>24162</th>\n",
       "      <td>10010818</td>\n",
       "      <td>126866.html</td>\n",
       "      <td>-</td>\n",
       "      <td>2008-12-12 13:43:00</td>\n",
       "      <td>36</td>\n",
       "      <td>1</td>\n",
       "      <td>36</td>\n",
       "    </tr>\n",
       "    <tr>\n",
       "      <th>24163</th>\n",
       "      <td>10010818</td>\n",
       "      <td>126867.html</td>\n",
       "      <td>-</td>\n",
       "      <td>2008-12-11 03:54:00</td>\n",
       "      <td>36</td>\n",
       "      <td>1</td>\n",
       "      <td>36</td>\n",
       "    </tr>\n",
       "    <tr>\n",
       "      <th>26865</th>\n",
       "      <td>10010818</td>\n",
       "      <td>130108.html</td>\n",
       "      <td>-</td>\n",
       "      <td>2008-12-19 22:43:00</td>\n",
       "      <td>36</td>\n",
       "      <td>1</td>\n",
       "      <td>36</td>\n",
       "    </tr>\n",
       "    <tr>\n",
       "      <th>33326</th>\n",
       "      <td>10010818</td>\n",
       "      <td>137897.html</td>\n",
       "      <td>-</td>\n",
       "      <td>2009-01-04 18:32:00</td>\n",
       "      <td>36</td>\n",
       "      <td>1</td>\n",
       "      <td>36</td>\n",
       "    </tr>\n",
       "    <tr>\n",
       "      <th>33327</th>\n",
       "      <td>10010818</td>\n",
       "      <td>137898.html</td>\n",
       "      <td>-</td>\n",
       "      <td>2008-12-30 19:12:00</td>\n",
       "      <td>36</td>\n",
       "      <td>1</td>\n",
       "      <td>36</td>\n",
       "    </tr>\n",
       "    <tr>\n",
       "      <th>35238</th>\n",
       "      <td>10010818</td>\n",
       "      <td>140035.html</td>\n",
       "      <td>-</td>\n",
       "      <td>2009-01-01 09:06:00</td>\n",
       "      <td>36</td>\n",
       "      <td>1</td>\n",
       "      <td>36</td>\n",
       "    </tr>\n",
       "    <tr>\n",
       "      <th>19223</th>\n",
       "      <td>10010818</td>\n",
       "      <td>121129.html</td>\n",
       "      <td>-</td>\n",
       "      <td>2008-11-19 18:30:00</td>\n",
       "      <td>36</td>\n",
       "      <td>1</td>\n",
       "      <td>36</td>\n",
       "    </tr>\n",
       "    <tr>\n",
       "      <th>17387</th>\n",
       "      <td>10010818</td>\n",
       "      <td>118838.html</td>\n",
       "      <td>-</td>\n",
       "      <td>2008-11-16 13:33:00</td>\n",
       "      <td>36</td>\n",
       "      <td>1</td>\n",
       "      <td>36</td>\n",
       "    </tr>\n",
       "    <tr>\n",
       "      <th>19541</th>\n",
       "      <td>10010818</td>\n",
       "      <td>121471.html</td>\n",
       "      <td>-</td>\n",
       "      <td>2008-11-21 16:32:00</td>\n",
       "      <td>36</td>\n",
       "      <td>1</td>\n",
       "      <td>36</td>\n",
       "    </tr>\n",
       "    <tr>\n",
       "      <th>9875</th>\n",
       "      <td>10010818</td>\n",
       "      <td>109786.html</td>\n",
       "      <td>-</td>\n",
       "      <td>2008-10-16 21:51:00</td>\n",
       "      <td>36</td>\n",
       "      <td>1</td>\n",
       "      <td>36</td>\n",
       "    </tr>\n",
       "    <tr>\n",
       "      <th>9845</th>\n",
       "      <td>10010818</td>\n",
       "      <td>109746.html</td>\n",
       "      <td>-</td>\n",
       "      <td>2008-10-15 15:16:00</td>\n",
       "      <td>36</td>\n",
       "      <td>1</td>\n",
       "      <td>36</td>\n",
       "    </tr>\n",
       "    <tr>\n",
       "      <th>16695</th>\n",
       "      <td>10010818</td>\n",
       "      <td>117910.html</td>\n",
       "      <td>-</td>\n",
       "      <td>2008-11-13 16:10:00</td>\n",
       "      <td>36</td>\n",
       "      <td>1</td>\n",
       "      <td>36</td>\n",
       "    </tr>\n",
       "    <tr>\n",
       "      <th>9904</th>\n",
       "      <td>10010818</td>\n",
       "      <td>109830.html</td>\n",
       "      <td>-</td>\n",
       "      <td>2008-10-17 19:42:00</td>\n",
       "      <td>36</td>\n",
       "      <td>1</td>\n",
       "      <td>36</td>\n",
       "    </tr>\n",
       "    <tr>\n",
       "      <th>9980</th>\n",
       "      <td>10010818</td>\n",
       "      <td>110013.html</td>\n",
       "      <td>-</td>\n",
       "      <td>2008-10-15 15:11:00</td>\n",
       "      <td>36</td>\n",
       "      <td>1</td>\n",
       "      <td>36</td>\n",
       "    </tr>\n",
       "    <tr>\n",
       "      <th>10767</th>\n",
       "      <td>10010818</td>\n",
       "      <td>110869.html</td>\n",
       "      <td>-</td>\n",
       "      <td>2008-10-20 00:20:00</td>\n",
       "      <td>36</td>\n",
       "      <td>1</td>\n",
       "      <td>36</td>\n",
       "    </tr>\n",
       "    <tr>\n",
       "      <th>11344</th>\n",
       "      <td>10010818</td>\n",
       "      <td>111506.html</td>\n",
       "      <td>-</td>\n",
       "      <td>2008-10-21 11:45:00</td>\n",
       "      <td>36</td>\n",
       "      <td>1</td>\n",
       "      <td>36</td>\n",
       "    </tr>\n",
       "    <tr>\n",
       "      <th>11412</th>\n",
       "      <td>10010818</td>\n",
       "      <td>111584.html</td>\n",
       "      <td>-</td>\n",
       "      <td>2008-10-23 15:52:00</td>\n",
       "      <td>36</td>\n",
       "      <td>1</td>\n",
       "      <td>36</td>\n",
       "    </tr>\n",
       "    <tr>\n",
       "      <th>11741</th>\n",
       "      <td>10010818</td>\n",
       "      <td>112103.html</td>\n",
       "      <td>-</td>\n",
       "      <td>2008-10-25 10:04:00</td>\n",
       "      <td>36</td>\n",
       "      <td>1</td>\n",
       "      <td>36</td>\n",
       "    </tr>\n",
       "    <tr>\n",
       "      <th>11808</th>\n",
       "      <td>10010818</td>\n",
       "      <td>112187.html</td>\n",
       "      <td>-</td>\n",
       "      <td>2008-10-27 14:25:00</td>\n",
       "      <td>36</td>\n",
       "      <td>1</td>\n",
       "      <td>36</td>\n",
       "    </tr>\n",
       "    <tr>\n",
       "      <th>13786</th>\n",
       "      <td>10010818</td>\n",
       "      <td>114652.html</td>\n",
       "      <td>-</td>\n",
       "      <td>2008-11-03 13:21:00</td>\n",
       "      <td>36</td>\n",
       "      <td>1</td>\n",
       "      <td>36</td>\n",
       "    </tr>\n",
       "    <tr>\n",
       "      <th>13913</th>\n",
       "      <td>10010818</td>\n",
       "      <td>114804.html</td>\n",
       "      <td>-</td>\n",
       "      <td>2008-11-07 11:45:00</td>\n",
       "      <td>36</td>\n",
       "      <td>1</td>\n",
       "      <td>36</td>\n",
       "    </tr>\n",
       "    <tr>\n",
       "      <th>13989</th>\n",
       "      <td>10010818</td>\n",
       "      <td>114907.html</td>\n",
       "      <td>-</td>\n",
       "      <td>2008-11-10 03:33:00</td>\n",
       "      <td>36</td>\n",
       "      <td>1</td>\n",
       "      <td>36</td>\n",
       "    </tr>\n",
       "    <tr>\n",
       "      <th>15527</th>\n",
       "      <td>10010818</td>\n",
       "      <td>116626.html</td>\n",
       "      <td>-</td>\n",
       "      <td>2008-11-10 13:36:00</td>\n",
       "      <td>36</td>\n",
       "      <td>1</td>\n",
       "      <td>36</td>\n",
       "    </tr>\n",
       "    <tr>\n",
       "      <th>9266</th>\n",
       "      <td>10010818</td>\n",
       "      <td>109104.html</td>\n",
       "      <td>-</td>\n",
       "      <td>2008-10-13 00:24:00</td>\n",
       "      <td>36</td>\n",
       "      <td>1</td>\n",
       "      <td>36</td>\n",
       "    </tr>\n",
       "  </tbody>\n",
       "</table>\n",
       "</div>"
      ],
      "text/plain": [
       "       product_id         item desc         endtime_str  product_id_count  \\\n",
       "19906    10010818  121881.html    - 2008-11-26 18:03:00                36   \n",
       "19294    10010818  121215.html    - 2008-11-22 20:04:00                36   \n",
       "19540    10010818  121470.html    - 2008-11-18 22:01:00                36   \n",
       "19837    10010818  121788.html    - 2008-11-24 13:05:00                36   \n",
       "21170    10010818  123276.html    - 2008-11-28 14:25:00                36   \n",
       "21421    10010818  123553.html    - 2008-11-30 23:24:00                36   \n",
       "22803    10010818  125284.html    - 2008-12-07 17:10:00                36   \n",
       "22804    10010818  125285.html    - 2008-12-05 13:18:00                36   \n",
       "22805    10010818  125286.html    - 2008-12-03 19:51:00                36   \n",
       "22806    10010818  125287.html    - 2008-12-02 16:39:00                36   \n",
       "22807    10010818  125288.html    - 2008-12-01 13:22:00                36   \n",
       "24161    10010818  126865.html    - 2008-12-14 20:44:00                36   \n",
       "24162    10010818  126866.html    - 2008-12-12 13:43:00                36   \n",
       "24163    10010818  126867.html    - 2008-12-11 03:54:00                36   \n",
       "26865    10010818  130108.html    - 2008-12-19 22:43:00                36   \n",
       "33326    10010818  137897.html    - 2009-01-04 18:32:00                36   \n",
       "33327    10010818  137898.html    - 2008-12-30 19:12:00                36   \n",
       "35238    10010818  140035.html    - 2009-01-01 09:06:00                36   \n",
       "19223    10010818  121129.html    - 2008-11-19 18:30:00                36   \n",
       "17387    10010818  118838.html    - 2008-11-16 13:33:00                36   \n",
       "19541    10010818  121471.html    - 2008-11-21 16:32:00                36   \n",
       "9875     10010818  109786.html    - 2008-10-16 21:51:00                36   \n",
       "9845     10010818  109746.html    - 2008-10-15 15:16:00                36   \n",
       "16695    10010818  117910.html    - 2008-11-13 16:10:00                36   \n",
       "9904     10010818  109830.html    - 2008-10-17 19:42:00                36   \n",
       "9980     10010818  110013.html    - 2008-10-15 15:11:00                36   \n",
       "10767    10010818  110869.html    - 2008-10-20 00:20:00                36   \n",
       "11344    10010818  111506.html    - 2008-10-21 11:45:00                36   \n",
       "11412    10010818  111584.html    - 2008-10-23 15:52:00                36   \n",
       "11741    10010818  112103.html    - 2008-10-25 10:04:00                36   \n",
       "11808    10010818  112187.html    - 2008-10-27 14:25:00                36   \n",
       "13786    10010818  114652.html    - 2008-11-03 13:21:00                36   \n",
       "13913    10010818  114804.html    - 2008-11-07 11:45:00                36   \n",
       "13989    10010818  114907.html    - 2008-11-10 03:33:00                36   \n",
       "15527    10010818  116626.html    - 2008-11-10 13:36:00                36   \n",
       "9266     10010818  109104.html    - 2008-10-13 00:24:00                36   \n",
       "\n",
       "       item_count  desc_count  \n",
       "19906           1          36  \n",
       "19294           1          36  \n",
       "19540           1          36  \n",
       "19837           1          36  \n",
       "21170           1          36  \n",
       "21421           1          36  \n",
       "22803           1          36  \n",
       "22804           1          36  \n",
       "22805           1          36  \n",
       "22806           1          36  \n",
       "22807           1          36  \n",
       "24161           1          36  \n",
       "24162           1          36  \n",
       "24163           1          36  \n",
       "26865           1          36  \n",
       "33326           1          36  \n",
       "33327           1          36  \n",
       "35238           1          36  \n",
       "19223           1          36  \n",
       "17387           1          36  \n",
       "19541           1          36  \n",
       "9875            1          36  \n",
       "9845            1          36  \n",
       "16695           1          36  \n",
       "9904            1          36  \n",
       "9980            1          36  \n",
       "10767           1          36  \n",
       "11344           1          36  \n",
       "11412           1          36  \n",
       "11741           1          36  \n",
       "11808           1          36  \n",
       "13786           1          36  \n",
       "13913           1          36  \n",
       "13989           1          36  \n",
       "15527           1          36  \n",
       "9266            1          36  "
      ]
     },
     "execution_count": 20,
     "metadata": {},
     "output_type": "execute_result"
    }
   ],
   "source": [
    "itemVsDescDf[itemVsDescDf.apply(lambda x : \"html\" in x['item'], axis=1)]"
   ]
  },
  {
   "cell_type": "markdown",
   "metadata": {},
   "source": [
    "Since auctions with missing product descriptions would not be very helpful for the analysis, and this only happens for a small number of rows, it has been decided to discard these rows."
   ]
  },
  {
   "cell_type": "code",
   "execution_count": 21,
   "metadata": {},
   "outputs": [],
   "source": [
    "htmlItems = ['109104.html', '109746.html', '109786.html', '109830.html',\n",
    "       '110013.html', '110869.html', '111506.html', '111584.html',\n",
    "       '112103.html', '112187.html', '114652.html', '114804.html',\n",
    "       '114907.html', '116626.html', '117910.html', '118838.html',\n",
    "       '121129.html', '121215.html', '121470.html', '121471.html',\n",
    "       '121788.html', '121881.html', '123276.html', '123553.html',\n",
    "       '125284.html', '125285.html', '125286.html', '125287.html',\n",
    "       '125288.html', '126865.html', '126866.html', '126867.html','130108.html',\n",
    "       '137897.html', '137898.html', '140035.html']\n",
    "outcomesDf = outcomesDf[~outcomesDf['item'].isin(htmlItems)]"
   ]
  },
  {
   "cell_type": "markdown",
   "metadata": {},
   "source": [
    "In most of the cases in which there are different values in the column \"desc\" for the same value of the column \"item\", it is due to small grammar differences in the text contained in the column \"desc\":"
   ]
  },
  {
   "cell_type": "code",
   "execution_count": 22,
   "metadata": {},
   "outputs": [
    {
     "data": {
      "text/html": [
       "<div>\n",
       "<style>\n",
       "    .dataframe thead tr:only-child th {\n",
       "        text-align: right;\n",
       "    }\n",
       "\n",
       "    .dataframe thead th {\n",
       "        text-align: left;\n",
       "    }\n",
       "\n",
       "    .dataframe tbody tr th {\n",
       "        vertical-align: top;\n",
       "    }\n",
       "</style>\n",
       "<table border=\"1\" class=\"dataframe\">\n",
       "  <thead>\n",
       "    <tr style=\"text-align: right;\">\n",
       "      <th></th>\n",
       "      <th>product_id</th>\n",
       "      <th>item</th>\n",
       "      <th>desc</th>\n",
       "      <th>endtime_str</th>\n",
       "      <th>product_id_count</th>\n",
       "      <th>item_count</th>\n",
       "      <th>desc_count</th>\n",
       "    </tr>\n",
       "  </thead>\n",
       "  <tbody>\n",
       "    <tr>\n",
       "      <th>30862</th>\n",
       "      <td>10011491</td>\n",
       "      <td>casio-exilim-ex-z200-10-1-mp-digital-cam</td>\n",
       "      <td>Casio Exilim EX-Z200 10.1 MP Digital Camera</td>\n",
       "      <td>2009-01-05 02:42:00</td>\n",
       "      <td>43</td>\n",
       "      <td>48</td>\n",
       "      <td>43</td>\n",
       "    </tr>\n",
       "    <tr>\n",
       "      <th>25280</th>\n",
       "      <td>10010929</td>\n",
       "      <td>casio-exilim-ex-z200-10-1-mp-digital-cam</td>\n",
       "      <td>Casio Exilim EX-Z200 10.1 MP Digital Camera - RED</td>\n",
       "      <td>2008-12-10 13:43:00</td>\n",
       "      <td>5</td>\n",
       "      <td>48</td>\n",
       "      <td>5</td>\n",
       "    </tr>\n",
       "    <tr>\n",
       "      <th>52065</th>\n",
       "      <td>10011838</td>\n",
       "      <td>frigidaire-atf8000fs-white-front-loading</td>\n",
       "      <td>Frigidaire ATF8000FS White  Front-Loading Washer</td>\n",
       "      <td>2009-03-15 17:43:00</td>\n",
       "      <td>6</td>\n",
       "      <td>21</td>\n",
       "      <td>6</td>\n",
       "    </tr>\n",
       "    <tr>\n",
       "      <th>60454</th>\n",
       "      <td>10012069</td>\n",
       "      <td>frigidaire-atf8000fs-white-front-loading</td>\n",
       "      <td>Frigidaire ATF8000FS White Front-Loading Washer</td>\n",
       "      <td>2009-04-17 21:05:00</td>\n",
       "      <td>8</td>\n",
       "      <td>21</td>\n",
       "      <td>15</td>\n",
       "    </tr>\n",
       "    <tr>\n",
       "      <th>7691</th>\n",
       "      <td>10009192</td>\n",
       "      <td>ghd-professional-mini-styler-mk4-5-8-inc</td>\n",
       "      <td>GHD Professional Mini Styler MK4 ( 5/8\" Inch)</td>\n",
       "      <td>2008-10-06 13:23:00</td>\n",
       "      <td>26</td>\n",
       "      <td>37</td>\n",
       "      <td>26</td>\n",
       "    </tr>\n",
       "    <tr>\n",
       "      <th>17351</th>\n",
       "      <td>10011006</td>\n",
       "      <td>ghd-professional-mini-styler-mk4-5-8-inc</td>\n",
       "      <td>GHD Professional Mini Styler MK4 (5/8\" Inch)</td>\n",
       "      <td>2008-11-08 11:47:00</td>\n",
       "      <td>11</td>\n",
       "      <td>37</td>\n",
       "      <td>11</td>\n",
       "    </tr>\n",
       "    <tr>\n",
       "      <th>77943</th>\n",
       "      <td>10012229</td>\n",
       "      <td>garmin-n-vi-205w-4-3-inch-portable-gps-n</td>\n",
       "      <td>Garmin nüvi 205W 4.3-Inch  Portable GPS Navigator</td>\n",
       "      <td>2009-06-29 04:30:00</td>\n",
       "      <td>22</td>\n",
       "      <td>37</td>\n",
       "      <td>22</td>\n",
       "    </tr>\n",
       "    <tr>\n",
       "      <th>74852</th>\n",
       "      <td>10012230</td>\n",
       "      <td>garmin-n-vi-205w-4-3-inch-portable-gps-n</td>\n",
       "      <td>Garmin nüvi 205W 4.3-Inch Portable GPS Navigator</td>\n",
       "      <td>2009-06-15 07:13:00</td>\n",
       "      <td>15</td>\n",
       "      <td>37</td>\n",
       "      <td>15</td>\n",
       "    </tr>\n",
       "    <tr>\n",
       "      <th>506</th>\n",
       "      <td>10008900</td>\n",
       "      <td>lego-city-7743-police-command-center</td>\n",
       "      <td>LEGO City 7743 - Police Command Center</td>\n",
       "      <td>2008-08-21 23:23:00</td>\n",
       "      <td>3</td>\n",
       "      <td>6</td>\n",
       "      <td>3</td>\n",
       "    </tr>\n",
       "    <tr>\n",
       "      <th>7652</th>\n",
       "      <td>10010875</td>\n",
       "      <td>lego-city-7743-police-command-center</td>\n",
       "      <td>LEGO City 7743: Police Command Center</td>\n",
       "      <td>2008-10-03 18:48:00</td>\n",
       "      <td>3</td>\n",
       "      <td>6</td>\n",
       "      <td>3</td>\n",
       "    </tr>\n",
       "    <tr>\n",
       "      <th>75109</th>\n",
       "      <td>10012393</td>\n",
       "      <td>lg-26-5-cu-ft-side-by-side-refrigerator-</td>\n",
       "      <td>LG 26.5 cu.ft. Side-By-Side Refrigerator (White)</td>\n",
       "      <td>2009-06-17 16:49:00</td>\n",
       "      <td>29</td>\n",
       "      <td>39</td>\n",
       "      <td>29</td>\n",
       "    </tr>\n",
       "    <tr>\n",
       "      <th>52264</th>\n",
       "      <td>10011841</td>\n",
       "      <td>lg-26-5-cu-ft-side-by-side-refrigerator-</td>\n",
       "      <td>LG 26.5 cu.ft. Side-By-Side Refrigerator White</td>\n",
       "      <td>2009-03-17 04:52:00</td>\n",
       "      <td>10</td>\n",
       "      <td>39</td>\n",
       "      <td>10</td>\n",
       "    </tr>\n",
       "    <tr>\n",
       "      <th>106950</th>\n",
       "      <td>10013994</td>\n",
       "      <td>mario-sonic-at-the-olympic-winter-games-</td>\n",
       "      <td>Mario &amp; Sonic at the Olympic Winter Games (DS)</td>\n",
       "      <td>2009-10-25 03:33:00</td>\n",
       "      <td>55</td>\n",
       "      <td>110</td>\n",
       "      <td>55</td>\n",
       "    </tr>\n",
       "    <tr>\n",
       "      <th>106964</th>\n",
       "      <td>10013993</td>\n",
       "      <td>mario-sonic-at-the-olympic-winter-games-</td>\n",
       "      <td>Mario &amp; Sonic at the Olympic Winter Games (Wii)</td>\n",
       "      <td>2009-10-25 14:03:00</td>\n",
       "      <td>55</td>\n",
       "      <td>110</td>\n",
       "      <td>55</td>\n",
       "    </tr>\n",
       "    <tr>\n",
       "      <th>2981</th>\n",
       "      <td>10010486</td>\n",
       "      <td>samsung-t220hd-22-1080p-lcd-hdtv-monitor</td>\n",
       "      <td>Samsung  T220HD 22\" 1080p LCD HDTV Monitor</td>\n",
       "      <td>2008-09-21 01:17:00</td>\n",
       "      <td>14</td>\n",
       "      <td>250</td>\n",
       "      <td>14</td>\n",
       "    </tr>\n",
       "    <tr>\n",
       "      <th>63331</th>\n",
       "      <td>10012128</td>\n",
       "      <td>samsung-bd-p3600-1080p-blu-ray-disc-play</td>\n",
       "      <td>Samsung BD-P3600 1080p Blu-Ray Disc Player</td>\n",
       "      <td>2009-04-30 01:23:00</td>\n",
       "      <td>9</td>\n",
       "      <td>20</td>\n",
       "      <td>9</td>\n",
       "    </tr>\n",
       "    <tr>\n",
       "      <th>92797</th>\n",
       "      <td>10013399</td>\n",
       "      <td>samsung-bd-p3600-1080p-blu-ray-disc-play</td>\n",
       "      <td>Samsung BD-P3600 1080p Blu-ray Disc Player</td>\n",
       "      <td>2009-08-31 15:23:00</td>\n",
       "      <td>11</td>\n",
       "      <td>20</td>\n",
       "      <td>11</td>\n",
       "    </tr>\n",
       "    <tr>\n",
       "      <th>20840</th>\n",
       "      <td>10011345</td>\n",
       "      <td>samsung-t220hd-22-1080p-lcd-hdtv-monitor</td>\n",
       "      <td>Samsung T220HD 22\" 1080p LCD HDTV Monitor</td>\n",
       "      <td>2008-12-01 10:24:00</td>\n",
       "      <td>100</td>\n",
       "      <td>250</td>\n",
       "      <td>236</td>\n",
       "    </tr>\n",
       "    <tr>\n",
       "      <th>115882</th>\n",
       "      <td>10014797</td>\n",
       "      <td>star-wars-the-clone-wars-republic-heroes</td>\n",
       "      <td>Star Wars: The Clone Wars - Republic Heroes (PC)</td>\n",
       "      <td>2009-11-15 18:38:00</td>\n",
       "      <td>24</td>\n",
       "      <td>52</td>\n",
       "      <td>24</td>\n",
       "    </tr>\n",
       "    <tr>\n",
       "      <th>106978</th>\n",
       "      <td>10013992</td>\n",
       "      <td>star-wars-the-clone-wars-republic-heroes</td>\n",
       "      <td>Star Wars: The Clone Wars - Republic Heroes (Wii)</td>\n",
       "      <td>2009-10-24 19:36:00</td>\n",
       "      <td>28</td>\n",
       "      <td>52</td>\n",
       "      <td>28</td>\n",
       "    </tr>\n",
       "    <tr>\n",
       "      <th>503</th>\n",
       "      <td>10009529</td>\n",
       "      <td>vtech-v-smile-tv-learning-system</td>\n",
       "      <td>VTech V.Smile TV Learning System</td>\n",
       "      <td>2008-08-23 05:53:00</td>\n",
       "      <td>4</td>\n",
       "      <td>22</td>\n",
       "      <td>4</td>\n",
       "    </tr>\n",
       "    <tr>\n",
       "      <th>13766</th>\n",
       "      <td>10011031</td>\n",
       "      <td>vtech-v-smile-tv-learning-system</td>\n",
       "      <td>Vtech - V.Smile TV Learning System</td>\n",
       "      <td>2008-11-03 04:59:00</td>\n",
       "      <td>18</td>\n",
       "      <td>22</td>\n",
       "      <td>18</td>\n",
       "    </tr>\n",
       "  </tbody>\n",
       "</table>\n",
       "</div>"
      ],
      "text/plain": [
       "        product_id                                      item  \\\n",
       "30862     10011491  casio-exilim-ex-z200-10-1-mp-digital-cam   \n",
       "25280     10010929  casio-exilim-ex-z200-10-1-mp-digital-cam   \n",
       "52065     10011838  frigidaire-atf8000fs-white-front-loading   \n",
       "60454     10012069  frigidaire-atf8000fs-white-front-loading   \n",
       "7691      10009192  ghd-professional-mini-styler-mk4-5-8-inc   \n",
       "17351     10011006  ghd-professional-mini-styler-mk4-5-8-inc   \n",
       "77943     10012229  garmin-n-vi-205w-4-3-inch-portable-gps-n   \n",
       "74852     10012230  garmin-n-vi-205w-4-3-inch-portable-gps-n   \n",
       "506       10008900      lego-city-7743-police-command-center   \n",
       "7652      10010875      lego-city-7743-police-command-center   \n",
       "75109     10012393  lg-26-5-cu-ft-side-by-side-refrigerator-   \n",
       "52264     10011841  lg-26-5-cu-ft-side-by-side-refrigerator-   \n",
       "106950    10013994  mario-sonic-at-the-olympic-winter-games-   \n",
       "106964    10013993  mario-sonic-at-the-olympic-winter-games-   \n",
       "2981      10010486  samsung-t220hd-22-1080p-lcd-hdtv-monitor   \n",
       "63331     10012128  samsung-bd-p3600-1080p-blu-ray-disc-play   \n",
       "92797     10013399  samsung-bd-p3600-1080p-blu-ray-disc-play   \n",
       "20840     10011345  samsung-t220hd-22-1080p-lcd-hdtv-monitor   \n",
       "115882    10014797  star-wars-the-clone-wars-republic-heroes   \n",
       "106978    10013992  star-wars-the-clone-wars-republic-heroes   \n",
       "503       10009529          vtech-v-smile-tv-learning-system   \n",
       "13766     10011031          vtech-v-smile-tv-learning-system   \n",
       "\n",
       "                                                     desc         endtime_str  \\\n",
       "30862         Casio Exilim EX-Z200 10.1 MP Digital Camera 2009-01-05 02:42:00   \n",
       "25280   Casio Exilim EX-Z200 10.1 MP Digital Camera - RED 2008-12-10 13:43:00   \n",
       "52065    Frigidaire ATF8000FS White  Front-Loading Washer 2009-03-15 17:43:00   \n",
       "60454     Frigidaire ATF8000FS White Front-Loading Washer 2009-04-17 21:05:00   \n",
       "7691        GHD Professional Mini Styler MK4 ( 5/8\" Inch) 2008-10-06 13:23:00   \n",
       "17351        GHD Professional Mini Styler MK4 (5/8\" Inch) 2008-11-08 11:47:00   \n",
       "77943   Garmin nüvi 205W 4.3-Inch  Portable GPS Navigator 2009-06-29 04:30:00   \n",
       "74852    Garmin nüvi 205W 4.3-Inch Portable GPS Navigator 2009-06-15 07:13:00   \n",
       "506                LEGO City 7743 - Police Command Center 2008-08-21 23:23:00   \n",
       "7652                LEGO City 7743: Police Command Center 2008-10-03 18:48:00   \n",
       "75109    LG 26.5 cu.ft. Side-By-Side Refrigerator (White) 2009-06-17 16:49:00   \n",
       "52264      LG 26.5 cu.ft. Side-By-Side Refrigerator White 2009-03-17 04:52:00   \n",
       "106950     Mario & Sonic at the Olympic Winter Games (DS) 2009-10-25 03:33:00   \n",
       "106964    Mario & Sonic at the Olympic Winter Games (Wii) 2009-10-25 14:03:00   \n",
       "2981           Samsung  T220HD 22\" 1080p LCD HDTV Monitor 2008-09-21 01:17:00   \n",
       "63331          Samsung BD-P3600 1080p Blu-Ray Disc Player 2009-04-30 01:23:00   \n",
       "92797          Samsung BD-P3600 1080p Blu-ray Disc Player 2009-08-31 15:23:00   \n",
       "20840           Samsung T220HD 22\" 1080p LCD HDTV Monitor 2008-12-01 10:24:00   \n",
       "115882   Star Wars: The Clone Wars - Republic Heroes (PC) 2009-11-15 18:38:00   \n",
       "106978  Star Wars: The Clone Wars - Republic Heroes (Wii) 2009-10-24 19:36:00   \n",
       "503                      VTech V.Smile TV Learning System 2008-08-23 05:53:00   \n",
       "13766                  Vtech - V.Smile TV Learning System 2008-11-03 04:59:00   \n",
       "\n",
       "        product_id_count  item_count  desc_count  \n",
       "30862                 43          48          43  \n",
       "25280                  5          48           5  \n",
       "52065                  6          21           6  \n",
       "60454                  8          21          15  \n",
       "7691                  26          37          26  \n",
       "17351                 11          37          11  \n",
       "77943                 22          37          22  \n",
       "74852                 15          37          15  \n",
       "506                    3           6           3  \n",
       "7652                   3           6           3  \n",
       "75109                 29          39          29  \n",
       "52264                 10          39          10  \n",
       "106950                55         110          55  \n",
       "106964                55         110          55  \n",
       "2981                  14         250          14  \n",
       "63331                  9          20           9  \n",
       "92797                 11          20          11  \n",
       "20840                100         250         236  \n",
       "115882                24          52          24  \n",
       "106978                28          52          28  \n",
       "503                    4          22           4  \n",
       "13766                 18          22          18  "
      ]
     },
     "execution_count": 22,
     "metadata": {},
     "output_type": "execute_result"
    }
   ],
   "source": [
    "outcomesDfItemDesc = compareProductIdItemDescColumnValues()\n",
    "itemVsDescDf = outcomesDfItemDesc[(outcomesDfItemDesc['item_count']!=outcomesDfItemDesc['desc_count'])].drop_duplicates(subset=['item','desc'])\n",
    "itemVsDescDf = itemVsDescDf.sort_values(by='desc')\n",
    "itemVsDescDf"
   ]
  },
  {
   "cell_type": "markdown",
   "metadata": {},
   "source": [
    "For example, for the item \"vtech-v-smile-tv-learning-system\" there are two descriptions that actually refer to the same item, but are written slightly differently:"
   ]
  },
  {
   "cell_type": "code",
   "execution_count": 23,
   "metadata": {},
   "outputs": [
    {
     "data": {
      "text/html": [
       "<div>\n",
       "<style>\n",
       "    .dataframe thead tr:only-child th {\n",
       "        text-align: right;\n",
       "    }\n",
       "\n",
       "    .dataframe thead th {\n",
       "        text-align: left;\n",
       "    }\n",
       "\n",
       "    .dataframe tbody tr th {\n",
       "        vertical-align: top;\n",
       "    }\n",
       "</style>\n",
       "<table border=\"1\" class=\"dataframe\">\n",
       "  <thead>\n",
       "    <tr style=\"text-align: right;\">\n",
       "      <th></th>\n",
       "      <th>product_id</th>\n",
       "      <th>item</th>\n",
       "      <th>desc</th>\n",
       "      <th>endtime_str</th>\n",
       "      <th>product_id_count</th>\n",
       "      <th>item_count</th>\n",
       "      <th>desc_count</th>\n",
       "    </tr>\n",
       "  </thead>\n",
       "  <tbody>\n",
       "    <tr>\n",
       "      <th>503</th>\n",
       "      <td>10009529</td>\n",
       "      <td>vtech-v-smile-tv-learning-system</td>\n",
       "      <td>VTech V.Smile TV Learning System</td>\n",
       "      <td>2008-08-23 05:53:00</td>\n",
       "      <td>4</td>\n",
       "      <td>22</td>\n",
       "      <td>4</td>\n",
       "    </tr>\n",
       "    <tr>\n",
       "      <th>13766</th>\n",
       "      <td>10011031</td>\n",
       "      <td>vtech-v-smile-tv-learning-system</td>\n",
       "      <td>Vtech - V.Smile TV Learning System</td>\n",
       "      <td>2008-11-03 04:59:00</td>\n",
       "      <td>18</td>\n",
       "      <td>22</td>\n",
       "      <td>18</td>\n",
       "    </tr>\n",
       "  </tbody>\n",
       "</table>\n",
       "</div>"
      ],
      "text/plain": [
       "       product_id                              item  \\\n",
       "503      10009529  vtech-v-smile-tv-learning-system   \n",
       "13766    10011031  vtech-v-smile-tv-learning-system   \n",
       "\n",
       "                                     desc         endtime_str  \\\n",
       "503      VTech V.Smile TV Learning System 2008-08-23 05:53:00   \n",
       "13766  Vtech - V.Smile TV Learning System 2008-11-03 04:59:00   \n",
       "\n",
       "       product_id_count  item_count  desc_count  \n",
       "503                   4          22           4  \n",
       "13766                18          22          18  "
      ]
     },
     "execution_count": 23,
     "metadata": {},
     "output_type": "execute_result"
    }
   ],
   "source": [
    "itemVsDescDf[itemVsDescDf['item'].values == \"vtech-v-smile-tv-learning-system\"]"
   ]
  },
  {
   "cell_type": "markdown",
   "metadata": {},
   "source": [
    "The following code lines are used to clean these small differences:"
   ]
  },
  {
   "cell_type": "code",
   "execution_count": 24,
   "metadata": {},
   "outputs": [],
   "source": [
    "outcomesDf.loc[outcomesDf['item'].values==\"vtech-v-smile-tv-learning-system\", 'desc'] = \"Vtech - V.Smile TV Learning System\"\n",
    "outcomesDf.loc[outcomesDf['item'].values==\"lego-city-7743-police-command-center\", 'desc'] = \"LEGO City 7743 - Police Command Center\"\n",
    "outcomesDf.loc[outcomesDf['item'].values==\"samsung-t220hd-22-1080p-lcd-hdtv-monitor\", 'desc'] = \"Samsung T220HD 22\\\" 1080p LCD HDTV Monitor\"\n",
    "outcomesDf.loc[outcomesDf['item'].values==\"ghd-professional-mini-styler-mk4-5-8-inc\", 'desc'] = \"GHD Professional Mini Styler MK4 (5/8\\\" Inch)\"\n",
    "outcomesDf.loc[outcomesDf['item'].values==\"frigidaire-atf8000fs-white-front-loading\", 'desc'] = \"Frigidaire ATF8000FS White Front-Loading Washer\"\n",
    "outcomesDf.loc[outcomesDf['item'].values==\"lg-26-5-cu-ft-side-by-side-refrigerator-\", 'desc'] = \"LG 26.5 cu.ft. Side-By-Side Refrigerator (White)\"\n",
    "outcomesDf.loc[outcomesDf['item'].values==\"samsung-bd-p3600-1080p-blu-ray-disc-play\", 'desc'] = \"Samsung BD-P3600 1080p Blu-Ray Disc Player\"\n",
    "outcomesDf.loc[outcomesDf['item'].values==\"garmin-n-vi-205w-4-3-inch-portable-gps-n\", 'desc'] = \"Garmin nüvi 205W 4.3-Inch Portable GPS Navigator\"\n",
    "outcomesDf.loc[outcomesDf['item'].values==\"casio-exilim-ex-z200-10-1-mp-digital-cam\", 'desc'] = \"Casio Exilim EX-Z200 10.1 MP Digital Camera\""
   ]
  },
  {
   "cell_type": "markdown",
   "metadata": {
    "collapsed": true
   },
   "source": [
    "After cleaning the previous product descriptions, the only items left with the same value for the \"item\" column but with a different value for the \"desc\" column are two games available in different gaming devices. Since they are conceptually different products, it has been decided to leave the values for the column \"desc\" as they are."
   ]
  },
  {
   "cell_type": "code",
   "execution_count": 25,
   "metadata": {},
   "outputs": [
    {
     "data": {
      "text/html": [
       "<div>\n",
       "<style>\n",
       "    .dataframe thead tr:only-child th {\n",
       "        text-align: right;\n",
       "    }\n",
       "\n",
       "    .dataframe thead th {\n",
       "        text-align: left;\n",
       "    }\n",
       "\n",
       "    .dataframe tbody tr th {\n",
       "        vertical-align: top;\n",
       "    }\n",
       "</style>\n",
       "<table border=\"1\" class=\"dataframe\">\n",
       "  <thead>\n",
       "    <tr style=\"text-align: right;\">\n",
       "      <th></th>\n",
       "      <th>product_id</th>\n",
       "      <th>item</th>\n",
       "      <th>desc</th>\n",
       "      <th>endtime_str</th>\n",
       "      <th>product_id_count</th>\n",
       "      <th>item_count</th>\n",
       "      <th>desc_count</th>\n",
       "    </tr>\n",
       "  </thead>\n",
       "  <tbody>\n",
       "    <tr>\n",
       "      <th>106950</th>\n",
       "      <td>10013994</td>\n",
       "      <td>mario-sonic-at-the-olympic-winter-games-</td>\n",
       "      <td>Mario &amp; Sonic at the Olympic Winter Games (DS)</td>\n",
       "      <td>2009-10-25 03:33:00</td>\n",
       "      <td>55</td>\n",
       "      <td>110</td>\n",
       "      <td>55</td>\n",
       "    </tr>\n",
       "    <tr>\n",
       "      <th>106964</th>\n",
       "      <td>10013993</td>\n",
       "      <td>mario-sonic-at-the-olympic-winter-games-</td>\n",
       "      <td>Mario &amp; Sonic at the Olympic Winter Games (Wii)</td>\n",
       "      <td>2009-10-25 14:03:00</td>\n",
       "      <td>55</td>\n",
       "      <td>110</td>\n",
       "      <td>55</td>\n",
       "    </tr>\n",
       "    <tr>\n",
       "      <th>115882</th>\n",
       "      <td>10014797</td>\n",
       "      <td>star-wars-the-clone-wars-republic-heroes</td>\n",
       "      <td>Star Wars: The Clone Wars - Republic Heroes (PC)</td>\n",
       "      <td>2009-11-15 18:38:00</td>\n",
       "      <td>24</td>\n",
       "      <td>52</td>\n",
       "      <td>24</td>\n",
       "    </tr>\n",
       "    <tr>\n",
       "      <th>106978</th>\n",
       "      <td>10013992</td>\n",
       "      <td>star-wars-the-clone-wars-republic-heroes</td>\n",
       "      <td>Star Wars: The Clone Wars - Republic Heroes (Wii)</td>\n",
       "      <td>2009-10-24 19:36:00</td>\n",
       "      <td>28</td>\n",
       "      <td>52</td>\n",
       "      <td>28</td>\n",
       "    </tr>\n",
       "  </tbody>\n",
       "</table>\n",
       "</div>"
      ],
      "text/plain": [
       "        product_id                                      item  \\\n",
       "106950    10013994  mario-sonic-at-the-olympic-winter-games-   \n",
       "106964    10013993  mario-sonic-at-the-olympic-winter-games-   \n",
       "115882    10014797  star-wars-the-clone-wars-republic-heroes   \n",
       "106978    10013992  star-wars-the-clone-wars-republic-heroes   \n",
       "\n",
       "                                                     desc         endtime_str  \\\n",
       "106950     Mario & Sonic at the Olympic Winter Games (DS) 2009-10-25 03:33:00   \n",
       "106964    Mario & Sonic at the Olympic Winter Games (Wii) 2009-10-25 14:03:00   \n",
       "115882   Star Wars: The Clone Wars - Republic Heroes (PC) 2009-11-15 18:38:00   \n",
       "106978  Star Wars: The Clone Wars - Republic Heroes (Wii) 2009-10-24 19:36:00   \n",
       "\n",
       "        product_id_count  item_count  desc_count  \n",
       "106950                55         110          55  \n",
       "106964                55         110          55  \n",
       "115882                24          52          24  \n",
       "106978                28          52          28  "
      ]
     },
     "execution_count": 25,
     "metadata": {},
     "output_type": "execute_result"
    }
   ],
   "source": [
    "outcomesDfItemDesc = compareProductIdItemDescColumnValues()\n",
    "itemVsDescDf = outcomesDfItemDesc[(outcomesDfItemDesc['item_count']!=outcomesDfItemDesc['desc_count'])].drop_duplicates(subset=['item','desc'])\n",
    "itemVsDescDf = itemVsDescDf.sort_values(by='desc')\n",
    "itemVsDescDf"
   ]
  },
  {
   "cell_type": "markdown",
   "metadata": {},
   "source": [
    "As it has been mentioned in the dataset file description, there are special types of auctions:\n",
    "- Click-only auctions: Swoopo auctions which do not permit the use of automated bids by a BidButler.\n",
    "- Beginner auctions: auctions restricted to users who have not yet won any auctions.\n",
    "- Fixed-price auctions: auctions in which the selling price is fixed from the beginning.\n",
    "- End-price auctions: auctions in which the final selling price of the product is zero."
   ]
  },
  {
   "cell_type": "code",
   "execution_count": 26,
   "metadata": {},
   "outputs": [
    {
     "data": {
      "text/html": [
       "<div>\n",
       "<style>\n",
       "    .dataframe thead tr:only-child th {\n",
       "        text-align: right;\n",
       "    }\n",
       "\n",
       "    .dataframe thead th {\n",
       "        text-align: left;\n",
       "    }\n",
       "\n",
       "    .dataframe tbody tr th {\n",
       "        vertical-align: top;\n",
       "    }\n",
       "</style>\n",
       "<table border=\"1\" class=\"dataframe\">\n",
       "  <thead>\n",
       "    <tr style=\"text-align: right;\">\n",
       "      <th></th>\n",
       "      <th>auction_id</th>\n",
       "      <th>bidincrement</th>\n",
       "      <th>bidfee</th>\n",
       "      <th>flg_click_only</th>\n",
       "      <th>flg_beginnerauction</th>\n",
       "      <th>flg_fixedprice</th>\n",
       "      <th>flg_endprice</th>\n",
       "    </tr>\n",
       "  </thead>\n",
       "  <tbody>\n",
       "    <tr>\n",
       "      <th>0</th>\n",
       "      <td>86827</td>\n",
       "      <td>15</td>\n",
       "      <td>75</td>\n",
       "      <td>0</td>\n",
       "      <td>0</td>\n",
       "      <td>0</td>\n",
       "      <td>0</td>\n",
       "    </tr>\n",
       "    <tr>\n",
       "      <th>1</th>\n",
       "      <td>87964</td>\n",
       "      <td>15</td>\n",
       "      <td>75</td>\n",
       "      <td>0</td>\n",
       "      <td>0</td>\n",
       "      <td>0</td>\n",
       "      <td>0</td>\n",
       "    </tr>\n",
       "    <tr>\n",
       "      <th>2</th>\n",
       "      <td>87965</td>\n",
       "      <td>15</td>\n",
       "      <td>75</td>\n",
       "      <td>0</td>\n",
       "      <td>1</td>\n",
       "      <td>0</td>\n",
       "      <td>0</td>\n",
       "    </tr>\n",
       "    <tr>\n",
       "      <th>3</th>\n",
       "      <td>88638</td>\n",
       "      <td>15</td>\n",
       "      <td>75</td>\n",
       "      <td>0</td>\n",
       "      <td>0</td>\n",
       "      <td>0</td>\n",
       "      <td>0</td>\n",
       "    </tr>\n",
       "    <tr>\n",
       "      <th>4</th>\n",
       "      <td>88639</td>\n",
       "      <td>15</td>\n",
       "      <td>75</td>\n",
       "      <td>0</td>\n",
       "      <td>0</td>\n",
       "      <td>0</td>\n",
       "      <td>0</td>\n",
       "    </tr>\n",
       "  </tbody>\n",
       "</table>\n",
       "</div>"
      ],
      "text/plain": [
       "   auction_id  bidincrement  bidfee  flg_click_only  flg_beginnerauction  \\\n",
       "0       86827            15      75               0                    0   \n",
       "1       87964            15      75               0                    0   \n",
       "2       87965            15      75               0                    1   \n",
       "3       88638            15      75               0                    0   \n",
       "4       88639            15      75               0                    0   \n",
       "\n",
       "   flg_fixedprice  flg_endprice  \n",
       "0               0             0  \n",
       "1               0             0  \n",
       "2               0             0  \n",
       "3               0             0  \n",
       "4               0             0  "
      ]
     },
     "execution_count": 26,
     "metadata": {},
     "output_type": "execute_result"
    }
   ],
   "source": [
    "outcomesDf[['auction_id','bidincrement','bidfee','flg_click_only','flg_beginnerauction','flg_fixedprice','flg_endprice']].head()"
   ]
  },
  {
   "cell_type": "code",
   "execution_count": 27,
   "metadata": {
    "scrolled": true
   },
   "outputs": [
    {
     "data": {
      "text/plain": [
       "flg_click_only  flg_beginnerauction  flg_fixedprice  flg_endprice\n",
       "0               0                    0               0               70020\n",
       "                                                     1                3542\n",
       "                                     1               0                1968\n",
       "                1                    0               0               12891\n",
       "                                                     1                 168\n",
       "                                     1               0                  40\n",
       "1               0                    0               0               25335\n",
       "                                                     1                 814\n",
       "                                     1               0                 155\n",
       "                1                    0               0                6413\n",
       "                                                     1                  32\n",
       "                                     1               0                   5\n",
       "Name: auction_id, dtype: int64"
      ]
     },
     "execution_count": 27,
     "metadata": {},
     "output_type": "execute_result"
    }
   ],
   "source": [
    "countOfTypesOfAuctions = outcomesDf.groupby(['flg_click_only','flg_beginnerauction','flg_fixedprice','flg_endprice'])['auction_id'].count()\n",
    "countOfTypesOfAuctions"
   ]
  },
  {
   "cell_type": "code",
   "execution_count": 28,
   "metadata": {},
   "outputs": [
    {
     "name": "stdout",
     "output_type": "stream",
     "text": [
      "Total number of auctions = 121383\n",
      "Total number of click-only auctions = 32754\n",
      "Total number of beginner auctions = 19549\n",
      "Total number of fixed-price auctions = 2168\n",
      "Total number of end-price auctions = 4556\n",
      "Total number of 'normal' auctions = 62356\n"
     ]
    }
   ],
   "source": [
    "isClickOnlyAuction = outcomesDf['flg_click_only'].values == 1\n",
    "isBeginnerAuction = outcomesDf['flg_beginnerauction'].values == 1\n",
    "isFixedPriceAuction = outcomesDf['flg_fixedprice'].values == 1\n",
    "isEndPriceAuction = outcomesDf['flg_endprice'].values == 1\n",
    "\n",
    "totalNumberOfAuctions = outcomesDf.shape[0]\n",
    "totalNumberOfClickOnlyAuctions = outcomesDf[isClickOnlyAuction].shape[0]\n",
    "totalNumberOfBeginnerAuctions = outcomesDf[isBeginnerAuction].shape[0]\n",
    "totalNumberOfFixedPriceAuctions = outcomesDf[isFixedPriceAuction].shape[0]\n",
    "totalNumberOfEndPriceAuctions = outcomesDf[isEndPriceAuction].shape[0]\n",
    "totalNumberOfNormalAuctions = totalNumberOfAuctions - (totalNumberOfClickOnlyAuctions+totalNumberOfBeginnerAuctions+totalNumberOfFixedPriceAuctions+totalNumberOfEndPriceAuctions)\n",
    "\n",
    "print('Total number of auctions = %d'%totalNumberOfAuctions)\n",
    "print('Total number of click-only auctions = %d'%totalNumberOfClickOnlyAuctions)\n",
    "print('Total number of beginner auctions = %d'%totalNumberOfBeginnerAuctions)\n",
    "print('Total number of fixed-price auctions = %d'%totalNumberOfFixedPriceAuctions)\n",
    "print('Total number of end-price auctions = %d'%totalNumberOfEndPriceAuctions)\n",
    "print('Total number of \\'normal\\' auctions = %d'%totalNumberOfNormalAuctions)"
   ]
  },
  {
   "cell_type": "markdown",
   "metadata": {},
   "source": [
    "As it has been mentioned before, the column 'swoopo_profit' indicates the profit that Swoopo obtains over the retail price of the item. Sometimes, Swoopo obtaines a negative profit (i.e., Swoopo sells an item below its retail price).\n",
    "\n",
    "This is the case for 46.36% of the auctions."
   ]
  },
  {
   "cell_type": "code",
   "execution_count": 29,
   "metadata": {},
   "outputs": [
    {
     "data": {
      "text/plain": [
       "46.3590453358378"
      ]
     },
     "execution_count": 29,
     "metadata": {},
     "output_type": "execute_result"
    }
   ],
   "source": [
    "totalNumberOfNegativeProfitAuctions = outcomesDf[outcomesDf['swoopo_profit'] < 0].shape[0]\n",
    "(totalNumberOfNegativeProfitAuctions/totalNumberOfAuctions)*100"
   ]
  },
  {
   "cell_type": "markdown",
   "metadata": {
    "collapsed": true
   },
   "source": [
    "Nevertheless, the average profit obtained by Swoopo over the retail price of the items is positive:"
   ]
  },
  {
   "cell_type": "code",
   "execution_count": 30,
   "metadata": {},
   "outputs": [
    {
     "data": {
      "text/plain": [
       "216.9763648946216"
      ]
     },
     "execution_count": 30,
     "metadata": {},
     "output_type": "execute_result"
    }
   ],
   "source": [
    "averageProfitPerItem = outcomesDf['swoopo_profit'].mean()\n",
    "averageProfitPerItem"
   ]
  },
  {
   "cell_type": "markdown",
   "metadata": {},
   "source": [
    "The average number of auctions per day is approximately 253:"
   ]
  },
  {
   "cell_type": "code",
   "execution_count": 31,
   "metadata": {},
   "outputs": [
    {
     "data": {
      "text/plain": [
       "252.88125"
      ]
     },
     "execution_count": 31,
     "metadata": {},
     "output_type": "execute_result"
    }
   ],
   "source": [
    "f = lambda x: str(x.day) + '-' + str(x.month) + '-' + str(x.year)\n",
    "auctionsPerDay = outcomesDf.groupby(outcomesDf['endtime_str'].apply(f))['auction_id'].count()\n",
    "averageNumberOfDailyAuctions = auctionsPerDay.mean()\n",
    "averageNumberOfDailyAuctions"
   ]
  },
  {
   "cell_type": "markdown",
   "metadata": {
    "collapsed": true
   },
   "source": [
    "That means that, in average, Swoopo obtains a daily profit over the retail price of the sold items of:"
   ]
  },
  {
   "cell_type": "code",
   "execution_count": 32,
   "metadata": {},
   "outputs": [
    {
     "data": {
      "text/plain": [
       "54869.25437500803"
      ]
     },
     "execution_count": 32,
     "metadata": {},
     "output_type": "execute_result"
    }
   ],
   "source": [
    "averageProfitPerItem*averageNumberOfDailyAuctions"
   ]
  },
  {
   "cell_type": "markdown",
   "metadata": {},
   "source": [
    "The most profitable auctions are, in descending order: fixed-price auctions, 'normal' auctions, end-price auctions, click-only auctions and beginner auctions:"
   ]
  },
  {
   "cell_type": "code",
   "execution_count": 33,
   "metadata": {},
   "outputs": [
    {
     "name": "stdout",
     "output_type": "stream",
     "text": [
      "Average profit of click-only auctions = 59.96$\n",
      "Average profit of beginner auctions = 26.65$\n",
      "Average profit of fixed-price auctions = 679.07$\n",
      "Average profit of end-price auctions = 243.76$\n",
      "Average profit of 'normal' auctions = 311.51$\n"
     ]
    }
   ],
   "source": [
    "averageProfitOfClickOnlyAuctions = outcomesDf[isClickOnlyAuction]['swoopo_profit'].mean()\n",
    "averageProfitOfBeginnerAuctions = outcomesDf[isBeginnerAuction]['swoopo_profit'].mean()\n",
    "averageProfitOfFixedPriceAuctions = outcomesDf[isFixedPriceAuction]['swoopo_profit'].mean()\n",
    "averageProfitOfEndPriceAuctions = outcomesDf[isEndPriceAuction]['swoopo_profit'].mean()\n",
    "\n",
    "isNotClickOnlyAuction = outcomesDf['flg_click_only'].values == 0\n",
    "isNotBeginnerAuction = outcomesDf['flg_beginnerauction'].values == 0\n",
    "isNotFixedPriceAuction = outcomesDf['flg_fixedprice'].values == 0\n",
    "isNotEndPriceAuction = outcomesDf['flg_endprice'].values == 0\n",
    "\n",
    "averageProfitOfNormalAuctions = outcomesDf[isNotClickOnlyAuction & isNotBeginnerAuction & isNotFixedPriceAuction & isNotEndPriceAuction]['swoopo_profit'].mean()\n",
    "\n",
    "print(\"Average profit of click-only auctions = %0.2f\"%averageProfitOfClickOnlyAuctions + \"$\")\n",
    "print(\"Average profit of beginner auctions = %0.2f\"%averageProfitOfBeginnerAuctions + \"$\")\n",
    "print(\"Average profit of fixed-price auctions = %0.2f\"%averageProfitOfFixedPriceAuctions + \"$\")\n",
    "print(\"Average profit of end-price auctions = %0.2f\"%averageProfitOfEndPriceAuctions + \"$\")\n",
    "print(\"Average profit of \\'normal\\' auctions = %0.2f\"%averageProfitOfNormalAuctions + \"$\")"
   ]
  },
  {
   "cell_type": "markdown",
   "metadata": {},
   "source": [
    "As it can be seen in the image below, the majority of the items that are sold are electronics. There are also some of products that are auctioned that contain the words \"voucher\" or \"bids\" in their product description. That is because certain items come along (or directly are in some cases) bids or cash that can be later used by the winnner in other Swoopo auctions."
   ]
  },
  {
   "cell_type": "code",
   "execution_count": 34,
   "metadata": {},
   "outputs": [
    {
     "name": "stdout",
     "output_type": "stream",
     "text": [
      "<wordcloud.wordcloud.WordCloud object at 0x7fa4a7d93668>\n"
     ]
    },
    {
     "data": {
      "text/plain": [
       "<matplotlib.figure.Figure at 0x7fa4a7d939e8>"
      ]
     },
     "metadata": {},
     "output_type": "display_data"
    },
    {
     "data": {
      "image/png": "[encoded data removed]",
      "text/plain": [
       "<matplotlib.figure.Figure at 0x7fa4a7d93da0>"
      ]
     },
     "metadata": {},
     "output_type": "display_data"
    },
    {
     "name": "stdout",
     "output_type": "stream",
     "text": [
      "['50 FreeBids Voucher' '300 FreeBids Voucher' '$15 Florist Voucher'\n",
      " '$30 Florist Voucher' '50 Bids Voucher' '300 Bids Voucher'\n",
      " '20 Bids Voucher' 'Nintendo DSi Console (Black) + 50 Bids Voucher'\n",
      " 'Nintendo DSi Console (Blue) + 50 Bids Voucher' '75 Bids Voucher']\n"
     ]
    }
   ],
   "source": [
    "stopwords = set(STOPWORDS)\n",
    "\n",
    "wordcloud = WordCloud(\n",
    "                          background_color='white',\n",
    "                          stopwords=stopwords,\n",
    "                          max_words=200,\n",
    "                          max_font_size=40, \n",
    "                          random_state=42\n",
    "                         ).generate(str(outcomesDf['desc']))\n",
    "\n",
    "print(wordcloud)\n",
    "fig = plt.figure(1)\n",
    "plt.figure(figsize=(8,7))\n",
    "plt.imshow(wordcloud, interpolation='bilinear')\n",
    "plt.axis('off')\n",
    "plt.show()\n",
    "\n",
    "print(outcomesDf['desc'][outcomesDf['desc'].str.contains(\"Voucher\")].unique())"
   ]
  },
  {
   "cell_type": "markdown",
   "metadata": {},
   "source": [
    "The top 10 winners and the number of auctions that each one won during the period of the dataset are:"
   ]
  },
  {
   "cell_type": "code",
   "execution_count": 35,
   "metadata": {},
   "outputs": [
    {
     "data": {
      "text/plain": [
       "winner\n",
       "HH0812         131\n",
       "Oglalasioux    117\n",
       "Toertchen      116\n",
       "Koboldwicht    111\n",
       "Schlumpf01     111\n",
       "Kavvamartin    110\n",
       "Thomsen321     109\n",
       "Brusher        108\n",
       "Aluf412        108\n",
       "Trixi101       106\n",
       "Name: winner, dtype: int64"
      ]
     },
     "execution_count": 35,
     "metadata": {},
     "output_type": "execute_result"
    }
   ],
   "source": [
    "winners = outcomesDf.groupby(outcomesDf['winner'])['winner'].count()\n",
    "winners.sort_values(ascending=False).head(10)"
   ]
  },
  {
   "cell_type": "markdown",
   "metadata": {},
   "source": [
    "As it has previosly been mentioned, the dataset contains auctions that ended within 2008-08-20 and 2009-12-12"
   ]
  },
  {
   "cell_type": "code",
   "execution_count": 36,
   "metadata": {},
   "outputs": [
    {
     "name": "stdout",
     "output_type": "stream",
     "text": [
      "2008-08-20 14:04:00\n",
      "2009-12-12 15:10:00\n"
     ]
    }
   ],
   "source": [
    "print(min(outcomesDf['endtime_str']))\n",
    "print(max(outcomesDf['endtime_str']))"
   ]
  },
  {
   "cell_type": "markdown",
   "metadata": {},
   "source": [
    "In the next figure, the number of bids placed per month is represented. The reason why the number of bids placed in August 2008 and December 2009 is low is because the dataset does not contain data for all days of these months.\n",
    "In general, it can be observed that November, December and January seem to be the months in which more bids are placed."
   ]
  },
  {
   "cell_type": "code",
   "execution_count": 37,
   "metadata": {},
   "outputs": [
    {
     "data": {
      "image/png": "[encoded data removed]",
      "text/plain": [
       "<matplotlib.figure.Figure at 0x7fa4adff87f0>"
      ]
     },
     "metadata": {},
     "output_type": "display_data"
    }
   ],
   "source": [
    "f = lambda x: str(x.year) + '-' + '{0:02d}'.format(x.month)\n",
    "\n",
    "grupo = outcomesDf.groupby(outcomesDf['endtime_str'].apply(f))['bids_placed'].sum()\n",
    "\n",
    "X=grupo.values\n",
    "Y=grupo.index\n",
    "\n",
    "plt.figure(figsize=(17,5))\n",
    "plt.bar(range(len(X)), X)\n",
    "plt.xticks(np.arange(len(X)), Y,rotation='vertical')\n",
    "plt.show()"
   ]
  },
  {
   "cell_type": "markdown",
   "metadata": {},
   "source": [
    "Considering the months for which we have the full data both in 2008 and 2009 (September, October and November), it can be seen that, in average, the number of bids placed has increased approximately a 25% in 2009 compared to 2008. These indicates that Swoopo gained popularity over the course of that year."
   ]
  },
  {
   "cell_type": "code",
   "execution_count": 38,
   "metadata": {},
   "outputs": [
    {
     "name": "stdout",
     "output_type": "stream",
     "text": [
      "24.7388170363\n"
     ]
    }
   ],
   "source": [
    "september2008Index = 1\n",
    "october2008Index = 2\n",
    "november2008Index = 3\n",
    "\n",
    "september20092008NumberOfBidsDiff = (X[september2008Index+12] - X[september2008Index])/X[september2008Index]\n",
    "october20092008NumberOfBidsDiff = (X[october2008Index+12] - X[october2008Index])/X[october2008Index]\n",
    "november20092008NumberOfBidsDiff = (X[november2008Index+12] - X[november2008Index])/X[november2008Index]\n",
    "meanYearlyIncreaseNumberOfBids = np.mean([september20092008NumberOfBidsDiff,october20092008NumberOfBidsDiff,november20092008NumberOfBidsDiff])\n",
    "print(meanYearlyIncreaseNumberOfBids*100)"
   ]
  },
  {
   "cell_type": "markdown",
   "metadata": {},
   "source": [
    "Nevertheless, if the same calculation is performed for the profit obtained by Swoopo over the retail price of the items instead of the number of bids placed, it can be seen that, in average, the profit obtained has decreased approximately a 13% in 2009 compared to 2008."
   ]
  },
  {
   "cell_type": "code",
   "execution_count": 39,
   "metadata": {},
   "outputs": [
    {
     "data": {
      "image/png": "[encoded data removed]",
      "text/plain": [
       "<matplotlib.figure.Figure at 0x7fa4af042a58>"
      ]
     },
     "metadata": {},
     "output_type": "display_data"
    }
   ],
   "source": [
    "f = lambda x: str(x.year) + '-' + '{0:02d}'.format(x.month)\n",
    "\n",
    "grupo = outcomesDf.groupby(outcomesDf['endtime_str'].apply(f))['swoopo_profit'].sum()\n",
    "\n",
    "X=grupo.values\n",
    "Y=grupo.index\n",
    "\n",
    "plt.figure(figsize=(17,5))\n",
    "plt.bar(range(len(X)), X)\n",
    "plt.xticks(np.arange(len(X)), Y,rotation='vertical')\n",
    "plt.show()\n",
    "\n",
    "september2008Index = 1\n",
    "october2008Index = 2\n",
    "november2008Index = 3\n",
    "\n",
    "september20092008SwoopoProfitDiff = (X[september2008Index+12] - X[september2008Index])/X[september2008Index]\n",
    "october20092008SwoopoProfitDiff = (X[october2008Index+12] - X[october2008Index])/X[october2008Index]\n",
    "november20092008SwoopoProfitDiff = (X[november2008Index+12] - X[november2008Index])/X[november2008Index]\n",
    "meanYearlyIncreaseSwoopoProfit = np.mean([september20092008SwoopoProfitDiff,october20092008SwoopoProfitDiff,november20092008SwoopoProfitDiff])\n"
   ]
  },
  {
   "cell_type": "code",
   "execution_count": 40,
   "metadata": {},
   "outputs": [
    {
     "name": "stdout",
     "output_type": "stream",
     "text": [
      "-13.209071278\n"
     ]
    }
   ],
   "source": [
    "print(meanYearlyIncreaseSwoopoProfit*100)"
   ]
  },
  {
   "cell_type": "markdown",
   "metadata": {},
   "source": [
    "The following figure represents the sum of the retail price of the items auctioned monthly as well as the monthly revenue obtained by Swoopo (calculated as the profit obtained over the retail price of the items plus their retail price)."
   ]
  },
  {
   "cell_type": "code",
   "execution_count": 41,
   "metadata": {},
   "outputs": [
    {
     "data": {
      "image/png": "[encoded data removed]",
      "text/plain": [
       "<matplotlib.figure.Figure at 0x7fa49015c710>"
      ]
     },
     "metadata": {},
     "output_type": "display_data"
    }
   ],
   "source": [
    "f = lambda x: str(x.year) + '-' + '{0:02d}'.format(x.month)\n",
    "\n",
    "sumRetailGroup = outcomesDf.groupby(outcomesDf['endtime_str'].apply(f))['retail'].sum()\n",
    "swoopoProfitGroup = outcomesDf.groupby(outcomesDf['endtime_str'].apply(f))['swoopo_profit'].sum()\n",
    "\n",
    "X=sumRetailGroup.index\n",
    "Y=sumRetailGroup.values\n",
    "Y2 = swoopoProfitGroup.values\n",
    "bar_width = 0.20\n",
    "\n",
    "plt.figure(figsize=(17,5))\n",
    "p1=plt.bar(np.arange(len(Y)),Y, bar_width,color='b')\n",
    "p2=plt.bar(np.arange(len(Y2))+bar_width,Y2+Y,bar_width, color='g')\n",
    "plt.xticks(np.arange(len(X)) + bar_width, X,rotation='vertical')\n",
    "plt.legend((p1,p2),('Sum of retail price', 'Sum of Swoopo\\'s sales'))\n",
    "plt.show()"
   ]
  },
  {
   "cell_type": "markdown",
   "metadata": {},
   "source": [
    "The protit ratio (calculated as the revenue divided by the retail price) is greater than 1.00 every month. The green line in the following figure represents the average profit obtained:"
   ]
  },
  {
   "cell_type": "code",
   "execution_count": 42,
   "metadata": {},
   "outputs": [],
   "source": [
    "profitRatio = (Y2+Y)/Y"
   ]
  },
  {
   "cell_type": "code",
   "execution_count": 43,
   "metadata": {},
   "outputs": [
    {
     "data": {
      "image/png": "[encoded data removed]",
      "text/plain": [
       "<matplotlib.figure.Figure at 0x7fa4adf717b8>"
      ]
     },
     "metadata": {},
     "output_type": "display_data"
    }
   ],
   "source": [
    "plt.figure(figsize=(17,5))\n",
    "plt.bar(range(len(profitRatio)), profitRatio)\n",
    "plt.xticks(np.arange(len(profitRatio)), X,rotation='vertical')\n",
    "mean_line = plt.plot(np.arange(len(X)),[np.mean(profitRatio)]*len(X), label='Mean', linestyle='--',color='g')\n",
    "plt.show()\n",
    "plt.show()"
   ]
  },
  {
   "cell_type": "markdown",
   "metadata": {},
   "source": [
    "On average, it is 85% times higher:"
   ]
  },
  {
   "cell_type": "code",
   "execution_count": 44,
   "metadata": {},
   "outputs": [
    {
     "data": {
      "text/plain": [
       "1.8451302539008025"
      ]
     },
     "execution_count": 44,
     "metadata": {},
     "output_type": "execute_result"
    }
   ],
   "source": [
    "np.mean(profitRatio)"
   ]
  },
  {
   "cell_type": "markdown",
   "metadata": {},
   "source": [
    "The time in which the profit is lower corresponds to the period of time between June 2009 and October 2009 (as it can also be seen in the figure above):"
   ]
  },
  {
   "cell_type": "code",
   "execution_count": 45,
   "metadata": {},
   "outputs": [
    {
     "name": "stdout",
     "output_type": "stream",
     "text": [
      "2009-10 : 1.57018109411\n",
      "2008-08 : 1.62336556988\n",
      "2009-08 : 1.70493396736\n",
      "2009-09 : 1.71365560047\n",
      "2009-06 : 1.74433191932\n",
      "2009-07 : 1.75442610502\n",
      "2009-11 : 1.80438536565\n",
      "2009-05 : 1.81462330089\n",
      "2008-10 : 1.88230182601\n",
      "2008-09 : 1.8876394394\n"
     ]
    }
   ],
   "source": [
    "profitRatio,X= zip(*sorted(zip(profitRatio,X)))\n",
    "for i in range(0,10):\n",
    "    print (str(X[i])+ \" : \"+str(profitRatio[i]))"
   ]
  },
  {
   "cell_type": "markdown",
   "metadata": {},
   "source": [
    "The following figure also represents the sum of the retail price of the items as well as the revenue obtained by Swoopo, but with weekly granularity instead of monthly granularity:"
   ]
  },
  {
   "cell_type": "code",
   "execution_count": 46,
   "metadata": {},
   "outputs": [
    {
     "data": {
      "image/png": "[encoded data removed]",
      "text/plain": [
       "<matplotlib.figure.Figure at 0x7fa49015c5f8>"
      ]
     },
     "metadata": {},
     "output_type": "display_data"
    }
   ],
   "source": [
    "def timeStampToYearWeekFormat(timestamp):\n",
    "    \n",
    "    #for index_val, series_val in timeStampSeries.iteritems():\n",
    "    yearWeekFormatString = str(timestamp.year) + '-' + '{0:02d}'.format(timestamp.weekofyear)\n",
    "    if yearWeekFormatString == '2008-01':\n",
    "        #Convert 2008-01 to 2009-01, because some days of the last week of \n",
    "        #a year are considered to be in the first week of the next year, \n",
    "        #and the data timestamps range from '2008-08-20 14:04:00' to '2009-12-12 15:10:00'\n",
    "        #The ISO 8601 definition for week 01 is the week with the year's first Thursday in it.\n",
    "        yearWeekFormatString = '2009-01'\n",
    "    return yearWeekFormatString\n",
    "    \n",
    "sumRetailGroup = outcomesDf.groupby(outcomesDf['endtime_str'].apply(timeStampToYearWeekFormat))['retail'].sum()\n",
    "swoopoProfitGroup = outcomesDf.groupby(outcomesDf['endtime_str'].apply(timeStampToYearWeekFormat))['swoopo_profit'].sum()\n",
    "\n",
    "X=sumRetailGroup.index\n",
    "Y=sumRetailGroup.values\n",
    "Y2 = swoopoProfitGroup.values\n",
    "bar_width = 0.20\n",
    "\n",
    "plt.figure(figsize=(17,5))\n",
    "p1=plt.bar(np.arange(len(Y)),Y, bar_width,color='b')\n",
    "p2=plt.bar(np.arange(len(Y2))+bar_width,Y2+Y,bar_width, color='g')\n",
    "plt.xticks(np.arange(len(X)) + bar_width, X,rotation='vertical')\n",
    "plt.legend((p1,p2),('Sum of retail price', 'Sum of Swoopo\\'s sales'))\n",
    "plt.show()"
   ]
  },
  {
   "cell_type": "markdown",
   "metadata": {},
   "source": [
    "The profit ratio has also been calculated weekly, and it can be used to understand the periods that are best for Swoopo's business in terms of profit.\n",
    "\n",
    "During the last two weeks of a year (2008/51 - 2008/52) plus the three first weeks of the next year (2009/01 - 2008/03) the profit obtained is higher than average, with its peak in the first week of the new year. Week 2009/14 (corresponding to the period from March 30, 2009 to April 5, 2009) is the week in which the highest profit is obtained with a very noticiable difference. The period between weeks 2009/29 - 2009/45 (July 13, 2009 - November 8, 2009) the profit obtained is lower than average."
   ]
  },
  {
   "cell_type": "code",
   "execution_count": 47,
   "metadata": {},
   "outputs": [
    {
     "data": {
      "image/png": "[encoded data removed]",
      "text/plain": [
       "<matplotlib.figure.Figure at 0x7fa4adb59e48>"
      ]
     },
     "metadata": {},
     "output_type": "display_data"
    }
   ],
   "source": [
    "profitRatio = (Y2+Y)/Y\n",
    "plt.figure(figsize=(17,5))\n",
    "plt.bar(range(len(profitRatio)), profitRatio)\n",
    "plt.xticks(np.arange(len(profitRatio)), X,rotation='vertical')\n",
    "mean_line = plt.plot(np.arange(len(X)),[np.mean(profitRatio)]*len(X), label='Mean', linestyle='--',color='g')\n",
    "plt.show()"
   ]
  },
  {
   "cell_type": "markdown",
   "metadata": {},
   "source": [
    "Finally, the daily profit ratio has been calculated to observe how holidays influence Swoopo's business in terms of profit. The z-score of the profit ratio has been calculated to compare the number of standard deviations that the profit ratio is away from its mean value each day."
   ]
  },
  {
   "cell_type": "code",
   "execution_count": 76,
   "metadata": {},
   "outputs": [],
   "source": [
    "f = lambda x: str(x)[:10]\n",
    "\n",
    "sumRetailGroup = outcomesDf.groupby(outcomesDf['endtime_str'].apply(f))['retail'].sum()\n",
    "swoopoProfitGroup = outcomesDf.groupby(outcomesDf['endtime_str'].apply(f))['swoopo_profit'].sum()\n",
    "\n",
    "X=sumRetailGroup.index\n",
    "Y=sumRetailGroup.values\n",
    "Y2 = swoopoProfitGroup.values\n",
    "\n",
    "profitRatio = (Y2+Y)/Y\n",
    "profitRatioZScore = (profitRatio - np.mean(profitRatio))/(np.std(profitRatio))\n",
    "orderedX = X\n",
    "\n",
    "profitRatioZScore,orderedX= zip(*sorted(zip(profitRatioZScore,orderedX),reverse=True))"
   ]
  },
  {
   "cell_type": "markdown",
   "metadata": {},
   "source": [
    "Firstly, the highest 30 z-score values for the profit ratio within the dates contained in the dataset are shown. Several days of the week before 2009's New Year's Eve have high z-score values.  Also, the days between March 28, 2009 and April 6, 2009 have very high z-score values."
   ]
  },
  {
   "cell_type": "code",
   "execution_count": 77,
   "metadata": {},
   "outputs": [
    {
     "data": {
      "image/png": "[encoded data removed]",
      "text/plain": [
       "<matplotlib.figure.Figure at 0x7fa4a4232da0>"
      ]
     },
     "metadata": {},
     "output_type": "display_data"
    }
   ],
   "source": [
    "profitRatioZScoreTop30 = profitRatioZScore[0:30]\n",
    "orderedXTop30 = orderedX[0:30]\n",
    "\n",
    "orderedXTop30,profitRatioZScoreTop30= zip(*sorted(zip(orderedXTop30,profitRatioZScoreTop30)))\n",
    "\n",
    "plt.figure(figsize=(17,5))\n",
    "plt.bar(range(len(profitRatioZScoreTop30)), profitRatioZScoreTop30)\n",
    "plt.xticks(np.arange(len(profitRatioZScoreTop30)), orderedXTop30,rotation='vertical')\n",
    "plt.show()"
   ]
  },
  {
   "cell_type": "markdown",
   "metadata": {},
   "source": [
    "Secondly, the lowest 30 z-score values for the profit ratio within the dates contained in the dataset are shown. June, July, August and October are the months in which more low z-score values can be found."
   ]
  },
  {
   "cell_type": "code",
   "execution_count": 78,
   "metadata": {},
   "outputs": [
    {
     "data": {
      "image/png": "[encoded data removed]",
      "text/plain": [
       "<matplotlib.figure.Figure at 0x7fa4add858d0>"
      ]
     },
     "metadata": {},
     "output_type": "display_data"
    }
   ],
   "source": [
    "profitRatioZScore,orderedX= zip(*sorted(zip(profitRatioZScore,orderedX),reverse=False))\n",
    "profitRatioZScore\n",
    "\n",
    "profitRatioZScoreWorse30 = profitRatioZScore[0:30]\n",
    "orderedXWorse30 = orderedX[0:30]\n",
    "\n",
    "orderedXWorse30,profitRatioZScoreWorse30= zip(*sorted(zip(orderedXWorse30,profitRatioZScoreWorse30)))\n",
    "\n",
    "plt.figure(figsize=(17,5))\n",
    "plt.bar(range(len(profitRatioZScoreWorse30)), profitRatioZScoreWorse30)\n",
    "plt.xticks(np.arange(len(profitRatioZScoreWorse30)), orderedXWorse30,rotation='vertical')\n",
    "plt.show()"
   ]
  },
  {
   "cell_type": "markdown",
   "metadata": {},
   "source": [
    "Now, the profit ratio for special dates is analyzed. These include the federal holidays in the USA, Black Friday, the week before Valentine's Day, and Christmas' season (December)."
   ]
  },
  {
   "cell_type": "code",
   "execution_count": 79,
   "metadata": {},
   "outputs": [],
   "source": [
    "federalPublicHolidaysUSA2008 = ['2008-01-01','2008-01-21','2008-02-18','2008-05-26','2008-07-04','2008-09-01','2008-10-13','2008-11-11','2008-11-27','2008-11-28','2008-12-25']\n",
    "federalPublicHolidaysUSA2009 = ['2009-01-01','2009-01-19','2009-02-16','2009-05-25','2009-07-03','2009-09-07','2009-10-12','2009-11-11','2009-11-26','2009-11-27','2009-12-25']\n",
    "blackFriday2008 = ['2008-11-28']\n",
    "blackFriday2009 = ['2009-11-27']\n",
    "valentinesDay2008Season = ['2008-02-07','2008-02-08','2008-02-09','2008-02-10','2008-02-11','2008-02-12','2008-02-13','2008-02-14']\n",
    "valentinesDay2009Season = ['2009-02-07','2009-02-08','2009-02-09','2009-02-10','2009-02-11','2009-02-12','2009-02-13','2009-02-14']\n",
    "\n",
    "christmas2008Season = []\n",
    "christmas2009Season = []\n",
    "for i in range (1,32):\n",
    "    dayString = '%02d' % i\n",
    "    christmas2008Season.append('2008-12-'+dayString)\n",
    "    christmas2009Season.append('2009-12-'+dayString)"
   ]
  },
  {
   "cell_type": "code",
   "execution_count": 80,
   "metadata": {},
   "outputs": [],
   "source": [
    "orderedX,profitRatioZScore= zip(*sorted(zip(orderedX,profitRatioZScore)))\n",
    "holidayTypeToProfitRatioZScore = {}\n",
    "\n",
    "for i in range(0,len(orderedX)):\n",
    "    dateToAnalyzeString = str(orderedX[i])\n",
    "    isFederalPublicHolidayUSA2008 =  dateToAnalyzeString in federalPublicHolidaysUSA2008\n",
    "    isFederalPublicHolidayUSA2009 = dateToAnalyzeString in federalPublicHolidaysUSA2009\n",
    "    isFederalPublicHolidayUSA = isFederalPublicHolidayUSA2008 or isFederalPublicHolidayUSA2009\n",
    "    \n",
    "    isBlackFriday2008 = dateToAnalyzeString in blackFriday2008\n",
    "    isBlackFriday2009 = dateToAnalyzeString in blackFriday2009\n",
    "    isBlackFriday = isBlackFriday2008 or isBlackFriday2009\n",
    "    \n",
    "    isValentinesDay2008Season = dateToAnalyzeString in valentinesDay2008Season\n",
    "    isValentinesDay2009Season = dateToAnalyzeString in valentinesDay2009Season\n",
    "    isValentinesDaySeason = isValentinesDay2008Season or isValentinesDay2009Season\n",
    "    \n",
    "    isChristmas2008Season = dateToAnalyzeString in christmas2008Season\n",
    "    isChristmas2009Season = dateToAnalyzeString in christmas2009Season\n",
    "    isChristmasSeason = isChristmas2008Season or isChristmas2009Season\n",
    "    \n",
    "    holidayType = []\n",
    "    yearString = dateToAnalyzeString[0:4]\n",
    "    \n",
    "    if isFederalPublicHolidayUSA:\n",
    "        holidayType.append(\"FederalPublicHolidayUSA\")\n",
    "    if isBlackFriday:\n",
    "        holidayType.append(\"BlackFriday\")\n",
    "    if isValentinesDaySeason:\n",
    "        holidayType.append(\"ValentinesDaySeason\")\n",
    "    if isChristmasSeason:\n",
    "        holidayType.append(\"ChristmasSeason\")\n",
    "    \n",
    "    if holidayType:\n",
    "        for holiday in holidayType:       \n",
    "            holidayTypePlusYearString = holiday + yearString\n",
    "        \n",
    "            if holidayTypePlusYearString in holidayTypeToProfitRatioZScore:\n",
    "                holidayTypeProfitRatioZScore = holidayTypeToProfitRatioZScore[holidayTypePlusYearString]\n",
    "                holidayTypeProfitRatioZScore.append((dateToAnalyzeString,profitRatioZScore[i]))\n",
    "            else:\n",
    "                holidayTypeToProfitRatioZScore[holidayTypePlusYearString] = [(dateToAnalyzeString,profitRatioZScore[i])]\n",
    "            \n",
    "#holidayTypeToProfitRatioZScore"
   ]
  },
  {
   "cell_type": "markdown",
   "metadata": {},
   "source": [
    "Black Friday has a positive z-score both in 2008 and 2009. Christmas' season (December) has days with both positive and negative z-score values (also, there is no complete data for December 2009). With the available data for December 2008, it can be concluded that the z-score is generally positive during the second half of December, with the highest values towards the end of the month. Public holidays have both positive and negative z-score values. The last days before 2009 Valentine's Day have positive z-score values."
   ]
  },
  {
   "cell_type": "code",
   "execution_count": 81,
   "metadata": {},
   "outputs": [
    {
     "data": {
      "image/png": "[encoded data removed]",
      "text/plain": [
       "<matplotlib.figure.Figure at 0x7fa4add5d048>"
      ]
     },
     "metadata": {},
     "output_type": "display_data"
    }
   ],
   "source": [
    "subplotIndex = 1\n",
    "\n",
    "plt.figure(figsize=(17,15))  \n",
    "\n",
    "for key in sorted(holidayTypeToProfitRatioZScore.keys()):\n",
    "    value = holidayTypeToProfitRatioZScore[key]\n",
    "    plt.subplot(4,2,subplotIndex)\n",
    "    plt.title(key)\n",
    "    \n",
    "    X = [tupleElement[0] for tupleElement in value]\n",
    "    Y = [tupleElement[1] for tupleElement in value]\n",
    "    plt.bar(range(len(Y)), Y)\n",
    "    plt.xticks(np.arange(len(Y)), X,rotation='vertical')\n",
    "    subplotIndex = subplotIndex +1\n",
    "    \n",
    "plt.subplots_adjust(hspace = 1)\n",
    "plt.show()"
   ]
  },
  {
   "cell_type": "markdown",
   "metadata": {},
   "source": [
    "Now, it is analyzed whether the day of the week (Monday-Sunday) has any efect on Swoopo's profit. The following figure represents the sum of the retail price of the auctioned items as well as the revenue obtained by Swoopo (calculated as the profit obtained over the retail price of the items plus their retail price), where 0 corresponds to Monday and 6 corresponds to Sunday."
   ]
  },
  {
   "cell_type": "code",
   "execution_count": 85,
   "metadata": {},
   "outputs": [
    {
     "data": {
      "image/png": "[encoded data removed]",
      "text/plain": [
       "<matplotlib.figure.Figure at 0x7fa4adad8278>"
      ]
     },
     "metadata": {},
     "output_type": "display_data"
    }
   ],
   "source": [
    "f = lambda x: str(x.dayofweek)\n",
    "\n",
    "sumRetailGroup = outcomesDf.groupby(outcomesDf['endtime_str'].apply(f))['retail'].sum()\n",
    "swoopoProfitGroup = outcomesDf.groupby(outcomesDf['endtime_str'].apply(f))['swoopo_profit'].sum()\n",
    "\n",
    "X=sumRetailGroup.index\n",
    "Y=sumRetailGroup.values\n",
    "Y2 = swoopoProfitGroup.values\n",
    "bar_width = 0.20\n",
    "\n",
    "plt.figure(figsize=(17,5))\n",
    "p1=plt.bar(np.arange(len(Y)),Y, bar_width,color='b')\n",
    "p2=plt.bar(np.arange(len(Y2))+bar_width,Y2+Y,bar_width, color='g')\n",
    "plt.xticks(np.arange(len(X)) + bar_width, X,rotation='vertical')\n",
    "plt.legend((p1,p2),('Sum of retail price', 'Sum of Swoopo\\'s sales'))\n",
    "plt.show()"
   ]
  },
  {
   "cell_type": "markdown",
   "metadata": {},
   "source": [
    "The highest profit ratio is obtained on Friday, while the lowest positive ratio is obtained on Tuesday. Nevertheless, the values are pretty similar throughout all days of the week."
   ]
  },
  {
   "cell_type": "code",
   "execution_count": 86,
   "metadata": {},
   "outputs": [
    {
     "name": "stdout",
     "output_type": "stream",
     "text": [
      "1 : 1.79960214622\n",
      "0 : 1.81110240645\n",
      "6 : 1.85394790398\n",
      "5 : 1.85787517573\n",
      "2 : 1.8979654475\n",
      "3 : 1.91604387013\n",
      "4 : 1.92160198512\n"
     ]
    }
   ],
   "source": [
    "profitRatio = (Y2+Y)/Y\n",
    "profitRatio,X= zip(*sorted(zip(profitRatio,X)))\n",
    "for i in range(0,7):\n",
    "    print (str(X[i])+ \" : \"+str(profitRatio[i]))"
   ]
  },
  {
   "cell_type": "code",
   "execution_count": null,
   "metadata": {},
   "outputs": [],
   "source": []
  },
  {
   "cell_type": "code",
   "execution_count": null,
   "metadata": {},
   "outputs": [],
   "source": []
  },
  {
   "cell_type": "code",
   "execution_count": null,
   "metadata": {},
   "outputs": [],
   "source": []
  },
  {
   "cell_type": "code",
   "execution_count": null,
   "metadata": {},
   "outputs": [],
   "source": []
  },
  {
   "cell_type": "code",
   "execution_count": null,
   "metadata": {},
   "outputs": [],
   "source": []
  },
  {
   "cell_type": "code",
   "execution_count": null,
   "metadata": {},
   "outputs": [],
   "source": []
  },
  {
   "cell_type": "code",
   "execution_count": null,
   "metadata": {},
   "outputs": [],
   "source": []
  },
  {
   "cell_type": "code",
   "execution_count": null,
   "metadata": {},
   "outputs": [],
   "source": []
  },
  {
   "cell_type": "code",
   "execution_count": null,
   "metadata": {},
   "outputs": [],
   "source": []
  },
  {
   "cell_type": "code",
   "execution_count": null,
   "metadata": {},
   "outputs": [],
   "source": []
  },
  {
   "cell_type": "code",
   "execution_count": null,
   "metadata": {},
   "outputs": [],
   "source": [
    "outcomesDfItemDesc =outcomesDf[['item','desc']]\n",
    "outcomesDfItemDesc.head()\n",
    "outcomesDfItemDesc.shape\n",
    "itemColumnValueCounts = outcomesDf['item'].value_counts()\n",
    "itemColumnValueCounts.head()\n",
    "outcomesDfItemDesc.shape\n",
    "outcomesDfItemDesc = outcomesDfItemDesc.merge(itemColumnValueCounts.to_frame(),how='left',left_on='item',right_index=True)\n",
    "outcomesDfItemDesc = outcomesDfItemDesc.rename(columns={'item_x': 'item', 'item_y': 'item_count'})\n",
    "outcomesDfItemDesc.shape\n",
    "outcomesDfItemDesc\n",
    "descColumnValueCounts = outcomesDf['desc'].value_counts()\n",
    "descColumnValueCounts.head()\n",
    "outcomesDfItemDesc = outcomesDfItemDesc.merge(descColumnValueCounts.to_frame(),how='left',left_on='desc',right_index=True)\n",
    "outcomesDfItemDesc = outcomesDfItemDesc.rename(columns={'desc_x': 'desc', 'desc_y': 'desc_count'})\n",
    "outcomesDfItemDesc.shape\n",
    "outcomesDfItemDesc.head()\n",
    "outcomesDfItemDesc[outcomesDfItemDesc['item_count']!=outcomesDfItemDesc['desc_count']]['item'].unique()"
   ]
  },
  {
   "cell_type": "code",
   "execution_count": null,
   "metadata": {},
   "outputs": [],
   "source": [
    "\n"
   ]
  },
  {
   "cell_type": "code",
   "execution_count": null,
   "metadata": {},
   "outputs": [],
   "source": [
    "outcomesDfItemDesc[outcomesDfItemDesc['item'].values==\"casio-exilim-ex-z200-10-1-mp-digital-cam\"]['desc'].unique()"
   ]
  },
  {
   "cell_type": "code",
   "execution_count": null,
   "metadata": {},
   "outputs": [],
   "source": [
    "for itemdesc in outcomesDf['desc'].unique():\n",
    "    print(itemdesc)"
   ]
  },
  {
   "cell_type": "code",
   "execution_count": null,
   "metadata": {},
   "outputs": [],
   "source": [
    "productCategoriesDf = pd.read_excel('./product_categories.xlsx')\n",
    "productCategoriesDf.head()"
   ]
  },
  {
   "cell_type": "code",
   "execution_count": null,
   "metadata": {},
   "outputs": [],
   "source": [
    "outcomesDfWithCategory = outcomesDf.merge(productCategoriesDf[['desc','category']],how='left')\n",
    "outcomesDfWithCategory.head()"
   ]
  },
  {
   "cell_type": "code",
   "execution_count": null,
   "metadata": {},
   "outputs": [],
   "source": [
    "outcomesDfWithCategory[outcomesDfWithCategory.isnull().any(1)]"
   ]
  },
  {
   "cell_type": "code",
   "execution_count": null,
   "metadata": {},
   "outputs": [],
   "source": [
    "productCategoriesDf[productCategoriesDf['item'] == 'perig-um-diamond-retrograde']"
   ]
  },
  {
   "cell_type": "code",
   "execution_count": null,
   "metadata": {},
   "outputs": [],
   "source": [
    "productCategoriesDf.loc[productCategoriesDf['item'].values==\"garmin-n-vi-250-3-5-inch-portable-gps-na\", 'desc'] = \"Garmin nüvi 250 3.5-Inch Portable GPS Navigator\"\n",
    "productCategoriesDf.loc[productCategoriesDf['item'].values==\"krug-ba-men-regatta-diamond-mens-watch\", 'desc'] = \"Krug Baümen Regatta Diamond Mens Watch\"\n",
    "productCategoriesDf.loc[productCategoriesDf['item'].values==\"perig-um-llandudno-ladies-watch\", 'desc'] = \"Perigáum Llandudno Ladies Watch\"\n",
    "productCategoriesDf.loc[productCategoriesDf['item'].values==\"pok-mon-ranger-shadows-of-almia-nintendo\", 'desc'] = \"Pokémon Ranger: Shadows of Almia (Nintendo DS)\"\n",
    "productCategoriesDf.loc[productCategoriesDf['item'].values==\"perig-um-florentia-ladies-watch\", 'desc'] = \"Perigáum Florentia Ladies Watch\"\n",
    "productCategoriesDf.loc[productCategoriesDf['item'].values==\"perig-um-leticia-ladies-watch\", 'desc'] = \"Perigáum Leticia Ladies Watch\"\n",
    "productCategoriesDf.loc[productCategoriesDf['item'].values==\"perig-um-saint-lucia-ladies-watch\", 'desc'] = \"Perigáum Saint Lucia Ladies Watch\"\n",
    "productCategoriesDf.loc[productCategoriesDf['item'].values==\"samsung-ln40a630-40-inch-1080p-120hz-lcd\", 'desc'] = \"Samsung LN40A630 40-Inch 1080p 120Hz LCD HDTV\"\n",
    "productCategoriesDf.loc[productCategoriesDf['item'].values==\"perig-um-moonwalker-mens-luxury-watch\", 'desc'] = \"Perigáum Moonwalker Mens Luxury Watch\"\n",
    "productCategoriesDf.loc[productCategoriesDf['item'].values==\"perig-um-fiona-ladies-watch\", 'desc'] = \"Perigáum Fiona Ladies Watch\"\n",
    "productCategoriesDf.loc[productCategoriesDf['item'].values==\"perig-um-diamond-retrograde\", 'desc'] = \"Perigáum Diamond Retrograde\"\n"
   ]
  },
  {
   "cell_type": "code",
   "execution_count": null,
   "metadata": {},
   "outputs": [],
   "source": []
  },
  {
   "cell_type": "code",
   "execution_count": null,
   "metadata": {},
   "outputs": [],
   "source": []
  },
  {
   "cell_type": "code",
   "execution_count": null,
   "metadata": {},
   "outputs": [],
   "source": []
  },
  {
   "cell_type": "code",
   "execution_count": null,
   "metadata": {},
   "outputs": [],
   "source": []
  },
  {
   "cell_type": "code",
   "execution_count": null,
   "metadata": {},
   "outputs": [],
   "source": []
  },
  {
   "cell_type": "code",
   "execution_count": null,
   "metadata": {},
   "outputs": [],
   "source": []
  },
  {
   "cell_type": "code",
   "execution_count": null,
   "metadata": {
    "scrolled": true
   },
   "outputs": [],
   "source": [
    "\n"
   ]
  },
  {
   "cell_type": "code",
   "execution_count": null,
   "metadata": {},
   "outputs": [],
   "source": []
  },
  {
   "cell_type": "code",
   "execution_count": null,
   "metadata": {},
   "outputs": [],
   "source": [
    "\n"
   ]
  },
  {
   "cell_type": "code",
   "execution_count": null,
   "metadata": {},
   "outputs": [],
   "source": [
    "outcomesDf['winner'].value_counts()"
   ]
  },
  {
   "cell_type": "code",
   "execution_count": null,
   "metadata": {},
   "outputs": [],
   "source": [
    "outcomesDf['desc'].value_counts()"
   ]
  },
  {
   "cell_type": "code",
   "execution_count": null,
   "metadata": {},
   "outputs": [],
   "source": [
    "outcomesDf.head()"
   ]
  },
  {
   "cell_type": "code",
   "execution_count": null,
   "metadata": {},
   "outputs": [],
   "source": [
    "outcomesDf['bidincrement'] = outcomesDf['bidincrement']/100\n",
    "outcomesDf['bidfee'] = outcomesDf['bidfee']/100"
   ]
  },
  {
   "cell_type": "code",
   "execution_count": null,
   "metadata": {},
   "outputs": [],
   "source": [
    "outcomesDf['finalprice_withbids'] = outcomesDf['finalprice'] + outcomesDf['placedbids']*outcomesDf['bidfee']/100"
   ]
  },
  {
   "cell_type": "code",
   "execution_count": null,
   "metadata": {},
   "outputs": [],
   "source": [
    "X = outcomesDf[[\"retail\",\"bidincrement\",\"bidfee\",\"flg_click_only\",\"flg_beginnerauction\",\"flg_fixedprice\",\"flg_endprice\"]].values\n",
    "y = outcomesDf[\"finalprice\"]"
   ]
  },
  {
   "cell_type": "code",
   "execution_count": null,
   "metadata": {},
   "outputs": [],
   "source": [
    "from sklearn.ensemble import RandomForestRegressor\n",
    "rmodel=RandomForestRegressor()\n",
    "rmodel.fit(X,y)\n",
    "outcomesDf['P_finalprice'] = rmodel.predict(outcomesDf[[\"retail\",\"bidincrement\",\"bidfee\",\"flg_click_only\",\"flg_beginnerauction\",\"flg_fixedprice\",\"flg_endprice\"]])"
   ]
  },
  {
   "cell_type": "code",
   "execution_count": null,
   "metadata": {},
   "outputs": [],
   "source": [
    "from sklearn.metrics import mean_squared_error\n",
    "mean_squared_error(outcomesDf[\"finalprice\"],outcomesDf[\"P_finalprice\"])"
   ]
  },
  {
   "cell_type": "code",
   "execution_count": null,
   "metadata": {},
   "outputs": [],
   "source": [
    "from sklearn.neighbors import KNeighborsRegressor\n",
    "clf = KNeighborsRegressor(n_neighbors=14)\n",
    "clf.fit(X, y)\n",
    "mean_squared_error(outcomesDf[\"finalprice\"],clf.predict(X))"
   ]
  },
  {
   "cell_type": "code",
   "execution_count": null,
   "metadata": {},
   "outputs": [],
   "source": [
    "from sklearn.tree import DecisionTreeRegressor\n",
    "clf = DecisionTreeRegressor(max_depth=5)\n",
    "clf.fit(X, y)\n",
    "mean_squared_error(outcomesDf[\"finalprice\"],clf.predict(X))"
   ]
  },
  {
   "cell_type": "code",
   "execution_count": null,
   "metadata": {},
   "outputs": [],
   "source": [
    "from sklearn.linear_model import LinearRegression\n",
    "clf = LinearRegression()\n",
    "clf.fit(X, y)\n",
    "mean_squared_error(outcomesDf[\"finalprice\"],clf.predict(X))"
   ]
  },
  {
   "cell_type": "code",
   "execution_count": null,
   "metadata": {},
   "outputs": [],
   "source": [
    "from sklearn.model_selection import train_test_split\n",
    "X_train, X_test, y_train, y_test = train_test_split(X, y, test_size=0.20, random_state=42)"
   ]
  },
  {
   "cell_type": "code",
   "execution_count": null,
   "metadata": {},
   "outputs": [],
   "source": [
    "from sklearn.pipeline import Pipeline\n",
    "from sklearn import decomposition\n",
    "from sklearn.ensemble import RandomForestRegressor"
   ]
  },
  {
   "cell_type": "code",
   "execution_count": null,
   "metadata": {},
   "outputs": [],
   "source": [
    "red = decomposition.PCA()\n",
    "clf = RandomForestRegressor()\n",
    "pipe = Pipeline(steps=[('pca', red), ('Random Forest',clf)])\n",
    "pipe.fit(X_train,y_train)\n",
    "mean_squared_error(y_test,pipe.predict(X_test))"
   ]
  },
  {
   "cell_type": "code",
   "execution_count": null,
   "metadata": {},
   "outputs": [],
   "source": [
    "rmodel=RandomForestRegressor()\n",
    "rmodel.fit(X_train,y_train)\n",
    "mean_squared_error(y_test,rmodel.predict(X_test))"
   ]
  },
  {
   "cell_type": "code",
   "execution_count": null,
   "metadata": {},
   "outputs": [],
   "source": [
    "#pip install tpot\n",
    "from tpot import TPOTRegressor\n",
    "clf = TPOTRegressor(generations=5, population_size=20, cv=5,\n",
    "                                    random_state=42, verbosity=2)\n",
    "clf.fit(X_train, y_train)"
   ]
  },
  {
   "cell_type": "code",
   "execution_count": null,
   "metadata": {},
   "outputs": [],
   "source": [
    "mean_squared_error(y_test,clf.predict(X_test))"
   ]
  },
  {
   "cell_type": "code",
   "execution_count": null,
   "metadata": {},
   "outputs": [],
   "source": []
  },
  {
   "cell_type": "code",
   "execution_count": null,
   "metadata": {},
   "outputs": [],
   "source": []
  },
  {
   "cell_type": "code",
   "execution_count": null,
   "metadata": {},
   "outputs": [],
   "source": []
  },
  {
   "cell_type": "code",
   "execution_count": null,
   "metadata": {},
   "outputs": [],
   "source": []
  }
 ],
 "metadata": {
  "kernelspec": {
   "display_name": "Python 3",
   "language": "python",
   "name": "python3"
  },
  "language_info": {
   "codemirror_mode": {
    "name": "ipython",
    "version": 3
   },
   "file_extension": ".py",
   "mimetype": "text/x-python",
   "name": "python",
   "nbconvert_exporter": "python",
   "pygments_lexer": "ipython3",
   "version": "3.6.2"
  }
 },
 "nbformat": 4,
 "nbformat_minor": 2
}
