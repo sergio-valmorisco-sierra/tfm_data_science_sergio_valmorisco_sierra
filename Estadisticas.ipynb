{
 "cells": [
  {
   "cell_type": "code",
   "execution_count": 1,
   "metadata": {
    "collapsed": true
   },
   "outputs": [],
   "source": [
    "import pandas as pd\n",
    "import numpy as np\n",
    "\n",
    "import matplotlib.pyplot as plt\n",
    "import matplotlib\n",
    "\n",
    "matplotlib.style.use('ggplot')\n",
    "%matplotlib inline"
   ]
  },
  {
   "cell_type": "code",
   "execution_count": 2,
   "metadata": {
    "collapsed": true
   },
   "outputs": [],
   "source": [
    "outcomesDf = pd.read_csv('./outcomes.tsv',sep='\\t')\n",
    "tracesDf = pd.read_csv('./traces.tsv',sep='\\t')"
   ]
  },
  {
   "cell_type": "code",
   "execution_count": 4,
   "metadata": {},
   "outputs": [
    {
     "data": {
      "text/html": [
       "<div>\n",
       "<style>\n",
       "    .dataframe thead tr:only-child th {\n",
       "        text-align: right;\n",
       "    }\n",
       "\n",
       "    .dataframe thead th {\n",
       "        text-align: left;\n",
       "    }\n",
       "\n",
       "    .dataframe tbody tr th {\n",
       "        vertical-align: top;\n",
       "    }\n",
       "</style>\n",
       "<table border=\"1\" class=\"dataframe\">\n",
       "  <thead>\n",
       "    <tr style=\"text-align: right;\">\n",
       "      <th></th>\n",
       "      <th>auction_id</th>\n",
       "      <th>product_id</th>\n",
       "      <th>item</th>\n",
       "      <th>desc</th>\n",
       "      <th>retail</th>\n",
       "      <th>price</th>\n",
       "      <th>finalprice</th>\n",
       "      <th>bidincrement</th>\n",
       "      <th>bidfee</th>\n",
       "      <th>winner</th>\n",
       "      <th>placedbids</th>\n",
       "      <th>freebids</th>\n",
       "      <th>endtime_str</th>\n",
       "      <th>flg_click_only</th>\n",
       "      <th>flg_beginnerauction</th>\n",
       "      <th>flg_fixedprice</th>\n",
       "      <th>flg_endprice</th>\n",
       "    </tr>\n",
       "  </thead>\n",
       "  <tbody>\n",
       "    <tr>\n",
       "      <th>0</th>\n",
       "      <td>86827</td>\n",
       "      <td>10009602</td>\n",
       "      <td>sony-ericsson-s500i-unlocked-mysterious-</td>\n",
       "      <td>Sony Ericsson S500i Unlocked Mysterious Green</td>\n",
       "      <td>499.99</td>\n",
       "      <td>13.35</td>\n",
       "      <td>13.35</td>\n",
       "      <td>15</td>\n",
       "      <td>75</td>\n",
       "      <td>Racer11</td>\n",
       "      <td>26</td>\n",
       "      <td>0</td>\n",
       "      <td>19:52 PDT 09-16-2008</td>\n",
       "      <td>0</td>\n",
       "      <td>0</td>\n",
       "      <td>0</td>\n",
       "      <td>0</td>\n",
       "    </tr>\n",
       "    <tr>\n",
       "      <th>1</th>\n",
       "      <td>87964</td>\n",
       "      <td>10009881</td>\n",
       "      <td>psp-slim-lite-sony-piano-black</td>\n",
       "      <td>PSP Slim &amp; Lite Sony Piano Black</td>\n",
       "      <td>169.99</td>\n",
       "      <td>74.70</td>\n",
       "      <td>74.70</td>\n",
       "      <td>15</td>\n",
       "      <td>75</td>\n",
       "      <td>Cemo23</td>\n",
       "      <td>65</td>\n",
       "      <td>0</td>\n",
       "      <td>11:17 PDT 08-28-2008</td>\n",
       "      <td>0</td>\n",
       "      <td>0</td>\n",
       "      <td>0</td>\n",
       "      <td>0</td>\n",
       "    </tr>\n",
       "  </tbody>\n",
       "</table>\n",
       "</div>"
      ],
      "text/plain": [
       "   auction_id  product_id                                      item  \\\n",
       "0       86827    10009602  sony-ericsson-s500i-unlocked-mysterious-   \n",
       "1       87964    10009881            psp-slim-lite-sony-piano-black   \n",
       "\n",
       "                                            desc  retail  price  finalprice  \\\n",
       "0  Sony Ericsson S500i Unlocked Mysterious Green  499.99  13.35       13.35   \n",
       "1               PSP Slim & Lite Sony Piano Black  169.99  74.70       74.70   \n",
       "\n",
       "   bidincrement  bidfee   winner  placedbids  freebids           endtime_str  \\\n",
       "0            15      75  Racer11          26         0  19:52 PDT 09-16-2008   \n",
       "1            15      75   Cemo23          65         0  11:17 PDT 08-28-2008   \n",
       "\n",
       "   flg_click_only  flg_beginnerauction  flg_fixedprice  flg_endprice  \n",
       "0               0                    0               0             0  \n",
       "1               0                    0               0             0  "
      ]
     },
     "execution_count": 4,
     "metadata": {},
     "output_type": "execute_result"
    }
   ],
   "source": [
    "outcomesDf.head(2)"
   ]
  },
  {
   "cell_type": "code",
   "execution_count": 3,
   "metadata": {},
   "outputs": [
    {
     "data": {
      "text/plain": [
       "auction_id               int64\n",
       "product_id               int64\n",
       "item                    object\n",
       "desc                    object\n",
       "retail                 float64\n",
       "price                  float64\n",
       "finalprice             float64\n",
       "bidincrement             int64\n",
       "bidfee                   int64\n",
       "winner                  object\n",
       "placedbids               int64\n",
       "freebids                 int64\n",
       "endtime_str             object\n",
       "flg_click_only           int64\n",
       "flg_beginnerauction      int64\n",
       "flg_fixedprice           int64\n",
       "flg_endprice             int64\n",
       "dtype: object"
      ]
     },
     "execution_count": 3,
     "metadata": {},
     "output_type": "execute_result"
    }
   ],
   "source": [
    "outcomesDf.dtypes"
   ]
  },
  {
   "cell_type": "code",
   "execution_count": 3,
   "metadata": {
    "collapsed": true
   },
   "outputs": [],
   "source": [
    "pd.options.display.max_rows= 20"
   ]
  },
  {
   "cell_type": "code",
   "execution_count": 3,
   "metadata": {
    "collapsed": true
   },
   "outputs": [],
   "source": [
    "outcomesDf['endtime_str'] = pd.to_datetime(outcomesDf['endtime_str'])"
   ]
  },
  {
   "cell_type": "markdown",
   "metadata": {},
   "source": [
    "Número de ganadores:"
   ]
  },
  {
   "cell_type": "code",
   "execution_count": 4,
   "metadata": {
    "collapsed": true
   },
   "outputs": [],
   "source": [
    "outcomesDf['bids_placed'] = outcomesDf['price']/(outcomesDf['bidincrement']/100)"
   ]
  },
  {
   "cell_type": "code",
   "execution_count": 5,
   "metadata": {
    "collapsed": true
   },
   "outputs": [],
   "source": [
    "outcomesDf['swoopo_sale_price'] = outcomesDf['bids_placed']*(outcomesDf['bidfee']/100) + outcomesDf['finalprice']"
   ]
  },
  {
   "cell_type": "code",
   "execution_count": 6,
   "metadata": {
    "collapsed": true
   },
   "outputs": [],
   "source": [
    "outcomesDf['swoopo_profit'] = outcomesDf['swoopo_sale_price']-outcomesDf['retail']"
   ]
  },
  {
   "cell_type": "code",
   "execution_count": 8,
   "metadata": {},
   "outputs": [
    {
     "data": {
      "text/plain": [
       "45787"
      ]
     },
     "execution_count": 8,
     "metadata": {},
     "output_type": "execute_result"
    }
   ],
   "source": [
    "len(outcomesDf['winner'].unique())"
   ]
  },
  {
   "cell_type": "code",
   "execution_count": 21,
   "metadata": {},
   "outputs": [
    {
     "data": {
      "text/plain": [
       "Timestamp('2008-08-20 14:04:00')"
      ]
     },
     "execution_count": 21,
     "metadata": {},
     "output_type": "execute_result"
    }
   ],
   "source": [
    "min(outcomesDf['endtime_str'])"
   ]
  },
  {
   "cell_type": "code",
   "execution_count": 22,
   "metadata": {},
   "outputs": [
    {
     "data": {
      "text/plain": [
       "Timestamp('2009-12-12 15:10:00')"
      ]
     },
     "execution_count": 22,
     "metadata": {},
     "output_type": "execute_result"
    }
   ],
   "source": [
    "max(outcomesDf['endtime_str'])"
   ]
  },
  {
   "cell_type": "code",
   "execution_count": 17,
   "metadata": {},
   "outputs": [
    {
     "data": {
      "text/plain": [
       "array(['mario-sonic-at-the-olympic-winter-games-',\n",
       "       'star-wars-the-clone-wars-republic-heroes'], dtype=object)"
      ]
     },
     "execution_count": 17,
     "metadata": {},
     "output_type": "execute_result"
    }
   ],
   "source": [
    "outcomesDfItemDesc =outcomesDf[['item','desc']]\n",
    "outcomesDfItemDesc.head()\n",
    "outcomesDfItemDesc.shape\n",
    "itemColumnValueCounts = outcomesDf['item'].value_counts()\n",
    "itemColumnValueCounts.head()\n",
    "outcomesDfItemDesc.shape\n",
    "outcomesDfItemDesc = outcomesDfItemDesc.merge(itemColumnValueCounts.to_frame(),how='left',left_on='item',right_index=True)\n",
    "outcomesDfItemDesc = outcomesDfItemDesc.rename(columns={'item_x': 'item', 'item_y': 'item_count'})\n",
    "outcomesDfItemDesc.shape\n",
    "outcomesDfItemDesc\n",
    "descColumnValueCounts = outcomesDf['desc'].value_counts()\n",
    "descColumnValueCounts.head()\n",
    "outcomesDfItemDesc = outcomesDfItemDesc.merge(descColumnValueCounts.to_frame(),how='left',left_on='desc',right_index=True)\n",
    "outcomesDfItemDesc = outcomesDfItemDesc.rename(columns={'desc_x': 'desc', 'desc_y': 'desc_count'})\n",
    "outcomesDfItemDesc.shape\n",
    "outcomesDfItemDesc.head()\n",
    "outcomesDfItemDesc[outcomesDfItemDesc['item_count']!=outcomesDfItemDesc['desc_count']]['item'].unique()"
   ]
  },
  {
   "cell_type": "code",
   "execution_count": 16,
   "metadata": {
    "collapsed": true
   },
   "outputs": [],
   "source": [
    "outcomesDf.loc[outcomesDf['item'].values==\"vtech-v-smile-tv-learning-system\", 'desc'] = \"Vtech - V.Smile TV Learning System\"\n",
    "outcomesDf.loc[outcomesDf['item'].values==\"lego-city-7743-police-command-center\", 'desc'] = \"LEGO City 7743 - Police Command Center\"\n",
    "outcomesDf.loc[outcomesDf['item'].values==\"samsung-t220hd-22-1080p-lcd-hdtv-monitor\", 'desc'] = \"Samsung T220HD 22\\\" 1080p LCD HDTV Monitor\"\n",
    "outcomesDf.loc[outcomesDf['item'].values==\"ghd-professional-mini-styler-mk4-5-8-inc\", 'desc'] = \"GHD Professional Mini Styler MK4 (5/8\\\" Inch)\"\n",
    "outcomesDf.loc[outcomesDf['item'].values==\"frigidaire-atf8000fs-white-front-loading\", 'desc'] = \"Frigidaire ATF8000FS White Front-Loading Washer\"\n",
    "outcomesDf.loc[outcomesDf['item'].values==\"lg-26-5-cu-ft-side-by-side-refrigerator-\", 'desc'] = \"LG 26.5 cu.ft. Side-By-Side Refrigerator (White)\"\n",
    "outcomesDf.loc[outcomesDf['item'].values==\"samsung-bd-p3600-1080p-blu-ray-disc-play\", 'desc'] = \"Samsung BD-P3600 1080p Blu-Ray Disc Player\"\n",
    "outcomesDf.loc[outcomesDf['item'].values==\"garmin-n-vi-205w-4-3-inch-portable-gps-n\", 'desc'] = \"Garmin nüvi 205W 4.3-Inch Portable GPS Navigator\"\n",
    "outcomesDf.loc[outcomesDf['item'].values==\"casio-exilim-ex-z200-10-1-mp-digital-cam\", 'desc'] = \"Casio Exilim EX-Z200 10.1 MP Digital Camera\"\n",
    "\n",
    "htmlItems = ['109104.html', '109746.html', '109786.html', '109830.html',\n",
    "       '110013.html', '110869.html', '111506.html', '111584.html',\n",
    "       '112103.html', '112187.html', '114652.html', '114804.html',\n",
    "       '114907.html', '116626.html', '117910.html', '118838.html',\n",
    "       '121129.html', '121215.html', '121470.html', '121471.html',\n",
    "       '121788.html', '121881.html', '123276.html', '123553.html',\n",
    "       '125284.html', '125285.html', '125286.html', '125287.html',\n",
    "       '125288.html', '126865.html', '126866.html', '126867.html','130108.html',\n",
    "       '137897.html', '137898.html', '140035.html']\n",
    "outcomesDf = outcomesDf[~outcomesDf['item'].isin(htmlItems)]"
   ]
  },
  {
   "cell_type": "code",
   "execution_count": 15,
   "metadata": {},
   "outputs": [
    {
     "data": {
      "text/plain": [
       "array(['Casio Exilim EX-Z200 10.1 MP Digital Camera - RED',\n",
       "       'Casio Exilim EX-Z200 10.1 MP Digital Camera'], dtype=object)"
      ]
     },
     "execution_count": 15,
     "metadata": {},
     "output_type": "execute_result"
    }
   ],
   "source": [
    "outcomesDfItemDesc[outcomesDfItemDesc['item'].values==\"casio-exilim-ex-z200-10-1-mp-digital-cam\"]['desc'].unique()"
   ]
  },
  {
   "cell_type": "code",
   "execution_count": null,
   "metadata": {
    "collapsed": true
   },
   "outputs": [],
   "source": []
  },
  {
   "cell_type": "code",
   "execution_count": 12,
   "metadata": {},
   "outputs": [
    {
     "data": {
      "image/png": "[encoded data removed]",
      "text/plain": [
       "<matplotlib.figure.Figure at 0x7f657ab0d0b8>"
      ]
     },
     "metadata": {},
     "output_type": "display_data"
    }
   ],
   "source": [
    "f = lambda x: str(x.year) + '-' + '{0:02d}'.format(x.month)\n",
    "\n",
    "grupo = outcomesDf.groupby(outcomesDf['endtime_str'].apply(f))['bids_placed'].sum()\n",
    "\n",
    "X=grupo.values\n",
    "Y=grupo.index\n",
    "\n",
    "plt.figure(figsize=(17,5))\n",
    "plt.bar(range(len(X)), X)\n",
    "plt.xticks(np.arange(len(X)), Y,rotation='vertical')\n",
    "plt.show()"
   ]
  },
  {
   "cell_type": "code",
   "execution_count": 37,
   "metadata": {},
   "outputs": [
    {
     "data": {
      "image/png": "[encoded data removed]",
      "text/plain": [
       "<matplotlib.figure.Figure at 0x7f2588bf05c0>"
      ]
     },
     "metadata": {},
     "output_type": "display_data"
    }
   ],
   "source": [
    "f = lambda x: str(x.year) + '-' + '{0:02d}'.format(x.month)\n",
    "\n",
    "sumBidsPlacedGroup = outcomesDf.groupby(outcomesDf['endtime_str'].apply(f))['bids_placed'].sum()\n",
    "countProductsBiddedGroup = outcomesDf.groupby(outcomesDf['endtime_str'].apply(f))['bids_placed'].count()\n",
    "swoopoProfitGroup = outcomesDf.groupby(outcomesDf['endtime_str'].apply(f))['swoopo_profit'].sum()\n",
    "\n",
    "X=sumBidsPlacedGroup.index\n",
    "Y=sumBidsPlacedGroup.values\n",
    "Y2 = countProductsBiddedGroup.values\n",
    "Y3 = swoopoProfitGroup.values\n",
    "bar_width = 0.20\n",
    "\n",
    "plt.figure(figsize=(17,5))\n",
    "p1=plt.bar(np.arange(len(Y)),Y/max(Y), bar_width,color='b')\n",
    "p2=plt.bar(np.arange(len(Y2))+bar_width,Y2/max(Y2),bar_width, color='g')\n",
    "p3=plt.bar(np.arange(len(Y3))+2*bar_width,Y3/max(Y3),bar_width, color='r')\n",
    "plt.xticks(np.arange(len(X)) + bar_width, X,rotation='vertical')\n",
    "plt.legend((p1,p2,p3),('Sum bids placed','Number products bidded', 'Swoopo profit'))\n",
    "plt.show()"
   ]
  },
  {
   "cell_type": "code",
   "execution_count": 16,
   "metadata": {},
   "outputs": [
    {
     "data": {
      "text/plain": [
       "array([0, 1, 2, 3])"
      ]
     },
     "execution_count": 16,
     "metadata": {},
     "output_type": "execute_result"
    }
   ],
   "source": [
    "np.arange(4)"
   ]
  },
  {
   "cell_type": "code",
   "execution_count": 41,
   "metadata": {
    "scrolled": true
   },
   "outputs": [
    {
     "data": {
      "image/png": "[encoded data removed]",
      "text/plain": [
       "<matplotlib.figure.Figure at 0x7f2580f10940>"
      ]
     },
     "metadata": {},
     "output_type": "display_data"
    }
   ],
   "source": [
    "def timeStampToYearWeekFormat(timestamp):\n",
    "    \n",
    "    #for index_val, series_val in timeStampSeries.iteritems():\n",
    "    yearWeekFormatString = str(timestamp.year) + '-' + '{0:02d}'.format(timestamp.weekofyear)\n",
    "    if yearWeekFormatString == '2008-01':\n",
    "        #Convert 2008-01 to 2009-01, because some days of the last week of \n",
    "        #a year are considered to be in the first week of the next year, \n",
    "        #and the data timestamps range from '2008-08-20 14:04:00' to '2009-12-12 15:10:00'\n",
    "        #The ISO 8601 definition for week 01 is the week with the year's first Thursday in it.\n",
    "        yearWeekFormatString = '2009-01'\n",
    "    return yearWeekFormatString\n",
    "    \n",
    "sumBidsPlacedGroup = outcomesDf.groupby(outcomesDf['endtime_str'].apply(timeStampToYearWeekFormat))['bids_placed'].sum()\n",
    "countProductsBiddedGroup = outcomesDf.groupby(outcomesDf['endtime_str'].apply(timeStampToYearWeekFormat))['bids_placed'].count()\n",
    "swoopoProfitGroup = outcomesDf.groupby(outcomesDf['endtime_str'].apply(timeStampToYearWeekFormat))['swoopo_profit'].sum()\n",
    "\n",
    "X=sumBidsPlacedGroup.index\n",
    "Y=sumBidsPlacedGroup.values\n",
    "Y2 = countProductsBiddedGroup.values\n",
    "Y3 = swoopoProfitGroup.values\n",
    "bar_width = 0.25\n",
    "\n",
    "plt.figure(figsize=(17,5))\n",
    "p1=plt.bar(np.arange(len(Y)),Y/max(Y), bar_width,color='b')\n",
    "p2=plt.bar(np.arange(len(Y2))+bar_width,Y2/max(Y2),bar_width, color='g')\n",
    "p3=plt.bar(np.arange(len(Y3))+2*bar_width,Y3/max(Y3),bar_width, color='r')\n",
    "plt.xticks(np.arange(len(X)) + bar_width, X,rotation='vertical')\n",
    "plt.legend((p1,p2,p3),('Sum bids placed','Number products bidded', 'Swoopo profit'))\n",
    "plt.show()\n"
   ]
  },
  {
   "cell_type": "code",
   "execution_count": 38,
   "metadata": {},
   "outputs": [
    {
     "data": {
      "image/png": "[encoded data removed]",
      "text/plain": [
       "<matplotlib.figure.Figure at 0x7f258beb91d0>"
      ]
     },
     "metadata": {},
     "output_type": "display_data"
    }
   ],
   "source": [
    "f = lambda x: str(x.dayofweek)\n",
    "\n",
    "sumBidsPlacedGroup = outcomesDf.groupby(outcomesDf['endtime_str'].apply(f))['bids_placed'].sum()\n",
    "countProductsBiddedGroup = outcomesDf.groupby(outcomesDf['endtime_str'].apply(f))['bids_placed'].count()\n",
    "swoopoProfitGroup = outcomesDf.groupby(outcomesDf['endtime_str'].apply(f))['swoopo_profit'].sum()\n",
    "\n",
    "X=sumBidsPlacedGroup.index\n",
    "Y=sumBidsPlacedGroup.values\n",
    "Y2 = countProductsBiddedGroup.values\n",
    "Y3 = swoopoProfitGroup.values\n",
    "bar_width = 0.20\n",
    "\n",
    "plt.figure(figsize=(17,5))\n",
    "p1=plt.bar(np.arange(len(Y)),Y/max(Y), bar_width,color='b')\n",
    "p2=plt.bar(np.arange(len(Y2))+bar_width,Y2/max(Y2),bar_width, color='g')\n",
    "p3=plt.bar(np.arange(len(Y3))+2*bar_width,Y3/max(Y3),bar_width, color='r')\n",
    "plt.xticks(np.arange(len(X)) + bar_width, X,rotation='vertical')\n",
    "plt.legend((p1,p2,p3),('Sum bids placed','Number products bidded', 'Swoopo profit'))\n",
    "plt.show()"
   ]
  },
  {
   "cell_type": "code",
   "execution_count": 14,
   "metadata": {},
   "outputs": [
    {
     "data": {
      "text/plain": [
       "endtime_str\n",
       "2008-34    [2008-08-23T22:02:00.000000000, 2008-08-24T14:...\n",
       "2008-35    [2008-08-28T11:17:00.000000000, 2008-08-25T11:...\n",
       "2008-36    [2008-09-02T06:21:00.000000000, 2008-09-02T00:...\n",
       "2008-37    [2008-09-08T08:26:00.000000000, 2008-09-14T23:...\n",
       "2008-38    [2008-09-16T19:52:00.000000000, 2008-09-18T10:...\n",
       "2008-39    [2008-09-23T10:08:00.000000000, 2008-09-23T18:...\n",
       "2008-40    [2008-10-04T00:59:00.000000000, 2008-09-29T22:...\n",
       "2008-41    [2008-10-10T13:32:00.000000000, 2008-10-08T05:...\n",
       "2008-42    [2008-10-15T09:50:00.000000000, 2008-10-17T10:...\n",
       "2008-43    [2008-10-21T09:28:00.000000000, 2008-10-25T08:...\n",
       "                                 ...                        \n",
       "2009-41    [2009-10-05T10:51:00.000000000, 2009-10-05T01:...\n",
       "2009-42    [2009-10-12T00:00:00.000000000, 2009-10-12T00:...\n",
       "2009-43    [2009-10-19T06:13:00.000000000, 2009-10-19T06:...\n",
       "2009-44    [2009-10-27T13:55:00.000000000, 2009-10-30T14:...\n",
       "2009-45    [2009-11-02T00:18:00.000000000, 2009-11-02T06:...\n",
       "2009-46    [2009-11-09T02:14:00.000000000, 2009-11-09T03:...\n",
       "2009-47    [2009-11-16T03:05:00.000000000, 2009-11-16T06:...\n",
       "2009-48    [2009-11-23T07:52:00.000000000, 2009-11-23T08:...\n",
       "2009-49    [2009-12-01T10:43:00.000000000, 2009-12-01T12:...\n",
       "2009-50    [2009-12-07T02:16:00.000000000, 2009-12-07T02:...\n",
       "Name: endtime_str, Length: 69, dtype: object"
      ]
     },
     "execution_count": 14,
     "metadata": {},
     "output_type": "execute_result"
    }
   ],
   "source": [
    "def timeStampToYearWeekFormat(timestamp):\n",
    "    \n",
    "    #for index_val, series_val in timeStampSeries.iteritems():\n",
    "    yearWeekFormatString = str(timestamp.year) + '-' + '{0:02d}'.format(timestamp.weekofyear)\n",
    "    if yearWeekFormatString == '2008-01':\n",
    "        #Convert 2008-01 to 2009-01, because some days of the last week of \n",
    "        #a year are considered to be in the first week of the next year, \n",
    "        #and the data timestamps range from '2008-08-20 14:04:00' to '2009-12-12 15:10:00'\n",
    "        #The ISO 8601 definition for week 01 is the week with the year's first Thursday in it.\n",
    "        yearWeekFormatString = '2009-01'\n",
    "    return yearWeekFormatString\n",
    "    \n",
    "grupo = outcomesDf.groupby(outcomesDf['endtime_str'].apply(timeStampToYearWeekFormat))['endtime_str']\n",
    "\n",
    "grupo.unique()\n"
   ]
  },
  {
   "cell_type": "code",
   "execution_count": 7,
   "metadata": {},
   "outputs": [
    {
     "data": {
      "text/plain": [
       "HH0812          131\n",
       "Oglalasioux     117\n",
       "Toertchen       116\n",
       "Koboldwicht     112\n",
       "Schlumpf01      111\n",
       "Kavvamartin     111\n",
       "Thomsen321      109\n",
       "Brusher         108\n",
       "Aluf412         108\n",
       "Trixi101        106\n",
       "Maths           105\n",
       "18rudi61        104\n",
       "HFW-BW          104\n",
       "Samurai38       103\n",
       "1pleitegeier    102\n",
       "waggerl         102\n",
       "winni1958       101\n",
       "canton          101\n",
       "rasputin900     101\n",
       "19conny63       101\n",
       "Kaiserlein99    101\n",
       "Biggibig        100\n",
       "kiam20          100\n",
       "damage24        100\n",
       "Redfoxz          99\n",
       "Artemis412       98\n",
       "Albundy12        98\n",
       "audt             97\n",
       "buvosc           97\n",
       "XX1973XX         95\n",
       "               ... \n",
       "Sinow             1\n",
       "Ahmedhans         1\n",
       "Rudnik02          1\n",
       "Zachias87         1\n",
       "Abseitsfalle      1\n",
       "Murdock04         1\n",
       "Antware           1\n",
       "Becisoft          1\n",
       "Larry1968         1\n",
       "Conmigo27         1\n",
       "Spearo1985        1\n",
       "Sandizm           1\n",
       "Tomb578           1\n",
       "Emolson           1\n",
       "Titan1986         1\n",
       "Srmorgen          1\n",
       "Tayloa            1\n",
       "Morzy             1\n",
       "Monstar13         1\n",
       "Wsettles          1\n",
       "Nighthawk_uk      1\n",
       "Frankkirsch       1\n",
       "Mw5k5k            1\n",
       "Dillingerci       1\n",
       "Bretkcmo          1\n",
       "Andrewf051        1\n",
       "Degalll           1\n",
       "Douglas777        1\n",
       "Arno625           1\n",
       "Bgwilly70         1\n",
       "Name: winner, Length: 45787, dtype: int64"
      ]
     },
     "execution_count": 7,
     "metadata": {},
     "output_type": "execute_result"
    }
   ],
   "source": [
    "outcomesDf['winner'].value_counts()"
   ]
  },
  {
   "cell_type": "code",
   "execution_count": 8,
   "metadata": {},
   "outputs": [
    {
     "data": {
      "text/plain": [
       "20 Bids Voucher                                      6658\n",
       "Wii | Nintendo Console + Wii Sports                  5935\n",
       "50 Bids Voucher                                      3283\n",
       "300 Bids Voucher                                     2365\n",
       "50 FreeBids Voucher                                  2297\n",
       "Wii Fit | Nintendo WiiFit + Balance Board            2179\n",
       "75 Bids Voucher                                      2073\n",
       "Mario Kart with Wheel (Nintendo Wii)                 1995\n",
       "DS | Nintendo DS Lite Black                          1754\n",
       "Sony PlayStation 3 80 GB                             1656\n",
       "300 FreeBids Voucher                                 1503\n",
       "Corsair Voyager Mini 4 GB USB Flash                  1452\n",
       "Apple iPod touch 8 GB (new generation)               1305\n",
       "Transcend TS8GJFV10 USB 2.0 8GB Flash Drive          1239\n",
       "Nikon D90 12.3 MP DSLR Camera with 18-105mm Kit      1160\n",
       "DS | Nintendo DS Lite (silver)                       1113\n",
       "TomTom Go 930T                                       1048\n",
       "Kingston DataTraveler 32 GB USB 2.0 Flash Drive      1008\n",
       "Wii Sports Resort with Wii MotionPlus                 876\n",
       "Canon Digital Rebel XSi + 18-55mm Lens Black          863\n",
       "Nintendo DSi Console (Black)                          810\n",
       "$80 Cash!                                             775\n",
       "Panasonic KX-TG8232B Cordless Phone System            764\n",
       "Nintendo DSi Console (Blue)                           720\n",
       "Sony PlayStation 3 Slim Console (120GB)               699\n",
       "Transcend JetFlash V10 USB 2.0 16GB Flash Drive       685\n",
       "Kingston Flash 16GB DataTraveler DT100 (Black)        656\n",
       "Kaspersky Internet Security 2009                      648\n",
       "Kingston Micro SD Reader & 2GB SD Card                644\n",
       "Wii Play (includes Wii Remote Control)                563\n",
       "                                                     ... \n",
       "Toshiba Satellite L355D-S7809 17\" Laptop (Vista)        1\n",
       "AMF Bowling Pinbusters! (Nintendo Wii)                  1\n",
       "Krups 468-42 Moka Brew 8-Cup Coffeemaker                1\n",
       "Lance Milan 150cc Scooter                               1\n",
       "Spinmaster Air Hogs Battling Havoc Helicopters          1\n",
       "Iron Gym Total Upper Body Workout Bar                   1\n",
       "HP Pavilion Elite M9520F Desktop PC                     1\n",
       "Whirlpool Duet 4.4 Cu. Ft. 12-Cycle Washer              1\n",
       "2009 Mini Cooper Chili Red and Black Convertible        1\n",
       "DEWALT Cordless 18-Volt Compact Drill/Driver            1\n",
       "Sony VAIO VGN-CR520E/R 14\" Red                          1\n",
       "Acer Aspire 7720-4428 17-Inch Laptop                    1\n",
       "Mario Batali Panini Grill & Press                       1\n",
       "Sony Vaio VGN-AR820E 17\" Notebook                       1\n",
       "TiVo TCD648250B Series3 HD Digital Media Recorder       1\n",
       "Panasonic Viera TH-42PX80 42\" 720p Plasma HDTV          1\n",
       "John McCain 6\" Action Figure                            1\n",
       "HP Compaq Presario CQ70-130EG                           1\n",
       "Philips Norelco Professional BodyGrooming System        1\n",
       "Pamp Suisse 10 Gram Gold Bar                            1\n",
       "Future Champs Youth Football Goal Post                  1\n",
       "Oregon Scientific Wireless In/Outdoor Thermometer       1\n",
       "HP Pavilion DV6880SE 15.4\" Core 2 Duo Notebook          1\n",
       "Sony Cyber-shot DSC-W290 12 MP Digital Camera           1\n",
       "Sony VAIO Lifestyle VGN-P688E/G 8-Inch Laptop           1\n",
       "Diamondback Response  26\" Men's Mountain Bike           1\n",
       "Mitsubishi WD-73736 73-Inch 1080p DLP HDTV              1\n",
       "Samsung PN50B860 50-Inch 1080p Plasma HDTV              1\n",
       "Saeco Fully Automatic Espresso Machine                  1\n",
       "Sony VAIO VGN-CR408E/B 14.1\" Laptop                     1\n",
       "Name: desc, Length: 1779, dtype: int64"
      ]
     },
     "execution_count": 8,
     "metadata": {},
     "output_type": "execute_result"
    }
   ],
   "source": [
    "outcomesDf['desc'].value_counts()"
   ]
  },
  {
   "cell_type": "code",
   "execution_count": 6,
   "metadata": {},
   "outputs": [
    {
     "data": {
      "text/html": [
       "<div>\n",
       "<style>\n",
       "    .dataframe thead tr:only-child th {\n",
       "        text-align: right;\n",
       "    }\n",
       "\n",
       "    .dataframe thead th {\n",
       "        text-align: left;\n",
       "    }\n",
       "\n",
       "    .dataframe tbody tr th {\n",
       "        vertical-align: top;\n",
       "    }\n",
       "</style>\n",
       "<table border=\"1\" class=\"dataframe\">\n",
       "  <thead>\n",
       "    <tr style=\"text-align: right;\">\n",
       "      <th></th>\n",
       "      <th>auction_id</th>\n",
       "      <th>product_id</th>\n",
       "      <th>item</th>\n",
       "      <th>desc</th>\n",
       "      <th>retail</th>\n",
       "      <th>price</th>\n",
       "      <th>finalprice</th>\n",
       "      <th>bidincrement</th>\n",
       "      <th>bidfee</th>\n",
       "      <th>winner</th>\n",
       "      <th>placedbids</th>\n",
       "      <th>freebids</th>\n",
       "      <th>endtime_str</th>\n",
       "      <th>flg_click_only</th>\n",
       "      <th>flg_beginnerauction</th>\n",
       "      <th>flg_fixedprice</th>\n",
       "      <th>flg_endprice</th>\n",
       "    </tr>\n",
       "  </thead>\n",
       "  <tbody>\n",
       "    <tr>\n",
       "      <th>0</th>\n",
       "      <td>86827</td>\n",
       "      <td>10009602</td>\n",
       "      <td>sony-ericsson-s500i-unlocked-mysterious-</td>\n",
       "      <td>Sony Ericsson S500i Unlocked Mysterious Green</td>\n",
       "      <td>499.99</td>\n",
       "      <td>13.35</td>\n",
       "      <td>13.35</td>\n",
       "      <td>15</td>\n",
       "      <td>75</td>\n",
       "      <td>Racer11</td>\n",
       "      <td>26</td>\n",
       "      <td>0</td>\n",
       "      <td>19:52 PDT 09-16-2008</td>\n",
       "      <td>0</td>\n",
       "      <td>0</td>\n",
       "      <td>0</td>\n",
       "      <td>0</td>\n",
       "    </tr>\n",
       "    <tr>\n",
       "      <th>1</th>\n",
       "      <td>87964</td>\n",
       "      <td>10009881</td>\n",
       "      <td>psp-slim-lite-sony-piano-black</td>\n",
       "      <td>PSP Slim &amp; Lite Sony Piano Black</td>\n",
       "      <td>169.99</td>\n",
       "      <td>74.70</td>\n",
       "      <td>74.70</td>\n",
       "      <td>15</td>\n",
       "      <td>75</td>\n",
       "      <td>Cemo23</td>\n",
       "      <td>65</td>\n",
       "      <td>0</td>\n",
       "      <td>11:17 PDT 08-28-2008</td>\n",
       "      <td>0</td>\n",
       "      <td>0</td>\n",
       "      <td>0</td>\n",
       "      <td>0</td>\n",
       "    </tr>\n",
       "    <tr>\n",
       "      <th>2</th>\n",
       "      <td>87965</td>\n",
       "      <td>10009881</td>\n",
       "      <td>psp-slim-lite-sony-piano-black</td>\n",
       "      <td>PSP Slim &amp; Lite Sony Piano Black</td>\n",
       "      <td>169.99</td>\n",
       "      <td>83.10</td>\n",
       "      <td>83.10</td>\n",
       "      <td>15</td>\n",
       "      <td>75</td>\n",
       "      <td>Jacobsonnich</td>\n",
       "      <td>94</td>\n",
       "      <td>0</td>\n",
       "      <td>22:52 PDT 11-07-2008</td>\n",
       "      <td>0</td>\n",
       "      <td>1</td>\n",
       "      <td>0</td>\n",
       "      <td>0</td>\n",
       "    </tr>\n",
       "    <tr>\n",
       "      <th>3</th>\n",
       "      <td>88638</td>\n",
       "      <td>10006115</td>\n",
       "      <td>sony-ericsson-s500i-unlocked-mysterious-</td>\n",
       "      <td>Sony Ericsson S500i Unlocked Mysterious Green</td>\n",
       "      <td>499.99</td>\n",
       "      <td>19.65</td>\n",
       "      <td>19.65</td>\n",
       "      <td>15</td>\n",
       "      <td>75</td>\n",
       "      <td>Mokkis</td>\n",
       "      <td>10</td>\n",
       "      <td>0</td>\n",
       "      <td>22:02 PDT 08-23-2008</td>\n",
       "      <td>0</td>\n",
       "      <td>0</td>\n",
       "      <td>0</td>\n",
       "      <td>0</td>\n",
       "    </tr>\n",
       "    <tr>\n",
       "      <th>4</th>\n",
       "      <td>88639</td>\n",
       "      <td>10006115</td>\n",
       "      <td>sony-ericsson-s500i-unlocked-mysterious-</td>\n",
       "      <td>Sony Ericsson S500i Unlocked Mysterious Green</td>\n",
       "      <td>499.99</td>\n",
       "      <td>47.10</td>\n",
       "      <td>47.10</td>\n",
       "      <td>15</td>\n",
       "      <td>75</td>\n",
       "      <td>Superloeffel</td>\n",
       "      <td>80</td>\n",
       "      <td>0</td>\n",
       "      <td>14:23 PDT 08-24-2008</td>\n",
       "      <td>0</td>\n",
       "      <td>0</td>\n",
       "      <td>0</td>\n",
       "      <td>0</td>\n",
       "    </tr>\n",
       "  </tbody>\n",
       "</table>\n",
       "</div>"
      ],
      "text/plain": [
       "   auction_id  product_id                                      item  \\\n",
       "0       86827    10009602  sony-ericsson-s500i-unlocked-mysterious-   \n",
       "1       87964    10009881            psp-slim-lite-sony-piano-black   \n",
       "2       87965    10009881            psp-slim-lite-sony-piano-black   \n",
       "3       88638    10006115  sony-ericsson-s500i-unlocked-mysterious-   \n",
       "4       88639    10006115  sony-ericsson-s500i-unlocked-mysterious-   \n",
       "\n",
       "                                            desc  retail  price  finalprice  \\\n",
       "0  Sony Ericsson S500i Unlocked Mysterious Green  499.99  13.35       13.35   \n",
       "1               PSP Slim & Lite Sony Piano Black  169.99  74.70       74.70   \n",
       "2               PSP Slim & Lite Sony Piano Black  169.99  83.10       83.10   \n",
       "3  Sony Ericsson S500i Unlocked Mysterious Green  499.99  19.65       19.65   \n",
       "4  Sony Ericsson S500i Unlocked Mysterious Green  499.99  47.10       47.10   \n",
       "\n",
       "   bidincrement  bidfee        winner  placedbids  freebids  \\\n",
       "0            15      75       Racer11          26         0   \n",
       "1            15      75        Cemo23          65         0   \n",
       "2            15      75  Jacobsonnich          94         0   \n",
       "3            15      75        Mokkis          10         0   \n",
       "4            15      75  Superloeffel          80         0   \n",
       "\n",
       "            endtime_str  flg_click_only  flg_beginnerauction  flg_fixedprice  \\\n",
       "0  19:52 PDT 09-16-2008               0                    0               0   \n",
       "1  11:17 PDT 08-28-2008               0                    0               0   \n",
       "2  22:52 PDT 11-07-2008               0                    1               0   \n",
       "3  22:02 PDT 08-23-2008               0                    0               0   \n",
       "4  14:23 PDT 08-24-2008               0                    0               0   \n",
       "\n",
       "   flg_endprice  \n",
       "0             0  \n",
       "1             0  \n",
       "2             0  \n",
       "3             0  \n",
       "4             0  "
      ]
     },
     "execution_count": 6,
     "metadata": {},
     "output_type": "execute_result"
    }
   ],
   "source": [
    "outcomesDf.head()"
   ]
  },
  {
   "cell_type": "code",
   "execution_count": 6,
   "metadata": {
    "collapsed": true
   },
   "outputs": [],
   "source": [
    "outcomesDf['bidincrement'] = outcomesDf['bidincrement']/100\n",
    "outcomesDf['bidfee'] = outcomesDf['bidfee']/100"
   ]
  },
  {
   "cell_type": "code",
   "execution_count": 7,
   "metadata": {
    "collapsed": true
   },
   "outputs": [],
   "source": [
    "outcomesDf['finalprice_withbids'] = outcomesDf['finalprice'] + outcomesDf['placedbids']*outcomesDf['bidfee']/100"
   ]
  },
  {
   "cell_type": "code",
   "execution_count": 8,
   "metadata": {
    "collapsed": true
   },
   "outputs": [],
   "source": [
    "X = outcomesDf[[\"retail\",\"bidincrement\",\"bidfee\",\"flg_click_only\",\"flg_beginnerauction\",\"flg_fixedprice\",\"flg_endprice\"]].values\n",
    "y = outcomesDf[\"finalprice\"]"
   ]
  },
  {
   "cell_type": "code",
   "execution_count": 9,
   "metadata": {
    "collapsed": true
   },
   "outputs": [],
   "source": [
    "from sklearn.ensemble import RandomForestRegressor\n",
    "rmodel=RandomForestRegressor()\n",
    "rmodel.fit(X,y)\n",
    "outcomesDf['P_finalprice'] = rmodel.predict(outcomesDf[[\"retail\",\"bidincrement\",\"bidfee\",\"flg_click_only\",\"flg_beginnerauction\",\"flg_fixedprice\",\"flg_endprice\"]])"
   ]
  },
  {
   "cell_type": "code",
   "execution_count": 10,
   "metadata": {},
   "outputs": [
    {
     "data": {
      "text/plain": [
       "1573.6795392862487"
      ]
     },
     "execution_count": 10,
     "metadata": {},
     "output_type": "execute_result"
    }
   ],
   "source": [
    "from sklearn.metrics import mean_squared_error\n",
    "mean_squared_error(outcomesDf[\"finalprice\"],outcomesDf[\"P_finalprice\"])"
   ]
  },
  {
   "cell_type": "code",
   "execution_count": 11,
   "metadata": {},
   "outputs": [
    {
     "data": {
      "text/plain": [
       "1853.8693434612576"
      ]
     },
     "execution_count": 11,
     "metadata": {},
     "output_type": "execute_result"
    }
   ],
   "source": [
    "from sklearn.neighbors import KNeighborsRegressor\n",
    "clf = KNeighborsRegressor(n_neighbors=14)\n",
    "clf.fit(X, y)\n",
    "mean_squared_error(outcomesDf[\"finalprice\"],clf.predict(X))"
   ]
  },
  {
   "cell_type": "code",
   "execution_count": 12,
   "metadata": {},
   "outputs": [
    {
     "data": {
      "text/plain": [
       "2233.3352624535119"
      ]
     },
     "execution_count": 12,
     "metadata": {},
     "output_type": "execute_result"
    }
   ],
   "source": [
    "from sklearn.tree import DecisionTreeRegressor\n",
    "clf = DecisionTreeRegressor(max_depth=5)\n",
    "clf.fit(X, y)\n",
    "mean_squared_error(outcomesDf[\"finalprice\"],clf.predict(X))"
   ]
  },
  {
   "cell_type": "code",
   "execution_count": 13,
   "metadata": {},
   "outputs": [
    {
     "data": {
      "text/plain": [
       "2836.4416671023268"
      ]
     },
     "execution_count": 13,
     "metadata": {},
     "output_type": "execute_result"
    }
   ],
   "source": [
    "from sklearn.linear_model import LinearRegression\n",
    "clf = LinearRegression()\n",
    "clf.fit(X, y)\n",
    "mean_squared_error(outcomesDf[\"finalprice\"],clf.predict(X))"
   ]
  },
  {
   "cell_type": "code",
   "execution_count": 14,
   "metadata": {
    "collapsed": true
   },
   "outputs": [],
   "source": [
    "from sklearn.model_selection import train_test_split\n",
    "X_train, X_test, y_train, y_test = train_test_split(X, y, test_size=0.20, random_state=42)"
   ]
  },
  {
   "cell_type": "code",
   "execution_count": 15,
   "metadata": {
    "collapsed": true
   },
   "outputs": [],
   "source": [
    "from sklearn.pipeline import Pipeline\n",
    "from sklearn import decomposition\n",
    "from sklearn.ensemble import RandomForestRegressor"
   ]
  },
  {
   "cell_type": "code",
   "execution_count": 16,
   "metadata": {},
   "outputs": [
    {
     "data": {
      "text/plain": [
       "1745.152500657724"
      ]
     },
     "execution_count": 16,
     "metadata": {},
     "output_type": "execute_result"
    }
   ],
   "source": [
    "red = decomposition.PCA()\n",
    "clf = RandomForestRegressor()\n",
    "pipe = Pipeline(steps=[('pca', red), ('Random Forest',clf)])\n",
    "pipe.fit(X_train,y_train)\n",
    "mean_squared_error(y_test,pipe.predict(X_test))"
   ]
  },
  {
   "cell_type": "code",
   "execution_count": 17,
   "metadata": {},
   "outputs": [
    {
     "data": {
      "text/plain": [
       "1730.53876673115"
      ]
     },
     "execution_count": 17,
     "metadata": {},
     "output_type": "execute_result"
    }
   ],
   "source": [
    "rmodel=RandomForestRegressor()\n",
    "rmodel.fit(X_train,y_train)\n",
    "mean_squared_error(y_test,rmodel.predict(X_test))"
   ]
  },
  {
   "cell_type": "code",
   "execution_count": 21,
   "metadata": {},
   "outputs": [
    {
     "name": "stdout",
     "output_type": "stream",
     "text": [
      "Warning: xgboost.XGBRegressor is not available and will not be used by TPOT.\n"
     ]
    },
    {
     "name": "stderr",
     "output_type": "stream",
     "text": [
      "Optimization Progress:  35%|███▌      | 42/120 [19:18<23:49, 18.33s/pipeline]  "
     ]
    },
    {
     "name": "stdout",
     "output_type": "stream",
     "text": [
      "Generation 1 - Current best internal CV score: -1827.8826756451847\n"
     ]
    },
    {
     "name": "stderr",
     "output_type": "stream",
     "text": [
      "Optimization Progress:  52%|█████▏    | 62/120 [23:34<14:18, 14.80s/pipeline]"
     ]
    },
    {
     "name": "stdout",
     "output_type": "stream",
     "text": [
      "Generation 2 - Current best internal CV score: -1823.8761482971022\n"
     ]
    },
    {
     "name": "stderr",
     "output_type": "stream",
     "text": [
      "Optimization Progress:  68%|██████▊   | 82/120 [32:51<11:32, 18.22s/pipeline]"
     ]
    },
    {
     "name": "stdout",
     "output_type": "stream",
     "text": [
      "Generation 3 - Current best internal CV score: -1816.638711479889\n"
     ]
    },
    {
     "name": "stderr",
     "output_type": "stream",
     "text": [
      "Optimization Progress:  85%|████████▌ | 102/120 [40:59<08:24, 28.00s/pipeline]"
     ]
    },
    {
     "name": "stdout",
     "output_type": "stream",
     "text": [
      "Generation 4 - Current best internal CV score: -1812.5731728550006\n"
     ]
    },
    {
     "name": "stderr",
     "output_type": "stream",
     "text": [
      "                                                                                \r"
     ]
    },
    {
     "name": "stdout",
     "output_type": "stream",
     "text": [
      "Generation 5 - Current best internal CV score: -1809.5113192722783\n",
      "\n",
      "Best pipeline: RandomForestRegressor(RobustScaler(input_matrix), bootstrap=True, max_features=0.95, min_samples_leaf=8, min_samples_split=9, n_estimators=100)\n"
     ]
    },
    {
     "data": {
      "text/plain": [
       "TPOTRegressor(config_dict={'sklearn.linear_model.ElasticNetCV': {'l1_ratio': array([ 0.  ,  0.05,  0.1 ,  0.15,  0.2 ,  0.25,  0.3 ,  0.35,  0.4 ,\n",
       "        0.45,  0.5 ,  0.55,  0.6 ,  0.65,  0.7 ,  0.75,  0.8 ,  0.85,\n",
       "        0.9 ,  0.95,  1.  ]), 'tol': [1e-05, 0.0001, 0.001, 0.01, 0.1]}, 'sklearn.ensemble.ExtraT....45,\n",
       "        0.5 ,  0.55,  0.6 ,  0.65,  0.7 ,  0.75,  0.8 ,  0.85,  0.9 ,\n",
       "        0.95,  1.  ])}}}},\n",
       "       crossover_rate=0.1, cv=5, disable_update_check=False,\n",
       "       early_stop=None, generations=5, max_eval_time_mins=5,\n",
       "       max_time_mins=None, memory=None, mutation_rate=0.9, n_jobs=1,\n",
       "       offspring_size=20, periodic_checkpoint_folder=None,\n",
       "       population_size=20, random_state=42, scoring=None, subsample=1.0,\n",
       "       verbosity=2, warm_start=False)"
      ]
     },
     "execution_count": 21,
     "metadata": {},
     "output_type": "execute_result"
    }
   ],
   "source": [
    "#pip install tpot\n",
    "from tpot import TPOTRegressor\n",
    "clf = TPOTRegressor(generations=5, population_size=20, cv=5,\n",
    "                                    random_state=42, verbosity=2)\n",
    "clf.fit(X_train, y_train)"
   ]
  },
  {
   "cell_type": "code",
   "execution_count": 24,
   "metadata": {},
   "outputs": [
    {
     "data": {
      "text/plain": [
       "1700.5002792679786"
      ]
     },
     "execution_count": 24,
     "metadata": {},
     "output_type": "execute_result"
    }
   ],
   "source": [
    "mean_squared_error(y_test,clf.predict(X_test))"
   ]
  },
  {
   "cell_type": "code",
   "execution_count": null,
   "metadata": {
    "collapsed": true
   },
   "outputs": [],
   "source": []
  },
  {
   "cell_type": "code",
   "execution_count": null,
   "metadata": {
    "collapsed": true
   },
   "outputs": [],
   "source": []
  },
  {
   "cell_type": "code",
   "execution_count": null,
   "metadata": {
    "collapsed": true
   },
   "outputs": [],
   "source": []
  },
  {
   "cell_type": "code",
   "execution_count": null,
   "metadata": {
    "collapsed": true
   },
   "outputs": [],
   "source": []
  }
 ],
 "metadata": {
  "kernelspec": {
   "display_name": "Python 3",
   "language": "python",
   "name": "python3"
  },
  "language_info": {
   "codemirror_mode": {
    "name": "ipython",
    "version": 3
   },
   "file_extension": ".py",
   "mimetype": "text/x-python",
   "name": "python",
   "nbconvert_exporter": "python",
   "pygments_lexer": "ipython3",
   "version": "3.6.2"
  }
 },
 "nbformat": 4,
 "nbformat_minor": 2
}
